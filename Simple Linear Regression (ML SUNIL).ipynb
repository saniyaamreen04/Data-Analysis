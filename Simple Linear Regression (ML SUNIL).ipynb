{
 "cells": [
  {
   "cell_type": "code",
   "execution_count": 1,
   "id": "5cbf3cd3",
   "metadata": {},
   "outputs": [],
   "source": [
    "import numpy as np\n",
    "import pandas as pd\n",
    "\n",
    "import matplotlib.pyplot as plt\n",
    "import seaborn as sns\n",
    "\n",
    "%matplotlib inline"
   ]
  },
  {
   "cell_type": "code",
   "execution_count": 2,
   "id": "60123238",
   "metadata": {},
   "outputs": [],
   "source": [
    "house = pd.read_csv(\"C:\\\\Users\\\\sunil\\\\Desktop\\\\Analogicx\\\\Datasets\\\\hp_data.csv\")"
   ]
  },
  {
   "cell_type": "code",
   "execution_count": 3,
   "id": "e8c77b94",
   "metadata": {},
   "outputs": [
    {
     "data": {
      "text/html": [
       "<div>\n",
       "<style scoped>\n",
       "    .dataframe tbody tr th:only-of-type {\n",
       "        vertical-align: middle;\n",
       "    }\n",
       "\n",
       "    .dataframe tbody tr th {\n",
       "        vertical-align: top;\n",
       "    }\n",
       "\n",
       "    .dataframe thead th {\n",
       "        text-align: right;\n",
       "    }\n",
       "</style>\n",
       "<table border=\"1\" class=\"dataframe\">\n",
       "  <thead>\n",
       "    <tr style=\"text-align: right;\">\n",
       "      <th></th>\n",
       "      <th>PIN</th>\n",
       "      <th>price</th>\n",
       "      <th>place</th>\n",
       "      <th>built</th>\n",
       "      <th>sqft</th>\n",
       "      <th>sale</th>\n",
       "      <th>yearsOld</th>\n",
       "      <th>floor</th>\n",
       "      <th>totalFloor</th>\n",
       "      <th>bhk</th>\n",
       "    </tr>\n",
       "  </thead>\n",
       "  <tbody>\n",
       "    <tr>\n",
       "      <th>0</th>\n",
       "      <td>1341</td>\n",
       "      <td>6300000</td>\n",
       "      <td>BTM Layout</td>\n",
       "      <td>Super built-up  Area</td>\n",
       "      <td>1450</td>\n",
       "      <td>Resale</td>\n",
       "      <td>5</td>\n",
       "      <td>1</td>\n",
       "      <td>4</td>\n",
       "      <td>1</td>\n",
       "    </tr>\n",
       "    <tr>\n",
       "      <th>1</th>\n",
       "      <td>2126</td>\n",
       "      <td>11500000</td>\n",
       "      <td>Yelahanka</td>\n",
       "      <td>Super built-up  Area</td>\n",
       "      <td>2190</td>\n",
       "      <td>Resale</td>\n",
       "      <td>5</td>\n",
       "      <td>3</td>\n",
       "      <td>5</td>\n",
       "      <td>3</td>\n",
       "    </tr>\n",
       "    <tr>\n",
       "      <th>2</th>\n",
       "      <td>816</td>\n",
       "      <td>3800000</td>\n",
       "      <td>Whitefield</td>\n",
       "      <td>Super built-up  Area</td>\n",
       "      <td>1019</td>\n",
       "      <td>Resale</td>\n",
       "      <td>1</td>\n",
       "      <td>2</td>\n",
       "      <td>5</td>\n",
       "      <td>2</td>\n",
       "    </tr>\n",
       "    <tr>\n",
       "      <th>3</th>\n",
       "      <td>2708</td>\n",
       "      <td>10500000</td>\n",
       "      <td>Ambalipura</td>\n",
       "      <td>Super built-up  Area</td>\n",
       "      <td>1857</td>\n",
       "      <td>Resale</td>\n",
       "      <td>15</td>\n",
       "      <td>4</td>\n",
       "      <td>5</td>\n",
       "      <td>4</td>\n",
       "    </tr>\n",
       "    <tr>\n",
       "      <th>4</th>\n",
       "      <td>1041</td>\n",
       "      <td>11500000</td>\n",
       "      <td>Yelahanka</td>\n",
       "      <td>Super built-up  Area</td>\n",
       "      <td>2190</td>\n",
       "      <td>Resale</td>\n",
       "      <td>5</td>\n",
       "      <td>3</td>\n",
       "      <td>5</td>\n",
       "      <td>3</td>\n",
       "    </tr>\n",
       "  </tbody>\n",
       "</table>\n",
       "</div>"
      ],
      "text/plain": [
       "    PIN     price       place                 built  sqft    sale  yearsOld  \\\n",
       "0  1341   6300000  BTM Layout  Super built-up  Area  1450  Resale         5   \n",
       "1  2126  11500000   Yelahanka  Super built-up  Area  2190  Resale         5   \n",
       "2   816   3800000  Whitefield  Super built-up  Area  1019  Resale         1   \n",
       "3  2708  10500000  Ambalipura  Super built-up  Area  1857  Resale        15   \n",
       "4  1041  11500000   Yelahanka  Super built-up  Area  2190  Resale         5   \n",
       "\n",
       "   floor  totalFloor  bhk  \n",
       "0      1           4    1  \n",
       "1      3           5    3  \n",
       "2      2           5    2  \n",
       "3      4           5    4  \n",
       "4      3           5    3  "
      ]
     },
     "execution_count": 3,
     "metadata": {},
     "output_type": "execute_result"
    }
   ],
   "source": [
    "house.head()"
   ]
  },
  {
   "cell_type": "code",
   "execution_count": 4,
   "id": "dc5f9e7d",
   "metadata": {},
   "outputs": [
    {
     "data": {
      "text/plain": [
       "(3500, 10)"
      ]
     },
     "execution_count": 4,
     "metadata": {},
     "output_type": "execute_result"
    }
   ],
   "source": [
    "house.shape"
   ]
  },
  {
   "cell_type": "code",
   "execution_count": null,
   "id": "1424c34d",
   "metadata": {},
   "outputs": [],
   "source": [
    "house.info()"
   ]
  },
  {
   "cell_type": "code",
   "execution_count": 13,
   "id": "7e9e8ec5",
   "metadata": {},
   "outputs": [
    {
     "data": {
      "text/html": [
       "<div>\n",
       "<style scoped>\n",
       "    .dataframe tbody tr th:only-of-type {\n",
       "        vertical-align: middle;\n",
       "    }\n",
       "\n",
       "    .dataframe tbody tr th {\n",
       "        vertical-align: top;\n",
       "    }\n",
       "\n",
       "    .dataframe thead th {\n",
       "        text-align: right;\n",
       "    }\n",
       "</style>\n",
       "<table border=\"1\" class=\"dataframe\">\n",
       "  <thead>\n",
       "    <tr style=\"text-align: right;\">\n",
       "      <th></th>\n",
       "      <th>PIN</th>\n",
       "      <th>price</th>\n",
       "      <th>sqft</th>\n",
       "      <th>yearsOld</th>\n",
       "      <th>floor</th>\n",
       "      <th>totalFloor</th>\n",
       "      <th>bhk</th>\n",
       "    </tr>\n",
       "  </thead>\n",
       "  <tbody>\n",
       "    <tr>\n",
       "      <th>count</th>\n",
       "      <td>3500.000000</td>\n",
       "      <td>3.500000e+03</td>\n",
       "      <td>3500.000000</td>\n",
       "      <td>3500.000000</td>\n",
       "      <td>3500.000000</td>\n",
       "      <td>3500.000000</td>\n",
       "      <td>3500.000000</td>\n",
       "    </tr>\n",
       "    <tr>\n",
       "      <th>mean</th>\n",
       "      <td>1484.225714</td>\n",
       "      <td>8.067807e+06</td>\n",
       "      <td>1538.163143</td>\n",
       "      <td>7.602000</td>\n",
       "      <td>4.197714</td>\n",
       "      <td>6.371429</td>\n",
       "      <td>4.197714</td>\n",
       "    </tr>\n",
       "    <tr>\n",
       "      <th>std</th>\n",
       "      <td>852.423418</td>\n",
       "      <td>4.984973e+06</td>\n",
       "      <td>416.264178</td>\n",
       "      <td>3.803196</td>\n",
       "      <td>4.782410</td>\n",
       "      <td>4.461808</td>\n",
       "      <td>4.782410</td>\n",
       "    </tr>\n",
       "    <tr>\n",
       "      <th>min</th>\n",
       "      <td>0.000000</td>\n",
       "      <td>3.800000e+06</td>\n",
       "      <td>1019.000000</td>\n",
       "      <td>1.000000</td>\n",
       "      <td>1.000000</td>\n",
       "      <td>4.000000</td>\n",
       "      <td>1.000000</td>\n",
       "    </tr>\n",
       "    <tr>\n",
       "      <th>25%</th>\n",
       "      <td>737.750000</td>\n",
       "      <td>4.800000e+06</td>\n",
       "      <td>1200.000000</td>\n",
       "      <td>5.000000</td>\n",
       "      <td>1.000000</td>\n",
       "      <td>4.000000</td>\n",
       "      <td>1.000000</td>\n",
       "    </tr>\n",
       "    <tr>\n",
       "      <th>50%</th>\n",
       "      <td>1492.000000</td>\n",
       "      <td>6.600000e+06</td>\n",
       "      <td>1543.000000</td>\n",
       "      <td>5.000000</td>\n",
       "      <td>3.000000</td>\n",
       "      <td>4.000000</td>\n",
       "      <td>3.000000</td>\n",
       "    </tr>\n",
       "    <tr>\n",
       "      <th>75%</th>\n",
       "      <td>2218.250000</td>\n",
       "      <td>1.050000e+07</td>\n",
       "      <td>1784.000000</td>\n",
       "      <td>10.000000</td>\n",
       "      <td>4.000000</td>\n",
       "      <td>5.000000</td>\n",
       "      <td>4.000000</td>\n",
       "    </tr>\n",
       "    <tr>\n",
       "      <th>max</th>\n",
       "      <td>2944.000000</td>\n",
       "      <td>4.750000e+07</td>\n",
       "      <td>4856.000000</td>\n",
       "      <td>15.000000</td>\n",
       "      <td>18.000000</td>\n",
       "      <td>29.000000</td>\n",
       "      <td>18.000000</td>\n",
       "    </tr>\n",
       "  </tbody>\n",
       "</table>\n",
       "</div>"
      ],
      "text/plain": [
       "               PIN         price         sqft     yearsOld        floor  \\\n",
       "count  3500.000000  3.500000e+03  3500.000000  3500.000000  3500.000000   \n",
       "mean   1484.225714  8.067807e+06  1538.163143     7.602000     4.197714   \n",
       "std     852.423418  4.984973e+06   416.264178     3.803196     4.782410   \n",
       "min       0.000000  3.800000e+06  1019.000000     1.000000     1.000000   \n",
       "25%     737.750000  4.800000e+06  1200.000000     5.000000     1.000000   \n",
       "50%    1492.000000  6.600000e+06  1543.000000     5.000000     3.000000   \n",
       "75%    2218.250000  1.050000e+07  1784.000000    10.000000     4.000000   \n",
       "max    2944.000000  4.750000e+07  4856.000000    15.000000    18.000000   \n",
       "\n",
       "        totalFloor          bhk  \n",
       "count  3500.000000  3500.000000  \n",
       "mean      6.371429     4.197714  \n",
       "std       4.461808     4.782410  \n",
       "min       4.000000     1.000000  \n",
       "25%       4.000000     1.000000  \n",
       "50%       4.000000     3.000000  \n",
       "75%       5.000000     4.000000  \n",
       "max      29.000000    18.000000  "
      ]
     },
     "execution_count": 13,
     "metadata": {},
     "output_type": "execute_result"
    }
   ],
   "source": [
    "house.describe()"
   ]
  },
  {
   "cell_type": "code",
   "execution_count": 14,
   "id": "661c7f4a",
   "metadata": {},
   "outputs": [
    {
     "data": {
      "text/plain": [
       "8067807.142857143"
      ]
     },
     "execution_count": 14,
     "metadata": {},
     "output_type": "execute_result"
    }
   ],
   "source": [
    "house['price'].mean()"
   ]
  },
  {
   "cell_type": "code",
   "execution_count": 15,
   "id": "1c90f8c8",
   "metadata": {},
   "outputs": [
    {
     "data": {
      "text/plain": [
       "6600000.0"
      ]
     },
     "execution_count": 15,
     "metadata": {},
     "output_type": "execute_result"
    }
   ],
   "source": [
    "house['price'].median()"
   ]
  },
  {
   "cell_type": "code",
   "execution_count": 16,
   "id": "e3c530bd",
   "metadata": {},
   "outputs": [
    {
     "data": {
      "text/plain": [
       "3800000"
      ]
     },
     "execution_count": 16,
     "metadata": {},
     "output_type": "execute_result"
    }
   ],
   "source": [
    "house['price'].min()"
   ]
  },
  {
   "cell_type": "code",
   "execution_count": 17,
   "id": "2ee07216",
   "metadata": {},
   "outputs": [
    {
     "data": {
      "text/plain": [
       "47500000"
      ]
     },
     "execution_count": 17,
     "metadata": {},
     "output_type": "execute_result"
    }
   ],
   "source": [
    "house['price'].max()"
   ]
  },
  {
   "cell_type": "code",
   "execution_count": 18,
   "id": "42bf8635",
   "metadata": {},
   "outputs": [
    {
     "data": {
      "text/plain": [
       "1538.163142857143"
      ]
     },
     "execution_count": 18,
     "metadata": {},
     "output_type": "execute_result"
    }
   ],
   "source": [
    "house['sqft'].mean()"
   ]
  },
  {
   "cell_type": "code",
   "execution_count": 20,
   "id": "05dd5559",
   "metadata": {},
   "outputs": [
    {
     "data": {
      "text/plain": [
       "1543.0"
      ]
     },
     "execution_count": 20,
     "metadata": {},
     "output_type": "execute_result"
    }
   ],
   "source": [
    "house['sqft'].median()"
   ]
  },
  {
   "cell_type": "code",
   "execution_count": 21,
   "id": "dd95e809",
   "metadata": {},
   "outputs": [
    {
     "data": {
      "text/plain": [
       "1019"
      ]
     },
     "execution_count": 21,
     "metadata": {},
     "output_type": "execute_result"
    }
   ],
   "source": [
    "house['sqft'].min()"
   ]
  },
  {
   "cell_type": "code",
   "execution_count": 22,
   "id": "79f04ce9",
   "metadata": {},
   "outputs": [
    {
     "data": {
      "text/plain": [
       "4856"
      ]
     },
     "execution_count": 22,
     "metadata": {},
     "output_type": "execute_result"
    }
   ],
   "source": [
    "house['sqft'].max()"
   ]
  },
  {
   "cell_type": "code",
   "execution_count": 24,
   "id": "be192c70",
   "metadata": {},
   "outputs": [
    {
     "data": {
      "text/plain": [
       "{'whiskers': [<matplotlib.lines.Line2D at 0x1db3ecd5550>,\n",
       "  <matplotlib.lines.Line2D at 0x1db3deb15e0>],\n",
       " 'caps': [<matplotlib.lines.Line2D at 0x1db3deb19a0>,\n",
       "  <matplotlib.lines.Line2D at 0x1db3deb1760>],\n",
       " 'boxes': [<matplotlib.lines.Line2D at 0x1db3dd32a00>],\n",
       " 'medians': [<matplotlib.lines.Line2D at 0x1db3deb1280>],\n",
       " 'fliers': [<matplotlib.lines.Line2D at 0x1db3dcf7be0>],\n",
       " 'means': []}"
      ]
     },
     "execution_count": 24,
     "metadata": {},
     "output_type": "execute_result"
    },
    {
     "data": {
      "image/png": "[encoded data removed]",
      "text/plain": [
       "<Figure size 432x288 with 1 Axes>"
      ]
     },
     "metadata": {
      "needs_background": "light"
     },
     "output_type": "display_data"
    }
   ],
   "source": [
    "plt.boxplot(house['price'])"
   ]
  },
  {
   "cell_type": "code",
   "execution_count": 113,
   "id": "093d5b7e",
   "metadata": {},
   "outputs": [
    {
     "data": {
      "text/plain": [
       "{'whiskers': [<matplotlib.lines.Line2D at 0x1db4012bc70>,\n",
       "  <matplotlib.lines.Line2D at 0x1db4012b940>],\n",
       " 'caps': [<matplotlib.lines.Line2D at 0x1db4010fcd0>,\n",
       "  <matplotlib.lines.Line2D at 0x1db4010fca0>],\n",
       " 'boxes': [<matplotlib.lines.Line2D at 0x1db4012b3a0>],\n",
       " 'medians': [<matplotlib.lines.Line2D at 0x1db4010f0d0>],\n",
       " 'fliers': [<matplotlib.lines.Line2D at 0x1db4010f160>],\n",
       " 'means': []}"
      ]
     },
     "execution_count": 113,
     "metadata": {},
     "output_type": "execute_result"
    },
    {
     "data": {
      "image/png": "[encoded data removed]",
      "text/plain": [
       "<Figure size 432x288 with 1 Axes>"
      ]
     },
     "metadata": {
      "needs_background": "light"
     },
     "output_type": "display_data"
    }
   ],
   "source": [
    "plt.boxplot(house['sqft'])"
   ]
  },
  {
   "cell_type": "code",
   "execution_count": 111,
   "id": "8b3e12a8",
   "metadata": {},
   "outputs": [],
   "source": [
    "house = house[house['sqft'] < 2500 ]"
   ]
  },
  {
   "cell_type": "code",
   "execution_count": 112,
   "id": "4901715d",
   "metadata": {},
   "outputs": [
    {
     "data": {
      "text/plain": [
       "(3462, 10)"
      ]
     },
     "execution_count": 112,
     "metadata": {},
     "output_type": "execute_result"
    }
   ],
   "source": [
    "house.shape"
   ]
  },
  {
   "cell_type": "code",
   "execution_count": null,
   "id": "a48f117c",
   "metadata": {},
   "outputs": [],
   "source": []
  },
  {
   "cell_type": "code",
   "execution_count": 8,
   "id": "44a50d23",
   "metadata": {},
   "outputs": [
    {
     "data": {
      "text/plain": [
       "<AxesSubplot:xlabel='sqft', ylabel='price'>"
      ]
     },
     "execution_count": 8,
     "metadata": {},
     "output_type": "execute_result"
    },
    {
     "data": {
      "image/png": "[encoded data removed]",
      "text/plain": [
       "<Figure size 432x288 with 1 Axes>"
      ]
     },
     "metadata": {
      "needs_background": "light"
     },
     "output_type": "display_data"
    }
   ],
   "source": [
    "sns.scatterplot(x = 'sqft', y = 'price', data = house)`"
   ]
  },
  {
   "cell_type": "code",
   "execution_count": null,
   "id": "59ffeddc",
   "metadata": {},
   "outputs": [],
   "source": []
  },
  {
   "cell_type": "code",
   "execution_count": 11,
   "id": "67690c44",
   "metadata": {},
   "outputs": [
    {
     "name": "stderr",
     "output_type": "stream",
     "text": [
      "C:\\Users\\sunil\\anaconda3\\lib\\site-packages\\seaborn\\_decorators.py:36: FutureWarning: Pass the following variable as a keyword arg: x. From version 0.12, the only valid positional argument will be `data`, and passing other arguments without an explicit keyword will result in an error or misinterpretation.\n",
      "  warnings.warn(\n",
      "C:\\Users\\sunil\\anaconda3\\lib\\site-packages\\seaborn\\_core.py:1319: UserWarning: Vertical orientation ignored with only `x` specified.\n",
      "  warnings.warn(single_var_warning.format(\"Vertical\", \"x\"))\n"
     ]
    },
    {
     "data": {
      "text/plain": [
       "<AxesSubplot:xlabel='price'>"
      ]
     },
     "execution_count": 11,
     "metadata": {},
     "output_type": "execute_result"
    },
    {
     "data": {
      "image/png": "[encoded data removed]",
      "text/plain": [
       "<Figure size 432x288 with 1 Axes>"
      ]
     },
     "metadata": {
      "needs_background": "light"
     },
     "output_type": "display_data"
    }
   ],
   "source": [
    "sns.boxplot(house['price'], orient='v')"
   ]
  },
  {
   "cell_type": "code",
   "execution_count": 114,
   "id": "5f9c8822",
   "metadata": {},
   "outputs": [],
   "source": [
    "X = house.iloc[:,[4,6]]"
   ]
  },
  {
   "cell_type": "code",
   "execution_count": 115,
   "id": "42b661b8",
   "metadata": {},
   "outputs": [],
   "source": [
    "y = house.price"
   ]
  },
  {
   "cell_type": "code",
   "execution_count": 116,
   "id": "9d014782",
   "metadata": {},
   "outputs": [
    {
     "data": {
      "text/html": [
       "<div>\n",
       "<style scoped>\n",
       "    .dataframe tbody tr th:only-of-type {\n",
       "        vertical-align: middle;\n",
       "    }\n",
       "\n",
       "    .dataframe tbody tr th {\n",
       "        vertical-align: top;\n",
       "    }\n",
       "\n",
       "    .dataframe thead th {\n",
       "        text-align: right;\n",
       "    }\n",
       "</style>\n",
       "<table border=\"1\" class=\"dataframe\">\n",
       "  <thead>\n",
       "    <tr style=\"text-align: right;\">\n",
       "      <th></th>\n",
       "      <th>sqft</th>\n",
       "      <th>yearsOld</th>\n",
       "    </tr>\n",
       "  </thead>\n",
       "  <tbody>\n",
       "    <tr>\n",
       "      <th>0</th>\n",
       "      <td>1450</td>\n",
       "      <td>5</td>\n",
       "    </tr>\n",
       "    <tr>\n",
       "      <th>1</th>\n",
       "      <td>2190</td>\n",
       "      <td>5</td>\n",
       "    </tr>\n",
       "    <tr>\n",
       "      <th>2</th>\n",
       "      <td>1019</td>\n",
       "      <td>1</td>\n",
       "    </tr>\n",
       "    <tr>\n",
       "      <th>3</th>\n",
       "      <td>1857</td>\n",
       "      <td>15</td>\n",
       "    </tr>\n",
       "    <tr>\n",
       "      <th>4</th>\n",
       "      <td>2190</td>\n",
       "      <td>5</td>\n",
       "    </tr>\n",
       "    <tr>\n",
       "      <th>...</th>\n",
       "      <td>...</td>\n",
       "      <td>...</td>\n",
       "    </tr>\n",
       "    <tr>\n",
       "      <th>3495</th>\n",
       "      <td>1019</td>\n",
       "      <td>1</td>\n",
       "    </tr>\n",
       "    <tr>\n",
       "      <th>3496</th>\n",
       "      <td>1450</td>\n",
       "      <td>5</td>\n",
       "    </tr>\n",
       "    <tr>\n",
       "      <th>3497</th>\n",
       "      <td>1330</td>\n",
       "      <td>10</td>\n",
       "    </tr>\n",
       "    <tr>\n",
       "      <th>3498</th>\n",
       "      <td>1200</td>\n",
       "      <td>10</td>\n",
       "    </tr>\n",
       "    <tr>\n",
       "      <th>3499</th>\n",
       "      <td>1019</td>\n",
       "      <td>1</td>\n",
       "    </tr>\n",
       "  </tbody>\n",
       "</table>\n",
       "<p>3462 rows × 2 columns</p>\n",
       "</div>"
      ],
      "text/plain": [
       "      sqft  yearsOld\n",
       "0     1450         5\n",
       "1     2190         5\n",
       "2     1019         1\n",
       "3     1857        15\n",
       "4     2190         5\n",
       "...    ...       ...\n",
       "3495  1019         1\n",
       "3496  1450         5\n",
       "3497  1330        10\n",
       "3498  1200        10\n",
       "3499  1019         1\n",
       "\n",
       "[3462 rows x 2 columns]"
      ]
     },
     "execution_count": 116,
     "metadata": {},
     "output_type": "execute_result"
    }
   ],
   "source": [
    "X"
   ]
  },
  {
   "cell_type": "code",
   "execution_count": 117,
   "id": "54d9ed3b",
   "metadata": {},
   "outputs": [
    {
     "data": {
      "text/plain": [
       "0        6300000\n",
       "1       11500000\n",
       "2        3800000\n",
       "3       10500000\n",
       "4       11500000\n",
       "          ...   \n",
       "3495     3800000\n",
       "3496     6300000\n",
       "3497     7350000\n",
       "3498     4800000\n",
       "3499     3800000\n",
       "Name: price, Length: 3462, dtype: int64"
      ]
     },
     "execution_count": 117,
     "metadata": {},
     "output_type": "execute_result"
    }
   ],
   "source": [
    "y"
   ]
  },
  {
   "cell_type": "code",
   "execution_count": null,
   "id": "5a808bcc",
   "metadata": {},
   "outputs": [],
   "source": []
  },
  {
   "cell_type": "code",
   "execution_count": null,
   "id": "3f000489",
   "metadata": {},
   "outputs": [],
   "source": []
  },
  {
   "cell_type": "code",
   "execution_count": 118,
   "id": "bb2773f1",
   "metadata": {},
   "outputs": [],
   "source": [
    "from sklearn.model_selection import train_test_split"
   ]
  },
  {
   "cell_type": "code",
   "execution_count": 119,
   "id": "d6c40d7a",
   "metadata": {},
   "outputs": [],
   "source": [
    "X_train, X_test, y_train, y_test = train_test_split(X, y, test_size=0.2, random_state=21)"
   ]
  },
  {
   "cell_type": "code",
   "execution_count": 120,
   "id": "ebcce783",
   "metadata": {},
   "outputs": [
    {
     "data": {
      "text/html": [
       "<div>\n",
       "<style scoped>\n",
       "    .dataframe tbody tr th:only-of-type {\n",
       "        vertical-align: middle;\n",
       "    }\n",
       "\n",
       "    .dataframe tbody tr th {\n",
       "        vertical-align: top;\n",
       "    }\n",
       "\n",
       "    .dataframe thead th {\n",
       "        text-align: right;\n",
       "    }\n",
       "</style>\n",
       "<table border=\"1\" class=\"dataframe\">\n",
       "  <thead>\n",
       "    <tr style=\"text-align: right;\">\n",
       "      <th></th>\n",
       "      <th>sqft</th>\n",
       "      <th>yearsOld</th>\n",
       "    </tr>\n",
       "  </thead>\n",
       "  <tbody>\n",
       "    <tr>\n",
       "      <th>611</th>\n",
       "      <td>1857</td>\n",
       "      <td>15</td>\n",
       "    </tr>\n",
       "    <tr>\n",
       "      <th>3033</th>\n",
       "      <td>2190</td>\n",
       "      <td>5</td>\n",
       "    </tr>\n",
       "    <tr>\n",
       "      <th>1080</th>\n",
       "      <td>1672</td>\n",
       "      <td>10</td>\n",
       "    </tr>\n",
       "    <tr>\n",
       "      <th>3230</th>\n",
       "      <td>1200</td>\n",
       "      <td>10</td>\n",
       "    </tr>\n",
       "    <tr>\n",
       "      <th>2062</th>\n",
       "      <td>1200</td>\n",
       "      <td>10</td>\n",
       "    </tr>\n",
       "    <tr>\n",
       "      <th>...</th>\n",
       "      <td>...</td>\n",
       "      <td>...</td>\n",
       "    </tr>\n",
       "    <tr>\n",
       "      <th>48</th>\n",
       "      <td>1019</td>\n",
       "      <td>1</td>\n",
       "    </tr>\n",
       "    <tr>\n",
       "      <th>784</th>\n",
       "      <td>1330</td>\n",
       "      <td>10</td>\n",
       "    </tr>\n",
       "    <tr>\n",
       "      <th>1868</th>\n",
       "      <td>1356</td>\n",
       "      <td>5</td>\n",
       "    </tr>\n",
       "    <tr>\n",
       "      <th>1247</th>\n",
       "      <td>2190</td>\n",
       "      <td>5</td>\n",
       "    </tr>\n",
       "    <tr>\n",
       "      <th>3052</th>\n",
       "      <td>1019</td>\n",
       "      <td>1</td>\n",
       "    </tr>\n",
       "  </tbody>\n",
       "</table>\n",
       "<p>2769 rows × 2 columns</p>\n",
       "</div>"
      ],
      "text/plain": [
       "      sqft  yearsOld\n",
       "611   1857        15\n",
       "3033  2190         5\n",
       "1080  1672        10\n",
       "3230  1200        10\n",
       "2062  1200        10\n",
       "...    ...       ...\n",
       "48    1019         1\n",
       "784   1330        10\n",
       "1868  1356         5\n",
       "1247  2190         5\n",
       "3052  1019         1\n",
       "\n",
       "[2769 rows x 2 columns]"
      ]
     },
     "execution_count": 120,
     "metadata": {},
     "output_type": "execute_result"
    }
   ],
   "source": [
    "X_train"
   ]
  },
  {
   "cell_type": "code",
   "execution_count": 121,
   "id": "fce7292a",
   "metadata": {},
   "outputs": [
    {
     "data": {
      "text/html": [
       "<div>\n",
       "<style scoped>\n",
       "    .dataframe tbody tr th:only-of-type {\n",
       "        vertical-align: middle;\n",
       "    }\n",
       "\n",
       "    .dataframe tbody tr th {\n",
       "        vertical-align: top;\n",
       "    }\n",
       "\n",
       "    .dataframe thead th {\n",
       "        text-align: right;\n",
       "    }\n",
       "</style>\n",
       "<table border=\"1\" class=\"dataframe\">\n",
       "  <thead>\n",
       "    <tr style=\"text-align: right;\">\n",
       "      <th></th>\n",
       "      <th>sqft</th>\n",
       "      <th>yearsOld</th>\n",
       "    </tr>\n",
       "  </thead>\n",
       "  <tbody>\n",
       "    <tr>\n",
       "      <th>2739</th>\n",
       "      <td>2190</td>\n",
       "      <td>5</td>\n",
       "    </tr>\n",
       "    <tr>\n",
       "      <th>2316</th>\n",
       "      <td>1784</td>\n",
       "      <td>5</td>\n",
       "    </tr>\n",
       "    <tr>\n",
       "      <th>2701</th>\n",
       "      <td>1200</td>\n",
       "      <td>10</td>\n",
       "    </tr>\n",
       "    <tr>\n",
       "      <th>3496</th>\n",
       "      <td>1450</td>\n",
       "      <td>5</td>\n",
       "    </tr>\n",
       "    <tr>\n",
       "      <th>86</th>\n",
       "      <td>1672</td>\n",
       "      <td>10</td>\n",
       "    </tr>\n",
       "    <tr>\n",
       "      <th>...</th>\n",
       "      <td>...</td>\n",
       "      <td>...</td>\n",
       "    </tr>\n",
       "    <tr>\n",
       "      <th>3401</th>\n",
       "      <td>1100</td>\n",
       "      <td>5</td>\n",
       "    </tr>\n",
       "    <tr>\n",
       "      <th>1545</th>\n",
       "      <td>1784</td>\n",
       "      <td>5</td>\n",
       "    </tr>\n",
       "    <tr>\n",
       "      <th>1038</th>\n",
       "      <td>1450</td>\n",
       "      <td>5</td>\n",
       "    </tr>\n",
       "    <tr>\n",
       "      <th>2800</th>\n",
       "      <td>1784</td>\n",
       "      <td>5</td>\n",
       "    </tr>\n",
       "    <tr>\n",
       "      <th>1589</th>\n",
       "      <td>1672</td>\n",
       "      <td>10</td>\n",
       "    </tr>\n",
       "  </tbody>\n",
       "</table>\n",
       "<p>693 rows × 2 columns</p>\n",
       "</div>"
      ],
      "text/plain": [
       "      sqft  yearsOld\n",
       "2739  2190         5\n",
       "2316  1784         5\n",
       "2701  1200        10\n",
       "3496  1450         5\n",
       "86    1672        10\n",
       "...    ...       ...\n",
       "3401  1100         5\n",
       "1545  1784         5\n",
       "1038  1450         5\n",
       "2800  1784         5\n",
       "1589  1672        10\n",
       "\n",
       "[693 rows x 2 columns]"
      ]
     },
     "execution_count": 121,
     "metadata": {},
     "output_type": "execute_result"
    }
   ],
   "source": [
    "X_test"
   ]
  },
  {
   "cell_type": "code",
   "execution_count": 122,
   "id": "ed52d997",
   "metadata": {},
   "outputs": [
    {
     "data": {
      "text/plain": [
       "611     10500000\n",
       "3033    11500000\n",
       "1080    15000000\n",
       "3230     4800000\n",
       "2062     4800000\n",
       "          ...   \n",
       "48       3800000\n",
       "784      7350000\n",
       "1868     6600000\n",
       "1247    11500000\n",
       "3052     3800000\n",
       "Name: price, Length: 2769, dtype: int64"
      ]
     },
     "execution_count": 122,
     "metadata": {},
     "output_type": "execute_result"
    }
   ],
   "source": [
    "y_train"
   ]
  },
  {
   "cell_type": "code",
   "execution_count": 123,
   "id": "e27472e9",
   "metadata": {},
   "outputs": [
    {
     "data": {
      "text/plain": [
       "2739    11500000\n",
       "2316     7900000\n",
       "2701     4800000\n",
       "3496     6300000\n",
       "86      15000000\n",
       "          ...   \n",
       "3401     4900000\n",
       "1545     7900000\n",
       "1038     6300000\n",
       "2800     7900000\n",
       "1589    15000000\n",
       "Name: price, Length: 693, dtype: int64"
      ]
     },
     "execution_count": 123,
     "metadata": {},
     "output_type": "execute_result"
    }
   ],
   "source": [
    "y_test"
   ]
  },
  {
   "cell_type": "code",
   "execution_count": 138,
   "id": "7a99b4a1",
   "metadata": {},
   "outputs": [],
   "source": [
    "from sklearn.linear_model import LogisticRegression\n",
    "\n",
    "\n",
    "\n",
    "from sklearn.svm import SVR"
   ]
  },
  {
   "cell_type": "code",
   "execution_count": 125,
   "id": "728ec03c",
   "metadata": {},
   "outputs": [
    {
     "data": {
      "text/plain": [
       "LinearRegression()"
      ]
     },
     "execution_count": 125,
     "metadata": {},
     "output_type": "execute_result"
    }
   ],
   "source": [
    "model = LinearRegression()\n",
    "\n",
    "model.fit(X_train,y_train)"
   ]
  },
  {
   "cell_type": "code",
   "execution_count": 139,
   "id": "db258d58",
   "metadata": {},
   "outputs": [],
   "source": [
    "model_2 = SVR()"
   ]
  },
  {
   "cell_type": "code",
   "execution_count": 140,
   "id": "f4c130ab",
   "metadata": {},
   "outputs": [
    {
     "data": {
      "text/plain": [
       "SVR()"
      ]
     },
     "execution_count": 140,
     "metadata": {},
     "output_type": "execute_result"
    }
   ],
   "source": [
    "model_2.fit(X_train,y_train)"
   ]
  },
  {
   "cell_type": "code",
   "execution_count": 141,
   "id": "0ad3e941",
   "metadata": {},
   "outputs": [],
   "source": [
    "svm_predict = model_2.predict(X_test)"
   ]
  },
  {
   "cell_type": "code",
   "execution_count": null,
   "id": "658dd254",
   "metadata": {},
   "outputs": [],
   "source": []
  },
  {
   "cell_type": "code",
   "execution_count": null,
   "id": "b6f687f5",
   "metadata": {},
   "outputs": [],
   "source": []
  },
  {
   "cell_type": "code",
   "execution_count": null,
   "id": "12ab02c8",
   "metadata": {},
   "outputs": [],
   "source": []
  },
  {
   "cell_type": "code",
   "execution_count": null,
   "id": "003a6260",
   "metadata": {},
   "outputs": [],
   "source": []
  },
  {
   "cell_type": "code",
   "execution_count": 126,
   "id": "c8e5a28e",
   "metadata": {},
   "outputs": [],
   "source": [
    "lm_predict = model.predict(X_test)"
   ]
  },
  {
   "cell_type": "code",
   "execution_count": 127,
   "id": "83d16ac0",
   "metadata": {},
   "outputs": [
    {
     "data": {
      "text/plain": [
       "array([12284084.82241537,  9321587.60128597,  5669680.25304833,\n",
       "        6884459.34548001,  9113765.69239088,  3252007.38166021,\n",
       "        4330582.43071329,  6884459.34548001,  4330582.43071329,\n",
       "       12284084.82241537, 12284084.82241537,  3252007.38166021,\n",
       "        8172479.62951972,  8172479.62951972,  8172479.62951972,\n",
       "       12284084.82241537,  3252007.38166021,  9321587.60128597,\n",
       "        4330582.43071329,  3252007.38166021,  9113765.69239088,\n",
       "        4330582.43071329,  9321587.60128597,  5669680.25304833,\n",
       "        5669680.25304833,  5669680.25304833,  9113765.69239088,\n",
       "        6884459.34548001,  9321587.60128597,  3252007.38166021,\n",
       "        6884459.34548001, 11073090.76545498,  3252007.38166021,\n",
       "        5669680.25304833,  9113765.69239088,  3252007.38166021,\n",
       "        9113765.69239088,  9113765.69239088,  8172479.62951972,\n",
       "       14363670.31015399, 12284084.82241537,  9321587.60128597,\n",
       "       12284084.82241537,  8172479.62951972,  6884459.34548001,\n",
       "        6618263.10710454,  8172479.62951972,  3252007.38166021,\n",
       "        6618263.10710454, 11073090.76545498,  9321587.60128597,\n",
       "        6884459.34548001,  8172479.62951972,  6884459.34548001,\n",
       "        8172479.62951972,  6884459.34548001,  9113765.69239088,\n",
       "        9321587.60128597,  3252007.38166021,  8172479.62951972,\n",
       "       12284084.82241537,  6618263.10710454,  4330582.43071329,\n",
       "        6884459.34548001,  6618263.10710454,  3252007.38166021,\n",
       "        6618263.10710454,  9113765.69239088, 11073090.76545498,\n",
       "        6884459.34548001,  9113765.69239088, 11073090.76545498,\n",
       "        5669680.25304833,  4330582.43071329,  3252007.38166021,\n",
       "        6884459.34548001,  6618263.10710454, 14363670.31015399,\n",
       "        9113765.69239088,  9113765.69239088,  8172479.62951972,\n",
       "        6884459.34548001,  9321587.60128597, 11073090.76545498,\n",
       "       12284084.82241537, 11073090.76545498,  9113765.69239088,\n",
       "       12284084.82241537, 12284084.82241537,  6884459.34548001,\n",
       "       11073090.76545498,  6884459.34548001,  9321587.60128597,\n",
       "       14363670.31015399, 12284084.82241537,  9321587.60128597,\n",
       "        6884459.34548001,  5669680.25304833,  5669680.25304833,\n",
       "        6618263.10710454, 11073090.76545498,  5669680.25304833,\n",
       "        6884459.34548001,  9321587.60128597,  3252007.38166021,\n",
       "        4330582.43071329,  4330582.43071329, 12284084.82241537,\n",
       "       12284084.82241537, 12284084.82241537,  6884459.34548001,\n",
       "        5669680.25304833,  4330582.43071329,  5669680.25304833,\n",
       "        8172479.62951972,  6618263.10710454, 11073090.76545498,\n",
       "        6618263.10710454,  3252007.38166021,  5669680.25304833,\n",
       "        5669680.25304833,  5669680.25304833, 11073090.76545498,\n",
       "        9113765.69239088,  4330582.43071329,  6884459.34548001,\n",
       "       14363670.31015399, 12284084.82241537,  6618263.10710454,\n",
       "        3252007.38166021, 12284084.82241537,  9113765.69239088,\n",
       "        9321587.60128597,  8172479.62951972,  6884459.34548001,\n",
       "        9113765.69239088, 11073090.76545498, 11073090.76545498,\n",
       "        5669680.25304833,  5669680.25304833,  6618263.10710454,\n",
       "        4330582.43071329,  5669680.25304833,  6884459.34548001,\n",
       "        9113765.69239088,  9321587.60128597,  3252007.38166021,\n",
       "        6618263.10710454,  6618263.10710454,  3252007.38166021,\n",
       "        8172479.62951972,  6884459.34548001, 11073090.76545498,\n",
       "        9113765.69239088, 12284084.82241537,  6618263.10710454,\n",
       "        6884459.34548001, 12284084.82241537,  9113765.69239088,\n",
       "        3252007.38166021,  4330582.43071329,  3252007.38166021,\n",
       "        6884459.34548001, 11073090.76545498,  9113765.69239088,\n",
       "        6884459.34548001,  9113765.69239088,  6618263.10710454,\n",
       "        3252007.38166021,  9113765.69239088,  9113765.69239088,\n",
       "        5669680.25304833, 12284084.82241537,  9113765.69239088,\n",
       "        6884459.34548001,  5669680.25304833,  9113765.69239088,\n",
       "        4330582.43071329, 12284084.82241537,  3252007.38166021,\n",
       "       12284084.82241537,  9321587.60128597,  5669680.25304833,\n",
       "        3252007.38166021,  3252007.38166021, 12284084.82241537,\n",
       "        3252007.38166021,  6618263.10710454,  3252007.38166021,\n",
       "        6618263.10710454,  4330582.43071329,  9113765.69239088,\n",
       "        4330582.43071329,  9113765.69239088,  6618263.10710454,\n",
       "        5669680.25304833,  5669680.25304833,  9321587.60128597,\n",
       "        4330582.43071329,  8172479.62951972,  5669680.25304833,\n",
       "       11073090.76545498,  6618263.10710454,  5669680.25304833,\n",
       "       11073090.76545498,  3252007.38166021,  6618263.10710454,\n",
       "        9321587.60128597,  9113765.69239088,  3252007.38166021,\n",
       "       12284084.82241537, 12284084.82241537, 12284084.82241537,\n",
       "        3252007.38166021,  6618263.10710454,  5669680.25304833,\n",
       "        5669680.25304833,  6884459.34548001, 14363670.31015399,\n",
       "        8172479.62951972,  4330582.43071329,  9113765.69239088,\n",
       "        3252007.38166021,  9113765.69239088,  6618263.10710454,\n",
       "        9113765.69239088,  5669680.25304833,  4330582.43071329,\n",
       "        9321587.60128597,  5669680.25304833,  9113765.69239088,\n",
       "       11073090.76545498,  9113765.69239088,  5669680.25304833,\n",
       "       11073090.76545498,  6884459.34548001, 11073090.76545498,\n",
       "        9321587.60128597,  6884459.34548001,  8172479.62951972,\n",
       "        3252007.38166021, 12284084.82241537,  5669680.25304833,\n",
       "        6884459.34548001,  5669680.25304833, 12284084.82241537,\n",
       "        6618263.10710454,  8172479.62951972,  9321587.60128597,\n",
       "        8172479.62951972,  9113765.69239088, 12284084.82241537,\n",
       "        6884459.34548001,  9321587.60128597,  6884459.34548001,\n",
       "        5669680.25304833,  6884459.34548001,  9113765.69239088,\n",
       "        3252007.38166021,  9113765.69239088,  6884459.34548001,\n",
       "        4330582.43071329,  6884459.34548001,  9113765.69239088,\n",
       "       12284084.82241537,  9321587.60128597,  3252007.38166021,\n",
       "        6884459.34548001,  5669680.25304833,  9113765.69239088,\n",
       "        6884459.34548001,  6884459.34548001,  9113765.69239088,\n",
       "        9321587.60128597,  8172479.62951972,  5669680.25304833,\n",
       "        5669680.25304833,  4330582.43071329,  9113765.69239088,\n",
       "        3252007.38166021,  8172479.62951972, 11073090.76545498,\n",
       "       12284084.82241537, 11073090.76545498,  3252007.38166021,\n",
       "        4330582.43071329,  4330582.43071329,  3252007.38166021,\n",
       "        3252007.38166021,  6618263.10710454,  9321587.60128597,\n",
       "        3252007.38166021, 12284084.82241537,  4330582.43071329,\n",
       "       11073090.76545498,  6618263.10710454,  4330582.43071329,\n",
       "        9113765.69239088,  4330582.43071329,  6618263.10710454,\n",
       "        6884459.34548001,  5669680.25304833,  3252007.38166021,\n",
       "        5669680.25304833, 11073090.76545498,  3252007.38166021,\n",
       "       12284084.82241537,  6884459.34548001,  9321587.60128597,\n",
       "        8172479.62951972,  9113765.69239088,  8172479.62951972,\n",
       "        5669680.25304833,  5669680.25304833,  6618263.10710454,\n",
       "        6618263.10710454,  5669680.25304833, 11073090.76545498,\n",
       "       11073090.76545498, 11073090.76545498,  5669680.25304833,\n",
       "        3252007.38166021,  6618263.10710454, 11073090.76545498,\n",
       "        3252007.38166021, 12284084.82241537,  4330582.43071329,\n",
       "        5669680.25304833,  6618263.10710454,  9321587.60128597,\n",
       "        8172479.62951972,  3252007.38166021,  8172479.62951972,\n",
       "        5669680.25304833,  9113765.69239088,  5669680.25304833,\n",
       "        9321587.60128597,  6884459.34548001,  5669680.25304833,\n",
       "        8172479.62951972,  8172479.62951972,  3252007.38166021,\n",
       "       11073090.76545498,  8172479.62951972,  3252007.38166021,\n",
       "       12284084.82241537,  3252007.38166021,  8172479.62951972,\n",
       "        9113765.69239088,  4330582.43071329,  5669680.25304833,\n",
       "        6884459.34548001,  6618263.10710454,  4330582.43071329,\n",
       "        3252007.38166021, 11073090.76545498,  6884459.34548001,\n",
       "        8172479.62951972,  8172479.62951972,  6618263.10710454,\n",
       "       11073090.76545498,  6884459.34548001,  9113765.69239088,\n",
       "       12284084.82241537, 12284084.82241537, 12284084.82241537,\n",
       "        6618263.10710454,  6884459.34548001, 12284084.82241537,\n",
       "        8172479.62951972,  3252007.38166021, 12284084.82241537,\n",
       "        3252007.38166021, 11073090.76545498, 11073090.76545498,\n",
       "        9113765.69239088,  8172479.62951972,  4330582.43071329,\n",
       "        9321587.60128597,  3252007.38166021,  8172479.62951972,\n",
       "        6884459.34548001,  9321587.60128597,  9321587.60128597,\n",
       "        5669680.25304833,  4330582.43071329,  6618263.10710454,\n",
       "        3252007.38166021, 11073090.76545498,  9321587.60128597,\n",
       "        9113765.69239088,  5669680.25304833,  3252007.38166021,\n",
       "        6884459.34548001, 12284084.82241537,  9113765.69239088,\n",
       "        9113765.69239088,  6618263.10710454,  3252007.38166021,\n",
       "        6884459.34548001,  3252007.38166021, 12284084.82241537,\n",
       "       12284084.82241537,  5669680.25304833,  8172479.62951972,\n",
       "        9113765.69239088, 11073090.76545498,  6618263.10710454,\n",
       "        9321587.60128597,  5669680.25304833,  6884459.34548001,\n",
       "        9321587.60128597,  5669680.25304833,  5669680.25304833,\n",
       "       11073090.76545498,  9113765.69239088,  5669680.25304833,\n",
       "        5669680.25304833,  6884459.34548001, 12284084.82241537,\n",
       "        3252007.38166021,  6198560.97408552,  9113765.69239088,\n",
       "        4330582.43071329,  8172479.62951972,  3252007.38166021,\n",
       "        4330582.43071329,  5669680.25304833,  6618263.10710454,\n",
       "        9321587.60128597,  6884459.34548001,  9113765.69239088,\n",
       "        3252007.38166021,  3252007.38166021,  6618263.10710454,\n",
       "       11073090.76545498,  3252007.38166021,  9113765.69239088,\n",
       "        9113765.69239088,  5669680.25304833,  8172479.62951972,\n",
       "       12284084.82241537,  9321587.60128597,  5669680.25304833,\n",
       "        6618263.10710454,  8172479.62951972, 11073090.76545498,\n",
       "       12284084.82241537,  5669680.25304833,  6884459.34548001,\n",
       "        6884459.34548001, 11073090.76545498,  6618263.10710454,\n",
       "        3252007.38166021,  9321587.60128597,  6884459.34548001,\n",
       "        6618263.10710454,  6618263.10710454,  3252007.38166021,\n",
       "        9321587.60128597,  5669680.25304833,  5669680.25304833,\n",
       "        5669680.25304833,  8172479.62951972,  5669680.25304833,\n",
       "       12284084.82241537,  9113765.69239088,  6618263.10710454,\n",
       "       11073090.76545498,  4330582.43071329,  6618263.10710454,\n",
       "        5669680.25304833,  9321587.60128597,  9113765.69239088,\n",
       "       12284084.82241537,  6618263.10710454,  5669680.25304833,\n",
       "        6618263.10710454,  6618263.10710454,  8172479.62951972,\n",
       "        6618263.10710454,  9321587.60128597,  4330582.43071329,\n",
       "        5669680.25304833,  9321587.60128597, 12284084.82241537,\n",
       "        4330582.43071329,  3252007.38166021,  6884459.34548001,\n",
       "        9113765.69239088,  6884459.34548001,  9321587.60128597,\n",
       "        9113765.69239088,  8172479.62951972,  8172479.62951972,\n",
       "       14363670.31015399,  8172479.62951972,  5669680.25304833,\n",
       "       12284084.82241537,  9321587.60128597, 12284084.82241537,\n",
       "        3252007.38166021,  9113765.69239088,  9321587.60128597,\n",
       "        6884459.34548001, 11073090.76545498,  9113765.69239088,\n",
       "        9113765.69239088,  3252007.38166021,  9321587.60128597,\n",
       "        8172479.62951972,  3252007.38166021,  8172479.62951972,\n",
       "        9113765.69239088,  5669680.25304833,  6884459.34548001,\n",
       "        6618263.10710454,  9113765.69239088,  8172479.62951972,\n",
       "        4330582.43071329,  6618263.10710454,  9113765.69239088,\n",
       "        5669680.25304833, 11073090.76545498,  6618263.10710454,\n",
       "        8172479.62951972, 11073090.76545498, 11073090.76545498,\n",
       "        6884459.34548001, 12284084.82241537,  5669680.25304833,\n",
       "       11073090.76545498, 11073090.76545498,  8172479.62951972,\n",
       "        4330582.43071329,  4330582.43071329,  4330582.43071329,\n",
       "       11073090.76545498,  9321587.60128597,  5669680.25304833,\n",
       "        9113765.69239088,  8172479.62951972,  9321587.60128597,\n",
       "        6618263.10710454,  9321587.60128597, 11073090.76545498,\n",
       "        6618263.10710454,  5669680.25304833, 12284084.82241537,\n",
       "        3252007.38166021,  6884459.34548001,  4330582.43071329,\n",
       "       11073090.76545498,  6618263.10710454,  6618263.10710454,\n",
       "        9113765.69239088,  5669680.25304833,  3252007.38166021,\n",
       "        6618263.10710454, 11073090.76545498,  9321587.60128597,\n",
       "        6884459.34548001,  3252007.38166021,  8172479.62951972,\n",
       "        9321587.60128597,  9113765.69239088, 12284084.82241537,\n",
       "        4330582.43071329,  6884459.34548001,  4330582.43071329,\n",
       "        5669680.25304833, 12284084.82241537,  5669680.25304833,\n",
       "       11073090.76545498,  6618263.10710454,  6618263.10710454,\n",
       "        9113765.69239088,  6884459.34548001,  9321587.60128597,\n",
       "        9113765.69239088,  6884459.34548001, 11073090.76545498,\n",
       "       12284084.82241537,  6884459.34548001,  5669680.25304833,\n",
       "        5669680.25304833,  9113765.69239088,  3252007.38166021,\n",
       "        4330582.43071329, 12284084.82241537,  9321587.60128597,\n",
       "        3252007.38166021,  8172479.62951972, 11073090.76545498,\n",
       "        6618263.10710454,  9321587.60128597, 11073090.76545498,\n",
       "        6884459.34548001,  8172479.62951972, 12284084.82241537,\n",
       "        6618263.10710454, 11073090.76545498, 12284084.82241537,\n",
       "        8172479.62951972,  6618263.10710454,  6618263.10710454,\n",
       "       11073090.76545498,  9321587.60128597,  4330582.43071329,\n",
       "       11073090.76545498,  4330582.43071329,  6618263.10710454,\n",
       "        6884459.34548001,  6884459.34548001,  9321587.60128597,\n",
       "        4330582.43071329,  3252007.38166021,  6618263.10710454,\n",
       "        8172479.62951972,  6884459.34548001, 11073090.76545498,\n",
       "       11073090.76545498,  9321587.60128597,  8172479.62951972,\n",
       "        4330582.43071329,  6884459.34548001,  9113765.69239088,\n",
       "        9113765.69239088,  9113765.69239088,  3252007.38166021,\n",
       "        6884459.34548001,  3252007.38166021, 11073090.76545498,\n",
       "        5669680.25304833,  9113765.69239088,  4330582.43071329,\n",
       "        6618263.10710454,  8172479.62951972, 12284084.82241537,\n",
       "       11073090.76545498,  8172479.62951972,  9113765.69239088,\n",
       "        6618263.10710454, 12284084.82241537,  9321587.60128597,\n",
       "       12284084.82241537, 12284084.82241537,  6618263.10710454,\n",
       "       12284084.82241537, 11073090.76545498,  8172479.62951972,\n",
       "        5669680.25304833,  9113765.69239088,  9113765.69239088,\n",
       "       11073090.76545498,  8172479.62951972,  9113765.69239088,\n",
       "        5669680.25304833,  9321587.60128597,  9321587.60128597,\n",
       "        5669680.25304833,  6884459.34548001,  6884459.34548001,\n",
       "        4330582.43071329,  4330582.43071329, 11073090.76545498,\n",
       "        9113765.69239088,  3252007.38166021,  3252007.38166021,\n",
       "       11073090.76545498, 11073090.76545498,  5669680.25304833,\n",
       "        6618263.10710454,  6618263.10710454,  9113765.69239088,\n",
       "        3252007.38166021,  9321587.60128597,  9321587.60128597,\n",
       "        9113765.69239088, 12284084.82241537,  9321587.60128597,\n",
       "        8172479.62951972,  6884459.34548001, 11073090.76545498,\n",
       "        3252007.38166021, 12284084.82241537,  6618263.10710454,\n",
       "        8172479.62951972,  4330582.43071329,  9321587.60128597,\n",
       "        6884459.34548001,  9321587.60128597,  9113765.69239088])"
      ]
     },
     "execution_count": 127,
     "metadata": {},
     "output_type": "execute_result"
    }
   ],
   "source": [
    "lm_predict"
   ]
  },
  {
   "cell_type": "code",
   "execution_count": 128,
   "id": "a1e67613",
   "metadata": {},
   "outputs": [
    {
     "data": {
      "text/plain": [
       "2739    11500000\n",
       "2316     7900000\n",
       "2701     4800000\n",
       "3496     6300000\n",
       "86      15000000\n",
       "          ...   \n",
       "3401     4900000\n",
       "1545     7900000\n",
       "1038     6300000\n",
       "2800     7900000\n",
       "1589    15000000\n",
       "Name: price, Length: 693, dtype: int64"
      ]
     },
     "execution_count": 128,
     "metadata": {},
     "output_type": "execute_result"
    }
   ],
   "source": [
    "y_test"
   ]
  },
  {
   "cell_type": "code",
   "execution_count": 129,
   "id": "c15b686f",
   "metadata": {},
   "outputs": [],
   "source": [
    "from sklearn.metrics import r2_score"
   ]
  },
  {
   "cell_type": "code",
   "execution_count": 130,
   "id": "8d0f8bce",
   "metadata": {},
   "outputs": [
    {
     "data": {
      "text/plain": [
       "0.5278905966601624"
      ]
     },
     "execution_count": 130,
     "metadata": {},
     "output_type": "execute_result"
    }
   ],
   "source": [
    "r2_score(y_test,lm_predict)"
   ]
  },
  {
   "cell_type": "code",
   "execution_count": 142,
   "id": "bd272b0f",
   "metadata": {},
   "outputs": [
    {
     "data": {
      "text/plain": [
       "-0.15428210796881148"
      ]
     },
     "execution_count": 142,
     "metadata": {},
     "output_type": "execute_result"
    }
   ],
   "source": [
    "r2_score(y_test,svm_predict)"
   ]
  },
  {
   "cell_type": "code",
   "execution_count": 131,
   "id": "58c4509c",
   "metadata": {},
   "outputs": [
    {
     "data": {
      "text/html": [
       "<div>\n",
       "<style scoped>\n",
       "    .dataframe tbody tr th:only-of-type {\n",
       "        vertical-align: middle;\n",
       "    }\n",
       "\n",
       "    .dataframe tbody tr th {\n",
       "        vertical-align: top;\n",
       "    }\n",
       "\n",
       "    .dataframe thead th {\n",
       "        text-align: right;\n",
       "    }\n",
       "</style>\n",
       "<table border=\"1\" class=\"dataframe\">\n",
       "  <thead>\n",
       "    <tr style=\"text-align: right;\">\n",
       "      <th></th>\n",
       "      <th>PIN</th>\n",
       "      <th>price</th>\n",
       "      <th>place</th>\n",
       "      <th>built</th>\n",
       "      <th>sqft</th>\n",
       "      <th>sale</th>\n",
       "      <th>yearsOld</th>\n",
       "      <th>floor</th>\n",
       "      <th>totalFloor</th>\n",
       "      <th>bhk</th>\n",
       "    </tr>\n",
       "  </thead>\n",
       "  <tbody>\n",
       "    <tr>\n",
       "      <th>0</th>\n",
       "      <td>1341</td>\n",
       "      <td>6300000</td>\n",
       "      <td>BTM Layout</td>\n",
       "      <td>Super built-up  Area</td>\n",
       "      <td>1450</td>\n",
       "      <td>Resale</td>\n",
       "      <td>5</td>\n",
       "      <td>1</td>\n",
       "      <td>4</td>\n",
       "      <td>1</td>\n",
       "    </tr>\n",
       "    <tr>\n",
       "      <th>1</th>\n",
       "      <td>2126</td>\n",
       "      <td>11500000</td>\n",
       "      <td>Yelahanka</td>\n",
       "      <td>Super built-up  Area</td>\n",
       "      <td>2190</td>\n",
       "      <td>Resale</td>\n",
       "      <td>5</td>\n",
       "      <td>3</td>\n",
       "      <td>5</td>\n",
       "      <td>3</td>\n",
       "    </tr>\n",
       "    <tr>\n",
       "      <th>2</th>\n",
       "      <td>816</td>\n",
       "      <td>3800000</td>\n",
       "      <td>Whitefield</td>\n",
       "      <td>Super built-up  Area</td>\n",
       "      <td>1019</td>\n",
       "      <td>Resale</td>\n",
       "      <td>1</td>\n",
       "      <td>2</td>\n",
       "      <td>5</td>\n",
       "      <td>2</td>\n",
       "    </tr>\n",
       "    <tr>\n",
       "      <th>3</th>\n",
       "      <td>2708</td>\n",
       "      <td>10500000</td>\n",
       "      <td>Ambalipura</td>\n",
       "      <td>Super built-up  Area</td>\n",
       "      <td>1857</td>\n",
       "      <td>Resale</td>\n",
       "      <td>15</td>\n",
       "      <td>4</td>\n",
       "      <td>5</td>\n",
       "      <td>4</td>\n",
       "    </tr>\n",
       "    <tr>\n",
       "      <th>4</th>\n",
       "      <td>1041</td>\n",
       "      <td>11500000</td>\n",
       "      <td>Yelahanka</td>\n",
       "      <td>Super built-up  Area</td>\n",
       "      <td>2190</td>\n",
       "      <td>Resale</td>\n",
       "      <td>5</td>\n",
       "      <td>3</td>\n",
       "      <td>5</td>\n",
       "      <td>3</td>\n",
       "    </tr>\n",
       "  </tbody>\n",
       "</table>\n",
       "</div>"
      ],
      "text/plain": [
       "    PIN     price       place                 built  sqft    sale  yearsOld  \\\n",
       "0  1341   6300000  BTM Layout  Super built-up  Area  1450  Resale         5   \n",
       "1  2126  11500000   Yelahanka  Super built-up  Area  2190  Resale         5   \n",
       "2   816   3800000  Whitefield  Super built-up  Area  1019  Resale         1   \n",
       "3  2708  10500000  Ambalipura  Super built-up  Area  1857  Resale        15   \n",
       "4  1041  11500000   Yelahanka  Super built-up  Area  2190  Resale         5   \n",
       "\n",
       "   floor  totalFloor  bhk  \n",
       "0      1           4    1  \n",
       "1      3           5    3  \n",
       "2      2           5    2  \n",
       "3      4           5    4  \n",
       "4      3           5    3  "
      ]
     },
     "execution_count": 131,
     "metadata": {},
     "output_type": "execute_result"
    }
   ],
   "source": [
    "house.head()"
   ]
  },
  {
   "cell_type": "code",
   "execution_count": 132,
   "id": "dbb06205",
   "metadata": {},
   "outputs": [],
   "source": [
    "from sklearn.preprocessing import LabelEncoder"
   ]
  },
  {
   "cell_type": "code",
   "execution_count": 133,
   "id": "ea5e416f",
   "metadata": {},
   "outputs": [],
   "source": [
    "enc = LabelEncoder()"
   ]
  },
  {
   "cell_type": "code",
   "execution_count": 134,
   "id": "4d814803",
   "metadata": {},
   "outputs": [
    {
     "name": "stderr",
     "output_type": "stream",
     "text": [
      "<ipython-input-134-c97972af1c7b>:1: SettingWithCopyWarning: \n",
      "A value is trying to be set on a copy of a slice from a DataFrame.\n",
      "Try using .loc[row_indexer,col_indexer] = value instead\n",
      "\n",
      "See the caveats in the documentation: https://pandas.pydata.org/pandas-docs/stable/user_guide/indexing.html#returning-a-view-versus-a-copy\n",
      "  house['place'] = enc.fit_transform(house['place'])\n"
     ]
    }
   ],
   "source": [
    "house['place'] = enc.fit_transform(house['place'])"
   ]
  },
  {
   "cell_type": "code",
   "execution_count": 135,
   "id": "c18d1f82",
   "metadata": {},
   "outputs": [
    {
     "data": {
      "text/html": [
       "<div>\n",
       "<style scoped>\n",
       "    .dataframe tbody tr th:only-of-type {\n",
       "        vertical-align: middle;\n",
       "    }\n",
       "\n",
       "    .dataframe tbody tr th {\n",
       "        vertical-align: top;\n",
       "    }\n",
       "\n",
       "    .dataframe thead th {\n",
       "        text-align: right;\n",
       "    }\n",
       "</style>\n",
       "<table border=\"1\" class=\"dataframe\">\n",
       "  <thead>\n",
       "    <tr style=\"text-align: right;\">\n",
       "      <th></th>\n",
       "      <th>PIN</th>\n",
       "      <th>price</th>\n",
       "      <th>place</th>\n",
       "      <th>built</th>\n",
       "      <th>sqft</th>\n",
       "      <th>sale</th>\n",
       "      <th>yearsOld</th>\n",
       "      <th>floor</th>\n",
       "      <th>totalFloor</th>\n",
       "      <th>bhk</th>\n",
       "    </tr>\n",
       "  </thead>\n",
       "  <tbody>\n",
       "    <tr>\n",
       "      <th>0</th>\n",
       "      <td>1341</td>\n",
       "      <td>6300000</td>\n",
       "      <td>2</td>\n",
       "      <td>Super built-up  Area</td>\n",
       "      <td>1450</td>\n",
       "      <td>Resale</td>\n",
       "      <td>5</td>\n",
       "      <td>1</td>\n",
       "      <td>4</td>\n",
       "      <td>1</td>\n",
       "    </tr>\n",
       "    <tr>\n",
       "      <th>1</th>\n",
       "      <td>2126</td>\n",
       "      <td>11500000</td>\n",
       "      <td>11</td>\n",
       "      <td>Super built-up  Area</td>\n",
       "      <td>2190</td>\n",
       "      <td>Resale</td>\n",
       "      <td>5</td>\n",
       "      <td>3</td>\n",
       "      <td>5</td>\n",
       "      <td>3</td>\n",
       "    </tr>\n",
       "    <tr>\n",
       "      <th>2</th>\n",
       "      <td>816</td>\n",
       "      <td>3800000</td>\n",
       "      <td>9</td>\n",
       "      <td>Super built-up  Area</td>\n",
       "      <td>1019</td>\n",
       "      <td>Resale</td>\n",
       "      <td>1</td>\n",
       "      <td>2</td>\n",
       "      <td>5</td>\n",
       "      <td>2</td>\n",
       "    </tr>\n",
       "    <tr>\n",
       "      <th>3</th>\n",
       "      <td>2708</td>\n",
       "      <td>10500000</td>\n",
       "      <td>1</td>\n",
       "      <td>Super built-up  Area</td>\n",
       "      <td>1857</td>\n",
       "      <td>Resale</td>\n",
       "      <td>15</td>\n",
       "      <td>4</td>\n",
       "      <td>5</td>\n",
       "      <td>4</td>\n",
       "    </tr>\n",
       "    <tr>\n",
       "      <th>4</th>\n",
       "      <td>1041</td>\n",
       "      <td>11500000</td>\n",
       "      <td>11</td>\n",
       "      <td>Super built-up  Area</td>\n",
       "      <td>2190</td>\n",
       "      <td>Resale</td>\n",
       "      <td>5</td>\n",
       "      <td>3</td>\n",
       "      <td>5</td>\n",
       "      <td>3</td>\n",
       "    </tr>\n",
       "  </tbody>\n",
       "</table>\n",
       "</div>"
      ],
      "text/plain": [
       "    PIN     price  place                 built  sqft    sale  yearsOld  floor  \\\n",
       "0  1341   6300000      2  Super built-up  Area  1450  Resale         5      1   \n",
       "1  2126  11500000     11  Super built-up  Area  2190  Resale         5      3   \n",
       "2   816   3800000      9  Super built-up  Area  1019  Resale         1      2   \n",
       "3  2708  10500000      1  Super built-up  Area  1857  Resale        15      4   \n",
       "4  1041  11500000     11  Super built-up  Area  2190  Resale         5      3   \n",
       "\n",
       "   totalFloor  bhk  \n",
       "0           4    1  \n",
       "1           5    3  \n",
       "2           5    2  \n",
       "3           5    4  \n",
       "4           5    3  "
      ]
     },
     "execution_count": 135,
     "metadata": {},
     "output_type": "execute_result"
    }
   ],
   "source": [
    "house.head()"
   ]
  },
  {
   "cell_type": "code",
   "execution_count": 136,
   "id": "8e6111f0",
   "metadata": {},
   "outputs": [
    {
     "name": "stderr",
     "output_type": "stream",
     "text": [
      "<ipython-input-136-2e1533b94d6c>:1: SettingWithCopyWarning: \n",
      "A value is trying to be set on a copy of a slice from a DataFrame.\n",
      "Try using .loc[row_indexer,col_indexer] = value instead\n",
      "\n",
      "See the caveats in the documentation: https://pandas.pydata.org/pandas-docs/stable/user_guide/indexing.html#returning-a-view-versus-a-copy\n",
      "  house['built'] = enc.fit_transform(house['built'])\n"
     ]
    }
   ],
   "source": [
    "house['built'] = enc.fit_transform(house['built'])"
   ]
  },
  {
   "cell_type": "code",
   "execution_count": 137,
   "id": "51d334da",
   "metadata": {},
   "outputs": [
    {
     "data": {
      "text/html": [
       "<div>\n",
       "<style scoped>\n",
       "    .dataframe tbody tr th:only-of-type {\n",
       "        vertical-align: middle;\n",
       "    }\n",
       "\n",
       "    .dataframe tbody tr th {\n",
       "        vertical-align: top;\n",
       "    }\n",
       "\n",
       "    .dataframe thead th {\n",
       "        text-align: right;\n",
       "    }\n",
       "</style>\n",
       "<table border=\"1\" class=\"dataframe\">\n",
       "  <thead>\n",
       "    <tr style=\"text-align: right;\">\n",
       "      <th></th>\n",
       "      <th>PIN</th>\n",
       "      <th>price</th>\n",
       "      <th>place</th>\n",
       "      <th>built</th>\n",
       "      <th>sqft</th>\n",
       "      <th>sale</th>\n",
       "      <th>yearsOld</th>\n",
       "      <th>floor</th>\n",
       "      <th>totalFloor</th>\n",
       "      <th>bhk</th>\n",
       "    </tr>\n",
       "  </thead>\n",
       "  <tbody>\n",
       "    <tr>\n",
       "      <th>0</th>\n",
       "      <td>1341</td>\n",
       "      <td>6300000</td>\n",
       "      <td>2</td>\n",
       "      <td>1</td>\n",
       "      <td>1450</td>\n",
       "      <td>Resale</td>\n",
       "      <td>5</td>\n",
       "      <td>1</td>\n",
       "      <td>4</td>\n",
       "      <td>1</td>\n",
       "    </tr>\n",
       "    <tr>\n",
       "      <th>1</th>\n",
       "      <td>2126</td>\n",
       "      <td>11500000</td>\n",
       "      <td>11</td>\n",
       "      <td>1</td>\n",
       "      <td>2190</td>\n",
       "      <td>Resale</td>\n",
       "      <td>5</td>\n",
       "      <td>3</td>\n",
       "      <td>5</td>\n",
       "      <td>3</td>\n",
       "    </tr>\n",
       "    <tr>\n",
       "      <th>2</th>\n",
       "      <td>816</td>\n",
       "      <td>3800000</td>\n",
       "      <td>9</td>\n",
       "      <td>1</td>\n",
       "      <td>1019</td>\n",
       "      <td>Resale</td>\n",
       "      <td>1</td>\n",
       "      <td>2</td>\n",
       "      <td>5</td>\n",
       "      <td>2</td>\n",
       "    </tr>\n",
       "    <tr>\n",
       "      <th>3</th>\n",
       "      <td>2708</td>\n",
       "      <td>10500000</td>\n",
       "      <td>1</td>\n",
       "      <td>1</td>\n",
       "      <td>1857</td>\n",
       "      <td>Resale</td>\n",
       "      <td>15</td>\n",
       "      <td>4</td>\n",
       "      <td>5</td>\n",
       "      <td>4</td>\n",
       "    </tr>\n",
       "    <tr>\n",
       "      <th>4</th>\n",
       "      <td>1041</td>\n",
       "      <td>11500000</td>\n",
       "      <td>11</td>\n",
       "      <td>1</td>\n",
       "      <td>2190</td>\n",
       "      <td>Resale</td>\n",
       "      <td>5</td>\n",
       "      <td>3</td>\n",
       "      <td>5</td>\n",
       "      <td>3</td>\n",
       "    </tr>\n",
       "  </tbody>\n",
       "</table>\n",
       "</div>"
      ],
      "text/plain": [
       "    PIN     price  place  built  sqft    sale  yearsOld  floor  totalFloor  \\\n",
       "0  1341   6300000      2      1  1450  Resale         5      1           4   \n",
       "1  2126  11500000     11      1  2190  Resale         5      3           5   \n",
       "2   816   3800000      9      1  1019  Resale         1      2           5   \n",
       "3  2708  10500000      1      1  1857  Resale        15      4           5   \n",
       "4  1041  11500000     11      1  2190  Resale         5      3           5   \n",
       "\n",
       "   bhk  \n",
       "0    1  \n",
       "1    3  \n",
       "2    2  \n",
       "3    4  \n",
       "4    3  "
      ]
     },
     "execution_count": 137,
     "metadata": {},
     "output_type": "execute_result"
    }
   ],
   "source": [
    "house.head()"
   ]
  },
  {
   "cell_type": "code",
   "execution_count": null,
   "id": "03ecb5d9",
   "metadata": {},
   "outputs": [],
   "source": []
  }
 ],
 "metadata": {
  "kernelspec": {
   "display_name": "Python 3 (ipykernel)",
   "language": "python",
   "name": "python3"
  },
  "language_info": {
   "codemirror_mode": {
    "name": "ipython",
    "version": 3
   },
   "file_extension": ".py",
   "mimetype": "text/x-python",
   "name": "python",
   "nbconvert_exporter": "python",
   "pygments_lexer": "ipython3",
   "version": "3.9.7"
  }
 },
 "nbformat": 4,
 "nbformat_minor": 5
}
