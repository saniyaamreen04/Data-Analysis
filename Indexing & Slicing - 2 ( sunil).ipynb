{
 "cells": [
  {
   "cell_type": "markdown",
   "metadata": {
    "colab_type": "text",
    "id": "UH8_NhmB4ZAo"
   },
   "source": [
    "# Indexing : Accessing Single Elements\n",
    "\n",
    "\n",
    "Python’s standard list indexing, indexing in NumPy will feel\n",
    "quite familiar.\n",
    "\n",
    "##  one-dimensional array\n",
    "You can access the ith value (counting from\n",
    "zero) by specifying the desired index in square brackets, just as with Python lists:\n",
    "\n",
    "> **`syntax : array[index]`**-- **for single item**\n",
    "\n",
    "##### Multi Indexing\n",
    "It means passing an array of indices to access multiple array elements at once.\n",
    "\n",
    "> **`syntax : array[[index,index..]]`** -- **for multiple items based on index**"
   ]
  },
  {
   "cell_type": "code",
   "execution_count": 1,
   "metadata": {
    "colab": {},
    "colab_type": "code",
    "id": "qkK-3CzT4ZAu"
   },
   "outputs": [],
   "source": [
    "import numpy as np"
   ]
  },
  {
   "cell_type": "code",
   "execution_count": 2,
   "metadata": {
    "colab": {},
    "colab_type": "code",
    "id": "BZh0NnS74ZA4"
   },
   "outputs": [],
   "source": [
    "arr = np.array([2,3,6,7,8,9,1])"
   ]
  },
  {
   "cell_type": "code",
   "execution_count": 3,
   "metadata": {
    "colab": {},
    "colab_type": "code",
    "id": "hM71yDpZ4ZA-",
    "outputId": "4d2c2e7d-e2b6-4c04-db69-30d247ff527b"
   },
   "outputs": [
    {
     "data": {
      "text/plain": [
       "6"
      ]
     },
     "execution_count": 3,
     "metadata": {},
     "output_type": "execute_result"
    }
   ],
   "source": [
    "arr[2] # value at index 2"
   ]
  },
  {
   "cell_type": "code",
   "execution_count": null,
   "metadata": {
    "colab": {},
    "colab_type": "code",
    "id": "sw680_2B4ZBJ",
    "outputId": "758e223d-4afe-42cc-db2f-c9d4a4c1601f"
   },
   "outputs": [],
   "source": [
    "arr[[2,5,4]] # To access multiple elements send a list of index numbers\n"
   ]
  },
  {
   "cell_type": "code",
   "execution_count": null,
   "metadata": {
    "colab": {},
    "colab_type": "code",
    "id": "A5x4Bnkz4ZBP",
    "outputId": "5f22c557-57f5-480b-dad9-51cf8ab3ac54"
   },
   "outputs": [],
   "source": [
    "arr[[2,1,5,6]]"
   ]
  },
  {
   "cell_type": "markdown",
   "metadata": {
    "colab_type": "text",
    "id": "yu6Vm5NT4ZBW"
   },
   "source": [
    "## Multi-dimensional array\n",
    "\n",
    "In a multidimensional array, you access items using a comma-separated tuple of\n",
    "indices:\n",
    "\n",
    "**`syntax : array[row ,column]`**"
   ]
  },
  {
   "cell_type": "code",
   "execution_count": 6,
   "metadata": {
    "colab": {},
    "colab_type": "code",
    "id": "JsaxvRTT4ZBY"
   },
   "outputs": [],
   "source": [
    "arr2 = np.arange(10)"
   ]
  },
  {
   "cell_type": "code",
   "execution_count": 7,
   "metadata": {},
   "outputs": [
    {
     "data": {
      "text/plain": [
       "array([0, 1, 2, 3, 4, 5, 6, 7, 8, 9])"
      ]
     },
     "execution_count": 7,
     "metadata": {},
     "output_type": "execute_result"
    }
   ],
   "source": [
    "arr2"
   ]
  },
  {
   "cell_type": "code",
   "execution_count": 8,
   "metadata": {
    "colab": {},
    "colab_type": "code",
    "id": "aZ6aNBBQ4ZBf"
   },
   "outputs": [],
   "source": [
    "arr2 = arr2.reshape(2,5)"
   ]
  },
  {
   "cell_type": "code",
   "execution_count": 9,
   "metadata": {
    "colab": {},
    "colab_type": "code",
    "id": "LrspJ_VE4ZBm",
    "outputId": "e3d17cf8-e037-4631-cf2f-9dec2cd94716"
   },
   "outputs": [
    {
     "data": {
      "text/plain": [
       "array([[0, 1, 2, 3, 4],\n",
       "       [5, 6, 7, 8, 9]])"
      ]
     },
     "execution_count": 9,
     "metadata": {},
     "output_type": "execute_result"
    }
   ],
   "source": [
    "arr2"
   ]
  },
  {
   "cell_type": "code",
   "execution_count": 10,
   "metadata": {
    "colab": {},
    "colab_type": "code",
    "id": "l60kaABU4ZBr",
    "outputId": "4042e54a-cb99-49d1-96b6-819474f40770"
   },
   "outputs": [
    {
     "data": {
      "text/plain": [
       "0"
      ]
     },
     "execution_count": 10,
     "metadata": {},
     "output_type": "execute_result"
    }
   ],
   "source": [
    "arr2[0][0]"
   ]
  },
  {
   "cell_type": "code",
   "execution_count": 11,
   "metadata": {
    "colab": {},
    "colab_type": "code",
    "id": "WU89Zwfm4ZB8",
    "outputId": "3693a010-a3ba-40bb-b320-da2614767251"
   },
   "outputs": [
    {
     "data": {
      "text/plain": [
       "1"
      ]
     },
     "execution_count": 11,
     "metadata": {},
     "output_type": "execute_result"
    }
   ],
   "source": [
    "arr2[0][1]"
   ]
  },
  {
   "cell_type": "code",
   "execution_count": 12,
   "metadata": {
    "colab": {},
    "colab_type": "code",
    "id": "zRXRxNxl4ZCB",
    "outputId": "34216355-4f04-4a92-d76c-df8529e85914"
   },
   "outputs": [
    {
     "data": {
      "text/plain": [
       "1"
      ]
     },
     "execution_count": 12,
     "metadata": {},
     "output_type": "execute_result"
    }
   ],
   "source": [
    "arr2[0,1]"
   ]
  },
  {
   "cell_type": "code",
   "execution_count": 13,
   "metadata": {
    "colab": {},
    "colab_type": "code",
    "id": "lM15m1nJ4ZCN",
    "outputId": "2062728f-de8c-4175-fc52-39e016c2bcba"
   },
   "outputs": [
    {
     "data": {
      "text/plain": [
       "7"
      ]
     },
     "execution_count": 13,
     "metadata": {},
     "output_type": "execute_result"
    }
   ],
   "source": [
    "arr2[1,2]"
   ]
  },
  {
   "cell_type": "code",
   "execution_count": 14,
   "metadata": {
    "colab": {},
    "colab_type": "code",
    "id": "btI4CXWV4ZCV",
    "outputId": "29a31ae1-c822-4daa-ddd7-445f572d23bb"
   },
   "outputs": [
    {
     "data": {
      "text/plain": [
       "9"
      ]
     },
     "execution_count": 14,
     "metadata": {},
     "output_type": "execute_result"
    }
   ],
   "source": [
    "arr2[1,4]"
   ]
  },
  {
   "cell_type": "code",
   "execution_count": 15,
   "metadata": {
    "colab": {},
    "colab_type": "code",
    "id": "RYVsQT094ZCa"
   },
   "outputs": [],
   "source": [
    "arr3 =  np.arange(9)"
   ]
  },
  {
   "cell_type": "code",
   "execution_count": 18,
   "metadata": {
    "colab": {},
    "colab_type": "code",
    "id": "giu0ZCxJ4ZCi"
   },
   "outputs": [],
   "source": [
    "arr3 = arr3.reshape((9,1))"
   ]
  },
  {
   "cell_type": "code",
   "execution_count": 19,
   "metadata": {
    "colab": {},
    "colab_type": "code",
    "id": "lrIg73pU4ZCo",
    "outputId": "c133febb-0b6b-4798-f505-1f5f19f1a853"
   },
   "outputs": [
    {
     "data": {
      "text/plain": [
       "array([[0],\n",
       "       [1],\n",
       "       [2],\n",
       "       [3],\n",
       "       [4],\n",
       "       [5],\n",
       "       [6],\n",
       "       [7],\n",
       "       [8]])"
      ]
     },
     "execution_count": 19,
     "metadata": {},
     "output_type": "execute_result"
    }
   ],
   "source": [
    "arr3"
   ]
  },
  {
   "cell_type": "code",
   "execution_count": 20,
   "metadata": {},
   "outputs": [
    {
     "data": {
      "text/plain": [
       "4"
      ]
     },
     "execution_count": 20,
     "metadata": {},
     "output_type": "execute_result"
    }
   ],
   "source": [
    "arr3[4,0]"
   ]
  },
  {
   "cell_type": "code",
   "execution_count": null,
   "metadata": {
    "colab": {},
    "colab_type": "code",
    "id": "_0bN6-qi4ZCs",
    "outputId": "37294ca5-58c0-4c2f-c09e-1de715eddb4d"
   },
   "outputs": [],
   "source": [
    "arr3[2,2]"
   ]
  },
  {
   "cell_type": "code",
   "execution_count": null,
   "metadata": {
    "colab": {},
    "colab_type": "code",
    "id": "8S4edMBx4ZCx",
    "outputId": "aed8a965-73dd-495d-e903-0f14ac034b60"
   },
   "outputs": [],
   "source": [
    "arr3"
   ]
  },
  {
   "cell_type": "code",
   "execution_count": null,
   "metadata": {
    "colab": {},
    "colab_type": "code",
    "id": "aZV6lt2k4ZC3",
    "outputId": "9c487834-64fd-4ca9-e911-2267c2710450"
   },
   "outputs": [],
   "source": [
    "arr3[1,2]"
   ]
  },
  {
   "cell_type": "code",
   "execution_count": null,
   "metadata": {
    "colab": {},
    "colab_type": "code",
    "id": "dVHc5guc4ZC8",
    "outputId": "3ebc5fd3-7052-4cc3-959b-8cb070ab8d1c"
   },
   "outputs": [],
   "source": [
    "arr3[2,1]"
   ]
  },
  {
   "cell_type": "markdown",
   "metadata": {
    "colab_type": "text",
    "id": "pgum9ZDV4ZDB"
   },
   "source": [
    "#### 3D -Indexing\n"
   ]
  },
  {
   "cell_type": "code",
   "execution_count": null,
   "metadata": {
    "colab": {},
    "colab_type": "code",
    "id": "1JEiIb2G4ZDC"
   },
   "outputs": [],
   "source": [
    "l  = [[[2, 3, 6, 7], [4, 7, 8, 9], [7, 8, 9, 6]]]"
   ]
  },
  {
   "cell_type": "code",
   "execution_count": null,
   "metadata": {
    "colab": {},
    "colab_type": "code",
    "id": "Mw4d1W0c4ZDG"
   },
   "outputs": [],
   "source": [
    "arr_3d = np.array(l)"
   ]
  },
  {
   "cell_type": "code",
   "execution_count": null,
   "metadata": {
    "colab": {},
    "colab_type": "code",
    "id": "ow1kqJdX4ZDM",
    "outputId": "9b2f319c-1f4a-4594-93f5-a4e609961af6"
   },
   "outputs": [],
   "source": [
    "arr_3d"
   ]
  },
  {
   "cell_type": "code",
   "execution_count": null,
   "metadata": {
    "colab": {},
    "colab_type": "code",
    "id": "p4wlmWqM4ZDS",
    "outputId": "9c696893-f69b-4303-baeb-ccc33a9b5f8d"
   },
   "outputs": [],
   "source": [
    "arr_3d[0]"
   ]
  },
  {
   "cell_type": "code",
   "execution_count": null,
   "metadata": {
    "colab": {},
    "colab_type": "code",
    "id": "nLMD4HU14ZDY",
    "outputId": "df6b4152-54aa-45b0-862d-200cfc478d9a"
   },
   "outputs": [],
   "source": [
    "arr_3d[0][0]"
   ]
  },
  {
   "cell_type": "code",
   "execution_count": null,
   "metadata": {
    "colab": {},
    "colab_type": "code",
    "id": "NXYob90V4ZDe",
    "outputId": "4b602167-2f10-4a6a-cd34-b61969f69069"
   },
   "outputs": [],
   "source": [
    "arr_3d[0][0][0]"
   ]
  },
  {
   "cell_type": "code",
   "execution_count": null,
   "metadata": {
    "colab": {},
    "colab_type": "code",
    "id": "XXIm-aZj4ZDj",
    "outputId": "d4ec2ddc-e87c-49b7-8cf5-051b32218d03"
   },
   "outputs": [],
   "source": [
    "arr_3d[0][1][0]"
   ]
  },
  {
   "cell_type": "code",
   "execution_count": null,
   "metadata": {
    "colab": {},
    "colab_type": "code",
    "id": "hWAj5_Ue4ZDp",
    "outputId": "316c2aa2-d868-40d5-f9a7-2b8fcdf49f83"
   },
   "outputs": [],
   "source": [
    "arr_3d[0,1:3,1:3]"
   ]
  },
  {
   "cell_type": "markdown",
   "metadata": {
    "colab_type": "text",
    "id": "oQvns4Nk4ZDu"
   },
   "source": [
    "# Slicing : Accessing sub-arrays\n",
    "\n",
    "Access subarrays with the slice notation, marked by the colon (:) character.\n",
    "\n",
    "To access a slice of an array x, use this: **`x[start:stop:step]`**"
   ]
  },
  {
   "cell_type": "markdown",
   "metadata": {
    "colab_type": "text",
    "id": "TgNLPWOt4ZDv"
   },
   "source": [
    "## one dimensional subarrays "
   ]
  },
  {
   "cell_type": "code",
   "execution_count": 21,
   "metadata": {
    "colab": {},
    "colab_type": "code",
    "id": "Ycfuecv64ZDx"
   },
   "outputs": [],
   "source": [
    "x = np.array([5,7,8,9,3,5,1])"
   ]
  },
  {
   "cell_type": "code",
   "execution_count": 22,
   "metadata": {
    "colab": {},
    "colab_type": "code",
    "id": "58S9_XC34ZD3",
    "outputId": "552a5c2e-d850-448f-8886-83550b0f4a23"
   },
   "outputs": [
    {
     "data": {
      "text/plain": [
       "array([5, 7, 8, 9, 3, 5, 1])"
      ]
     },
     "execution_count": 22,
     "metadata": {},
     "output_type": "execute_result"
    }
   ],
   "source": [
    "x"
   ]
  },
  {
   "cell_type": "code",
   "execution_count": 23,
   "metadata": {
    "colab": {},
    "colab_type": "code",
    "id": "oURjE7p14ZEC",
    "outputId": "8a4c2e09-1902-488e-94aa-1070f042194f"
   },
   "outputs": [
    {
     "data": {
      "text/plain": [
       "array([5, 7, 8, 9, 3, 5, 1])"
      ]
     },
     "execution_count": 23,
     "metadata": {},
     "output_type": "execute_result"
    }
   ],
   "source": [
    "# All elements\n",
    "x[:]"
   ]
  },
  {
   "cell_type": "code",
   "execution_count": 24,
   "metadata": {
    "colab": {},
    "colab_type": "code",
    "id": "bUakm18i4ZEI",
    "outputId": "7db629ee-a4ea-42a7-b6e3-4a170e655729"
   },
   "outputs": [
    {
     "data": {
      "text/plain": [
       "array([5, 7, 8, 9, 3])"
      ]
     },
     "execution_count": 24,
     "metadata": {},
     "output_type": "execute_result"
    }
   ],
   "source": [
    "# first five elements\n",
    "x[:5]"
   ]
  },
  {
   "cell_type": "code",
   "execution_count": 25,
   "metadata": {
    "colab": {},
    "colab_type": "code",
    "id": "7wGtacnW4ZEP",
    "outputId": "36de13d5-ada5-4bf6-c75b-f110d0a7bd5b"
   },
   "outputs": [
    {
     "data": {
      "text/plain": [
       "array([8, 9, 3, 5, 1])"
      ]
     },
     "execution_count": 25,
     "metadata": {},
     "output_type": "execute_result"
    }
   ],
   "source": [
    "# elements after 2nd index\n",
    "x[2:]"
   ]
  },
  {
   "cell_type": "code",
   "execution_count": 26,
   "metadata": {
    "colab": {},
    "colab_type": "code",
    "id": "0prcD7PB4ZEV",
    "outputId": "a4d57491-ffbd-4bac-be7d-f5f6005774cd"
   },
   "outputs": [
    {
     "data": {
      "text/plain": [
       "array([8, 9, 3])"
      ]
     },
     "execution_count": 26,
     "metadata": {},
     "output_type": "execute_result"
    }
   ],
   "source": [
    "# sub-array from 2 to 5(exclusive)\n",
    "x[2:5]"
   ]
  },
  {
   "cell_type": "code",
   "execution_count": 27,
   "metadata": {
    "colab": {},
    "colab_type": "code",
    "id": "CJOnbcXQ4ZEe",
    "outputId": "918b02c9-c153-423a-b7f6-b65fcc8c957d"
   },
   "outputs": [
    {
     "data": {
      "text/plain": [
       "array([5, 7, 8, 9, 3, 5, 1])"
      ]
     },
     "execution_count": 27,
     "metadata": {},
     "output_type": "execute_result"
    }
   ],
   "source": [
    "x"
   ]
  },
  {
   "cell_type": "code",
   "execution_count": 29,
   "metadata": {},
   "outputs": [],
   "source": [
    "x = np.array([5,7,8,9,3,5,1])"
   ]
  },
  {
   "cell_type": "code",
   "execution_count": 30,
   "metadata": {},
   "outputs": [
    {
     "data": {
      "text/plain": [
       "array([5, 7, 8, 9, 3, 5, 1])"
      ]
     },
     "execution_count": 30,
     "metadata": {},
     "output_type": "execute_result"
    }
   ],
   "source": [
    "x"
   ]
  },
  {
   "cell_type": "code",
   "execution_count": 28,
   "metadata": {
    "colab": {},
    "colab_type": "code",
    "id": "vr-Yz8274ZEj",
    "outputId": "924a9c72-68dc-4846-ffe9-6a1c86ad1cae"
   },
   "outputs": [
    {
     "data": {
      "text/plain": [
       "array([5, 8, 3, 1])"
      ]
     },
     "execution_count": 28,
     "metadata": {},
     "output_type": "execute_result"
    }
   ],
   "source": [
    "# every 2nd or other element\n",
    "x[ 0: : 2]"
   ]
  },
  {
   "cell_type": "code",
   "execution_count": 31,
   "metadata": {},
   "outputs": [
    {
     "data": {
      "text/plain": [
       "array([5, 9, 1])"
      ]
     },
     "execution_count": 31,
     "metadata": {},
     "output_type": "execute_result"
    }
   ],
   "source": [
    "# every 2nd or other element\n",
    "x[ 0: : 3]"
   ]
  },
  {
   "cell_type": "code",
   "execution_count": 32,
   "metadata": {
    "colab": {},
    "colab_type": "code",
    "id": "K7bpLBkD4ZEn",
    "outputId": "aed1feed-c9ab-4d01-dea4-9c2a3d79f318"
   },
   "outputs": [
    {
     "data": {
      "text/plain": [
       "array([7, 9, 5])"
      ]
     },
     "execution_count": 32,
     "metadata": {},
     "output_type": "execute_result"
    }
   ],
   "source": [
    "# every other element starting from 1\n",
    "x[ 1: : 2]"
   ]
  },
  {
   "cell_type": "markdown",
   "metadata": {
    "colab_type": "text",
    "id": "WSbohfe_4ZEw"
   },
   "source": [
    "## Multidimensional sub-arrays\n",
    "\n",
    "Multidimensional slices work in the same way, with multiple slices separated by commas.\n",
    "\n",
    "**`x[ row_start:row_end:step  , col_start :col_end:step]`**"
   ]
  },
  {
   "cell_type": "code",
   "execution_count": 33,
   "metadata": {
    "colab": {},
    "colab_type": "code",
    "id": "uwsKcM014ZEz"
   },
   "outputs": [],
   "source": [
    "x = np.random.rand(5,5)"
   ]
  },
  {
   "cell_type": "code",
   "execution_count": 34,
   "metadata": {
    "colab": {},
    "colab_type": "code",
    "id": "7Jhp5ROJ4ZFA",
    "outputId": "0e17fdb3-a73f-4a99-e86d-d29e09eb81b4"
   },
   "outputs": [
    {
     "data": {
      "text/plain": [
       "array([[0.54652797, 0.40633134, 0.77859621, 0.94861105, 0.28138964],\n",
       "       [0.02150031, 0.91878831, 0.9862544 , 0.79396185, 0.71702492],\n",
       "       [0.0196022 , 0.13849138, 0.485424  , 0.81724517, 0.47817375],\n",
       "       [0.01241748, 0.42321807, 0.51992906, 0.98525609, 0.09036283],\n",
       "       [0.70274574, 0.41709622, 0.11730024, 0.78219315, 0.33692054]])"
      ]
     },
     "execution_count": 34,
     "metadata": {},
     "output_type": "execute_result"
    }
   ],
   "source": [
    "x"
   ]
  },
  {
   "cell_type": "code",
   "execution_count": 35,
   "metadata": {
    "colab": {},
    "colab_type": "code",
    "id": "jcBW6LZW4ZFF",
    "outputId": "e2830a1f-8f50-470d-c5e5-39f5208eac83"
   },
   "outputs": [
    {
     "data": {
      "text/plain": [
       "array([[0.54652797, 0.40633134, 0.77859621, 0.94861105, 0.28138964],\n",
       "       [0.02150031, 0.91878831, 0.9862544 , 0.79396185, 0.71702492],\n",
       "       [0.0196022 , 0.13849138, 0.485424  , 0.81724517, 0.47817375],\n",
       "       [0.01241748, 0.42321807, 0.51992906, 0.98525609, 0.09036283],\n",
       "       [0.70274574, 0.41709622, 0.11730024, 0.78219315, 0.33692054]])"
      ]
     },
     "execution_count": 35,
     "metadata": {},
     "output_type": "execute_result"
    }
   ],
   "source": [
    "x[:,:]"
   ]
  },
  {
   "cell_type": "code",
   "execution_count": 36,
   "metadata": {
    "colab": {},
    "colab_type": "code",
    "id": "oK_CY2Qp4ZFL",
    "outputId": "d76692d8-5c5b-4bd8-c4ef-9687aa25bad4"
   },
   "outputs": [
    {
     "data": {
      "text/plain": [
       "array([[0.02150031, 0.91878831, 0.9862544 , 0.79396185, 0.71702492],\n",
       "       [0.0196022 , 0.13849138, 0.485424  , 0.81724517, 0.47817375],\n",
       "       [0.01241748, 0.42321807, 0.51992906, 0.98525609, 0.09036283],\n",
       "       [0.70274574, 0.41709622, 0.11730024, 0.78219315, 0.33692054]])"
      ]
     },
     "execution_count": 36,
     "metadata": {},
     "output_type": "execute_result"
    }
   ],
   "source": [
    "x[1:]"
   ]
  },
  {
   "cell_type": "code",
   "execution_count": 37,
   "metadata": {
    "colab": {},
    "colab_type": "code",
    "id": "zPpahEC94ZFR",
    "outputId": "6d52a6a4-4bb2-44b1-c646-c4f282b0cb81",
    "scrolled": false
   },
   "outputs": [
    {
     "data": {
      "text/plain": [
       "array([[0.54652797, 0.40633134, 0.77859621, 0.94861105, 0.28138964],\n",
       "       [0.02150031, 0.91878831, 0.9862544 , 0.79396185, 0.71702492],\n",
       "       [0.0196022 , 0.13849138, 0.485424  , 0.81724517, 0.47817375],\n",
       "       [0.01241748, 0.42321807, 0.51992906, 0.98525609, 0.09036283],\n",
       "       [0.70274574, 0.41709622, 0.11730024, 0.78219315, 0.33692054]])"
      ]
     },
     "execution_count": 37,
     "metadata": {},
     "output_type": "execute_result"
    }
   ],
   "source": [
    "x[0: ]"
   ]
  },
  {
   "cell_type": "code",
   "execution_count": 38,
   "metadata": {
    "colab": {},
    "colab_type": "code",
    "id": "g-svOzn84ZFV",
    "outputId": "ae6226e6-9099-4f49-a2a0-c12722e99972",
    "scrolled": true
   },
   "outputs": [
    {
     "data": {
      "text/plain": [
       "array([[0.54652797, 0.40633134, 0.77859621],\n",
       "       [0.02150031, 0.91878831, 0.9862544 ],\n",
       "       [0.0196022 , 0.13849138, 0.485424  ],\n",
       "       [0.01241748, 0.42321807, 0.51992906],\n",
       "       [0.70274574, 0.41709622, 0.11730024]])"
      ]
     },
     "execution_count": 38,
     "metadata": {},
     "output_type": "execute_result"
    }
   ],
   "source": [
    "x[:,:3]"
   ]
  },
  {
   "cell_type": "code",
   "execution_count": 39,
   "metadata": {
    "colab": {},
    "colab_type": "code",
    "id": "45U3sksU4ZFh",
    "outputId": "79525b3d-773a-4a83-f42d-1f51efdabd9b",
    "scrolled": true
   },
   "outputs": [
    {
     "data": {
      "text/plain": [
       "array([[0.54652797, 0.40633134],\n",
       "       [0.02150031, 0.91878831],\n",
       "       [0.0196022 , 0.13849138],\n",
       "       [0.01241748, 0.42321807],\n",
       "       [0.70274574, 0.41709622]])"
      ]
     },
     "execution_count": 39,
     "metadata": {},
     "output_type": "execute_result"
    }
   ],
   "source": [
    "x[ :, 0:2]"
   ]
  },
  {
   "cell_type": "code",
   "execution_count": 40,
   "metadata": {
    "colab": {},
    "colab_type": "code",
    "id": "SfW9AnuT4ZFl",
    "outputId": "3e5c2545-b5f6-4ff4-92b3-3635701dad74"
   },
   "outputs": [
    {
     "data": {
      "text/plain": [
       "array([[0.54652797],\n",
       "       [0.02150031]])"
      ]
     },
     "execution_count": 40,
     "metadata": {},
     "output_type": "execute_result"
    }
   ],
   "source": [
    "x[ 0:2 ,  0:1 ]"
   ]
  },
  {
   "cell_type": "code",
   "execution_count": 41,
   "metadata": {
    "colab": {},
    "colab_type": "code",
    "id": "vG_6ZgGr4ZFo",
    "outputId": "82012184-d472-442a-b19d-f1f9872d8913"
   },
   "outputs": [
    {
     "data": {
      "text/plain": [
       "array([[0.91878831, 0.9862544 , 0.79396185, 0.71702492],\n",
       "       [0.13849138, 0.485424  , 0.81724517, 0.47817375],\n",
       "       [0.42321807, 0.51992906, 0.98525609, 0.09036283],\n",
       "       [0.41709622, 0.11730024, 0.78219315, 0.33692054]])"
      ]
     },
     "execution_count": 41,
     "metadata": {},
     "output_type": "execute_result"
    }
   ],
   "source": [
    "x[ 1: , 1: ]"
   ]
  },
  {
   "cell_type": "code",
   "execution_count": 42,
   "metadata": {
    "colab": {},
    "colab_type": "code",
    "id": "dbc7HDHu4ZFv",
    "outputId": "69a4e469-ea89-452f-d29f-5b76bc512f1f"
   },
   "outputs": [
    {
     "data": {
      "text/plain": [
       "array([[0.02150031, 0.91878831, 0.9862544 , 0.79396185, 0.71702492],\n",
       "       [0.0196022 , 0.13849138, 0.485424  , 0.81724517, 0.47817375],\n",
       "       [0.01241748, 0.42321807, 0.51992906, 0.98525609, 0.09036283],\n",
       "       [0.70274574, 0.41709622, 0.11730024, 0.78219315, 0.33692054]])"
      ]
     },
     "execution_count": 42,
     "metadata": {},
     "output_type": "execute_result"
    }
   ],
   "source": [
    "x[ 1:]"
   ]
  },
  {
   "cell_type": "code",
   "execution_count": 43,
   "metadata": {
    "colab": {},
    "colab_type": "code",
    "id": "JZiBdBxf4ZF3",
    "outputId": "bbceeb9b-f187-4cc5-de5a-b48598c65ffc"
   },
   "outputs": [
    {
     "data": {
      "text/plain": [
       "array([[0.02150031, 0.91878831],\n",
       "       [0.0196022 , 0.13849138],\n",
       "       [0.01241748, 0.42321807],\n",
       "       [0.70274574, 0.41709622]])"
      ]
     },
     "execution_count": 43,
     "metadata": {},
     "output_type": "execute_result"
    }
   ],
   "source": [
    "x[ 1:, :2]"
   ]
  },
  {
   "cell_type": "code",
   "execution_count": 44,
   "metadata": {
    "colab": {},
    "colab_type": "code",
    "id": "lioXwN0C4ZGA",
    "outputId": "69c00d85-71e7-461b-c408-b87cedd66778"
   },
   "outputs": [
    {
     "data": {
      "text/plain": [
       "array([[0.9862544 , 0.79396185, 0.71702492],\n",
       "       [0.485424  , 0.81724517, 0.47817375],\n",
       "       [0.51992906, 0.98525609, 0.09036283],\n",
       "       [0.11730024, 0.78219315, 0.33692054]])"
      ]
     },
     "execution_count": 44,
     "metadata": {},
     "output_type": "execute_result"
    }
   ],
   "source": [
    "x[ 1:,2:]"
   ]
  },
  {
   "cell_type": "code",
   "execution_count": 45,
   "metadata": {
    "colab": {},
    "colab_type": "code",
    "id": "dm6swcS44ZGF",
    "outputId": "9f58f671-84ef-406b-b6b7-21199dcd6195"
   },
   "outputs": [
    {
     "data": {
      "text/plain": [
       "array([[0.54652797, 0.40633134, 0.77859621, 0.94861105, 0.28138964],\n",
       "       [0.02150031, 0.91878831, 0.9862544 , 0.79396185, 0.71702492],\n",
       "       [0.0196022 , 0.13849138, 0.485424  , 0.81724517, 0.47817375],\n",
       "       [0.01241748, 0.42321807, 0.51992906, 0.98525609, 0.09036283],\n",
       "       [0.70274574, 0.41709622, 0.11730024, 0.78219315, 0.33692054]])"
      ]
     },
     "execution_count": 45,
     "metadata": {},
     "output_type": "execute_result"
    }
   ],
   "source": [
    "x"
   ]
  },
  {
   "cell_type": "code",
   "execution_count": 46,
   "metadata": {
    "colab": {},
    "colab_type": "code",
    "id": "6ctxjAvT4ZGI",
    "outputId": "18e7c870-3f21-45d1-e468-76bd6870f4ee"
   },
   "outputs": [
    {
     "data": {
      "text/plain": [
       "array([[0.485424  , 0.81724517, 0.47817375],\n",
       "       [0.51992906, 0.98525609, 0.09036283],\n",
       "       [0.11730024, 0.78219315, 0.33692054]])"
      ]
     },
     "execution_count": 46,
     "metadata": {},
     "output_type": "execute_result"
    }
   ],
   "source": [
    "x[ 2:,2:]"
   ]
  },
  {
   "cell_type": "code",
   "execution_count": 47,
   "metadata": {
    "colab": {},
    "colab_type": "code",
    "id": "NRl6PS9N4ZGL",
    "outputId": "ca1471cf-ef07-4467-a685-5a41bd120876"
   },
   "outputs": [
    {
     "data": {
      "text/plain": [
       "array([[0.13849138, 0.485424  ],\n",
       "       [0.42321807, 0.51992906],\n",
       "       [0.41709622, 0.11730024]])"
      ]
     },
     "execution_count": 47,
     "metadata": {},
     "output_type": "execute_result"
    }
   ],
   "source": [
    "x[2:,1:3]"
   ]
  },
  {
   "cell_type": "code",
   "execution_count": 48,
   "metadata": {
    "colab": {},
    "colab_type": "code",
    "id": "hIt3deUX4ZGP",
    "outputId": "19581dc4-8e84-4132-95d1-8d23354193ff"
   },
   "outputs": [
    {
     "data": {
      "text/plain": [
       "array([[0.0196022 ],\n",
       "       [0.01241748],\n",
       "       [0.70274574]])"
      ]
     },
     "execution_count": 48,
     "metadata": {},
     "output_type": "execute_result"
    }
   ],
   "source": [
    "x[2:, : 1]"
   ]
  },
  {
   "cell_type": "code",
   "execution_count": 58,
   "metadata": {},
   "outputs": [
    {
     "data": {
      "text/plain": [
       "array([[0.54652797, 0.40633134, 0.77859621, 0.94861105, 0.28138964],\n",
       "       [0.02150031, 0.91878831, 0.9862544 , 0.79396185, 0.71702492],\n",
       "       [0.0196022 , 0.13849138, 0.485424  , 0.81724517, 0.47817375],\n",
       "       [0.01241748, 0.42321807, 0.51992906, 0.98525609, 0.09036283],\n",
       "       [0.70274574, 0.41709622, 0.11730024, 0.78219315, 0.33692054]])"
      ]
     },
     "execution_count": 58,
     "metadata": {},
     "output_type": "execute_result"
    }
   ],
   "source": [
    "x"
   ]
  },
  {
   "cell_type": "code",
   "execution_count": null,
   "metadata": {},
   "outputs": [],
   "source": []
  },
  {
   "cell_type": "code",
   "execution_count": 61,
   "metadata": {},
   "outputs": [
    {
     "data": {
      "text/plain": [
       "array([[0.54652797, 0.40633134],\n",
       "       [0.02150031, 0.91878831],\n",
       "       [0.0196022 , 0.13849138],\n",
       "       [0.01241748, 0.42321807],\n",
       "       [0.70274574, 0.41709622]])"
      ]
     },
     "execution_count": 61,
     "metadata": {},
     "output_type": "execute_result"
    }
   ],
   "source": [
    "x[ :, 0 : 2]"
   ]
  },
  {
   "cell_type": "code",
   "execution_count": 60,
   "metadata": {},
   "outputs": [
    {
     "ename": "SyntaxError",
     "evalue": "invalid syntax (<ipython-input-60-dcddbffb31fc>, line 1)",
     "output_type": "error",
     "traceback": [
      "\u001b[1;36m  File \u001b[1;32m\"<ipython-input-60-dcddbffb31fc>\"\u001b[1;36m, line \u001b[1;32m1\u001b[0m\n\u001b[1;33m    x[,0:2]\u001b[0m\n\u001b[1;37m      ^\u001b[0m\n\u001b[1;31mSyntaxError\u001b[0m\u001b[1;31m:\u001b[0m invalid syntax\n"
     ]
    }
   ],
   "source": [
    "x[,0:2]"
   ]
  },
  {
   "cell_type": "code",
   "execution_count": null,
   "metadata": {},
   "outputs": [],
   "source": []
  },
  {
   "cell_type": "code",
   "execution_count": 49,
   "metadata": {
    "colab": {},
    "colab_type": "code",
    "id": "qWutIW7i4ZGT",
    "outputId": "f23454fa-bd48-4f2a-a625-1ec843c7593c",
    "scrolled": true
   },
   "outputs": [
    {
     "data": {
      "text/plain": [
       "array([[0.54652797, 0.40633134, 0.77859621, 0.94861105, 0.28138964],\n",
       "       [0.02150031, 0.91878831, 0.9862544 , 0.79396185, 0.71702492]])"
      ]
     },
     "execution_count": 49,
     "metadata": {},
     "output_type": "execute_result"
    }
   ],
   "source": [
    "x[ : 2]"
   ]
  },
  {
   "cell_type": "code",
   "execution_count": 50,
   "metadata": {
    "colab": {},
    "colab_type": "code",
    "id": "tb7ixzyP4ZGX",
    "outputId": "2e3ce4cf-e7af-4bcb-e779-a00804696bd8"
   },
   "outputs": [
    {
     "data": {
      "text/plain": [
       "array([[0.91878831]])"
      ]
     },
     "execution_count": 50,
     "metadata": {},
     "output_type": "execute_result"
    }
   ],
   "source": [
    "x[ 1:2 , 1:2]"
   ]
  },
  {
   "cell_type": "code",
   "execution_count": 51,
   "metadata": {
    "colab": {},
    "colab_type": "code",
    "id": "J7IqKaAL4ZGa",
    "outputId": "b3e313ed-9679-49b2-c4e8-8c4b3ec41dfe"
   },
   "outputs": [
    {
     "data": {
      "text/plain": [
       "array([[0.54652797, 0.40633134, 0.77859621, 0.94861105, 0.28138964],\n",
       "       [0.02150031, 0.91878831, 0.9862544 , 0.79396185, 0.71702492],\n",
       "       [0.0196022 , 0.13849138, 0.485424  , 0.81724517, 0.47817375],\n",
       "       [0.01241748, 0.42321807, 0.51992906, 0.98525609, 0.09036283],\n",
       "       [0.70274574, 0.41709622, 0.11730024, 0.78219315, 0.33692054]])"
      ]
     },
     "execution_count": 51,
     "metadata": {},
     "output_type": "execute_result"
    }
   ],
   "source": [
    "x"
   ]
  },
  {
   "cell_type": "code",
   "execution_count": 52,
   "metadata": {
    "colab": {},
    "colab_type": "code",
    "id": "A6OThlxj4ZGj",
    "outputId": "d896c986-fd9d-4179-fb64-c1e66769fef2"
   },
   "outputs": [
    {
     "data": {
      "text/plain": [
       "array([[0.9862544]])"
      ]
     },
     "execution_count": 52,
     "metadata": {},
     "output_type": "execute_result"
    }
   ],
   "source": [
    "x[1:2,2:3]"
   ]
  },
  {
   "cell_type": "code",
   "execution_count": 53,
   "metadata": {},
   "outputs": [
    {
     "data": {
      "text/plain": [
       "array([[0.54652797, 0.40633134, 0.77859621, 0.94861105, 0.28138964],\n",
       "       [0.02150031, 0.91878831, 0.9862544 , 0.79396185, 0.71702492],\n",
       "       [0.0196022 , 0.13849138, 0.485424  , 0.81724517, 0.47817375],\n",
       "       [0.01241748, 0.42321807, 0.51992906, 0.98525609, 0.09036283],\n",
       "       [0.70274574, 0.41709622, 0.11730024, 0.78219315, 0.33692054]])"
      ]
     },
     "execution_count": 53,
     "metadata": {},
     "output_type": "execute_result"
    }
   ],
   "source": [
    "x"
   ]
  },
  {
   "cell_type": "code",
   "execution_count": 54,
   "metadata": {
    "colab": {},
    "colab_type": "code",
    "id": "_XHyMH1A4ZGo",
    "outputId": "3212909f-4723-48ec-e7f6-ee3509bb451d"
   },
   "outputs": [
    {
     "data": {
      "text/plain": [
       "array([[0.54652797, 0.77859621, 0.28138964],\n",
       "       [0.0196022 , 0.485424  , 0.47817375],\n",
       "       [0.70274574, 0.11730024, 0.33692054]])"
      ]
     },
     "execution_count": 54,
     "metadata": {},
     "output_type": "execute_result"
    }
   ],
   "source": [
    "x[ ::2,::2 ]"
   ]
  },
  {
   "cell_type": "code",
   "execution_count": 55,
   "metadata": {
    "colab": {},
    "colab_type": "code",
    "id": "BLaMjPzR4ZG3"
   },
   "outputs": [
    {
     "data": {
      "text/plain": [
       "array([[0.54652797, 0.40633134, 0.77859621, 0.94861105, 0.28138964],\n",
       "       [0.02150031, 0.91878831, 0.9862544 , 0.79396185, 0.71702492],\n",
       "       [0.0196022 , 0.13849138, 0.485424  , 0.81724517, 0.47817375],\n",
       "       [0.01241748, 0.42321807, 0.51992906, 0.98525609, 0.09036283],\n",
       "       [0.70274574, 0.41709622, 0.11730024, 0.78219315, 0.33692054]])"
      ]
     },
     "execution_count": 55,
     "metadata": {},
     "output_type": "execute_result"
    }
   ],
   "source": [
    "x[ ::1, ::1]"
   ]
  },
  {
   "cell_type": "code",
   "execution_count": 56,
   "metadata": {
    "colab": {},
    "colab_type": "code",
    "id": "UheYeDfn4ZG_"
   },
   "outputs": [
    {
     "data": {
      "text/plain": [
       "array([[0.54652797, 0.40633134, 0.77859621, 0.94861105, 0.28138964],\n",
       "       [0.02150031, 0.91878831, 0.9862544 , 0.79396185, 0.71702492],\n",
       "       [0.0196022 , 0.13849138, 0.485424  , 0.81724517, 0.47817375],\n",
       "       [0.01241748, 0.42321807, 0.51992906, 0.98525609, 0.09036283],\n",
       "       [0.70274574, 0.41709622, 0.11730024, 0.78219315, 0.33692054]])"
      ]
     },
     "execution_count": 56,
     "metadata": {},
     "output_type": "execute_result"
    }
   ],
   "source": [
    "x[ : ]"
   ]
  },
  {
   "cell_type": "code",
   "execution_count": 57,
   "metadata": {
    "colab": {},
    "colab_type": "code",
    "id": "Ajk_zRG74ZHF"
   },
   "outputs": [
    {
     "data": {
      "text/plain": [
       "array([[0.0196022 , 0.13849138, 0.485424  , 0.81724517, 0.47817375]])"
      ]
     },
     "execution_count": 57,
     "metadata": {},
     "output_type": "execute_result"
    }
   ],
   "source": [
    "x[ 2:3 ]"
   ]
  },
  {
   "cell_type": "code",
   "execution_count": 62,
   "metadata": {
    "colab": {},
    "colab_type": "code",
    "id": "YbkX9ZRU4ZHK"
   },
   "outputs": [
    {
     "data": {
      "text/plain": [
       "array([[0.13849138]])"
      ]
     },
     "execution_count": 62,
     "metadata": {},
     "output_type": "execute_result"
    }
   ],
   "source": [
    "x[ 2:3, 1:2 ]"
   ]
  },
  {
   "cell_type": "code",
   "execution_count": null,
   "metadata": {},
   "outputs": [],
   "source": []
  }
 ],
 "metadata": {
  "colab": {
   "name": "02-Indexing and Slicing.ipynb",
   "provenance": []
  },
  "kernelspec": {
   "display_name": "Python 3 (ipykernel)",
   "language": "python",
   "name": "python3"
  },
  "language_info": {
   "codemirror_mode": {
    "name": "ipython",
    "version": 3
   },
   "file_extension": ".py",
   "mimetype": "text/x-python",
   "name": "python",
   "nbconvert_exporter": "python",
   "pygments_lexer": "ipython3",
   "version": "3.9.7"
  }
 },
 "nbformat": 4,
 "nbformat_minor": 1
}
