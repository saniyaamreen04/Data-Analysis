{
 "cells": [
  {
   "cell_type": "markdown",
   "id": "153d2470",
   "metadata": {},
   "source": [
    "# Support Vector Machine"
   ]
  },
  {
   "cell_type": "markdown",
   "id": "584063c7",
   "metadata": {},
   "source": [
    "SVM is An advanced ML Model, USed for both\n",
    "    - Regression\n",
    "    - Classification.\n",
    "    \n",
    "Note: SVM is mostly used for classification models.\n",
    "    \n",
    "SVM will draw a hyperplane in 3D space."
   ]
  },
  {
   "cell_type": "code",
   "execution_count": 1,
   "id": "d5d3f33a",
   "metadata": {},
   "outputs": [],
   "source": [
    "import numpy as np\n",
    "import pandas as pd\n",
    "\n",
    "import matplotlib.pyplot as plt\n",
    "import seaborn as sb\n",
    "\n",
    "%matplotlib inline"
   ]
  },
  {
   "cell_type": "code",
   "execution_count": 2,
   "id": "9f5fb623",
   "metadata": {},
   "outputs": [],
   "source": [
    "house = pd.read_csv(\"USA_Housing.csv\")"
   ]
  },
  {
   "cell_type": "code",
   "execution_count": 3,
   "id": "5a7a879b",
   "metadata": {},
   "outputs": [
    {
     "data": {
      "text/html": [
       "<div>\n",
       "<style scoped>\n",
       "    .dataframe tbody tr th:only-of-type {\n",
       "        vertical-align: middle;\n",
       "    }\n",
       "\n",
       "    .dataframe tbody tr th {\n",
       "        vertical-align: top;\n",
       "    }\n",
       "\n",
       "    .dataframe thead th {\n",
       "        text-align: right;\n",
       "    }\n",
       "</style>\n",
       "<table border=\"1\" class=\"dataframe\">\n",
       "  <thead>\n",
       "    <tr style=\"text-align: right;\">\n",
       "      <th></th>\n",
       "      <th>Avg. Area Income</th>\n",
       "      <th>Avg. Area House Age</th>\n",
       "      <th>Avg. Area Number of Rooms</th>\n",
       "      <th>Avg. Area Number of Bedrooms</th>\n",
       "      <th>Area Population</th>\n",
       "      <th>Price</th>\n",
       "      <th>Address</th>\n",
       "    </tr>\n",
       "  </thead>\n",
       "  <tbody>\n",
       "    <tr>\n",
       "      <th>0</th>\n",
       "      <td>79545.45857</td>\n",
       "      <td>5.682861</td>\n",
       "      <td>7.009188</td>\n",
       "      <td>4.09</td>\n",
       "      <td>23086.80050</td>\n",
       "      <td>1.059034e+06</td>\n",
       "      <td>208 Michael Ferry Apt. 674\\nLaurabury, NE 3701...</td>\n",
       "    </tr>\n",
       "    <tr>\n",
       "      <th>1</th>\n",
       "      <td>79248.64245</td>\n",
       "      <td>6.002900</td>\n",
       "      <td>6.730821</td>\n",
       "      <td>3.09</td>\n",
       "      <td>40173.07217</td>\n",
       "      <td>1.505891e+06</td>\n",
       "      <td>188 Johnson Views Suite 079\\nLake Kathleen, CA...</td>\n",
       "    </tr>\n",
       "    <tr>\n",
       "      <th>2</th>\n",
       "      <td>61287.06718</td>\n",
       "      <td>5.865890</td>\n",
       "      <td>8.512727</td>\n",
       "      <td>5.13</td>\n",
       "      <td>36882.15940</td>\n",
       "      <td>1.058988e+06</td>\n",
       "      <td>9127 Elizabeth Stravenue\\nDanieltown, WI 06482...</td>\n",
       "    </tr>\n",
       "    <tr>\n",
       "      <th>3</th>\n",
       "      <td>63345.24005</td>\n",
       "      <td>7.188236</td>\n",
       "      <td>5.586729</td>\n",
       "      <td>3.26</td>\n",
       "      <td>34310.24283</td>\n",
       "      <td>1.260617e+06</td>\n",
       "      <td>USS Barnett\\nFPO AP 44820</td>\n",
       "    </tr>\n",
       "    <tr>\n",
       "      <th>4</th>\n",
       "      <td>59982.19723</td>\n",
       "      <td>5.040555</td>\n",
       "      <td>7.839388</td>\n",
       "      <td>4.23</td>\n",
       "      <td>26354.10947</td>\n",
       "      <td>6.309435e+05</td>\n",
       "      <td>USNS Raymond\\nFPO AE 09386</td>\n",
       "    </tr>\n",
       "  </tbody>\n",
       "</table>\n",
       "</div>"
      ],
      "text/plain": [
       "   Avg. Area Income  Avg. Area House Age  Avg. Area Number of Rooms  \\\n",
       "0       79545.45857             5.682861                   7.009188   \n",
       "1       79248.64245             6.002900                   6.730821   \n",
       "2       61287.06718             5.865890                   8.512727   \n",
       "3       63345.24005             7.188236                   5.586729   \n",
       "4       59982.19723             5.040555                   7.839388   \n",
       "\n",
       "   Avg. Area Number of Bedrooms  Area Population         Price  \\\n",
       "0                          4.09      23086.80050  1.059034e+06   \n",
       "1                          3.09      40173.07217  1.505891e+06   \n",
       "2                          5.13      36882.15940  1.058988e+06   \n",
       "3                          3.26      34310.24283  1.260617e+06   \n",
       "4                          4.23      26354.10947  6.309435e+05   \n",
       "\n",
       "                                             Address  \n",
       "0  208 Michael Ferry Apt. 674\\nLaurabury, NE 3701...  \n",
       "1  188 Johnson Views Suite 079\\nLake Kathleen, CA...  \n",
       "2  9127 Elizabeth Stravenue\\nDanieltown, WI 06482...  \n",
       "3                          USS Barnett\\nFPO AP 44820  \n",
       "4                         USNS Raymond\\nFPO AE 09386  "
      ]
     },
     "execution_count": 3,
     "metadata": {},
     "output_type": "execute_result"
    }
   ],
   "source": [
    "house.head()"
   ]
  },
  {
   "cell_type": "code",
   "execution_count": 4,
   "id": "58ca6613",
   "metadata": {},
   "outputs": [
    {
     "name": "stdout",
     "output_type": "stream",
     "text": [
      "<class 'pandas.core.frame.DataFrame'>\n",
      "RangeIndex: 5000 entries, 0 to 4999\n",
      "Data columns (total 7 columns):\n",
      " #   Column                        Non-Null Count  Dtype  \n",
      "---  ------                        --------------  -----  \n",
      " 0   Avg. Area Income              5000 non-null   float64\n",
      " 1   Avg. Area House Age           5000 non-null   float64\n",
      " 2   Avg. Area Number of Rooms     5000 non-null   float64\n",
      " 3   Avg. Area Number of Bedrooms  5000 non-null   float64\n",
      " 4   Area Population               5000 non-null   float64\n",
      " 5   Price                         5000 non-null   float64\n",
      " 6   Address                       5000 non-null   object \n",
      "dtypes: float64(6), object(1)\n",
      "memory usage: 273.6+ KB\n"
     ]
    }
   ],
   "source": [
    "house.info()"
   ]
  },
  {
   "cell_type": "code",
   "execution_count": 5,
   "id": "8e68b0c2",
   "metadata": {},
   "outputs": [
    {
     "data": {
      "text/html": [
       "<div>\n",
       "<style scoped>\n",
       "    .dataframe tbody tr th:only-of-type {\n",
       "        vertical-align: middle;\n",
       "    }\n",
       "\n",
       "    .dataframe tbody tr th {\n",
       "        vertical-align: top;\n",
       "    }\n",
       "\n",
       "    .dataframe thead th {\n",
       "        text-align: right;\n",
       "    }\n",
       "</style>\n",
       "<table border=\"1\" class=\"dataframe\">\n",
       "  <thead>\n",
       "    <tr style=\"text-align: right;\">\n",
       "      <th></th>\n",
       "      <th>Avg. Area Income</th>\n",
       "      <th>Avg. Area House Age</th>\n",
       "      <th>Avg. Area Number of Rooms</th>\n",
       "      <th>Avg. Area Number of Bedrooms</th>\n",
       "      <th>Area Population</th>\n",
       "      <th>Price</th>\n",
       "    </tr>\n",
       "  </thead>\n",
       "  <tbody>\n",
       "    <tr>\n",
       "      <th>count</th>\n",
       "      <td>5000.000000</td>\n",
       "      <td>5000.000000</td>\n",
       "      <td>5000.000000</td>\n",
       "      <td>5000.000000</td>\n",
       "      <td>5000.000000</td>\n",
       "      <td>5.000000e+03</td>\n",
       "    </tr>\n",
       "    <tr>\n",
       "      <th>mean</th>\n",
       "      <td>68583.108984</td>\n",
       "      <td>5.977222</td>\n",
       "      <td>6.987792</td>\n",
       "      <td>3.981330</td>\n",
       "      <td>36163.516039</td>\n",
       "      <td>1.232073e+06</td>\n",
       "    </tr>\n",
       "    <tr>\n",
       "      <th>std</th>\n",
       "      <td>10657.991214</td>\n",
       "      <td>0.991456</td>\n",
       "      <td>1.005833</td>\n",
       "      <td>1.234137</td>\n",
       "      <td>9925.650114</td>\n",
       "      <td>3.531176e+05</td>\n",
       "    </tr>\n",
       "    <tr>\n",
       "      <th>min</th>\n",
       "      <td>17796.631190</td>\n",
       "      <td>2.644304</td>\n",
       "      <td>3.236194</td>\n",
       "      <td>2.000000</td>\n",
       "      <td>172.610686</td>\n",
       "      <td>1.593866e+04</td>\n",
       "    </tr>\n",
       "    <tr>\n",
       "      <th>25%</th>\n",
       "      <td>61480.562390</td>\n",
       "      <td>5.322283</td>\n",
       "      <td>6.299250</td>\n",
       "      <td>3.140000</td>\n",
       "      <td>29403.928700</td>\n",
       "      <td>9.975771e+05</td>\n",
       "    </tr>\n",
       "    <tr>\n",
       "      <th>50%</th>\n",
       "      <td>68804.286405</td>\n",
       "      <td>5.970429</td>\n",
       "      <td>7.002902</td>\n",
       "      <td>4.050000</td>\n",
       "      <td>36199.406690</td>\n",
       "      <td>1.232669e+06</td>\n",
       "    </tr>\n",
       "    <tr>\n",
       "      <th>75%</th>\n",
       "      <td>75783.338665</td>\n",
       "      <td>6.650808</td>\n",
       "      <td>7.665871</td>\n",
       "      <td>4.490000</td>\n",
       "      <td>42861.290770</td>\n",
       "      <td>1.471210e+06</td>\n",
       "    </tr>\n",
       "    <tr>\n",
       "      <th>max</th>\n",
       "      <td>107701.748400</td>\n",
       "      <td>9.519088</td>\n",
       "      <td>10.759588</td>\n",
       "      <td>6.500000</td>\n",
       "      <td>69621.713380</td>\n",
       "      <td>2.469066e+06</td>\n",
       "    </tr>\n",
       "  </tbody>\n",
       "</table>\n",
       "</div>"
      ],
      "text/plain": [
       "       Avg. Area Income  Avg. Area House Age  Avg. Area Number of Rooms  \\\n",
       "count       5000.000000          5000.000000                5000.000000   \n",
       "mean       68583.108984             5.977222                   6.987792   \n",
       "std        10657.991214             0.991456                   1.005833   \n",
       "min        17796.631190             2.644304                   3.236194   \n",
       "25%        61480.562390             5.322283                   6.299250   \n",
       "50%        68804.286405             5.970429                   7.002902   \n",
       "75%        75783.338665             6.650808                   7.665871   \n",
       "max       107701.748400             9.519088                  10.759588   \n",
       "\n",
       "       Avg. Area Number of Bedrooms  Area Population         Price  \n",
       "count                   5000.000000      5000.000000  5.000000e+03  \n",
       "mean                       3.981330     36163.516039  1.232073e+06  \n",
       "std                        1.234137      9925.650114  3.531176e+05  \n",
       "min                        2.000000       172.610686  1.593866e+04  \n",
       "25%                        3.140000     29403.928700  9.975771e+05  \n",
       "50%                        4.050000     36199.406690  1.232669e+06  \n",
       "75%                        4.490000     42861.290770  1.471210e+06  \n",
       "max                        6.500000     69621.713380  2.469066e+06  "
      ]
     },
     "execution_count": 5,
     "metadata": {},
     "output_type": "execute_result"
    }
   ],
   "source": [
    "house.describe()"
   ]
  },
  {
   "cell_type": "code",
   "execution_count": 6,
   "id": "183ede71",
   "metadata": {},
   "outputs": [
    {
     "data": {
      "text/plain": [
       "0       1.059034e+06\n",
       "1       1.505891e+06\n",
       "2       1.058988e+06\n",
       "3       1.260617e+06\n",
       "4       6.309435e+05\n",
       "            ...     \n",
       "4995    1.060194e+06\n",
       "4996    1.482618e+06\n",
       "4997    1.030730e+06\n",
       "4998    1.198657e+06\n",
       "4999    1.298950e+06\n",
       "Name: Price, Length: 5000, dtype: float64"
      ]
     },
     "execution_count": 6,
     "metadata": {},
     "output_type": "execute_result"
    }
   ],
   "source": [
    "house['Price']"
   ]
  },
  {
   "cell_type": "code",
   "execution_count": 7,
   "id": "986f9e5c",
   "metadata": {},
   "outputs": [],
   "source": [
    "house['Avg. Area Number of Bedrooms'] = house['Avg. Area Number of Bedrooms'].astype(int)"
   ]
  },
  {
   "cell_type": "code",
   "execution_count": 8,
   "id": "eaba1847",
   "metadata": {},
   "outputs": [],
   "source": [
    "house['Avg. Area Number of Rooms'] = house['Avg. Area Number of Rooms'].astype(int)"
   ]
  },
  {
   "cell_type": "code",
   "execution_count": 9,
   "id": "7df43a81",
   "metadata": {},
   "outputs": [
    {
     "data": {
      "text/html": [
       "<div>\n",
       "<style scoped>\n",
       "    .dataframe tbody tr th:only-of-type {\n",
       "        vertical-align: middle;\n",
       "    }\n",
       "\n",
       "    .dataframe tbody tr th {\n",
       "        vertical-align: top;\n",
       "    }\n",
       "\n",
       "    .dataframe thead th {\n",
       "        text-align: right;\n",
       "    }\n",
       "</style>\n",
       "<table border=\"1\" class=\"dataframe\">\n",
       "  <thead>\n",
       "    <tr style=\"text-align: right;\">\n",
       "      <th></th>\n",
       "      <th>Avg. Area Income</th>\n",
       "      <th>Avg. Area House Age</th>\n",
       "      <th>Avg. Area Number of Rooms</th>\n",
       "      <th>Avg. Area Number of Bedrooms</th>\n",
       "      <th>Area Population</th>\n",
       "      <th>Price</th>\n",
       "      <th>Address</th>\n",
       "    </tr>\n",
       "  </thead>\n",
       "  <tbody>\n",
       "    <tr>\n",
       "      <th>0</th>\n",
       "      <td>79545.45857</td>\n",
       "      <td>5.682861</td>\n",
       "      <td>7</td>\n",
       "      <td>4</td>\n",
       "      <td>23086.80050</td>\n",
       "      <td>1.059034e+06</td>\n",
       "      <td>208 Michael Ferry Apt. 674\\nLaurabury, NE 3701...</td>\n",
       "    </tr>\n",
       "    <tr>\n",
       "      <th>1</th>\n",
       "      <td>79248.64245</td>\n",
       "      <td>6.002900</td>\n",
       "      <td>6</td>\n",
       "      <td>3</td>\n",
       "      <td>40173.07217</td>\n",
       "      <td>1.505891e+06</td>\n",
       "      <td>188 Johnson Views Suite 079\\nLake Kathleen, CA...</td>\n",
       "    </tr>\n",
       "    <tr>\n",
       "      <th>2</th>\n",
       "      <td>61287.06718</td>\n",
       "      <td>5.865890</td>\n",
       "      <td>8</td>\n",
       "      <td>5</td>\n",
       "      <td>36882.15940</td>\n",
       "      <td>1.058988e+06</td>\n",
       "      <td>9127 Elizabeth Stravenue\\nDanieltown, WI 06482...</td>\n",
       "    </tr>\n",
       "    <tr>\n",
       "      <th>3</th>\n",
       "      <td>63345.24005</td>\n",
       "      <td>7.188236</td>\n",
       "      <td>5</td>\n",
       "      <td>3</td>\n",
       "      <td>34310.24283</td>\n",
       "      <td>1.260617e+06</td>\n",
       "      <td>USS Barnett\\nFPO AP 44820</td>\n",
       "    </tr>\n",
       "    <tr>\n",
       "      <th>4</th>\n",
       "      <td>59982.19723</td>\n",
       "      <td>5.040555</td>\n",
       "      <td>7</td>\n",
       "      <td>4</td>\n",
       "      <td>26354.10947</td>\n",
       "      <td>6.309435e+05</td>\n",
       "      <td>USNS Raymond\\nFPO AE 09386</td>\n",
       "    </tr>\n",
       "  </tbody>\n",
       "</table>\n",
       "</div>"
      ],
      "text/plain": [
       "   Avg. Area Income  Avg. Area House Age  Avg. Area Number of Rooms  \\\n",
       "0       79545.45857             5.682861                          7   \n",
       "1       79248.64245             6.002900                          6   \n",
       "2       61287.06718             5.865890                          8   \n",
       "3       63345.24005             7.188236                          5   \n",
       "4       59982.19723             5.040555                          7   \n",
       "\n",
       "   Avg. Area Number of Bedrooms  Area Population         Price  \\\n",
       "0                             4      23086.80050  1.059034e+06   \n",
       "1                             3      40173.07217  1.505891e+06   \n",
       "2                             5      36882.15940  1.058988e+06   \n",
       "3                             3      34310.24283  1.260617e+06   \n",
       "4                             4      26354.10947  6.309435e+05   \n",
       "\n",
       "                                             Address  \n",
       "0  208 Michael Ferry Apt. 674\\nLaurabury, NE 3701...  \n",
       "1  188 Johnson Views Suite 079\\nLake Kathleen, CA...  \n",
       "2  9127 Elizabeth Stravenue\\nDanieltown, WI 06482...  \n",
       "3                          USS Barnett\\nFPO AP 44820  \n",
       "4                         USNS Raymond\\nFPO AE 09386  "
      ]
     },
     "execution_count": 9,
     "metadata": {},
     "output_type": "execute_result"
    }
   ],
   "source": [
    "house.head()"
   ]
  },
  {
   "cell_type": "code",
   "execution_count": 10,
   "id": "827c157b",
   "metadata": {},
   "outputs": [],
   "source": [
    "house['Area Population'] = house['Area Population'].astype(int)"
   ]
  },
  {
   "cell_type": "code",
   "execution_count": 11,
   "id": "189bd7e9",
   "metadata": {},
   "outputs": [
    {
     "data": {
      "text/html": [
       "<div>\n",
       "<style scoped>\n",
       "    .dataframe tbody tr th:only-of-type {\n",
       "        vertical-align: middle;\n",
       "    }\n",
       "\n",
       "    .dataframe tbody tr th {\n",
       "        vertical-align: top;\n",
       "    }\n",
       "\n",
       "    .dataframe thead th {\n",
       "        text-align: right;\n",
       "    }\n",
       "</style>\n",
       "<table border=\"1\" class=\"dataframe\">\n",
       "  <thead>\n",
       "    <tr style=\"text-align: right;\">\n",
       "      <th></th>\n",
       "      <th>Avg. Area Income</th>\n",
       "      <th>Avg. Area House Age</th>\n",
       "      <th>Avg. Area Number of Rooms</th>\n",
       "      <th>Avg. Area Number of Bedrooms</th>\n",
       "      <th>Area Population</th>\n",
       "      <th>Price</th>\n",
       "      <th>Address</th>\n",
       "    </tr>\n",
       "  </thead>\n",
       "  <tbody>\n",
       "    <tr>\n",
       "      <th>0</th>\n",
       "      <td>79545.45857</td>\n",
       "      <td>5.682861</td>\n",
       "      <td>7</td>\n",
       "      <td>4</td>\n",
       "      <td>23086</td>\n",
       "      <td>1.059034e+06</td>\n",
       "      <td>208 Michael Ferry Apt. 674\\nLaurabury, NE 3701...</td>\n",
       "    </tr>\n",
       "    <tr>\n",
       "      <th>1</th>\n",
       "      <td>79248.64245</td>\n",
       "      <td>6.002900</td>\n",
       "      <td>6</td>\n",
       "      <td>3</td>\n",
       "      <td>40173</td>\n",
       "      <td>1.505891e+06</td>\n",
       "      <td>188 Johnson Views Suite 079\\nLake Kathleen, CA...</td>\n",
       "    </tr>\n",
       "    <tr>\n",
       "      <th>2</th>\n",
       "      <td>61287.06718</td>\n",
       "      <td>5.865890</td>\n",
       "      <td>8</td>\n",
       "      <td>5</td>\n",
       "      <td>36882</td>\n",
       "      <td>1.058988e+06</td>\n",
       "      <td>9127 Elizabeth Stravenue\\nDanieltown, WI 06482...</td>\n",
       "    </tr>\n",
       "    <tr>\n",
       "      <th>3</th>\n",
       "      <td>63345.24005</td>\n",
       "      <td>7.188236</td>\n",
       "      <td>5</td>\n",
       "      <td>3</td>\n",
       "      <td>34310</td>\n",
       "      <td>1.260617e+06</td>\n",
       "      <td>USS Barnett\\nFPO AP 44820</td>\n",
       "    </tr>\n",
       "    <tr>\n",
       "      <th>4</th>\n",
       "      <td>59982.19723</td>\n",
       "      <td>5.040555</td>\n",
       "      <td>7</td>\n",
       "      <td>4</td>\n",
       "      <td>26354</td>\n",
       "      <td>6.309435e+05</td>\n",
       "      <td>USNS Raymond\\nFPO AE 09386</td>\n",
       "    </tr>\n",
       "  </tbody>\n",
       "</table>\n",
       "</div>"
      ],
      "text/plain": [
       "   Avg. Area Income  Avg. Area House Age  Avg. Area Number of Rooms  \\\n",
       "0       79545.45857             5.682861                          7   \n",
       "1       79248.64245             6.002900                          6   \n",
       "2       61287.06718             5.865890                          8   \n",
       "3       63345.24005             7.188236                          5   \n",
       "4       59982.19723             5.040555                          7   \n",
       "\n",
       "   Avg. Area Number of Bedrooms  Area Population         Price  \\\n",
       "0                             4            23086  1.059034e+06   \n",
       "1                             3            40173  1.505891e+06   \n",
       "2                             5            36882  1.058988e+06   \n",
       "3                             3            34310  1.260617e+06   \n",
       "4                             4            26354  6.309435e+05   \n",
       "\n",
       "                                             Address  \n",
       "0  208 Michael Ferry Apt. 674\\nLaurabury, NE 3701...  \n",
       "1  188 Johnson Views Suite 079\\nLake Kathleen, CA...  \n",
       "2  9127 Elizabeth Stravenue\\nDanieltown, WI 06482...  \n",
       "3                          USS Barnett\\nFPO AP 44820  \n",
       "4                         USNS Raymond\\nFPO AE 09386  "
      ]
     },
     "execution_count": 11,
     "metadata": {},
     "output_type": "execute_result"
    }
   ],
   "source": [
    "house.head()"
   ]
  },
  {
   "cell_type": "code",
   "execution_count": 12,
   "id": "ceb54d1d",
   "metadata": {},
   "outputs": [
    {
     "data": {
      "text/plain": [
       "<seaborn.axisgrid.FacetGrid at 0x256b2fcd4f0>"
      ]
     },
     "execution_count": 12,
     "metadata": {},
     "output_type": "execute_result"
    },
    {
     "data": {
      "image/png": "[encoded data removed]",
      "text/plain": [
       "<Figure size 360x360 with 1 Axes>"
      ]
     },
     "metadata": {
      "needs_background": "light"
     },
     "output_type": "display_data"
    }
   ],
   "source": [
    "sb.displot(house['Price'])"
   ]
  },
  {
   "cell_type": "code",
   "execution_count": 13,
   "id": "4a6ced0a",
   "metadata": {},
   "outputs": [
    {
     "data": {
      "text/plain": [
       "{'whiskers': [<matplotlib.lines.Line2D at 0x256b391e940>,\n",
       "  <matplotlib.lines.Line2D at 0x256b391ec10>],\n",
       " 'caps': [<matplotlib.lines.Line2D at 0x256b391efa0>,\n",
       "  <matplotlib.lines.Line2D at 0x256b392f1f0>],\n",
       " 'boxes': [<matplotlib.lines.Line2D at 0x256b391e640>],\n",
       " 'medians': [<matplotlib.lines.Line2D at 0x256b392f4c0>],\n",
       " 'fliers': [<matplotlib.lines.Line2D at 0x256b392f790>],\n",
       " 'means': []}"
      ]
     },
     "execution_count": 13,
     "metadata": {},
     "output_type": "execute_result"
    },
    {
     "data": {
      "image/png": "[encoded data removed]",
      "text/plain": [
       "<Figure size 432x288 with 1 Axes>"
      ]
     },
     "metadata": {
      "needs_background": "light"
     },
     "output_type": "display_data"
    }
   ],
   "source": [
    "plt.boxplot([house['Price']])"
   ]
  },
  {
   "cell_type": "code",
   "execution_count": 14,
   "id": "c88ca962",
   "metadata": {},
   "outputs": [
    {
     "data": {
      "text/plain": [
       "<matplotlib.collections.PathCollection at 0x256b39878b0>"
      ]
     },
     "execution_count": 14,
     "metadata": {},
     "output_type": "execute_result"
    },
    {
     "data": {
      "image/png": "[encoded data removed]",
      "text/plain": [
       "<Figure size 432x288 with 1 Axes>"
      ]
     },
     "metadata": {
      "needs_background": "light"
     },
     "output_type": "display_data"
    }
   ],
   "source": [
    "plt.scatter(house['Avg. Area Income'],house['Price'])"
   ]
  },
  {
   "cell_type": "code",
   "execution_count": 15,
   "id": "099fa877",
   "metadata": {},
   "outputs": [
    {
     "data": {
      "text/html": [
       "<div>\n",
       "<style scoped>\n",
       "    .dataframe tbody tr th:only-of-type {\n",
       "        vertical-align: middle;\n",
       "    }\n",
       "\n",
       "    .dataframe tbody tr th {\n",
       "        vertical-align: top;\n",
       "    }\n",
       "\n",
       "    .dataframe thead th {\n",
       "        text-align: right;\n",
       "    }\n",
       "</style>\n",
       "<table border=\"1\" class=\"dataframe\">\n",
       "  <thead>\n",
       "    <tr style=\"text-align: right;\">\n",
       "      <th></th>\n",
       "      <th>Avg. Area Income</th>\n",
       "      <th>Avg. Area House Age</th>\n",
       "      <th>Avg. Area Number of Rooms</th>\n",
       "      <th>Avg. Area Number of Bedrooms</th>\n",
       "      <th>Area Population</th>\n",
       "      <th>Price</th>\n",
       "    </tr>\n",
       "  </thead>\n",
       "  <tbody>\n",
       "    <tr>\n",
       "      <th>Avg. Area Income</th>\n",
       "      <td>1.000000</td>\n",
       "      <td>-0.002007</td>\n",
       "      <td>-0.008978</td>\n",
       "      <td>0.018764</td>\n",
       "      <td>-0.016234</td>\n",
       "      <td>0.639734</td>\n",
       "    </tr>\n",
       "    <tr>\n",
       "      <th>Avg. Area House Age</th>\n",
       "      <td>-0.002007</td>\n",
       "      <td>1.000000</td>\n",
       "      <td>-0.001129</td>\n",
       "      <td>0.005227</td>\n",
       "      <td>-0.018742</td>\n",
       "      <td>0.452543</td>\n",
       "    </tr>\n",
       "    <tr>\n",
       "      <th>Avg. Area Number of Rooms</th>\n",
       "      <td>-0.008978</td>\n",
       "      <td>-0.001129</td>\n",
       "      <td>1.000000</td>\n",
       "      <td>0.487542</td>\n",
       "      <td>-0.001001</td>\n",
       "      <td>0.325114</td>\n",
       "    </tr>\n",
       "    <tr>\n",
       "      <th>Avg. Area Number of Bedrooms</th>\n",
       "      <td>0.018764</td>\n",
       "      <td>0.005227</td>\n",
       "      <td>0.487542</td>\n",
       "      <td>1.000000</td>\n",
       "      <td>-0.020778</td>\n",
       "      <td>0.172429</td>\n",
       "    </tr>\n",
       "    <tr>\n",
       "      <th>Area Population</th>\n",
       "      <td>-0.016234</td>\n",
       "      <td>-0.018742</td>\n",
       "      <td>-0.001001</td>\n",
       "      <td>-0.020778</td>\n",
       "      <td>1.000000</td>\n",
       "      <td>0.408556</td>\n",
       "    </tr>\n",
       "    <tr>\n",
       "      <th>Price</th>\n",
       "      <td>0.639734</td>\n",
       "      <td>0.452543</td>\n",
       "      <td>0.325114</td>\n",
       "      <td>0.172429</td>\n",
       "      <td>0.408556</td>\n",
       "      <td>1.000000</td>\n",
       "    </tr>\n",
       "  </tbody>\n",
       "</table>\n",
       "</div>"
      ],
      "text/plain": [
       "                              Avg. Area Income  Avg. Area House Age  \\\n",
       "Avg. Area Income                      1.000000            -0.002007   \n",
       "Avg. Area House Age                  -0.002007             1.000000   \n",
       "Avg. Area Number of Rooms            -0.008978            -0.001129   \n",
       "Avg. Area Number of Bedrooms          0.018764             0.005227   \n",
       "Area Population                      -0.016234            -0.018742   \n",
       "Price                                 0.639734             0.452543   \n",
       "\n",
       "                              Avg. Area Number of Rooms  \\\n",
       "Avg. Area Income                              -0.008978   \n",
       "Avg. Area House Age                           -0.001129   \n",
       "Avg. Area Number of Rooms                      1.000000   \n",
       "Avg. Area Number of Bedrooms                   0.487542   \n",
       "Area Population                               -0.001001   \n",
       "Price                                          0.325114   \n",
       "\n",
       "                              Avg. Area Number of Bedrooms  Area Population  \\\n",
       "Avg. Area Income                                  0.018764        -0.016234   \n",
       "Avg. Area House Age                               0.005227        -0.018742   \n",
       "Avg. Area Number of Rooms                         0.487542        -0.001001   \n",
       "Avg. Area Number of Bedrooms                      1.000000        -0.020778   \n",
       "Area Population                                  -0.020778         1.000000   \n",
       "Price                                             0.172429         0.408556   \n",
       "\n",
       "                                 Price  \n",
       "Avg. Area Income              0.639734  \n",
       "Avg. Area House Age           0.452543  \n",
       "Avg. Area Number of Rooms     0.325114  \n",
       "Avg. Area Number of Bedrooms  0.172429  \n",
       "Area Population               0.408556  \n",
       "Price                         1.000000  "
      ]
     },
     "execution_count": 15,
     "metadata": {},
     "output_type": "execute_result"
    }
   ],
   "source": [
    "house.corr()"
   ]
  },
  {
   "cell_type": "code",
   "execution_count": 16,
   "id": "fbbabd48",
   "metadata": {},
   "outputs": [
    {
     "name": "stderr",
     "output_type": "stream",
     "text": [
      "C:\\Users\\welcome\\anaconda3\\lib\\site-packages\\seaborn\\distributions.py:2619: FutureWarning: `distplot` is a deprecated function and will be removed in a future version. Please adapt your code to use either `displot` (a figure-level function with similar flexibility) or `histplot` (an axes-level function for histograms).\n",
      "  warnings.warn(msg, FutureWarning)\n"
     ]
    },
    {
     "data": {
      "text/plain": [
       "<AxesSubplot:xlabel='Avg. Area Income', ylabel='Density'>"
      ]
     },
     "execution_count": 16,
     "metadata": {},
     "output_type": "execute_result"
    },
    {
     "data": {
      "image/png": "[encoded data removed]",
      "text/plain": [
       "<Figure size 432x288 with 1 Axes>"
      ]
     },
     "metadata": {
      "needs_background": "light"
     },
     "output_type": "display_data"
    }
   ],
   "source": [
    "sb.distplot(house['Avg. Area Income'])"
   ]
  },
  {
   "cell_type": "code",
   "execution_count": 17,
   "id": "b44b167d",
   "metadata": {},
   "outputs": [
    {
     "data": {
      "text/plain": [
       "{'whiskers': [<matplotlib.lines.Line2D at 0x256b3f17070>,\n",
       "  <matplotlib.lines.Line2D at 0x256b3f17340>],\n",
       " 'caps': [<matplotlib.lines.Line2D at 0x256b3f17610>,\n",
       "  <matplotlib.lines.Line2D at 0x256b3f178e0>],\n",
       " 'boxes': [<matplotlib.lines.Line2D at 0x256b3f08d60>],\n",
       " 'medians': [<matplotlib.lines.Line2D at 0x256b3f17bb0>],\n",
       " 'fliers': [<matplotlib.lines.Line2D at 0x256b3f17e80>],\n",
       " 'means': []}"
      ]
     },
     "execution_count": 17,
     "metadata": {},
     "output_type": "execute_result"
    },
    {
     "data": {
      "image/png": "[encoded data removed]",
      "text/plain": [
       "<Figure size 432x288 with 1 Axes>"
      ]
     },
     "metadata": {
      "needs_background": "light"
     },
     "output_type": "display_data"
    }
   ],
   "source": [
    "plt.boxplot(house['Avg. Area Income'])"
   ]
  },
  {
   "cell_type": "code",
   "execution_count": 18,
   "id": "9dbe1523",
   "metadata": {},
   "outputs": [
    {
     "data": {
      "text/html": [
       "<div>\n",
       "<style scoped>\n",
       "    .dataframe tbody tr th:only-of-type {\n",
       "        vertical-align: middle;\n",
       "    }\n",
       "\n",
       "    .dataframe tbody tr th {\n",
       "        vertical-align: top;\n",
       "    }\n",
       "\n",
       "    .dataframe thead th {\n",
       "        text-align: right;\n",
       "    }\n",
       "</style>\n",
       "<table border=\"1\" class=\"dataframe\">\n",
       "  <thead>\n",
       "    <tr style=\"text-align: right;\">\n",
       "      <th></th>\n",
       "      <th>Avg. Area Income</th>\n",
       "      <th>Avg. Area House Age</th>\n",
       "      <th>Avg. Area Number of Rooms</th>\n",
       "      <th>Avg. Area Number of Bedrooms</th>\n",
       "      <th>Area Population</th>\n",
       "      <th>Price</th>\n",
       "      <th>Address</th>\n",
       "    </tr>\n",
       "  </thead>\n",
       "  <tbody>\n",
       "    <tr>\n",
       "      <th>12</th>\n",
       "      <td>39033.80924</td>\n",
       "      <td>7.671755</td>\n",
       "      <td>7</td>\n",
       "      <td>3</td>\n",
       "      <td>39220</td>\n",
       "      <td>1.042814e+06</td>\n",
       "      <td>209 Natasha Stream Suite 961\\nHuffmanland, NE ...</td>\n",
       "    </tr>\n",
       "    <tr>\n",
       "      <th>39</th>\n",
       "      <td>17796.63119</td>\n",
       "      <td>4.949557</td>\n",
       "      <td>6</td>\n",
       "      <td>2</td>\n",
       "      <td>47162</td>\n",
       "      <td>3.023558e+05</td>\n",
       "      <td>9932 Eric Circles\\nLake Martha, WY 34611-6127</td>\n",
       "    </tr>\n",
       "    <tr>\n",
       "      <th>411</th>\n",
       "      <td>36100.44423</td>\n",
       "      <td>5.778489</td>\n",
       "      <td>5</td>\n",
       "      <td>2</td>\n",
       "      <td>44901</td>\n",
       "      <td>5.995040e+05</td>\n",
       "      <td>842 Duane Brook Apt. 380\\nMonicaview, AR 01639...</td>\n",
       "    </tr>\n",
       "    <tr>\n",
       "      <th>844</th>\n",
       "      <td>39411.65279</td>\n",
       "      <td>4.385845</td>\n",
       "      <td>7</td>\n",
       "      <td>4</td>\n",
       "      <td>45851</td>\n",
       "      <td>5.394834e+05</td>\n",
       "      <td>1085 Michele Glens Apt. 517\\nSergiotown, VT 20367</td>\n",
       "    </tr>\n",
       "    <tr>\n",
       "      <th>1271</th>\n",
       "      <td>37971.20757</td>\n",
       "      <td>4.291224</td>\n",
       "      <td>5</td>\n",
       "      <td>3</td>\n",
       "      <td>33267</td>\n",
       "      <td>3.114052e+04</td>\n",
       "      <td>98398 Terrance Pines\\nSouth Joshua, MT 00544-8919</td>\n",
       "    </tr>\n",
       "    <tr>\n",
       "      <th>1459</th>\n",
       "      <td>35963.33081</td>\n",
       "      <td>3.438547</td>\n",
       "      <td>8</td>\n",
       "      <td>3</td>\n",
       "      <td>24435</td>\n",
       "      <td>1.430274e+05</td>\n",
       "      <td>166 Terry Grove\\nSouth Michaelhaven, PR 18054</td>\n",
       "    </tr>\n",
       "    <tr>\n",
       "      <th>1597</th>\n",
       "      <td>39294.03652</td>\n",
       "      <td>5.928585</td>\n",
       "      <td>5</td>\n",
       "      <td>4</td>\n",
       "      <td>43183</td>\n",
       "      <td>7.811375e+05</td>\n",
       "      <td>829 Bonnie Rue Suite 653\\nYorkville, MP 35797-...</td>\n",
       "    </tr>\n",
       "    <tr>\n",
       "      <th>2025</th>\n",
       "      <td>38139.91904</td>\n",
       "      <td>5.577267</td>\n",
       "      <td>6</td>\n",
       "      <td>2</td>\n",
       "      <td>45899</td>\n",
       "      <td>7.237501e+05</td>\n",
       "      <td>2899 Katherine Junction\\nNorth Richardview, SC...</td>\n",
       "    </tr>\n",
       "    <tr>\n",
       "      <th>2092</th>\n",
       "      <td>35608.98624</td>\n",
       "      <td>6.935839</td>\n",
       "      <td>7</td>\n",
       "      <td>6</td>\n",
       "      <td>20833</td>\n",
       "      <td>4.493316e+05</td>\n",
       "      <td>652 Stanton Island\\nAdamsview, VA 56957-9960</td>\n",
       "    </tr>\n",
       "    <tr>\n",
       "      <th>2242</th>\n",
       "      <td>38868.25031</td>\n",
       "      <td>6.965104</td>\n",
       "      <td>8</td>\n",
       "      <td>4</td>\n",
       "      <td>25432</td>\n",
       "      <td>7.590447e+05</td>\n",
       "      <td>86840 Jonathon Field\\nStevenport, KY 45694-2395</td>\n",
       "    </tr>\n",
       "    <tr>\n",
       "      <th>2597</th>\n",
       "      <td>38734.00522</td>\n",
       "      <td>5.641762</td>\n",
       "      <td>6</td>\n",
       "      <td>2</td>\n",
       "      <td>38890</td>\n",
       "      <td>4.011486e+05</td>\n",
       "      <td>4317 Heather Port\\nHicksland, SC 77008-9209</td>\n",
       "    </tr>\n",
       "    <tr>\n",
       "      <th>3069</th>\n",
       "      <td>35454.71466</td>\n",
       "      <td>6.855708</td>\n",
       "      <td>6</td>\n",
       "      <td>4</td>\n",
       "      <td>59636</td>\n",
       "      <td>1.077806e+06</td>\n",
       "      <td>Unit 4700 Box 1880\\nDPO AP 18074</td>\n",
       "    </tr>\n",
       "    <tr>\n",
       "      <th>3144</th>\n",
       "      <td>38571.96367</td>\n",
       "      <td>7.425292</td>\n",
       "      <td>5</td>\n",
       "      <td>3</td>\n",
       "      <td>47386</td>\n",
       "      <td>9.684116e+05</td>\n",
       "      <td>6613 Cynthia Loop Suite 555\\nLake Heatherstad,...</td>\n",
       "    </tr>\n",
       "    <tr>\n",
       "      <th>3183</th>\n",
       "      <td>38122.52449</td>\n",
       "      <td>6.336109</td>\n",
       "      <td>7</td>\n",
       "      <td>5</td>\n",
       "      <td>38067</td>\n",
       "      <td>8.996093e+05</td>\n",
       "      <td>783 Stacey Glen\\nWest Katherineberg, NV 67007-...</td>\n",
       "    </tr>\n",
       "    <tr>\n",
       "      <th>4449</th>\n",
       "      <td>39777.60691</td>\n",
       "      <td>5.804627</td>\n",
       "      <td>7</td>\n",
       "      <td>3</td>\n",
       "      <td>38725</td>\n",
       "      <td>6.960145e+05</td>\n",
       "      <td>5231 David Shoals\\nEast Chaseland, MO 54930-5094</td>\n",
       "    </tr>\n",
       "    <tr>\n",
       "      <th>4716</th>\n",
       "      <td>38530.12448</td>\n",
       "      <td>4.265906</td>\n",
       "      <td>8</td>\n",
       "      <td>4</td>\n",
       "      <td>67727</td>\n",
       "      <td>1.267987e+06</td>\n",
       "      <td>14763 Jeffrey Islands\\nAmytown, WV 47279-7543</td>\n",
       "    </tr>\n",
       "    <tr>\n",
       "      <th>4744</th>\n",
       "      <td>39653.77003</td>\n",
       "      <td>5.205089</td>\n",
       "      <td>6</td>\n",
       "      <td>2</td>\n",
       "      <td>40275</td>\n",
       "      <td>3.959013e+05</td>\n",
       "      <td>58979 Jimmy Place Apt. 907\\nEast Bryanbury, MN...</td>\n",
       "    </tr>\n",
       "    <tr>\n",
       "      <th>4844</th>\n",
       "      <td>37908.67586</td>\n",
       "      <td>6.233813</td>\n",
       "      <td>7</td>\n",
       "      <td>6</td>\n",
       "      <td>39632</td>\n",
       "      <td>8.804028e+05</td>\n",
       "      <td>901 Peter Fort Apt. 157\\nTaylorfort, ND 06249-...</td>\n",
       "    </tr>\n",
       "    <tr>\n",
       "      <th>4855</th>\n",
       "      <td>35797.32312</td>\n",
       "      <td>5.544221</td>\n",
       "      <td>7</td>\n",
       "      <td>5</td>\n",
       "      <td>24844</td>\n",
       "      <td>2.998630e+05</td>\n",
       "      <td>645 Mary Radial\\nEast Roberto, CA 23652-5430</td>\n",
       "    </tr>\n",
       "  </tbody>\n",
       "</table>\n",
       "</div>"
      ],
      "text/plain": [
       "      Avg. Area Income  Avg. Area House Age  Avg. Area Number of Rooms  \\\n",
       "12         39033.80924             7.671755                          7   \n",
       "39         17796.63119             4.949557                          6   \n",
       "411        36100.44423             5.778489                          5   \n",
       "844        39411.65279             4.385845                          7   \n",
       "1271       37971.20757             4.291224                          5   \n",
       "1459       35963.33081             3.438547                          8   \n",
       "1597       39294.03652             5.928585                          5   \n",
       "2025       38139.91904             5.577267                          6   \n",
       "2092       35608.98624             6.935839                          7   \n",
       "2242       38868.25031             6.965104                          8   \n",
       "2597       38734.00522             5.641762                          6   \n",
       "3069       35454.71466             6.855708                          6   \n",
       "3144       38571.96367             7.425292                          5   \n",
       "3183       38122.52449             6.336109                          7   \n",
       "4449       39777.60691             5.804627                          7   \n",
       "4716       38530.12448             4.265906                          8   \n",
       "4744       39653.77003             5.205089                          6   \n",
       "4844       37908.67586             6.233813                          7   \n",
       "4855       35797.32312             5.544221                          7   \n",
       "\n",
       "      Avg. Area Number of Bedrooms  Area Population         Price  \\\n",
       "12                               3            39220  1.042814e+06   \n",
       "39                               2            47162  3.023558e+05   \n",
       "411                              2            44901  5.995040e+05   \n",
       "844                              4            45851  5.394834e+05   \n",
       "1271                             3            33267  3.114052e+04   \n",
       "1459                             3            24435  1.430274e+05   \n",
       "1597                             4            43183  7.811375e+05   \n",
       "2025                             2            45899  7.237501e+05   \n",
       "2092                             6            20833  4.493316e+05   \n",
       "2242                             4            25432  7.590447e+05   \n",
       "2597                             2            38890  4.011486e+05   \n",
       "3069                             4            59636  1.077806e+06   \n",
       "3144                             3            47386  9.684116e+05   \n",
       "3183                             5            38067  8.996093e+05   \n",
       "4449                             3            38725  6.960145e+05   \n",
       "4716                             4            67727  1.267987e+06   \n",
       "4744                             2            40275  3.959013e+05   \n",
       "4844                             6            39632  8.804028e+05   \n",
       "4855                             5            24844  2.998630e+05   \n",
       "\n",
       "                                                Address  \n",
       "12    209 Natasha Stream Suite 961\\nHuffmanland, NE ...  \n",
       "39        9932 Eric Circles\\nLake Martha, WY 34611-6127  \n",
       "411   842 Duane Brook Apt. 380\\nMonicaview, AR 01639...  \n",
       "844   1085 Michele Glens Apt. 517\\nSergiotown, VT 20367  \n",
       "1271  98398 Terrance Pines\\nSouth Joshua, MT 00544-8919  \n",
       "1459      166 Terry Grove\\nSouth Michaelhaven, PR 18054  \n",
       "1597  829 Bonnie Rue Suite 653\\nYorkville, MP 35797-...  \n",
       "2025  2899 Katherine Junction\\nNorth Richardview, SC...  \n",
       "2092       652 Stanton Island\\nAdamsview, VA 56957-9960  \n",
       "2242    86840 Jonathon Field\\nStevenport, KY 45694-2395  \n",
       "2597        4317 Heather Port\\nHicksland, SC 77008-9209  \n",
       "3069                   Unit 4700 Box 1880\\nDPO AP 18074  \n",
       "3144  6613 Cynthia Loop Suite 555\\nLake Heatherstad,...  \n",
       "3183  783 Stacey Glen\\nWest Katherineberg, NV 67007-...  \n",
       "4449   5231 David Shoals\\nEast Chaseland, MO 54930-5094  \n",
       "4716      14763 Jeffrey Islands\\nAmytown, WV 47279-7543  \n",
       "4744  58979 Jimmy Place Apt. 907\\nEast Bryanbury, MN...  \n",
       "4844  901 Peter Fort Apt. 157\\nTaylorfort, ND 06249-...  \n",
       "4855       645 Mary Radial\\nEast Roberto, CA 23652-5430  "
      ]
     },
     "execution_count": 18,
     "metadata": {},
     "output_type": "execute_result"
    }
   ],
   "source": [
    "house[house['Avg. Area Income']<= 40000]"
   ]
  },
  {
   "cell_type": "code",
   "execution_count": 36,
   "id": "9f4f4b07",
   "metadata": {},
   "outputs": [
    {
     "data": {
      "text/html": [
       "<div>\n",
       "<style scoped>\n",
       "    .dataframe tbody tr th:only-of-type {\n",
       "        vertical-align: middle;\n",
       "    }\n",
       "\n",
       "    .dataframe tbody tr th {\n",
       "        vertical-align: top;\n",
       "    }\n",
       "\n",
       "    .dataframe thead th {\n",
       "        text-align: right;\n",
       "    }\n",
       "</style>\n",
       "<table border=\"1\" class=\"dataframe\">\n",
       "  <thead>\n",
       "    <tr style=\"text-align: right;\">\n",
       "      <th></th>\n",
       "      <th>Avg. Area Number of Rooms</th>\n",
       "      <th>Avg. Area Number of Bedrooms</th>\n",
       "      <th>Area Population</th>\n",
       "    </tr>\n",
       "  </thead>\n",
       "  <tbody>\n",
       "    <tr>\n",
       "      <th>0</th>\n",
       "      <td>7</td>\n",
       "      <td>4</td>\n",
       "      <td>23086</td>\n",
       "    </tr>\n",
       "    <tr>\n",
       "      <th>1</th>\n",
       "      <td>6</td>\n",
       "      <td>3</td>\n",
       "      <td>40173</td>\n",
       "    </tr>\n",
       "    <tr>\n",
       "      <th>2</th>\n",
       "      <td>8</td>\n",
       "      <td>5</td>\n",
       "      <td>36882</td>\n",
       "    </tr>\n",
       "    <tr>\n",
       "      <th>3</th>\n",
       "      <td>5</td>\n",
       "      <td>3</td>\n",
       "      <td>34310</td>\n",
       "    </tr>\n",
       "    <tr>\n",
       "      <th>4</th>\n",
       "      <td>7</td>\n",
       "      <td>4</td>\n",
       "      <td>26354</td>\n",
       "    </tr>\n",
       "  </tbody>\n",
       "</table>\n",
       "</div>"
      ],
      "text/plain": [
       "   Avg. Area Number of Rooms  Avg. Area Number of Bedrooms  Area Population\n",
       "0                          7                             4            23086\n",
       "1                          6                             3            40173\n",
       "2                          8                             5            36882\n",
       "3                          5                             3            34310\n",
       "4                          7                             4            26354"
      ]
     },
     "execution_count": 36,
     "metadata": {},
     "output_type": "execute_result"
    }
   ],
   "source": [
    "X = house.iloc[:,[2,3,4]]\n",
    "\n",
    "X.head()"
   ]
  },
  {
   "cell_type": "code",
   "execution_count": 37,
   "id": "d78614dd",
   "metadata": {},
   "outputs": [],
   "source": [
    "y = house.Price"
   ]
  },
  {
   "cell_type": "code",
   "execution_count": 38,
   "id": "5e951518",
   "metadata": {},
   "outputs": [
    {
     "data": {
      "text/plain": [
       "0    1.059034e+06\n",
       "1    1.505891e+06\n",
       "2    1.058988e+06\n",
       "3    1.260617e+06\n",
       "4    6.309435e+05\n",
       "Name: Price, dtype: float64"
      ]
     },
     "execution_count": 38,
     "metadata": {},
     "output_type": "execute_result"
    }
   ],
   "source": [
    "y.head()"
   ]
  },
  {
   "cell_type": "code",
   "execution_count": 39,
   "id": "eabb671b",
   "metadata": {},
   "outputs": [],
   "source": [
    "from sklearn.model_selection import train_test_split\n",
    "\n",
    "X_train, X_test, y_train, y_test = train_test_split(X,y, test_size=0.2,\n",
    "                                                   random_state=42)"
   ]
  },
  {
   "cell_type": "code",
   "execution_count": 40,
   "id": "c494f650",
   "metadata": {},
   "outputs": [],
   "source": [
    "from sklearn.linear_model import LinearRegression\n",
    "from sklearn.neighbors import KNeighborsRegressor\n",
    "from sklearn.svm import SVR"
   ]
  },
  {
   "cell_type": "code",
   "execution_count": 41,
   "id": "0c1d9098",
   "metadata": {},
   "outputs": [],
   "source": [
    "model_lr = LinearRegression()\n",
    "model_kn = KNeighborsRegressor(n_neighbors=100)\n",
    "model_svr = SVR()"
   ]
  },
  {
   "cell_type": "code",
   "execution_count": 42,
   "id": "985d319e",
   "metadata": {},
   "outputs": [
    {
     "data": {
      "text/plain": [
       "SVR()"
      ]
     },
     "execution_count": 42,
     "metadata": {},
     "output_type": "execute_result"
    }
   ],
   "source": [
    "\n",
    "model_svr.fit(X_train,y_train)"
   ]
  },
  {
   "cell_type": "code",
   "execution_count": 43,
   "id": "9ad082c7",
   "metadata": {},
   "outputs": [
    {
     "data": {
      "text/plain": [
       "KNeighborsRegressor(n_neighbors=100)"
      ]
     },
     "execution_count": 43,
     "metadata": {},
     "output_type": "execute_result"
    }
   ],
   "source": [
    "model_kn.fit(X_train,y_train)"
   ]
  },
  {
   "cell_type": "code",
   "execution_count": 44,
   "id": "6315abdc",
   "metadata": {},
   "outputs": [
    {
     "data": {
      "text/plain": [
       "LinearRegression()"
      ]
     },
     "execution_count": 44,
     "metadata": {},
     "output_type": "execute_result"
    }
   ],
   "source": [
    "model_lr.fit(X_train,y_train)"
   ]
  },
  {
   "cell_type": "code",
   "execution_count": 45,
   "id": "6e9aff4e",
   "metadata": {},
   "outputs": [],
   "source": [
    "predict_lr = model_lr.predict(X_test)"
   ]
  },
  {
   "cell_type": "code",
   "execution_count": 46,
   "id": "a541c57f",
   "metadata": {},
   "outputs": [],
   "source": [
    "predict_kn = model_kn.predict(X_test)"
   ]
  },
  {
   "cell_type": "code",
   "execution_count": 47,
   "id": "ade1d472",
   "metadata": {},
   "outputs": [],
   "source": [
    "predict_svr = model_svr.predict(X_test)"
   ]
  },
  {
   "cell_type": "code",
   "execution_count": 48,
   "id": "257c56bf",
   "metadata": {},
   "outputs": [],
   "source": [
    "from sklearn.metrics import r2_score"
   ]
  },
  {
   "cell_type": "code",
   "execution_count": 49,
   "id": "874f6d46",
   "metadata": {},
   "outputs": [
    {
     "name": "stdout",
     "output_type": "stream",
     "text": [
      "Accuracy for Linear Regression:\n"
     ]
    },
    {
     "data": {
      "text/plain": [
       "-1.6790840742810893"
      ]
     },
     "execution_count": 49,
     "metadata": {},
     "output_type": "execute_result"
    }
   ],
   "source": [
    "print(\"Accuracy for Linear Regression:\")\n",
    "r2_score(predict_lr,y_test)"
   ]
  },
  {
   "cell_type": "code",
   "execution_count": 50,
   "id": "390804cd",
   "metadata": {},
   "outputs": [
    {
     "name": "stdout",
     "output_type": "stream",
     "text": [
      "Accuracy for K Neighbors Regression:\n"
     ]
    },
    {
     "data": {
      "text/plain": [
       "-4.0744558482796815"
      ]
     },
     "execution_count": 50,
     "metadata": {},
     "output_type": "execute_result"
    }
   ],
   "source": [
    "print(\"Accuracy for K Neighbors Regression:\")\n",
    "r2_score(predict_kn,y_test)"
   ]
  },
  {
   "cell_type": "code",
   "execution_count": 51,
   "id": "1c07dbd4",
   "metadata": {},
   "outputs": [
    {
     "name": "stdout",
     "output_type": "stream",
     "text": [
      " Accuracy of SVR:\n"
     ]
    },
    {
     "data": {
      "text/plain": [
       "-4601549.402369994"
      ]
     },
     "execution_count": 51,
     "metadata": {},
     "output_type": "execute_result"
    }
   ],
   "source": [
    "print(\" Accuracy of SVR:\")\n",
    "r2_score(predict_svr,y_test)"
   ]
  },
  {
   "cell_type": "code",
   "execution_count": 52,
   "id": "c7bb51df",
   "metadata": {},
   "outputs": [],
   "source": [
    "from sklearn.tree  import DecisionTreeRegressor"
   ]
  },
  {
   "cell_type": "code",
   "execution_count": 53,
   "id": "b178a273",
   "metadata": {},
   "outputs": [],
   "source": [
    "model_dtr = DecisionTreeRegressor()"
   ]
  },
  {
   "cell_type": "code",
   "execution_count": 54,
   "id": "313b19e7",
   "metadata": {},
   "outputs": [
    {
     "data": {
      "text/plain": [
       "DecisionTreeRegressor()"
      ]
     },
     "execution_count": 54,
     "metadata": {},
     "output_type": "execute_result"
    }
   ],
   "source": [
    "model_dtr.fit(X_train,y_train)"
   ]
  },
  {
   "cell_type": "code",
   "execution_count": 55,
   "id": "4a7d32ff",
   "metadata": {},
   "outputs": [],
   "source": [
    "predict_dtr = model_dtr.predict(X_test)"
   ]
  },
  {
   "cell_type": "code",
   "execution_count": 56,
   "id": "860af1ff",
   "metadata": {},
   "outputs": [
    {
     "data": {
      "text/plain": [
       "-0.4084032439540277"
      ]
     },
     "execution_count": 56,
     "metadata": {},
     "output_type": "execute_result"
    }
   ],
   "source": [
    "r2_score(predict_dtr,y_test)"
   ]
  },
  {
   "cell_type": "code",
   "execution_count": 57,
   "id": "c146ec7f",
   "metadata": {},
   "outputs": [],
   "source": [
    "from sklearn.ensemble import RandomForestRegressor"
   ]
  },
  {
   "cell_type": "code",
   "execution_count": 58,
   "id": "f8986947",
   "metadata": {},
   "outputs": [],
   "source": [
    "model_rfr = RandomForestRegressor()"
   ]
  },
  {
   "cell_type": "code",
   "execution_count": 60,
   "id": "3092165c",
   "metadata": {},
   "outputs": [
    {
     "data": {
      "text/plain": [
       "RandomForestRegressor()"
      ]
     },
     "execution_count": 60,
     "metadata": {},
     "output_type": "execute_result"
    }
   ],
   "source": [
    "model_rfr.fit(X_train,y_train)"
   ]
  },
  {
   "cell_type": "code",
   "execution_count": 61,
   "id": "99538d12",
   "metadata": {},
   "outputs": [],
   "source": [
    "predict_rfr = model_rfr.predict(X_test)"
   ]
  },
  {
   "cell_type": "code",
   "execution_count": 62,
   "id": "b825b244",
   "metadata": {},
   "outputs": [
    {
     "data": {
      "text/plain": [
       "-0.9118947205351662"
      ]
     },
     "execution_count": 62,
     "metadata": {},
     "output_type": "execute_result"
    }
   ],
   "source": [
    "r2_score(predict_rfr,y_test)"
   ]
  },
  {
   "cell_type": "code",
   "execution_count": 63,
   "id": "740087a7",
   "metadata": {},
   "outputs": [
    {
     "ename": "ModuleNotFoundError",
     "evalue": "No module named 'XGBoost'",
     "output_type": "error",
     "traceback": [
      "\u001b[1;31m---------------------------------------------------------------------------\u001b[0m",
      "\u001b[1;31mModuleNotFoundError\u001b[0m                       Traceback (most recent call last)",
      "Input \u001b[1;32mIn [63]\u001b[0m, in \u001b[0;36m<cell line: 1>\u001b[1;34m()\u001b[0m\n\u001b[1;32m----> 1\u001b[0m \u001b[38;5;28;01mimport\u001b[39;00m \u001b[38;5;21;01mXGBoost\u001b[39;00m\n",
      "\u001b[1;31mModuleNotFoundError\u001b[0m: No module named 'XGBoost'"
     ]
    }
   ],
   "source": [
    "import XGBoost"
   ]
  },
  {
   "cell_type": "code",
   "execution_count": 64,
   "id": "a25b4997",
   "metadata": {},
   "outputs": [
    {
     "name": "stdout",
     "output_type": "stream",
     "text": [
      "Collecting package metadata (current_repodata.json): ...working... done\n",
      "Solving environment: ...working... done\n",
      "\n",
      "## Package Plan ##\n",
      "\n",
      "  environment location: C:\\Users\\welcome\\anaconda3\n",
      "\n",
      "  added / updated specs:\n",
      "    - py-xgboost\n",
      "\n",
      "\n",
      "The following packages will be downloaded:\n",
      "\n",
      "    package                    |            build\n",
      "    ---------------------------|-----------------\n",
      "    _py-xgboost-mutex-2.0      |            cpu_0          12 KB  anaconda\n",
      "    ca-certificates-2022.3.29  |       haa95532_1         160 KB  anaconda\n",
      "    certifi-2021.10.8          |   py39haa95532_2         156 KB  anaconda\n",
      "    conda-4.13.0               |   py39haa95532_0        1016 KB  anaconda\n",
      "    libxgboost-1.5.0           |       hd77b12b_1         2.3 MB  anaconda\n",
      "    openssl-1.1.1n             |       h2bbff1b_0         5.8 MB  anaconda\n",
      "    py-xgboost-1.5.0           |   py39haa95532_1         166 KB  anaconda\n",
      "    ------------------------------------------------------------\n",
      "                                           Total:         9.5 MB\n",
      "\n",
      "The following NEW packages will be INSTALLED:\n",
      "\n",
      "  _py-xgboost-mutex  anaconda/win-64::_py-xgboost-mutex-2.0-cpu_0\n",
      "  libxgboost         anaconda/win-64::libxgboost-1.5.0-hd77b12b_1\n",
      "  py-xgboost         anaconda/win-64::py-xgboost-1.5.0-py39haa95532_1\n",
      "\n",
      "The following packages will be UPDATED:\n",
      "\n",
      "  conda              pkgs/main::conda-4.12.0-py39haa95532_0 --> anaconda::conda-4.13.0-py39haa95532_0\n",
      "\n",
      "The following packages will be SUPERSEDED by a higher-priority channel:\n",
      "\n",
      "  ca-certificates                                 pkgs/main --> anaconda\n",
      "  certifi                                         pkgs/main --> anaconda\n",
      "  openssl                                         pkgs/main --> anaconda\n",
      "\n",
      "\n",
      "\n",
      "Downloading and Extracting Packages\n",
      "\n",
      "py-xgboost-1.5.0     | 166 KB    |            |   0% \n",
      "py-xgboost-1.5.0     | 166 KB    | 9          |  10% \n",
      "py-xgboost-1.5.0     | 166 KB    | ##8        |  29% \n",
      "py-xgboost-1.5.0     | 166 KB    | ####8      |  48% \n",
      "py-xgboost-1.5.0     | 166 KB    | ######7    |  67% \n",
      "py-xgboost-1.5.0     | 166 KB    | ########6  |  87% \n",
      "py-xgboost-1.5.0     | 166 KB    | ########## | 100% \n",
      "py-xgboost-1.5.0     | 166 KB    | ########## | 100% \n",
      "\n",
      "openssl-1.1.1n       | 5.8 MB    |            |   0% \n",
      "openssl-1.1.1n       | 5.8 MB    |            |   1% \n",
      "\n",
      "Note: you may need to restart the kernel to use updated packages.openssl-1.1.1n       | 5.8 MB    | 1          |   2% \n",
      "\n",
      "openssl-1.1.1n       | 5.8 MB    | 2          |   3% \n",
      "openssl-1.1.1n       | 5.8 MB    | 4          |   4% \n"
     ]
    },
    {
     "name": "stderr",
     "output_type": "stream",
     "text": [
      "\n",
      "\n",
      "==> WARNING: A newer version of conda exists. <==\n",
      "  current version: 4.12.0\n",
      "  latest version: 4.13.0\n",
      "\n",
      "Please update conda by running\n",
      "\n",
      "    $ conda update -n base -c defaults conda\n",
      "\n",
      "\n"
     ]
    },
    {
     "name": "stdout",
     "output_type": "stream",
     "text": [
      "openssl-1.1.1n       | 5.8 MB    | 5          |   6% \n",
      "openssl-1.1.1n       | 5.8 MB    | 7          |   7% \n",
      "openssl-1.1.1n       | 5.8 MB    | 8          |   9% \n",
      "openssl-1.1.1n       | 5.8 MB    | #          |  10% \n",
      "openssl-1.1.1n       | 5.8 MB    | #1         |  12% \n",
      "openssl-1.1.1n       | 5.8 MB    | #3         |  13% \n",
      "openssl-1.1.1n       | 5.8 MB    | #4         |  14% \n",
      "openssl-1.1.1n       | 5.8 MB    | #5         |  16% \n",
      "openssl-1.1.1n       | 5.8 MB    | #7         |  17% \n",
      "openssl-1.1.1n       | 5.8 MB    | #8         |  18% \n",
      "openssl-1.1.1n       | 5.8 MB    | #9         |  20% \n",
      "openssl-1.1.1n       | 5.8 MB    | ##1        |  22% \n",
      "openssl-1.1.1n       | 5.8 MB    | ##3        |  23% \n",
      "openssl-1.1.1n       | 5.8 MB    | ##4        |  25% \n",
      "openssl-1.1.1n       | 5.8 MB    | ##6        |  27% \n",
      "openssl-1.1.1n       | 5.8 MB    | ##8        |  29% \n",
      "openssl-1.1.1n       | 5.8 MB    | ###        |  30% \n",
      "openssl-1.1.1n       | 5.8 MB    | ###2       |  32% \n",
      "openssl-1.1.1n       | 5.8 MB    | ###3       |  33% \n",
      "openssl-1.1.1n       | 5.8 MB    | ###4       |  35% \n",
      "openssl-1.1.1n       | 5.8 MB    | ###7       |  37% \n",
      "openssl-1.1.1n       | 5.8 MB    | ###9       |  39% \n",
      "openssl-1.1.1n       | 5.8 MB    | ####1      |  41% \n",
      "openssl-1.1.1n       | 5.8 MB    | ####2      |  43% \n",
      "openssl-1.1.1n       | 5.8 MB    | ####4      |  45% \n",
      "openssl-1.1.1n       | 5.8 MB    | ####6      |  47% \n",
      "openssl-1.1.1n       | 5.8 MB    | ####8      |  48% \n",
      "openssl-1.1.1n       | 5.8 MB    | ####9      |  50% \n",
      "openssl-1.1.1n       | 5.8 MB    | #####1     |  52% \n",
      "openssl-1.1.1n       | 5.8 MB    | #####4     |  54% \n",
      "openssl-1.1.1n       | 5.8 MB    | #####6     |  56% \n",
      "openssl-1.1.1n       | 5.8 MB    | #####7     |  58% \n",
      "openssl-1.1.1n       | 5.8 MB    | #####9     |  59% \n",
      "openssl-1.1.1n       | 5.8 MB    | ######1    |  62% \n",
      "openssl-1.1.1n       | 5.8 MB    | ######3    |  64% \n",
      "openssl-1.1.1n       | 5.8 MB    | ######5    |  66% \n",
      "openssl-1.1.1n       | 5.8 MB    | ######7    |  68% \n",
      "openssl-1.1.1n       | 5.8 MB    | ######9    |  70% \n",
      "openssl-1.1.1n       | 5.8 MB    | #######1   |  72% \n",
      "openssl-1.1.1n       | 5.8 MB    | #######3   |  74% \n",
      "openssl-1.1.1n       | 5.8 MB    | #######5   |  76% \n",
      "openssl-1.1.1n       | 5.8 MB    | #######7   |  78% \n",
      "openssl-1.1.1n       | 5.8 MB    | ########   |  80% \n",
      "openssl-1.1.1n       | 5.8 MB    | ########2  |  82% \n",
      "openssl-1.1.1n       | 5.8 MB    | ########4  |  84% \n",
      "openssl-1.1.1n       | 5.8 MB    | ########6  |  86% \n",
      "openssl-1.1.1n       | 5.8 MB    | ########7  |  88% \n",
      "openssl-1.1.1n       | 5.8 MB    | #########  |  90% \n",
      "openssl-1.1.1n       | 5.8 MB    | #########1 |  92% \n",
      "openssl-1.1.1n       | 5.8 MB    | #########3 |  94% \n",
      "openssl-1.1.1n       | 5.8 MB    | #########5 |  95% \n",
      "openssl-1.1.1n       | 5.8 MB    | #########6 |  97% \n",
      "openssl-1.1.1n       | 5.8 MB    | #########8 |  99% \n",
      "openssl-1.1.1n       | 5.8 MB    | ########## | 100% \n",
      "\n",
      "conda-4.13.0         | 1016 KB   |            |   0% \n",
      "conda-4.13.0         | 1016 KB   | 7          |   8% \n",
      "conda-4.13.0         | 1016 KB   | #7         |  17% \n",
      "conda-4.13.0         | 1016 KB   | ##5        |  25% \n",
      "conda-4.13.0         | 1016 KB   | ###3       |  33% \n",
      "conda-4.13.0         | 1016 KB   | ####4      |  44% \n",
      "conda-4.13.0         | 1016 KB   | #####5     |  55% \n",
      "conda-4.13.0         | 1016 KB   | ######4    |  65% \n",
      "conda-4.13.0         | 1016 KB   | #######2   |  72% \n",
      "conda-4.13.0         | 1016 KB   | ########   |  80% \n",
      "conda-4.13.0         | 1016 KB   | ########6  |  87% \n",
      "conda-4.13.0         | 1016 KB   | #########2 |  93% \n",
      "conda-4.13.0         | 1016 KB   | ########## | 100% \n",
      "conda-4.13.0         | 1016 KB   | ########## | 100% \n",
      "\n",
      "ca-certificates-2022 | 160 KB    |            |   0% \n",
      "ca-certificates-2022 | 160 KB    | ##         |  20% \n",
      "ca-certificates-2022 | 160 KB    | ########   |  80% \n",
      "ca-certificates-2022 | 160 KB    | ########## | 100% \n",
      "\n",
      "certifi-2021.10.8    | 156 KB    |            |   0% \n",
      "certifi-2021.10.8    | 156 KB    | ####       |  41% \n",
      "certifi-2021.10.8    | 156 KB    | ########1  |  82% \n",
      "certifi-2021.10.8    | 156 KB    | ########## | 100% \n",
      "\n",
      "_py-xgboost-mutex-2. | 12 KB     |            |   0% \n",
      "_py-xgboost-mutex-2. | 12 KB     | ########## | 100% \n",
      "_py-xgboost-mutex-2. | 12 KB     | ########## | 100% \n",
      "\n",
      "libxgboost-1.5.0     | 2.3 MB    |            |   0% \n",
      "libxgboost-1.5.0     | 2.3 MB    |            |   1% \n",
      "libxgboost-1.5.0     | 2.3 MB    | 3          |   3% \n",
      "libxgboost-1.5.0     | 2.3 MB    | 6          |   6% \n",
      "libxgboost-1.5.0     | 2.3 MB    | 8          |   9% \n",
      "libxgboost-1.5.0     | 2.3 MB    | #2         |  13% \n",
      "libxgboost-1.5.0     | 2.3 MB    | #6         |  16% \n",
      "libxgboost-1.5.0     | 2.3 MB    | #9         |  20% \n",
      "libxgboost-1.5.0     | 2.3 MB    | ##3        |  23% \n",
      "libxgboost-1.5.0     | 2.3 MB    | ##8        |  28% \n",
      "libxgboost-1.5.0     | 2.3 MB    | ###1       |  31% \n",
      "libxgboost-1.5.0     | 2.3 MB    | ###5       |  36% \n",
      "libxgboost-1.5.0     | 2.3 MB    | ###8       |  39% \n",
      "libxgboost-1.5.0     | 2.3 MB    | ####2      |  42% \n",
      "libxgboost-1.5.0     | 2.3 MB    | ####5      |  46% \n",
      "libxgboost-1.5.0     | 2.3 MB    | ####9      |  49% \n",
      "libxgboost-1.5.0     | 2.3 MB    | #####3     |  53% \n",
      "libxgboost-1.5.0     | 2.3 MB    | #####6     |  57% \n",
      "libxgboost-1.5.0     | 2.3 MB    | ######2    |  62% \n",
      "libxgboost-1.5.0     | 2.3 MB    | ######6    |  66% \n",
      "libxgboost-1.5.0     | 2.3 MB    | #######    |  70% \n",
      "libxgboost-1.5.0     | 2.3 MB    | #######4   |  75% \n",
      "libxgboost-1.5.0     | 2.3 MB    | #######7   |  78% \n",
      "libxgboost-1.5.0     | 2.3 MB    | ########   |  81% \n",
      "libxgboost-1.5.0     | 2.3 MB    | ########4  |  85% \n",
      "libxgboost-1.5.0     | 2.3 MB    | ########8  |  89% \n",
      "libxgboost-1.5.0     | 2.3 MB    | #########2 |  92% \n",
      "libxgboost-1.5.0     | 2.3 MB    | #########5 |  95% \n",
      "libxgboost-1.5.0     | 2.3 MB    | #########8 |  98% \n",
      "libxgboost-1.5.0     | 2.3 MB    | ########## | 100% \n",
      "Preparing transaction: ...working... done\n",
      "Verifying transaction: ...working... done\n",
      "Executing transaction: ...working... done\n"
     ]
    }
   ],
   "source": [
    "conda install -c anaconda py-xgboost"
   ]
  },
  {
   "cell_type": "code",
   "execution_count": 66,
   "id": "3cf2e679",
   "metadata": {},
   "outputs": [],
   "source": [
    "from xgboost import XGBRegressor"
   ]
  },
  {
   "cell_type": "code",
   "execution_count": 67,
   "id": "2a11deca",
   "metadata": {},
   "outputs": [],
   "source": [
    "model_xgbr = XGBRegressor()"
   ]
  },
  {
   "cell_type": "code",
   "execution_count": 68,
   "id": "d71fbfab",
   "metadata": {},
   "outputs": [
    {
     "name": "stderr",
     "output_type": "stream",
     "text": [
      "C:\\Users\\welcome\\anaconda3\\lib\\site-packages\\xgboost\\data.py:250: FutureWarning: pandas.Int64Index is deprecated and will be removed from pandas in a future version. Use pandas.Index with the appropriate dtype instead.\n",
      "  elif isinstance(data.columns, (pd.Int64Index, pd.RangeIndex)):\n"
     ]
    },
    {
     "data": {
      "text/plain": [
       "XGBRegressor(base_score=0.5, booster='gbtree', colsample_bylevel=1,\n",
       "             colsample_bynode=1, colsample_bytree=1, enable_categorical=False,\n",
       "             gamma=0, gpu_id=-1, importance_type=None,\n",
       "             interaction_constraints='', learning_rate=0.300000012,\n",
       "             max_delta_step=0, max_depth=6, min_child_weight=1, missing=nan,\n",
       "             monotone_constraints='()', n_estimators=100, n_jobs=8,\n",
       "             num_parallel_tree=1, predictor='auto', random_state=0, reg_alpha=0,\n",
       "             reg_lambda=1, scale_pos_weight=1, subsample=1, tree_method='exact',\n",
       "             validate_parameters=1, verbosity=None)"
      ]
     },
     "execution_count": 68,
     "metadata": {},
     "output_type": "execute_result"
    }
   ],
   "source": [
    "model_xgbr.fit(X_train,y_train)"
   ]
  },
  {
   "cell_type": "code",
   "execution_count": null,
   "id": "bbcbfdb0",
   "metadata": {},
   "outputs": [],
   "source": []
  }
 ],
 "metadata": {
  "kernelspec": {
   "display_name": "Python 3 (ipykernel)",
   "language": "python",
   "name": "python3"
  },
  "language_info": {
   "codemirror_mode": {
    "name": "ipython",
    "version": 3
   },
   "file_extension": ".py",
   "mimetype": "text/x-python",
   "name": "python",
   "nbconvert_exporter": "python",
   "pygments_lexer": "ipython3",
   "version": "3.9.7"
  }
 },
 "nbformat": 4,
 "nbformat_minor": 5
}
