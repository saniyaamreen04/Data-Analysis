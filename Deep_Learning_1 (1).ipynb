{
 "cells": [
  {
   "cell_type": "markdown",
   "metadata": {
    "colab_type": "text",
    "id": "wY2-NcZaECPV"
   },
   "source": [
    "# Model -  Sequential\n",
    "\n",
    "**Sequential is the easiest way to build a model in Keras. It allows you to build a model layer by layer. Each layer has weights that correspond to the layer the follows it.**\n",
    "\n",
    "\n",
    "* We use the **‘add()’**  function to add layers to our model.\n",
    "\n",
    "\n",
    "* **‘Dense’** is the layer type. Dense is a standard layer type that works for most cases. In a dense layer, all nodes in the previous layer connect to the nodes in the current layer.\n",
    "\n",
    "\n",
    "**We define nodes in each of our input layers. This number can also be in the hundreds or thousands. Increasing the number of nodes in each layer increases model capacity. I will go into further detail about the effects of increasing model capacity shortly.**\n",
    "\n",
    "\n",
    "* **‘Activation’** is the activation function for the layer. An activation function allows models to take into account nonlinear relationships."
   ]
  },
  {
   "cell_type": "markdown",
   "metadata": {
    "colab_type": "text",
    "id": "nRevaPp6ECPX"
   },
   "source": [
    "**The first layer needs an input shape. The input shape specifies the number of rows and columns in the input.**\n"
   ]
  },
  {
   "cell_type": "markdown",
   "metadata": {
    "colab_type": "text",
    "id": "pTQbiteOECPY"
   },
   "source": [
    "**The last layer is the output layer. It only has one node, two nodes as per requirment. which is for our prediction.**"
   ]
  },
  {
   "cell_type": "markdown",
   "metadata": {
    "colab_type": "text",
    "id": "83ZTm03EECPZ"
   },
   "source": [
    "# Compiling Model. \n",
    "\n",
    "**Compiling the model takes two parameters: optimizer and loss.**\n",
    "\n",
    "* The **optimizer** controls the learning rate. We will be using **‘adam’** as our optmizer. \n",
    "\n",
    "* Adam is generally a good optimizer to use for many cases. The adam optimizer adjusts the learning rate throughout training.\n",
    "\n",
    "* The learning rate determines how fast the optimal weights for the model are calculated. A smaller learning rate may lead to more accurate weights (up to a certain point), but the time it takes to compute the weights will be longer.\n",
    "\n",
    "* For our loss function, we will use ‘as per requirment ( regression or Classification’."
   ]
  },
  {
   "cell_type": "markdown",
   "metadata": {
    "colab_type": "text",
    "id": "zAOm-0lsECPa"
   },
   "source": [
    "# Train\n",
    "\n",
    "* we will use the ‘fit()’ function on our model with the following five parameters: \n",
    "* training data (train_X), \n",
    "* target data (train_y), \n",
    "* validation split, \n",
    "* number of epochs \n",
    "* callbacks.\n",
    "\n",
    "* The validation split will randomly split the data into use for training and testing. \n",
    "\n",
    "* During training, we will be able to see the validation loss, If we will set the validation split at 0.2, which means that 20% of the training data we provide in the model will be set aside for testing model performance.\n",
    "\n",
    "* The number of epochs is the number of times the model will cycle through the data. The more epochs we run, the more the model will improve, up to a certain point. After that point, the model will stop improving during each epoch. In addition, the more epochs, the longer the model will take to run. To monitor this, we will use ‘early stopping’.\n",
    "\n",
    "* Early stopping will stop the model from training before the number of epochs is reached if the model stops improving. We will set our early stopping monitor to 3. This means that after 3 epochs in a row in which the model doesn’t improve, training will stop. Sometimes, the validation loss can stop improving then improve in the next epoch, but after 3 epochs in which the validation loss doesn’t improve, it usually won’t improve again."
   ]
  },
  {
   "cell_type": "markdown",
   "metadata": {
    "colab_type": "text",
    "id": "KkTXN3SkECPb"
   },
   "source": [
    "* to make predictions on new data, we would use the *‘predict()’* function, passing in our new data."
   ]
  },
  {
   "cell_type": "markdown",
   "metadata": {
    "colab_type": "text",
    "id": "e9M2hRzxECPc"
   },
   "source": [
    "**As you increase the number of nodes and layers in a model, the model capacity increases. Increasing model capacity can lead to a more accurate model, up to a certain point, at which the model will stop improving. Generally, the more training data you provide, the larger the model should be.**"
   ]
  },
  {
   "cell_type": "markdown",
   "metadata": {
    "colab_type": "text",
    "id": "x9pgXM8wECPc"
   },
   "source": [
    "#  Deep Learning Model"
   ]
  },
  {
   "cell_type": "code",
   "execution_count": 1,
   "metadata": {},
   "outputs": [],
   "source": [
    "#conda install tensorflow  ,in anaconda prompt"
   ]
  },
  {
   "cell_type": "code",
   "execution_count": 2,
   "metadata": {},
   "outputs": [],
   "source": [
    "#conda install keras  , in anaconda prompt"
   ]
  },
  {
   "cell_type": "code",
   "execution_count": 3,
   "metadata": {
    "colab": {},
    "colab_type": "code",
    "id": "99293I--mwjt"
   },
   "outputs": [],
   "source": [
    "import tensorflow as tf   "
   ]
  },
  {
   "cell_type": "code",
   "execution_count": 47,
   "metadata": {
    "scrolled": true
   },
   "outputs": [],
   "source": [
    "from tensorflow import keras"
   ]
  },
  {
   "cell_type": "code",
   "execution_count": 5,
   "metadata": {
    "colab": {},
    "colab_type": "code",
    "id": "2537BMEcnAHU"
   },
   "outputs": [],
   "source": [
    "from tensorflow.keras import Sequential    #  model"
   ]
  },
  {
   "cell_type": "code",
   "execution_count": 6,
   "metadata": {
    "colab": {},
    "colab_type": "code",
    "id": "WTeJJ5TpnAWJ"
   },
   "outputs": [],
   "source": [
    "from tensorflow.keras.layers import Dense"
   ]
  },
  {
   "cell_type": "code",
   "execution_count": 7,
   "metadata": {
    "colab": {},
    "colab_type": "code",
    "id": "speqEhqPn5Vb"
   },
   "outputs": [],
   "source": [
    "import numpy as np\n",
    "import pandas as pd"
   ]
  },
  {
   "cell_type": "code",
   "execution_count": 8,
   "metadata": {
    "colab": {},
    "colab_type": "code",
    "id": "6oRtmuChnAm-"
   },
   "outputs": [],
   "source": [
    "data = pd.read_csv(\"/home/shyam/Documents/datasets/IRIS.csv\") "
   ]
  },
  {
   "cell_type": "code",
   "execution_count": 9,
   "metadata": {
    "colab": {
     "base_uri": "https://localhost:8080/",
     "height": 195
    },
    "colab_type": "code",
    "id": "Y6_rZHcYotks",
    "outputId": "4c2400dd-aee2-41ce-f689-78ab5879f238"
   },
   "outputs": [
    {
     "data": {
      "text/html": [
       "<div>\n",
       "<style scoped>\n",
       "    .dataframe tbody tr th:only-of-type {\n",
       "        vertical-align: middle;\n",
       "    }\n",
       "\n",
       "    .dataframe tbody tr th {\n",
       "        vertical-align: top;\n",
       "    }\n",
       "\n",
       "    .dataframe thead th {\n",
       "        text-align: right;\n",
       "    }\n",
       "</style>\n",
       "<table border=\"1\" class=\"dataframe\">\n",
       "  <thead>\n",
       "    <tr style=\"text-align: right;\">\n",
       "      <th></th>\n",
       "      <th>sepal_length</th>\n",
       "      <th>sepal_width</th>\n",
       "      <th>petal_length</th>\n",
       "      <th>petal_width</th>\n",
       "      <th>species</th>\n",
       "    </tr>\n",
       "  </thead>\n",
       "  <tbody>\n",
       "    <tr>\n",
       "      <th>0</th>\n",
       "      <td>5.1</td>\n",
       "      <td>3.5</td>\n",
       "      <td>1.4</td>\n",
       "      <td>0.2</td>\n",
       "      <td>Iris-setosa</td>\n",
       "    </tr>\n",
       "    <tr>\n",
       "      <th>1</th>\n",
       "      <td>4.9</td>\n",
       "      <td>3.0</td>\n",
       "      <td>1.4</td>\n",
       "      <td>0.2</td>\n",
       "      <td>Iris-setosa</td>\n",
       "    </tr>\n",
       "    <tr>\n",
       "      <th>2</th>\n",
       "      <td>4.7</td>\n",
       "      <td>3.2</td>\n",
       "      <td>1.3</td>\n",
       "      <td>0.2</td>\n",
       "      <td>Iris-setosa</td>\n",
       "    </tr>\n",
       "    <tr>\n",
       "      <th>3</th>\n",
       "      <td>4.6</td>\n",
       "      <td>3.1</td>\n",
       "      <td>1.5</td>\n",
       "      <td>0.2</td>\n",
       "      <td>Iris-setosa</td>\n",
       "    </tr>\n",
       "    <tr>\n",
       "      <th>4</th>\n",
       "      <td>5.0</td>\n",
       "      <td>3.6</td>\n",
       "      <td>1.4</td>\n",
       "      <td>0.2</td>\n",
       "      <td>Iris-setosa</td>\n",
       "    </tr>\n",
       "  </tbody>\n",
       "</table>\n",
       "</div>"
      ],
      "text/plain": [
       "   sepal_length  sepal_width  petal_length  petal_width      species\n",
       "0           5.1          3.5           1.4          0.2  Iris-setosa\n",
       "1           4.9          3.0           1.4          0.2  Iris-setosa\n",
       "2           4.7          3.2           1.3          0.2  Iris-setosa\n",
       "3           4.6          3.1           1.5          0.2  Iris-setosa\n",
       "4           5.0          3.6           1.4          0.2  Iris-setosa"
      ]
     },
     "execution_count": 9,
     "metadata": {},
     "output_type": "execute_result"
    }
   ],
   "source": [
    "data.head()"
   ]
  },
  {
   "cell_type": "code",
   "execution_count": 10,
   "metadata": {
    "colab": {
     "base_uri": "https://localhost:8080/",
     "height": 134
    },
    "colab_type": "code",
    "id": "X_Z6bn2lpXsR",
    "outputId": "82c558c2-9201-4eb7-c86e-920542489126"
   },
   "outputs": [
    {
     "data": {
      "text/plain": [
       "sepal_length    float64\n",
       "sepal_width     float64\n",
       "petal_length    float64\n",
       "petal_width     float64\n",
       "species          object\n",
       "dtype: object"
      ]
     },
     "execution_count": 10,
     "metadata": {},
     "output_type": "execute_result"
    }
   ],
   "source": [
    "data.dtypes"
   ]
  },
  {
   "cell_type": "code",
   "execution_count": 11,
   "metadata": {},
   "outputs": [
    {
     "data": {
      "text/plain": [
       "(150, 5)"
      ]
     },
     "execution_count": 11,
     "metadata": {},
     "output_type": "execute_result"
    }
   ],
   "source": [
    "data.shape"
   ]
  },
  {
   "cell_type": "code",
   "execution_count": 12,
   "metadata": {
    "colab": {},
    "colab_type": "code",
    "id": "Xxi3wIcqpXvV"
   },
   "outputs": [],
   "source": [
    "from sklearn.preprocessing import LabelEncoder\n",
    "\n",
    "lc = LabelEncoder()"
   ]
  },
  {
   "cell_type": "code",
   "execution_count": 13,
   "metadata": {
    "colab": {},
    "colab_type": "code",
    "id": "YOfP7EX2tCcY"
   },
   "outputs": [],
   "source": [
    "data['species'] = lc.fit_transform(data['species'])"
   ]
  },
  {
   "cell_type": "code",
   "execution_count": 14,
   "metadata": {
    "colab": {
     "base_uri": "https://localhost:8080/",
     "height": 195
    },
    "colab_type": "code",
    "id": "HhFh4-wIpXwv",
    "outputId": "6e287b19-4677-4f3e-c8a0-73057f706479"
   },
   "outputs": [
    {
     "data": {
      "text/html": [
       "<div>\n",
       "<style scoped>\n",
       "    .dataframe tbody tr th:only-of-type {\n",
       "        vertical-align: middle;\n",
       "    }\n",
       "\n",
       "    .dataframe tbody tr th {\n",
       "        vertical-align: top;\n",
       "    }\n",
       "\n",
       "    .dataframe thead th {\n",
       "        text-align: right;\n",
       "    }\n",
       "</style>\n",
       "<table border=\"1\" class=\"dataframe\">\n",
       "  <thead>\n",
       "    <tr style=\"text-align: right;\">\n",
       "      <th></th>\n",
       "      <th>sepal_length</th>\n",
       "      <th>sepal_width</th>\n",
       "      <th>petal_length</th>\n",
       "      <th>petal_width</th>\n",
       "      <th>species</th>\n",
       "    </tr>\n",
       "  </thead>\n",
       "  <tbody>\n",
       "    <tr>\n",
       "      <th>0</th>\n",
       "      <td>5.1</td>\n",
       "      <td>3.5</td>\n",
       "      <td>1.4</td>\n",
       "      <td>0.2</td>\n",
       "      <td>0</td>\n",
       "    </tr>\n",
       "    <tr>\n",
       "      <th>1</th>\n",
       "      <td>4.9</td>\n",
       "      <td>3.0</td>\n",
       "      <td>1.4</td>\n",
       "      <td>0.2</td>\n",
       "      <td>0</td>\n",
       "    </tr>\n",
       "    <tr>\n",
       "      <th>2</th>\n",
       "      <td>4.7</td>\n",
       "      <td>3.2</td>\n",
       "      <td>1.3</td>\n",
       "      <td>0.2</td>\n",
       "      <td>0</td>\n",
       "    </tr>\n",
       "    <tr>\n",
       "      <th>3</th>\n",
       "      <td>4.6</td>\n",
       "      <td>3.1</td>\n",
       "      <td>1.5</td>\n",
       "      <td>0.2</td>\n",
       "      <td>0</td>\n",
       "    </tr>\n",
       "    <tr>\n",
       "      <th>4</th>\n",
       "      <td>5.0</td>\n",
       "      <td>3.6</td>\n",
       "      <td>1.4</td>\n",
       "      <td>0.2</td>\n",
       "      <td>0</td>\n",
       "    </tr>\n",
       "  </tbody>\n",
       "</table>\n",
       "</div>"
      ],
      "text/plain": [
       "   sepal_length  sepal_width  petal_length  petal_width  species\n",
       "0           5.1          3.5           1.4          0.2        0\n",
       "1           4.9          3.0           1.4          0.2        0\n",
       "2           4.7          3.2           1.3          0.2        0\n",
       "3           4.6          3.1           1.5          0.2        0\n",
       "4           5.0          3.6           1.4          0.2        0"
      ]
     },
     "execution_count": 14,
     "metadata": {},
     "output_type": "execute_result"
    }
   ],
   "source": [
    "data.head()"
   ]
  },
  {
   "cell_type": "code",
   "execution_count": 15,
   "metadata": {
    "colab": {
     "base_uri": "https://localhost:8080/",
     "height": 134
    },
    "colab_type": "code",
    "id": "jx6WhAMkpXzf",
    "outputId": "28c94661-1477-4fc5-b929-43027e0ccbd9"
   },
   "outputs": [
    {
     "data": {
      "text/plain": [
       "sepal_length    0\n",
       "sepal_width     0\n",
       "petal_length    0\n",
       "petal_width     0\n",
       "species         0\n",
       "dtype: int64"
      ]
     },
     "execution_count": 15,
     "metadata": {},
     "output_type": "execute_result"
    }
   ],
   "source": [
    "data.isnull().sum()"
   ]
  },
  {
   "cell_type": "code",
   "execution_count": 16,
   "metadata": {
    "colab": {},
    "colab_type": "code",
    "id": "8eNAPEH1pX0x"
   },
   "outputs": [],
   "source": [
    "X = data.iloc[:,0:4]"
   ]
  },
  {
   "cell_type": "code",
   "execution_count": 17,
   "metadata": {
    "colab": {
     "base_uri": "https://localhost:8080/",
     "height": 195
    },
    "colab_type": "code",
    "id": "RnrNWRpTpX4v",
    "outputId": "e22ce3f2-a72d-4526-83a0-c32dd214ea5a"
   },
   "outputs": [
    {
     "data": {
      "text/html": [
       "<div>\n",
       "<style scoped>\n",
       "    .dataframe tbody tr th:only-of-type {\n",
       "        vertical-align: middle;\n",
       "    }\n",
       "\n",
       "    .dataframe tbody tr th {\n",
       "        vertical-align: top;\n",
       "    }\n",
       "\n",
       "    .dataframe thead th {\n",
       "        text-align: right;\n",
       "    }\n",
       "</style>\n",
       "<table border=\"1\" class=\"dataframe\">\n",
       "  <thead>\n",
       "    <tr style=\"text-align: right;\">\n",
       "      <th></th>\n",
       "      <th>sepal_length</th>\n",
       "      <th>sepal_width</th>\n",
       "      <th>petal_length</th>\n",
       "      <th>petal_width</th>\n",
       "    </tr>\n",
       "  </thead>\n",
       "  <tbody>\n",
       "    <tr>\n",
       "      <th>0</th>\n",
       "      <td>5.1</td>\n",
       "      <td>3.5</td>\n",
       "      <td>1.4</td>\n",
       "      <td>0.2</td>\n",
       "    </tr>\n",
       "    <tr>\n",
       "      <th>1</th>\n",
       "      <td>4.9</td>\n",
       "      <td>3.0</td>\n",
       "      <td>1.4</td>\n",
       "      <td>0.2</td>\n",
       "    </tr>\n",
       "    <tr>\n",
       "      <th>2</th>\n",
       "      <td>4.7</td>\n",
       "      <td>3.2</td>\n",
       "      <td>1.3</td>\n",
       "      <td>0.2</td>\n",
       "    </tr>\n",
       "    <tr>\n",
       "      <th>3</th>\n",
       "      <td>4.6</td>\n",
       "      <td>3.1</td>\n",
       "      <td>1.5</td>\n",
       "      <td>0.2</td>\n",
       "    </tr>\n",
       "    <tr>\n",
       "      <th>4</th>\n",
       "      <td>5.0</td>\n",
       "      <td>3.6</td>\n",
       "      <td>1.4</td>\n",
       "      <td>0.2</td>\n",
       "    </tr>\n",
       "  </tbody>\n",
       "</table>\n",
       "</div>"
      ],
      "text/plain": [
       "   sepal_length  sepal_width  petal_length  petal_width\n",
       "0           5.1          3.5           1.4          0.2\n",
       "1           4.9          3.0           1.4          0.2\n",
       "2           4.7          3.2           1.3          0.2\n",
       "3           4.6          3.1           1.5          0.2\n",
       "4           5.0          3.6           1.4          0.2"
      ]
     },
     "execution_count": 17,
     "metadata": {},
     "output_type": "execute_result"
    }
   ],
   "source": [
    "X.head()   # Independent variable"
   ]
  },
  {
   "cell_type": "code",
   "execution_count": 18,
   "metadata": {},
   "outputs": [],
   "source": [
    "#y"
   ]
  },
  {
   "cell_type": "code",
   "execution_count": 19,
   "metadata": {},
   "outputs": [],
   "source": [
    "y=data['species']   # dependent variable"
   ]
  },
  {
   "cell_type": "code",
   "execution_count": 20,
   "metadata": {},
   "outputs": [],
   "source": [
    "from sklearn.model_selection import train_test_split"
   ]
  },
  {
   "cell_type": "code",
   "execution_count": 21,
   "metadata": {},
   "outputs": [],
   "source": [
    "X_train,X_test,y_train,y_test=train_test_split(X,y, test_size=0.2)"
   ]
  },
  {
   "cell_type": "code",
   "execution_count": 22,
   "metadata": {
    "colab": {},
    "colab_type": "code",
    "id": "o9lWotpXpYEi"
   },
   "outputs": [],
   "source": [
    "model = Sequential()\n",
    "\n",
    "model.add(Dense(10, input_dim=4, activation='relu'))\n",
    "model.add(Dense(10, activation='relu'))\n",
    "model.add(Dense(3, activation='softmax'))# if 2 categorical output , sigmoid activation\n",
    "\n",
    "model.compile(loss='sparse_categorical_crossentropy', optimizer='adam', metrics=['accuracy'])"
   ]
  },
  {
   "cell_type": "code",
   "execution_count": 23,
   "metadata": {
    "colab": {
     "base_uri": "https://localhost:8080/",
     "height": 1000
    },
    "colab_type": "code",
    "id": "6VM4X5LBpX_P",
    "outputId": "6daaa873-1280-47e1-bd9b-de23b8540512"
   },
   "outputs": [
    {
     "name": "stdout",
     "output_type": "stream",
     "text": [
      "Epoch 1/300\n",
      "10/10 [==============================] - 1s 33ms/step - loss: 1.2450 - accuracy: 0.3333 - val_loss: 1.1586 - val_accuracy: 0.4167\n",
      "Epoch 2/300\n",
      "10/10 [==============================] - 0s 5ms/step - loss: 1.1507 - accuracy: 0.3438 - val_loss: 1.0769 - val_accuracy: 0.6250\n",
      "Epoch 3/300\n",
      "10/10 [==============================] - 0s 5ms/step - loss: 1.0569 - accuracy: 0.5625 - val_loss: 0.9973 - val_accuracy: 0.4167\n",
      "Epoch 4/300\n",
      "10/10 [==============================] - 0s 6ms/step - loss: 0.9864 - accuracy: 0.3438 - val_loss: 0.9677 - val_accuracy: 0.3333\n",
      "Epoch 5/300\n",
      "10/10 [==============================] - 0s 7ms/step - loss: 0.9638 - accuracy: 0.4271 - val_loss: 0.9434 - val_accuracy: 0.6667\n",
      "Epoch 6/300\n",
      "10/10 [==============================] - 0s 6ms/step - loss: 0.9317 - accuracy: 0.5938 - val_loss: 0.9132 - val_accuracy: 0.7083\n",
      "Epoch 7/300\n",
      "10/10 [==============================] - 0s 5ms/step - loss: 0.9051 - accuracy: 0.6667 - val_loss: 0.8924 - val_accuracy: 0.7500\n",
      "Epoch 8/300\n",
      "10/10 [==============================] - 0s 7ms/step - loss: 0.8831 - accuracy: 0.7708 - val_loss: 0.8693 - val_accuracy: 0.8750\n",
      "Epoch 9/300\n",
      "10/10 [==============================] - 0s 6ms/step - loss: 0.8614 - accuracy: 0.7604 - val_loss: 0.8477 - val_accuracy: 0.8333\n",
      "Epoch 10/300\n",
      "10/10 [==============================] - 0s 5ms/step - loss: 0.8443 - accuracy: 0.7292 - val_loss: 0.8289 - val_accuracy: 0.8333\n",
      "Epoch 11/300\n",
      "10/10 [==============================] - 0s 6ms/step - loss: 0.8246 - accuracy: 0.8438 - val_loss: 0.8115 - val_accuracy: 0.8750\n",
      "Epoch 12/300\n",
      "10/10 [==============================] - 0s 6ms/step - loss: 0.8079 - accuracy: 0.8438 - val_loss: 0.7944 - val_accuracy: 0.8750\n",
      "Epoch 13/300\n",
      "10/10 [==============================] - 0s 5ms/step - loss: 0.7887 - accuracy: 0.8438 - val_loss: 0.7812 - val_accuracy: 0.8750\n",
      "Epoch 14/300\n",
      "10/10 [==============================] - 0s 5ms/step - loss: 0.7734 - accuracy: 0.8646 - val_loss: 0.7665 - val_accuracy: 0.8750\n",
      "Epoch 15/300\n",
      "10/10 [==============================] - 0s 5ms/step - loss: 0.7588 - accuracy: 0.8438 - val_loss: 0.7526 - val_accuracy: 0.8750\n",
      "Epoch 16/300\n",
      "10/10 [==============================] - 0s 5ms/step - loss: 0.7451 - accuracy: 0.8646 - val_loss: 0.7401 - val_accuracy: 0.9167\n",
      "Epoch 17/300\n",
      "10/10 [==============================] - 0s 5ms/step - loss: 0.7285 - accuracy: 0.8854 - val_loss: 0.7235 - val_accuracy: 0.9167\n",
      "Epoch 18/300\n",
      "10/10 [==============================] - 0s 4ms/step - loss: 0.7166 - accuracy: 0.8646 - val_loss: 0.7082 - val_accuracy: 0.9167\n",
      "Epoch 19/300\n",
      "10/10 [==============================] - 0s 5ms/step - loss: 0.6999 - accuracy: 0.8646 - val_loss: 0.6948 - val_accuracy: 0.9167\n",
      "Epoch 20/300\n",
      "10/10 [==============================] - 0s 5ms/step - loss: 0.6873 - accuracy: 0.9062 - val_loss: 0.6813 - val_accuracy: 0.9167\n",
      "Epoch 21/300\n",
      "10/10 [==============================] - 0s 5ms/step - loss: 0.6757 - accuracy: 0.9271 - val_loss: 0.6686 - val_accuracy: 0.9583\n",
      "Epoch 22/300\n",
      "10/10 [==============================] - 0s 5ms/step - loss: 0.6564 - accuracy: 0.9271 - val_loss: 0.6520 - val_accuracy: 0.9167\n",
      "Epoch 23/300\n",
      "10/10 [==============================] - 0s 5ms/step - loss: 0.6441 - accuracy: 0.8958 - val_loss: 0.6373 - val_accuracy: 0.9167\n",
      "Epoch 24/300\n",
      "10/10 [==============================] - 0s 6ms/step - loss: 0.6322 - accuracy: 0.9167 - val_loss: 0.6243 - val_accuracy: 0.9583\n",
      "Epoch 25/300\n",
      "10/10 [==============================] - 0s 5ms/step - loss: 0.6156 - accuracy: 0.9375 - val_loss: 0.6084 - val_accuracy: 0.9167\n",
      "Epoch 26/300\n",
      "10/10 [==============================] - 0s 5ms/step - loss: 0.6032 - accuracy: 0.9375 - val_loss: 0.5950 - val_accuracy: 0.9583\n",
      "Epoch 27/300\n",
      "10/10 [==============================] - 0s 6ms/step - loss: 0.5878 - accuracy: 0.9479 - val_loss: 0.5795 - val_accuracy: 0.9583\n",
      "Epoch 28/300\n",
      "10/10 [==============================] - 0s 5ms/step - loss: 0.5735 - accuracy: 0.9271 - val_loss: 0.5642 - val_accuracy: 0.9583\n",
      "Epoch 29/300\n",
      "10/10 [==============================] - 0s 6ms/step - loss: 0.5597 - accuracy: 0.9271 - val_loss: 0.5502 - val_accuracy: 0.9583\n",
      "Epoch 30/300\n",
      "10/10 [==============================] - 0s 5ms/step - loss: 0.5446 - accuracy: 0.9583 - val_loss: 0.5372 - val_accuracy: 0.9583\n",
      "Epoch 31/300\n",
      "10/10 [==============================] - 0s 6ms/step - loss: 0.5326 - accuracy: 0.9688 - val_loss: 0.5242 - val_accuracy: 0.9583\n",
      "Epoch 32/300\n",
      "10/10 [==============================] - 0s 6ms/step - loss: 0.5178 - accuracy: 0.9688 - val_loss: 0.5078 - val_accuracy: 0.9583\n",
      "Epoch 33/300\n",
      "10/10 [==============================] - 0s 6ms/step - loss: 0.5041 - accuracy: 0.9688 - val_loss: 0.4928 - val_accuracy: 0.9583\n",
      "Epoch 34/300\n",
      "10/10 [==============================] - 0s 5ms/step - loss: 0.4918 - accuracy: 0.9688 - val_loss: 0.4794 - val_accuracy: 0.9583\n",
      "Epoch 35/300\n",
      "10/10 [==============================] - 0s 6ms/step - loss: 0.4777 - accuracy: 0.9688 - val_loss: 0.4659 - val_accuracy: 0.9583\n",
      "Epoch 36/300\n",
      "10/10 [==============================] - 0s 5ms/step - loss: 0.4652 - accuracy: 0.9688 - val_loss: 0.4533 - val_accuracy: 0.9583\n",
      "Epoch 37/300\n",
      "10/10 [==============================] - 0s 5ms/step - loss: 0.4527 - accuracy: 0.9688 - val_loss: 0.4393 - val_accuracy: 0.9583\n",
      "Epoch 38/300\n",
      "10/10 [==============================] - 0s 5ms/step - loss: 0.4402 - accuracy: 0.9688 - val_loss: 0.4274 - val_accuracy: 0.9583\n",
      "Epoch 39/300\n",
      "10/10 [==============================] - 0s 5ms/step - loss: 0.4281 - accuracy: 0.9792 - val_loss: 0.4142 - val_accuracy: 0.9583\n",
      "Epoch 40/300\n",
      "10/10 [==============================] - 0s 5ms/step - loss: 0.4152 - accuracy: 0.9792 - val_loss: 0.4032 - val_accuracy: 0.9583\n",
      "Epoch 41/300\n",
      "10/10 [==============================] - 0s 5ms/step - loss: 0.4046 - accuracy: 0.9792 - val_loss: 0.3915 - val_accuracy: 0.9583\n",
      "Epoch 42/300\n",
      "10/10 [==============================] - 0s 5ms/step - loss: 0.3922 - accuracy: 0.9792 - val_loss: 0.3776 - val_accuracy: 0.9583\n",
      "Epoch 43/300\n",
      "10/10 [==============================] - 0s 5ms/step - loss: 0.3845 - accuracy: 0.9792 - val_loss: 0.3671 - val_accuracy: 0.9583\n",
      "Epoch 44/300\n",
      "10/10 [==============================] - 0s 5ms/step - loss: 0.3726 - accuracy: 0.9792 - val_loss: 0.3569 - val_accuracy: 0.9583\n",
      "Epoch 45/300\n",
      "10/10 [==============================] - 0s 5ms/step - loss: 0.3600 - accuracy: 0.9792 - val_loss: 0.3452 - val_accuracy: 0.9583\n",
      "Epoch 46/300\n",
      "10/10 [==============================] - 0s 5ms/step - loss: 0.3522 - accuracy: 0.9792 - val_loss: 0.3358 - val_accuracy: 0.9583\n",
      "Epoch 47/300\n",
      "10/10 [==============================] - 0s 5ms/step - loss: 0.3419 - accuracy: 0.9792 - val_loss: 0.3251 - val_accuracy: 0.9583\n",
      "Epoch 48/300\n",
      "10/10 [==============================] - 0s 5ms/step - loss: 0.3360 - accuracy: 0.9688 - val_loss: 0.3169 - val_accuracy: 0.9583\n",
      "Epoch 49/300\n",
      "10/10 [==============================] - 0s 5ms/step - loss: 0.3243 - accuracy: 0.9688 - val_loss: 0.3100 - val_accuracy: 0.9583\n",
      "Epoch 50/300\n",
      "10/10 [==============================] - 0s 6ms/step - loss: 0.3160 - accuracy: 0.9792 - val_loss: 0.2983 - val_accuracy: 0.9583\n",
      "Epoch 51/300\n",
      "10/10 [==============================] - 0s 5ms/step - loss: 0.3084 - accuracy: 0.9688 - val_loss: 0.2910 - val_accuracy: 0.9583\n",
      "Epoch 52/300\n",
      "10/10 [==============================] - 0s 5ms/step - loss: 0.3011 - accuracy: 0.9688 - val_loss: 0.2856 - val_accuracy: 0.9583\n",
      "Epoch 53/300\n",
      "10/10 [==============================] - 0s 5ms/step - loss: 0.2916 - accuracy: 0.9688 - val_loss: 0.2764 - val_accuracy: 0.9583\n",
      "Epoch 54/300\n",
      "10/10 [==============================] - 0s 5ms/step - loss: 0.2845 - accuracy: 0.9688 - val_loss: 0.2687 - val_accuracy: 0.9583\n",
      "Epoch 55/300\n",
      "10/10 [==============================] - 0s 5ms/step - loss: 0.2778 - accuracy: 0.9792 - val_loss: 0.2619 - val_accuracy: 0.9583\n",
      "Epoch 56/300\n",
      "10/10 [==============================] - 0s 5ms/step - loss: 0.2710 - accuracy: 0.9792 - val_loss: 0.2560 - val_accuracy: 0.9583\n",
      "Epoch 57/300\n",
      "10/10 [==============================] - 0s 5ms/step - loss: 0.2646 - accuracy: 0.9688 - val_loss: 0.2517 - val_accuracy: 0.9583\n",
      "Epoch 58/300\n",
      "10/10 [==============================] - 0s 5ms/step - loss: 0.2599 - accuracy: 0.9688 - val_loss: 0.2453 - val_accuracy: 0.9583\n"
     ]
    },
    {
     "name": "stdout",
     "output_type": "stream",
     "text": [
      "Epoch 59/300\n",
      "10/10 [==============================] - 0s 5ms/step - loss: 0.2536 - accuracy: 0.9792 - val_loss: 0.2378 - val_accuracy: 0.9583\n",
      "Epoch 60/300\n",
      "10/10 [==============================] - 0s 5ms/step - loss: 0.2489 - accuracy: 0.9688 - val_loss: 0.2352 - val_accuracy: 0.9167\n",
      "Epoch 61/300\n",
      "10/10 [==============================] - 0s 5ms/step - loss: 0.2417 - accuracy: 0.9688 - val_loss: 0.2277 - val_accuracy: 0.9583\n",
      "Epoch 62/300\n",
      "10/10 [==============================] - 0s 5ms/step - loss: 0.2389 - accuracy: 0.9688 - val_loss: 0.2233 - val_accuracy: 0.9583\n",
      "Epoch 63/300\n",
      "10/10 [==============================] - 0s 5ms/step - loss: 0.2335 - accuracy: 0.9688 - val_loss: 0.2183 - val_accuracy: 0.9583\n",
      "Epoch 64/300\n",
      "10/10 [==============================] - 0s 5ms/step - loss: 0.2283 - accuracy: 0.9688 - val_loss: 0.2170 - val_accuracy: 0.9583\n",
      "Epoch 65/300\n",
      "10/10 [==============================] - 0s 5ms/step - loss: 0.2237 - accuracy: 0.9688 - val_loss: 0.2102 - val_accuracy: 0.9583\n",
      "Epoch 66/300\n",
      "10/10 [==============================] - 0s 5ms/step - loss: 0.2187 - accuracy: 0.9792 - val_loss: 0.2055 - val_accuracy: 0.9583\n",
      "Epoch 67/300\n",
      "10/10 [==============================] - 0s 7ms/step - loss: 0.2165 - accuracy: 0.9792 - val_loss: 0.2019 - val_accuracy: 0.9583\n",
      "Epoch 68/300\n",
      "10/10 [==============================] - 0s 5ms/step - loss: 0.2105 - accuracy: 0.9688 - val_loss: 0.2006 - val_accuracy: 0.9583\n",
      "Epoch 69/300\n",
      "10/10 [==============================] - 0s 5ms/step - loss: 0.2084 - accuracy: 0.9688 - val_loss: 0.1950 - val_accuracy: 0.9583\n",
      "Epoch 70/300\n",
      "10/10 [==============================] - 0s 5ms/step - loss: 0.2053 - accuracy: 0.9688 - val_loss: 0.1921 - val_accuracy: 0.9167\n",
      "Epoch 71/300\n",
      "10/10 [==============================] - 0s 5ms/step - loss: 0.1990 - accuracy: 0.9688 - val_loss: 0.1886 - val_accuracy: 0.9583\n",
      "Epoch 72/300\n",
      "10/10 [==============================] - 0s 5ms/step - loss: 0.1958 - accuracy: 0.9688 - val_loss: 0.1846 - val_accuracy: 0.9583\n",
      "Epoch 73/300\n",
      "10/10 [==============================] - 0s 5ms/step - loss: 0.1927 - accuracy: 0.9688 - val_loss: 0.1826 - val_accuracy: 0.9167\n",
      "Epoch 74/300\n",
      "10/10 [==============================] - 0s 5ms/step - loss: 0.1975 - accuracy: 0.9688 - val_loss: 0.1786 - val_accuracy: 0.9583\n",
      "Epoch 75/300\n",
      "10/10 [==============================] - 0s 5ms/step - loss: 0.1872 - accuracy: 0.9688 - val_loss: 0.1805 - val_accuracy: 0.9583\n",
      "Epoch 76/300\n",
      "10/10 [==============================] - 0s 5ms/step - loss: 0.1845 - accuracy: 0.9792 - val_loss: 0.1742 - val_accuracy: 0.9167\n",
      "Epoch 77/300\n",
      "10/10 [==============================] - 0s 5ms/step - loss: 0.1797 - accuracy: 0.9688 - val_loss: 0.1703 - val_accuracy: 0.9583\n",
      "Epoch 78/300\n",
      "10/10 [==============================] - 0s 5ms/step - loss: 0.1792 - accuracy: 0.9688 - val_loss: 0.1680 - val_accuracy: 0.9583\n",
      "Epoch 79/300\n",
      "10/10 [==============================] - 0s 5ms/step - loss: 0.1753 - accuracy: 0.9688 - val_loss: 0.1666 - val_accuracy: 0.9167\n",
      "Epoch 80/300\n",
      "10/10 [==============================] - 0s 5ms/step - loss: 0.1724 - accuracy: 0.9688 - val_loss: 0.1644 - val_accuracy: 0.9167\n",
      "Epoch 81/300\n",
      "10/10 [==============================] - 0s 5ms/step - loss: 0.1698 - accuracy: 0.9688 - val_loss: 0.1606 - val_accuracy: 0.9583\n",
      "Epoch 82/300\n",
      "10/10 [==============================] - 0s 5ms/step - loss: 0.1683 - accuracy: 0.9688 - val_loss: 0.1590 - val_accuracy: 0.9583\n",
      "Epoch 83/300\n",
      "10/10 [==============================] - 0s 5ms/step - loss: 0.1685 - accuracy: 0.9792 - val_loss: 0.1567 - val_accuracy: 0.9583\n",
      "Epoch 84/300\n",
      "10/10 [==============================] - 0s 5ms/step - loss: 0.1604 - accuracy: 0.9688 - val_loss: 0.1585 - val_accuracy: 0.9583\n",
      "Epoch 85/300\n",
      "10/10 [==============================] - 0s 6ms/step - loss: 0.1631 - accuracy: 0.9896 - val_loss: 0.1569 - val_accuracy: 0.9583\n",
      "Epoch 86/300\n",
      "10/10 [==============================] - 0s 5ms/step - loss: 0.1650 - accuracy: 0.9688 - val_loss: 0.1515 - val_accuracy: 0.9583\n",
      "Epoch 87/300\n",
      "10/10 [==============================] - 0s 5ms/step - loss: 0.1562 - accuracy: 0.9792 - val_loss: 0.1510 - val_accuracy: 0.9583\n",
      "Epoch 88/300\n",
      "10/10 [==============================] - 0s 5ms/step - loss: 0.1621 - accuracy: 0.9688 - val_loss: 0.1543 - val_accuracy: 0.9583\n",
      "Epoch 89/300\n",
      "10/10 [==============================] - 0s 5ms/step - loss: 0.1556 - accuracy: 0.9792 - val_loss: 0.1469 - val_accuracy: 0.9583\n",
      "Epoch 90/300\n",
      "10/10 [==============================] - 0s 7ms/step - loss: 0.1542 - accuracy: 0.9792 - val_loss: 0.1439 - val_accuracy: 0.9583\n",
      "Epoch 91/300\n",
      "10/10 [==============================] - 0s 5ms/step - loss: 0.1503 - accuracy: 0.9688 - val_loss: 0.1454 - val_accuracy: 0.9583\n",
      "Epoch 92/300\n",
      "10/10 [==============================] - 0s 5ms/step - loss: 0.1470 - accuracy: 0.9688 - val_loss: 0.1408 - val_accuracy: 0.9583\n",
      "Epoch 93/300\n",
      "10/10 [==============================] - 0s 5ms/step - loss: 0.1456 - accuracy: 0.9688 - val_loss: 0.1397 - val_accuracy: 0.9583\n",
      "Epoch 94/300\n",
      "10/10 [==============================] - 0s 5ms/step - loss: 0.1451 - accuracy: 0.9688 - val_loss: 0.1392 - val_accuracy: 0.9583\n",
      "Epoch 95/300\n",
      "10/10 [==============================] - 0s 5ms/step - loss: 0.1409 - accuracy: 0.9688 - val_loss: 0.1371 - val_accuracy: 0.9167\n",
      "Epoch 96/300\n",
      "10/10 [==============================] - 0s 6ms/step - loss: 0.1414 - accuracy: 0.9688 - val_loss: 0.1349 - val_accuracy: 0.9583\n",
      "Epoch 97/300\n",
      "10/10 [==============================] - 0s 5ms/step - loss: 0.1397 - accuracy: 0.9688 - val_loss: 0.1379 - val_accuracy: 0.9583\n",
      "Epoch 98/300\n",
      "10/10 [==============================] - 0s 5ms/step - loss: 0.1370 - accuracy: 0.9688 - val_loss: 0.1326 - val_accuracy: 0.9167\n",
      "Epoch 99/300\n",
      "10/10 [==============================] - 0s 5ms/step - loss: 0.1359 - accuracy: 0.9688 - val_loss: 0.1320 - val_accuracy: 0.9167\n",
      "Epoch 100/300\n",
      "10/10 [==============================] - 0s 5ms/step - loss: 0.1338 - accuracy: 0.9688 - val_loss: 0.1301 - val_accuracy: 0.9583\n",
      "Epoch 101/300\n",
      "10/10 [==============================] - 0s 5ms/step - loss: 0.1316 - accuracy: 0.9688 - val_loss: 0.1297 - val_accuracy: 0.9167\n",
      "Epoch 102/300\n",
      "10/10 [==============================] - 0s 5ms/step - loss: 0.1303 - accuracy: 0.9688 - val_loss: 0.1272 - val_accuracy: 0.9583\n",
      "Epoch 103/300\n",
      "10/10 [==============================] - 0s 5ms/step - loss: 0.1284 - accuracy: 0.9688 - val_loss: 0.1268 - val_accuracy: 0.9167\n",
      "Epoch 104/300\n",
      "10/10 [==============================] - 0s 5ms/step - loss: 0.1282 - accuracy: 0.9896 - val_loss: 0.1273 - val_accuracy: 0.9583\n",
      "Epoch 105/300\n",
      "10/10 [==============================] - 0s 5ms/step - loss: 0.1260 - accuracy: 0.9688 - val_loss: 0.1245 - val_accuracy: 0.9167\n",
      "Epoch 106/300\n",
      "10/10 [==============================] - 0s 5ms/step - loss: 0.1251 - accuracy: 0.9688 - val_loss: 0.1233 - val_accuracy: 0.9583\n",
      "Epoch 107/300\n",
      "10/10 [==============================] - 0s 5ms/step - loss: 0.1265 - accuracy: 0.9688 - val_loss: 0.1224 - val_accuracy: 0.9167\n",
      "Epoch 108/300\n",
      "10/10 [==============================] - 0s 5ms/step - loss: 0.1228 - accuracy: 0.9896 - val_loss: 0.1252 - val_accuracy: 0.9583\n",
      "Epoch 109/300\n",
      "10/10 [==============================] - 0s 6ms/step - loss: 0.1234 - accuracy: 0.9896 - val_loss: 0.1214 - val_accuracy: 0.9583\n",
      "Epoch 110/300\n",
      "10/10 [==============================] - 0s 5ms/step - loss: 0.1318 - accuracy: 0.9688 - val_loss: 0.1209 - val_accuracy: 0.9583\n",
      "Epoch 111/300\n",
      "10/10 [==============================] - 0s 5ms/step - loss: 0.1270 - accuracy: 0.9688 - val_loss: 0.1236 - val_accuracy: 0.9583\n",
      "Epoch 112/300\n",
      "10/10 [==============================] - 0s 5ms/step - loss: 0.1196 - accuracy: 0.9688 - val_loss: 0.1178 - val_accuracy: 0.9167\n",
      "Epoch 113/300\n",
      "10/10 [==============================] - 0s 5ms/step - loss: 0.1161 - accuracy: 0.9688 - val_loss: 0.1166 - val_accuracy: 0.9583\n",
      "Epoch 114/300\n",
      "10/10 [==============================] - 0s 5ms/step - loss: 0.1154 - accuracy: 0.9688 - val_loss: 0.1156 - val_accuracy: 0.9583\n",
      "Epoch 115/300\n",
      "10/10 [==============================] - 0s 5ms/step - loss: 0.1165 - accuracy: 0.9688 - val_loss: 0.1144 - val_accuracy: 0.9583\n",
      "Epoch 116/300\n",
      "10/10 [==============================] - 0s 5ms/step - loss: 0.1121 - accuracy: 0.9688 - val_loss: 0.1172 - val_accuracy: 0.9583\n",
      "Epoch 117/300\n",
      "10/10 [==============================] - 0s 5ms/step - loss: 0.1131 - accuracy: 0.9896 - val_loss: 0.1146 - val_accuracy: 0.9583\n",
      "Epoch 118/300\n",
      "10/10 [==============================] - 0s 5ms/step - loss: 0.1126 - accuracy: 0.9688 - val_loss: 0.1123 - val_accuracy: 0.9583\n",
      "Epoch 119/300\n",
      "10/10 [==============================] - 0s 5ms/step - loss: 0.1102 - accuracy: 0.9688 - val_loss: 0.1120 - val_accuracy: 0.9167\n",
      "Epoch 120/300\n",
      "10/10 [==============================] - 0s 5ms/step - loss: 0.1095 - accuracy: 0.9688 - val_loss: 0.1112 - val_accuracy: 0.9167\n",
      "Epoch 121/300\n",
      "10/10 [==============================] - 0s 5ms/step - loss: 0.1078 - accuracy: 0.9688 - val_loss: 0.1099 - val_accuracy: 0.9583\n",
      "Epoch 122/300\n",
      "10/10 [==============================] - 0s 5ms/step - loss: 0.1076 - accuracy: 0.9688 - val_loss: 0.1102 - val_accuracy: 0.9167\n",
      "Epoch 123/300\n",
      "10/10 [==============================] - 0s 5ms/step - loss: 0.1077 - accuracy: 0.9792 - val_loss: 0.1097 - val_accuracy: 0.9583\n",
      "Epoch 124/300\n",
      "10/10 [==============================] - 0s 5ms/step - loss: 0.1064 - accuracy: 0.9688 - val_loss: 0.1081 - val_accuracy: 0.9583\n",
      "Epoch 125/300\n",
      "10/10 [==============================] - 0s 5ms/step - loss: 0.1053 - accuracy: 0.9688 - val_loss: 0.1083 - val_accuracy: 0.9167\n",
      "Epoch 126/300\n",
      "10/10 [==============================] - 0s 5ms/step - loss: 0.1049 - accuracy: 0.9688 - val_loss: 0.1073 - val_accuracy: 0.9167\n",
      "Epoch 127/300\n",
      "10/10 [==============================] - 0s 5ms/step - loss: 0.1033 - accuracy: 0.9688 - val_loss: 0.1059 - val_accuracy: 0.9583\n",
      "Epoch 128/300\n",
      "10/10 [==============================] - 0s 5ms/step - loss: 0.1039 - accuracy: 0.9688 - val_loss: 0.1059 - val_accuracy: 0.9583\n",
      "Epoch 129/300\n",
      "10/10 [==============================] - 0s 5ms/step - loss: 0.1010 - accuracy: 0.9688 - val_loss: 0.1057 - val_accuracy: 0.9167\n",
      "Epoch 130/300\n",
      "10/10 [==============================] - 0s 6ms/step - loss: 0.1028 - accuracy: 0.9792 - val_loss: 0.1080 - val_accuracy: 0.9583\n",
      "Epoch 131/300\n",
      "10/10 [==============================] - 0s 5ms/step - loss: 0.0994 - accuracy: 0.9896 - val_loss: 0.1040 - val_accuracy: 0.9167\n",
      "Epoch 132/300\n",
      "10/10 [==============================] - 0s 5ms/step - loss: 0.1045 - accuracy: 0.9688 - val_loss: 0.1036 - val_accuracy: 0.9583\n",
      "Epoch 133/300\n",
      "10/10 [==============================] - 0s 5ms/step - loss: 0.0981 - accuracy: 0.9688 - val_loss: 0.1051 - val_accuracy: 0.9583\n",
      "Epoch 134/300\n",
      "10/10 [==============================] - 0s 5ms/step - loss: 0.0977 - accuracy: 0.9896 - val_loss: 0.1033 - val_accuracy: 0.9167\n",
      "Epoch 135/300\n",
      "10/10 [==============================] - 0s 5ms/step - loss: 0.1004 - accuracy: 0.9688 - val_loss: 0.1015 - val_accuracy: 0.9583\n",
      "Epoch 136/300\n",
      "10/10 [==============================] - 0s 5ms/step - loss: 0.0956 - accuracy: 0.9688 - val_loss: 0.1018 - val_accuracy: 0.9167\n",
      "Epoch 137/300\n",
      "10/10 [==============================] - 0s 5ms/step - loss: 0.0958 - accuracy: 0.9896 - val_loss: 0.1023 - val_accuracy: 0.9583\n",
      "Epoch 138/300\n",
      "10/10 [==============================] - 0s 5ms/step - loss: 0.0960 - accuracy: 0.9688 - val_loss: 0.1002 - val_accuracy: 0.9583\n",
      "Epoch 139/300\n",
      "10/10 [==============================] - 0s 5ms/step - loss: 0.0951 - accuracy: 0.9688 - val_loss: 0.1009 - val_accuracy: 0.9167\n",
      "Epoch 140/300\n",
      "10/10 [==============================] - 0s 5ms/step - loss: 0.0933 - accuracy: 0.9688 - val_loss: 0.0999 - val_accuracy: 0.9167\n",
      "Epoch 141/300\n",
      "10/10 [==============================] - 0s 6ms/step - loss: 0.0938 - accuracy: 0.9896 - val_loss: 0.0997 - val_accuracy: 0.9583\n",
      "Epoch 142/300\n",
      "10/10 [==============================] - 0s 5ms/step - loss: 0.0930 - accuracy: 0.9688 - val_loss: 0.0978 - val_accuracy: 0.9583\n",
      "Epoch 143/300\n",
      "10/10 [==============================] - 0s 5ms/step - loss: 0.0929 - accuracy: 0.9688 - val_loss: 0.0988 - val_accuracy: 0.9167\n",
      "Epoch 144/300\n",
      "10/10 [==============================] - 0s 5ms/step - loss: 0.0909 - accuracy: 0.9688 - val_loss: 0.0977 - val_accuracy: 0.9167\n",
      "Epoch 145/300\n",
      "10/10 [==============================] - 0s 5ms/step - loss: 0.0905 - accuracy: 0.9688 - val_loss: 0.0981 - val_accuracy: 0.9583\n",
      "Epoch 146/300\n",
      "10/10 [==============================] - 0s 5ms/step - loss: 0.0923 - accuracy: 0.9688 - val_loss: 0.0961 - val_accuracy: 0.9583\n",
      "Epoch 147/300\n",
      "10/10 [==============================] - 0s 5ms/step - loss: 0.0955 - accuracy: 0.9688 - val_loss: 0.1015 - val_accuracy: 0.9583\n",
      "Epoch 148/300\n",
      "10/10 [==============================] - 0s 5ms/step - loss: 0.0925 - accuracy: 0.9792 - val_loss: 0.0963 - val_accuracy: 0.9583\n",
      "Epoch 149/300\n",
      "10/10 [==============================] - 0s 5ms/step - loss: 0.0885 - accuracy: 0.9688 - val_loss: 0.0966 - val_accuracy: 0.9167\n",
      "Epoch 150/300\n",
      "10/10 [==============================] - 0s 5ms/step - loss: 0.0902 - accuracy: 0.9688 - val_loss: 0.0952 - val_accuracy: 0.9583\n",
      "Epoch 151/300\n",
      "10/10 [==============================] - 0s 5ms/step - loss: 0.0869 - accuracy: 0.9792 - val_loss: 0.0992 - val_accuracy: 0.9583\n",
      "Epoch 152/300\n",
      "10/10 [==============================] - 0s 5ms/step - loss: 0.0890 - accuracy: 0.9792 - val_loss: 0.0943 - val_accuracy: 0.9583\n",
      "Epoch 153/300\n",
      "10/10 [==============================] - 0s 5ms/step - loss: 0.0862 - accuracy: 0.9688 - val_loss: 0.0942 - val_accuracy: 0.9167\n",
      "Epoch 154/300\n",
      "10/10 [==============================] - 0s 5ms/step - loss: 0.0851 - accuracy: 0.9688 - val_loss: 0.0943 - val_accuracy: 0.9167\n",
      "Epoch 155/300\n",
      "10/10 [==============================] - 0s 5ms/step - loss: 0.0857 - accuracy: 0.9792 - val_loss: 0.0958 - val_accuracy: 0.9583\n",
      "Epoch 156/300\n",
      "10/10 [==============================] - 0s 6ms/step - loss: 0.0872 - accuracy: 0.9688 - val_loss: 0.0931 - val_accuracy: 0.9583\n",
      "Epoch 157/300\n",
      "10/10 [==============================] - 0s 5ms/step - loss: 0.0876 - accuracy: 0.9688 - val_loss: 0.0959 - val_accuracy: 0.9583\n",
      "Epoch 158/300\n",
      "10/10 [==============================] - 0s 5ms/step - loss: 0.0869 - accuracy: 0.9688 - val_loss: 0.0925 - val_accuracy: 0.9583\n",
      "Epoch 159/300\n",
      "10/10 [==============================] - 0s 5ms/step - loss: 0.0814 - accuracy: 0.9688 - val_loss: 0.0935 - val_accuracy: 0.9167\n",
      "Epoch 160/300\n",
      "10/10 [==============================] - 0s 6ms/step - loss: 0.0825 - accuracy: 0.9896 - val_loss: 0.0950 - val_accuracy: 0.9583\n",
      "Epoch 161/300\n",
      "10/10 [==============================] - 0s 5ms/step - loss: 0.0822 - accuracy: 0.9792 - val_loss: 0.0921 - val_accuracy: 0.9167\n",
      "Epoch 162/300\n",
      "10/10 [==============================] - 0s 5ms/step - loss: 0.0811 - accuracy: 0.9688 - val_loss: 0.0912 - val_accuracy: 0.9167\n",
      "Epoch 163/300\n",
      "10/10 [==============================] - 0s 5ms/step - loss: 0.0810 - accuracy: 0.9688 - val_loss: 0.0924 - val_accuracy: 0.9583\n",
      "Epoch 164/300\n",
      "10/10 [==============================] - 0s 5ms/step - loss: 0.0813 - accuracy: 0.9688 - val_loss: 0.0911 - val_accuracy: 0.9167\n",
      "Epoch 165/300\n",
      "10/10 [==============================] - 0s 5ms/step - loss: 0.0797 - accuracy: 0.9688 - val_loss: 0.0916 - val_accuracy: 0.9167\n",
      "Epoch 166/300\n",
      "10/10 [==============================] - 0s 5ms/step - loss: 0.0799 - accuracy: 0.9688 - val_loss: 0.0909 - val_accuracy: 0.9167\n",
      "Epoch 167/300\n",
      "10/10 [==============================] - 0s 5ms/step - loss: 0.0787 - accuracy: 0.9896 - val_loss: 0.0911 - val_accuracy: 0.9167\n",
      "Epoch 168/300\n",
      "10/10 [==============================] - 0s 6ms/step - loss: 0.0791 - accuracy: 0.9896 - val_loss: 0.0907 - val_accuracy: 0.9167\n",
      "Epoch 169/300\n",
      "10/10 [==============================] - 0s 5ms/step - loss: 0.0785 - accuracy: 0.9688 - val_loss: 0.0898 - val_accuracy: 0.9167\n",
      "Epoch 170/300\n",
      "10/10 [==============================] - 0s 5ms/step - loss: 0.0786 - accuracy: 0.9688 - val_loss: 0.0892 - val_accuracy: 0.9583\n",
      "Epoch 171/300\n",
      "10/10 [==============================] - 0s 6ms/step - loss: 0.0779 - accuracy: 0.9792 - val_loss: 0.0900 - val_accuracy: 0.9167\n",
      "Epoch 172/300\n",
      "10/10 [==============================] - 0s 5ms/step - loss: 0.0780 - accuracy: 0.9792 - val_loss: 0.0889 - val_accuracy: 0.9167\n",
      "Epoch 173/300\n"
     ]
    },
    {
     "name": "stdout",
     "output_type": "stream",
     "text": [
      "10/10 [==============================] - 0s 5ms/step - loss: 0.0819 - accuracy: 0.9792 - val_loss: 0.0930 - val_accuracy: 0.9583\n",
      "Epoch 174/300\n",
      "10/10 [==============================] - 0s 6ms/step - loss: 0.0800 - accuracy: 0.9688 - val_loss: 0.0891 - val_accuracy: 0.9583\n",
      "Epoch 175/300\n",
      "10/10 [==============================] - 0s 5ms/step - loss: 0.0770 - accuracy: 0.9688 - val_loss: 0.0885 - val_accuracy: 0.9167\n",
      "Epoch 176/300\n",
      "10/10 [==============================] - 0s 5ms/step - loss: 0.0755 - accuracy: 0.9896 - val_loss: 0.0890 - val_accuracy: 0.9167\n",
      "Epoch 177/300\n",
      "10/10 [==============================] - 0s 5ms/step - loss: 0.0770 - accuracy: 0.9896 - val_loss: 0.0885 - val_accuracy: 0.9167\n",
      "Epoch 178/300\n",
      "10/10 [==============================] - 0s 5ms/step - loss: 0.0766 - accuracy: 0.9688 - val_loss: 0.0880 - val_accuracy: 0.9167\n",
      "Epoch 179/300\n",
      "10/10 [==============================] - 0s 5ms/step - loss: 0.0772 - accuracy: 0.9688 - val_loss: 0.0879 - val_accuracy: 0.9167\n",
      "Epoch 180/300\n",
      "10/10 [==============================] - 0s 5ms/step - loss: 0.0773 - accuracy: 0.9896 - val_loss: 0.0899 - val_accuracy: 0.9583\n",
      "Epoch 181/300\n",
      "10/10 [==============================] - 0s 5ms/step - loss: 0.0779 - accuracy: 0.9688 - val_loss: 0.0874 - val_accuracy: 0.9583\n",
      "Epoch 182/300\n",
      "10/10 [==============================] - 0s 5ms/step - loss: 0.0732 - accuracy: 0.9688 - val_loss: 0.0876 - val_accuracy: 0.9167\n",
      "Epoch 183/300\n",
      "10/10 [==============================] - 0s 9ms/step - loss: 0.0729 - accuracy: 0.9792 - val_loss: 0.0867 - val_accuracy: 0.9167\n",
      "Epoch 184/300\n",
      "10/10 [==============================] - 0s 6ms/step - loss: 0.0748 - accuracy: 0.9688 - val_loss: 0.0866 - val_accuracy: 0.9167\n",
      "Epoch 185/300\n",
      "10/10 [==============================] - 0s 5ms/step - loss: 0.0711 - accuracy: 0.9896 - val_loss: 0.0879 - val_accuracy: 0.9583\n",
      "Epoch 186/300\n",
      "10/10 [==============================] - 0s 5ms/step - loss: 0.0751 - accuracy: 0.9896 - val_loss: 0.0895 - val_accuracy: 0.9583\n",
      "Epoch 187/300\n",
      "10/10 [==============================] - 0s 4ms/step - loss: 0.0720 - accuracy: 0.9688 - val_loss: 0.0870 - val_accuracy: 0.9583\n",
      "Epoch 188/300\n",
      "10/10 [==============================] - 0s 5ms/step - loss: 0.0766 - accuracy: 0.9688 - val_loss: 0.0878 - val_accuracy: 0.9583\n",
      "Epoch 189/300\n",
      "10/10 [==============================] - 0s 5ms/step - loss: 0.0757 - accuracy: 0.9688 - val_loss: 0.0865 - val_accuracy: 0.9583\n",
      "Epoch 190/300\n",
      "10/10 [==============================] - 0s 5ms/step - loss: 0.0747 - accuracy: 0.9792 - val_loss: 0.0881 - val_accuracy: 0.9583\n",
      "Epoch 191/300\n",
      "10/10 [==============================] - 0s 4ms/step - loss: 0.0706 - accuracy: 0.9896 - val_loss: 0.0860 - val_accuracy: 0.9167\n",
      "Epoch 192/300\n",
      "10/10 [==============================] - 0s 4ms/step - loss: 0.0715 - accuracy: 0.9792 - val_loss: 0.0870 - val_accuracy: 0.9167\n",
      "Epoch 193/300\n",
      "10/10 [==============================] - 0s 4ms/step - loss: 0.0688 - accuracy: 0.9792 - val_loss: 0.0857 - val_accuracy: 0.9167\n",
      "Epoch 194/300\n",
      "10/10 [==============================] - 0s 5ms/step - loss: 0.0690 - accuracy: 0.9688 - val_loss: 0.0854 - val_accuracy: 0.9167\n",
      "Epoch 195/300\n",
      "10/10 [==============================] - 0s 5ms/step - loss: 0.0692 - accuracy: 0.9792 - val_loss: 0.0847 - val_accuracy: 0.9167\n",
      "Epoch 196/300\n",
      "10/10 [==============================] - 0s 4ms/step - loss: 0.0708 - accuracy: 0.9896 - val_loss: 0.0864 - val_accuracy: 0.9167\n",
      "Epoch 197/300\n",
      "10/10 [==============================] - 0s 4ms/step - loss: 0.0684 - accuracy: 0.9688 - val_loss: 0.0847 - val_accuracy: 0.9583\n",
      "Epoch 198/300\n",
      "10/10 [==============================] - 0s 4ms/step - loss: 0.0714 - accuracy: 0.9688 - val_loss: 0.0854 - val_accuracy: 0.9583\n",
      "Epoch 199/300\n",
      "10/10 [==============================] - 0s 5ms/step - loss: 0.0647 - accuracy: 0.9792 - val_loss: 0.0891 - val_accuracy: 0.9583\n",
      "Epoch 200/300\n",
      "10/10 [==============================] - 0s 4ms/step - loss: 0.0722 - accuracy: 0.9896 - val_loss: 0.0849 - val_accuracy: 0.9167\n",
      "Epoch 201/300\n",
      "10/10 [==============================] - 0s 4ms/step - loss: 0.0665 - accuracy: 0.9792 - val_loss: 0.0843 - val_accuracy: 0.9167\n",
      "Epoch 202/300\n",
      "10/10 [==============================] - 0s 4ms/step - loss: 0.0695 - accuracy: 0.9688 - val_loss: 0.0847 - val_accuracy: 0.9167\n",
      "Epoch 203/300\n",
      "10/10 [==============================] - 0s 5ms/step - loss: 0.0722 - accuracy: 0.9896 - val_loss: 0.0867 - val_accuracy: 0.9583\n",
      "Epoch 204/300\n",
      "10/10 [==============================] - 0s 5ms/step - loss: 0.0755 - accuracy: 0.9688 - val_loss: 0.0860 - val_accuracy: 0.9583\n",
      "Epoch 205/300\n",
      "10/10 [==============================] - 0s 5ms/step - loss: 0.0680 - accuracy: 0.9792 - val_loss: 0.0851 - val_accuracy: 0.9167\n",
      "Epoch 206/300\n",
      "10/10 [==============================] - 0s 5ms/step - loss: 0.0663 - accuracy: 0.9896 - val_loss: 0.0854 - val_accuracy: 0.9167\n",
      "Epoch 207/300\n",
      "10/10 [==============================] - 0s 5ms/step - loss: 0.0650 - accuracy: 0.9896 - val_loss: 0.0836 - val_accuracy: 0.9167\n",
      "Epoch 208/300\n",
      "10/10 [==============================] - 0s 5ms/step - loss: 0.0666 - accuracy: 0.9688 - val_loss: 0.0839 - val_accuracy: 0.9167\n",
      "Epoch 209/300\n",
      "10/10 [==============================] - 0s 5ms/step - loss: 0.0647 - accuracy: 0.9792 - val_loss: 0.0844 - val_accuracy: 0.9167\n",
      "Epoch 210/300\n",
      "10/10 [==============================] - 0s 5ms/step - loss: 0.0653 - accuracy: 0.9896 - val_loss: 0.0847 - val_accuracy: 0.9167\n",
      "Epoch 211/300\n",
      "10/10 [==============================] - 0s 4ms/step - loss: 0.0655 - accuracy: 0.9792 - val_loss: 0.0831 - val_accuracy: 0.9167\n",
      "Epoch 212/300\n",
      "10/10 [==============================] - 0s 4ms/step - loss: 0.0638 - accuracy: 0.9896 - val_loss: 0.0840 - val_accuracy: 0.9167\n",
      "Epoch 213/300\n",
      "10/10 [==============================] - 0s 5ms/step - loss: 0.0636 - accuracy: 0.9896 - val_loss: 0.0842 - val_accuracy: 0.9167\n",
      "Epoch 214/300\n",
      "10/10 [==============================] - 0s 5ms/step - loss: 0.0659 - accuracy: 0.9896 - val_loss: 0.0840 - val_accuracy: 0.9167\n",
      "Epoch 215/300\n",
      "10/10 [==============================] - 0s 5ms/step - loss: 0.0649 - accuracy: 0.9688 - val_loss: 0.0832 - val_accuracy: 0.9583\n",
      "Epoch 216/300\n",
      "10/10 [==============================] - 0s 5ms/step - loss: 0.0652 - accuracy: 0.9792 - val_loss: 0.0835 - val_accuracy: 0.9167\n",
      "Epoch 217/300\n",
      "10/10 [==============================] - 0s 5ms/step - loss: 0.0632 - accuracy: 0.9688 - val_loss: 0.0833 - val_accuracy: 0.9167\n",
      "Epoch 218/300\n",
      "10/10 [==============================] - 0s 5ms/step - loss: 0.0646 - accuracy: 0.9792 - val_loss: 0.0835 - val_accuracy: 0.9167\n",
      "Epoch 219/300\n",
      "10/10 [==============================] - 0s 5ms/step - loss: 0.0648 - accuracy: 0.9688 - val_loss: 0.0828 - val_accuracy: 0.9583\n",
      "Epoch 220/300\n",
      "10/10 [==============================] - 0s 5ms/step - loss: 0.0617 - accuracy: 0.9688 - val_loss: 0.0846 - val_accuracy: 0.9167\n",
      "Epoch 221/300\n",
      "10/10 [==============================] - 0s 5ms/step - loss: 0.0623 - accuracy: 0.9896 - val_loss: 0.0833 - val_accuracy: 0.9167\n",
      "Epoch 222/300\n",
      "10/10 [==============================] - 0s 5ms/step - loss: 0.0644 - accuracy: 0.9688 - val_loss: 0.0822 - val_accuracy: 0.9167\n",
      "Epoch 223/300\n",
      "10/10 [==============================] - 0s 5ms/step - loss: 0.0615 - accuracy: 0.9896 - val_loss: 0.0850 - val_accuracy: 0.9583\n",
      "Epoch 224/300\n",
      "10/10 [==============================] - 0s 5ms/step - loss: 0.0633 - accuracy: 0.9896 - val_loss: 0.0832 - val_accuracy: 0.9167\n",
      "Epoch 225/300\n",
      "10/10 [==============================] - 0s 5ms/step - loss: 0.0612 - accuracy: 0.9896 - val_loss: 0.0831 - val_accuracy: 0.9583\n",
      "Epoch 226/300\n",
      "10/10 [==============================] - 0s 5ms/step - loss: 0.0652 - accuracy: 0.9688 - val_loss: 0.0825 - val_accuracy: 0.9167\n",
      "Epoch 227/300\n",
      "10/10 [==============================] - 0s 5ms/step - loss: 0.0621 - accuracy: 0.9896 - val_loss: 0.0830 - val_accuracy: 0.9167\n",
      "Epoch 228/300\n",
      "10/10 [==============================] - 0s 6ms/step - loss: 0.0604 - accuracy: 0.9896 - val_loss: 0.0827 - val_accuracy: 0.9167\n",
      "Epoch 229/300\n",
      "10/10 [==============================] - 0s 5ms/step - loss: 0.0599 - accuracy: 0.9896 - val_loss: 0.0822 - val_accuracy: 0.9167\n",
      "Epoch 230/300\n",
      "10/10 [==============================] - 0s 6ms/step - loss: 0.0598 - accuracy: 0.9792 - val_loss: 0.0818 - val_accuracy: 0.9167\n",
      "Epoch 231/300\n",
      "10/10 [==============================] - 0s 4ms/step - loss: 0.0609 - accuracy: 0.9792 - val_loss: 0.0819 - val_accuracy: 0.9583\n",
      "Epoch 232/300\n",
      "10/10 [==============================] - 0s 4ms/step - loss: 0.0598 - accuracy: 0.9896 - val_loss: 0.0831 - val_accuracy: 0.9167\n",
      "Epoch 233/300\n",
      "10/10 [==============================] - 0s 4ms/step - loss: 0.0601 - accuracy: 0.9896 - val_loss: 0.0825 - val_accuracy: 0.9167\n",
      "Epoch 234/300\n",
      "10/10 [==============================] - 0s 4ms/step - loss: 0.0598 - accuracy: 0.9792 - val_loss: 0.0817 - val_accuracy: 0.9583\n",
      "Epoch 235/300\n",
      "10/10 [==============================] - 0s 4ms/step - loss: 0.0590 - accuracy: 0.9688 - val_loss: 0.0818 - val_accuracy: 0.9167\n",
      "Epoch 236/300\n",
      "10/10 [==============================] - 0s 4ms/step - loss: 0.0596 - accuracy: 0.9792 - val_loss: 0.0820 - val_accuracy: 0.9167\n",
      "Epoch 237/300\n",
      "10/10 [==============================] - 0s 5ms/step - loss: 0.0589 - accuracy: 0.9896 - val_loss: 0.0828 - val_accuracy: 0.9167\n",
      "Epoch 238/300\n",
      "10/10 [==============================] - 0s 5ms/step - loss: 0.0588 - accuracy: 0.9896 - val_loss: 0.0814 - val_accuracy: 0.9167\n",
      "Epoch 239/300\n",
      "10/10 [==============================] - 0s 5ms/step - loss: 0.0584 - accuracy: 0.9896 - val_loss: 0.0817 - val_accuracy: 0.9167\n",
      "Epoch 240/300\n",
      "10/10 [==============================] - 0s 5ms/step - loss: 0.0585 - accuracy: 0.9792 - val_loss: 0.0815 - val_accuracy: 0.9583\n",
      "Epoch 241/300\n",
      "10/10 [==============================] - 0s 5ms/step - loss: 0.0590 - accuracy: 0.9792 - val_loss: 0.0819 - val_accuracy: 0.9167\n",
      "Epoch 242/300\n",
      "10/10 [==============================] - 0s 6ms/step - loss: 0.0577 - accuracy: 0.9896 - val_loss: 0.0820 - val_accuracy: 0.9167\n",
      "Epoch 243/300\n",
      "10/10 [==============================] - 0s 5ms/step - loss: 0.0593 - accuracy: 0.9896 - val_loss: 0.0817 - val_accuracy: 0.9167\n",
      "Epoch 244/300\n",
      "10/10 [==============================] - 0s 5ms/step - loss: 0.0610 - accuracy: 0.9688 - val_loss: 0.0829 - val_accuracy: 0.9583\n",
      "Epoch 245/300\n",
      "10/10 [==============================] - 0s 5ms/step - loss: 0.0567 - accuracy: 0.9896 - val_loss: 0.0817 - val_accuracy: 0.9167\n",
      "Epoch 246/300\n",
      "10/10 [==============================] - 0s 5ms/step - loss: 0.0629 - accuracy: 0.9896 - val_loss: 0.0844 - val_accuracy: 0.9583\n",
      "Epoch 247/300\n",
      "10/10 [==============================] - 0s 5ms/step - loss: 0.0562 - accuracy: 0.9896 - val_loss: 0.0812 - val_accuracy: 0.9167\n",
      "Epoch 248/300\n",
      "10/10 [==============================] - 0s 5ms/step - loss: 0.0570 - accuracy: 0.9792 - val_loss: 0.0816 - val_accuracy: 0.9583\n",
      "Epoch 249/300\n",
      "10/10 [==============================] - 0s 5ms/step - loss: 0.0566 - accuracy: 0.9688 - val_loss: 0.0810 - val_accuracy: 0.9167\n",
      "Epoch 250/300\n",
      "10/10 [==============================] - 0s 5ms/step - loss: 0.0565 - accuracy: 0.9896 - val_loss: 0.0813 - val_accuracy: 0.9167\n",
      "Epoch 251/300\n",
      "10/10 [==============================] - 0s 6ms/step - loss: 0.0599 - accuracy: 0.9896 - val_loss: 0.0814 - val_accuracy: 0.9167\n",
      "Epoch 252/300\n",
      "10/10 [==============================] - 0s 5ms/step - loss: 0.0556 - accuracy: 0.9896 - val_loss: 0.0817 - val_accuracy: 0.9583\n",
      "Epoch 253/300\n",
      "10/10 [==============================] - 0s 5ms/step - loss: 0.0588 - accuracy: 0.9688 - val_loss: 0.0821 - val_accuracy: 0.9167\n",
      "Epoch 254/300\n",
      "10/10 [==============================] - 0s 5ms/step - loss: 0.0588 - accuracy: 0.9688 - val_loss: 0.0815 - val_accuracy: 0.9583\n",
      "Epoch 255/300\n",
      "10/10 [==============================] - 0s 6ms/step - loss: 0.0612 - accuracy: 0.9896 - val_loss: 0.0823 - val_accuracy: 0.9167\n",
      "Epoch 256/300\n",
      "10/10 [==============================] - 0s 5ms/step - loss: 0.0553 - accuracy: 0.9792 - val_loss: 0.0810 - val_accuracy: 0.9583\n",
      "Epoch 257/300\n",
      "10/10 [==============================] - 0s 5ms/step - loss: 0.0567 - accuracy: 0.9688 - val_loss: 0.0815 - val_accuracy: 0.9167\n",
      "Epoch 258/300\n",
      "10/10 [==============================] - 0s 5ms/step - loss: 0.0554 - accuracy: 0.9792 - val_loss: 0.0815 - val_accuracy: 0.9167\n",
      "Epoch 259/300\n",
      "10/10 [==============================] - 0s 9ms/step - loss: 0.0548 - accuracy: 0.9896 - val_loss: 0.0827 - val_accuracy: 0.9167\n",
      "Epoch 260/300\n",
      "10/10 [==============================] - 0s 6ms/step - loss: 0.0566 - accuracy: 0.9896 - val_loss: 0.0817 - val_accuracy: 0.9167\n",
      "Epoch 261/300\n",
      "10/10 [==============================] - 0s 6ms/step - loss: 0.0551 - accuracy: 0.9792 - val_loss: 0.0810 - val_accuracy: 0.9167\n",
      "Epoch 262/300\n",
      "10/10 [==============================] - 0s 5ms/step - loss: 0.0548 - accuracy: 0.9792 - val_loss: 0.0814 - val_accuracy: 0.9167\n",
      "Epoch 263/300\n",
      "10/10 [==============================] - 0s 4ms/step - loss: 0.0542 - accuracy: 0.9896 - val_loss: 0.0817 - val_accuracy: 0.9167\n",
      "Epoch 264/300\n",
      "10/10 [==============================] - 0s 4ms/step - loss: 0.0561 - accuracy: 0.9792 - val_loss: 0.0807 - val_accuracy: 0.9167\n",
      "Epoch 265/300\n",
      "10/10 [==============================] - 0s 4ms/step - loss: 0.0550 - accuracy: 0.9896 - val_loss: 0.0818 - val_accuracy: 0.9167\n",
      "Epoch 266/300\n",
      "10/10 [==============================] - 0s 5ms/step - loss: 0.0553 - accuracy: 0.9792 - val_loss: 0.0811 - val_accuracy: 0.9167\n",
      "Epoch 267/300\n",
      "10/10 [==============================] - 0s 5ms/step - loss: 0.0536 - accuracy: 0.9792 - val_loss: 0.0808 - val_accuracy: 0.9167\n",
      "Epoch 268/300\n",
      "10/10 [==============================] - 0s 5ms/step - loss: 0.0547 - accuracy: 0.9896 - val_loss: 0.0817 - val_accuracy: 0.9167\n",
      "Epoch 269/300\n",
      "10/10 [==============================] - 0s 5ms/step - loss: 0.0549 - accuracy: 0.9792 - val_loss: 0.0809 - val_accuracy: 0.9167\n",
      "Epoch 270/300\n",
      "10/10 [==============================] - 0s 5ms/step - loss: 0.0544 - accuracy: 0.9896 - val_loss: 0.0820 - val_accuracy: 0.9167\n",
      "Epoch 271/300\n",
      "10/10 [==============================] - 0s 5ms/step - loss: 0.0573 - accuracy: 0.9896 - val_loss: 0.0832 - val_accuracy: 0.9167\n",
      "Epoch 272/300\n",
      "10/10 [==============================] - 0s 5ms/step - loss: 0.0533 - accuracy: 0.9792 - val_loss: 0.0846 - val_accuracy: 0.9583\n",
      "Epoch 273/300\n",
      "10/10 [==============================] - 0s 5ms/step - loss: 0.0602 - accuracy: 0.9792 - val_loss: 0.0816 - val_accuracy: 0.9583\n",
      "Epoch 274/300\n",
      "10/10 [==============================] - 0s 5ms/step - loss: 0.0540 - accuracy: 0.9896 - val_loss: 0.0836 - val_accuracy: 0.9167\n",
      "Epoch 275/300\n",
      "10/10 [==============================] - 0s 5ms/step - loss: 0.0543 - accuracy: 0.9896 - val_loss: 0.0808 - val_accuracy: 0.9167\n",
      "Epoch 276/300\n",
      "10/10 [==============================] - 0s 5ms/step - loss: 0.0525 - accuracy: 0.9896 - val_loss: 0.0803 - val_accuracy: 0.9167\n",
      "Epoch 277/300\n",
      "10/10 [==============================] - 0s 5ms/step - loss: 0.0537 - accuracy: 0.9688 - val_loss: 0.0803 - val_accuracy: 0.9583\n",
      "Epoch 278/300\n",
      "10/10 [==============================] - 0s 5ms/step - loss: 0.0554 - accuracy: 0.9792 - val_loss: 0.0830 - val_accuracy: 0.9167\n",
      "Epoch 279/300\n",
      "10/10 [==============================] - 0s 5ms/step - loss: 0.0564 - accuracy: 0.9792 - val_loss: 0.0814 - val_accuracy: 0.9167\n",
      "Epoch 280/300\n",
      "10/10 [==============================] - 0s 5ms/step - loss: 0.0517 - accuracy: 0.9896 - val_loss: 0.0815 - val_accuracy: 0.9167\n",
      "Epoch 281/300\n",
      "10/10 [==============================] - 0s 5ms/step - loss: 0.0527 - accuracy: 0.9896 - val_loss: 0.0816 - val_accuracy: 0.9167\n",
      "Epoch 282/300\n",
      "10/10 [==============================] - 0s 5ms/step - loss: 0.0512 - accuracy: 0.9896 - val_loss: 0.0815 - val_accuracy: 0.9583\n",
      "Epoch 283/300\n",
      "10/10 [==============================] - 0s 4ms/step - loss: 0.0513 - accuracy: 0.9792 - val_loss: 0.0810 - val_accuracy: 0.9167\n",
      "Epoch 284/300\n",
      "10/10 [==============================] - 0s 4ms/step - loss: 0.0517 - accuracy: 0.9896 - val_loss: 0.0810 - val_accuracy: 0.9167\n",
      "Epoch 285/300\n",
      "10/10 [==============================] - 0s 5ms/step - loss: 0.0565 - accuracy: 0.9688 - val_loss: 0.0814 - val_accuracy: 0.9583\n",
      "Epoch 286/300\n",
      "10/10 [==============================] - 0s 5ms/step - loss: 0.0519 - accuracy: 0.9792 - val_loss: 0.0849 - val_accuracy: 0.9583\n",
      "Epoch 287/300\n"
     ]
    },
    {
     "name": "stdout",
     "output_type": "stream",
     "text": [
      "10/10 [==============================] - 0s 5ms/step - loss: 0.0531 - accuracy: 0.9896 - val_loss: 0.0819 - val_accuracy: 0.9167\n",
      "Epoch 288/300\n",
      "10/10 [==============================] - 0s 5ms/step - loss: 0.0511 - accuracy: 0.9896 - val_loss: 0.0814 - val_accuracy: 0.9167\n",
      "Epoch 289/300\n",
      "10/10 [==============================] - 0s 5ms/step - loss: 0.0559 - accuracy: 0.9896 - val_loss: 0.0818 - val_accuracy: 0.9167\n",
      "Epoch 290/300\n",
      "10/10 [==============================] - 0s 4ms/step - loss: 0.0541 - accuracy: 0.9792 - val_loss: 0.0833 - val_accuracy: 0.9583\n",
      "Epoch 291/300\n",
      "10/10 [==============================] - 0s 4ms/step - loss: 0.0522 - accuracy: 0.9792 - val_loss: 0.0821 - val_accuracy: 0.9167\n",
      "Epoch 292/300\n",
      "10/10 [==============================] - 0s 5ms/step - loss: 0.0517 - accuracy: 0.9896 - val_loss: 0.0814 - val_accuracy: 0.9167\n",
      "Epoch 293/300\n",
      "10/10 [==============================] - 0s 5ms/step - loss: 0.0510 - accuracy: 0.9896 - val_loss: 0.0815 - val_accuracy: 0.9167\n",
      "Epoch 294/300\n",
      "10/10 [==============================] - 0s 4ms/step - loss: 0.0496 - accuracy: 0.9896 - val_loss: 0.0814 - val_accuracy: 0.9167\n",
      "Epoch 295/300\n",
      "10/10 [==============================] - 0s 4ms/step - loss: 0.0499 - accuracy: 0.9896 - val_loss: 0.0814 - val_accuracy: 0.9167\n",
      "Epoch 296/300\n",
      "10/10 [==============================] - 0s 5ms/step - loss: 0.0512 - accuracy: 0.9896 - val_loss: 0.0819 - val_accuracy: 0.9167\n",
      "Epoch 297/300\n",
      "10/10 [==============================] - 0s 4ms/step - loss: 0.0503 - accuracy: 0.9896 - val_loss: 0.0816 - val_accuracy: 0.9167\n",
      "Epoch 298/300\n",
      "10/10 [==============================] - 0s 5ms/step - loss: 0.0524 - accuracy: 0.9688 - val_loss: 0.0835 - val_accuracy: 0.9583\n",
      "Epoch 299/300\n",
      "10/10 [==============================] - 0s 5ms/step - loss: 0.0507 - accuracy: 0.9688 - val_loss: 0.0817 - val_accuracy: 0.9167\n",
      "Epoch 300/300\n",
      "10/10 [==============================] - 0s 5ms/step - loss: 0.0516 - accuracy: 0.9896 - val_loss: 0.0834 - val_accuracy: 0.9167\n"
     ]
    }
   ],
   "source": [
    "m=model.fit(X_train,y_train, epochs=300, batch_size=10, validation_split=0.2)"
   ]
  },
  {
   "cell_type": "code",
   "execution_count": 24,
   "metadata": {
    "colab": {},
    "colab_type": "code",
    "id": "_RpFWHtSnAqi"
   },
   "outputs": [
    {
     "data": {
      "text/plain": [
       "[<matplotlib.lines.Line2D at 0x7fe0f0158130>]"
      ]
     },
     "execution_count": 24,
     "metadata": {},
     "output_type": "execute_result"
    },
    {
     "data": {
      "image/png": "[encoded data removed]",
      "text/plain": [
       "<Figure size 432x288 with 1 Axes>"
      ]
     },
     "metadata": {
      "needs_background": "light"
     },
     "output_type": "display_data"
    }
   ],
   "source": [
    "import matplotlib.pyplot as plt\n",
    "plt.plot(m.history['loss'])\n",
    "plt.plot(m.history['val_loss'])"
   ]
  },
  {
   "cell_type": "code",
   "execution_count": 25,
   "metadata": {},
   "outputs": [
    {
     "data": {
      "text/plain": [
       "[<matplotlib.lines.Line2D at 0x7fe0f009c580>]"
      ]
     },
     "execution_count": 25,
     "metadata": {},
     "output_type": "execute_result"
    },
    {
     "data": {
      "image/png": "[encoded data removed]",
      "text/plain": [
       "<Figure size 432x288 with 1 Axes>"
      ]
     },
     "metadata": {
      "needs_background": "light"
     },
     "output_type": "display_data"
    }
   ],
   "source": [
    "plt.plot(m.history['accuracy'])\n",
    "plt.plot(m.history['val_accuracy'])"
   ]
  },
  {
   "cell_type": "code",
   "execution_count": 26,
   "metadata": {},
   "outputs": [
    {
     "name": "stdout",
     "output_type": "stream",
     "text": [
      "1/1 [==============================] - 0s 24ms/step - loss: 0.1205 - accuracy: 0.9667\n"
     ]
    }
   ],
   "source": [
    "score= model.evaluate(X_test, y_test)"
   ]
  },
  {
   "cell_type": "code",
   "execution_count": 27,
   "metadata": {
    "colab": {},
    "colab_type": "code",
    "id": "e9-Qryk9nAsI"
   },
   "outputs": [
    {
     "data": {
      "text/plain": [
       "[0.1204957515001297, 0.9666666388511658]"
      ]
     },
     "execution_count": 27,
     "metadata": {},
     "output_type": "execute_result"
    }
   ],
   "source": [
    "score"
   ]
  },
  {
   "cell_type": "code",
   "execution_count": 28,
   "metadata": {},
   "outputs": [
    {
     "name": "stderr",
     "output_type": "stream",
     "text": [
      "/home/shyam/anaconda3/lib/python3.8/site-packages/tensorflow/python/keras/engine/sequential.py:455: UserWarning: `model.predict_classes()` is deprecated and will be removed after 2021-01-01. Please use instead:* `np.argmax(model.predict(x), axis=-1)`,   if your model does multi-class classification   (e.g. if it uses a `softmax` last-layer activation).* `(model.predict(x) > 0.5).astype(\"int32\")`,   if your model does binary classification   (e.g. if it uses a `sigmoid` last-layer activation).\n",
      "  warnings.warn('`model.predict_classes()` is deprecated and '\n"
     ]
    },
    {
     "data": {
      "text/plain": [
       "array([2, 0, 0, 1, 2, 1, 1, 2, 1, 2, 1, 2, 0, 2, 0, 2, 1, 2, 0, 2, 1, 0,\n",
       "       0, 2, 1, 2, 2, 2, 1, 0])"
      ]
     },
     "execution_count": 28,
     "metadata": {},
     "output_type": "execute_result"
    }
   ],
   "source": [
    "model.predict_classes(X_test)  # category output"
   ]
  },
  {
   "cell_type": "code",
   "execution_count": 29,
   "metadata": {},
   "outputs": [
    {
     "data": {
      "text/plain": [
       "array([2, 0, 0, 1, 2, 1, 1, 2, 1, 2, 1, 2, 0, 2, 0, 2, 1, 2, 0, 2, 1, 0,\n",
       "       0, 2, 1, 2, 2, 2, 1, 0])"
      ]
     },
     "execution_count": 29,
     "metadata": {},
     "output_type": "execute_result"
    }
   ],
   "source": [
    "np.argmax(model.predict(X_test), axis=-1)  # predict classes update"
   ]
  },
  {
   "cell_type": "code",
   "execution_count": null,
   "metadata": {},
   "outputs": [],
   "source": []
  },
  {
   "cell_type": "code",
   "execution_count": 30,
   "metadata": {
    "colab": {},
    "colab_type": "code",
    "id": "3yP5d3Y9nAvU"
   },
   "outputs": [],
   "source": [
    "data1=data.iloc[149:150,:-1]"
   ]
  },
  {
   "cell_type": "code",
   "execution_count": 31,
   "metadata": {
    "colab": {},
    "colab_type": "code",
    "id": "cA2hbzH0nAwq"
   },
   "outputs": [
    {
     "data": {
      "text/html": [
       "<div>\n",
       "<style scoped>\n",
       "    .dataframe tbody tr th:only-of-type {\n",
       "        vertical-align: middle;\n",
       "    }\n",
       "\n",
       "    .dataframe tbody tr th {\n",
       "        vertical-align: top;\n",
       "    }\n",
       "\n",
       "    .dataframe thead th {\n",
       "        text-align: right;\n",
       "    }\n",
       "</style>\n",
       "<table border=\"1\" class=\"dataframe\">\n",
       "  <thead>\n",
       "    <tr style=\"text-align: right;\">\n",
       "      <th></th>\n",
       "      <th>sepal_length</th>\n",
       "      <th>sepal_width</th>\n",
       "      <th>petal_length</th>\n",
       "      <th>petal_width</th>\n",
       "    </tr>\n",
       "  </thead>\n",
       "  <tbody>\n",
       "    <tr>\n",
       "      <th>149</th>\n",
       "      <td>5.9</td>\n",
       "      <td>3.0</td>\n",
       "      <td>5.1</td>\n",
       "      <td>1.8</td>\n",
       "    </tr>\n",
       "  </tbody>\n",
       "</table>\n",
       "</div>"
      ],
      "text/plain": [
       "     sepal_length  sepal_width  petal_length  petal_width\n",
       "149           5.9          3.0           5.1          1.8"
      ]
     },
     "execution_count": 31,
     "metadata": {},
     "output_type": "execute_result"
    }
   ],
   "source": [
    "data1"
   ]
  },
  {
   "cell_type": "code",
   "execution_count": 32,
   "metadata": {},
   "outputs": [
    {
     "data": {
      "text/html": [
       "<div>\n",
       "<style scoped>\n",
       "    .dataframe tbody tr th:only-of-type {\n",
       "        vertical-align: middle;\n",
       "    }\n",
       "\n",
       "    .dataframe tbody tr th {\n",
       "        vertical-align: top;\n",
       "    }\n",
       "\n",
       "    .dataframe thead th {\n",
       "        text-align: right;\n",
       "    }\n",
       "</style>\n",
       "<table border=\"1\" class=\"dataframe\">\n",
       "  <thead>\n",
       "    <tr style=\"text-align: right;\">\n",
       "      <th></th>\n",
       "      <th>sepal_length</th>\n",
       "      <th>sepal_width</th>\n",
       "      <th>petal_length</th>\n",
       "      <th>petal_width</th>\n",
       "      <th>species</th>\n",
       "    </tr>\n",
       "  </thead>\n",
       "  <tbody>\n",
       "    <tr>\n",
       "      <th>149</th>\n",
       "      <td>5.9</td>\n",
       "      <td>3.0</td>\n",
       "      <td>5.1</td>\n",
       "      <td>1.8</td>\n",
       "      <td>2</td>\n",
       "    </tr>\n",
       "  </tbody>\n",
       "</table>\n",
       "</div>"
      ],
      "text/plain": [
       "     sepal_length  sepal_width  petal_length  petal_width  species\n",
       "149           5.9          3.0           5.1          1.8        2"
      ]
     },
     "execution_count": 32,
     "metadata": {},
     "output_type": "execute_result"
    }
   ],
   "source": [
    "data.iloc[149:150,:]"
   ]
  },
  {
   "cell_type": "code",
   "execution_count": 33,
   "metadata": {},
   "outputs": [],
   "source": [
    "#y_test1=data.iloc[149:150,-1]"
   ]
  },
  {
   "cell_type": "code",
   "execution_count": 34,
   "metadata": {},
   "outputs": [],
   "source": [
    "#y_test1"
   ]
  },
  {
   "cell_type": "code",
   "execution_count": 35,
   "metadata": {},
   "outputs": [],
   "source": [
    "#model.evaluate(data1,y_test1)"
   ]
  },
  {
   "cell_type": "code",
   "execution_count": 36,
   "metadata": {},
   "outputs": [
    {
     "data": {
      "text/plain": [
       "array([[1.084595e-06, 9.869935e-02, 9.012996e-01]], dtype=float32)"
      ]
     },
     "execution_count": 36,
     "metadata": {},
     "output_type": "execute_result"
    }
   ],
   "source": [
    "model.predict(data1)     #  probabilty output"
   ]
  },
  {
   "cell_type": "code",
   "execution_count": 37,
   "metadata": {
    "colab": {},
    "colab_type": "code",
    "id": "7bnuR0FBnA27"
   },
   "outputs": [
    {
     "name": "stderr",
     "output_type": "stream",
     "text": [
      "/home/shyam/anaconda3/lib/python3.8/site-packages/tensorflow/python/keras/engine/sequential.py:455: UserWarning: `model.predict_classes()` is deprecated and will be removed after 2021-01-01. Please use instead:* `np.argmax(model.predict(x), axis=-1)`,   if your model does multi-class classification   (e.g. if it uses a `softmax` last-layer activation).* `(model.predict(x) > 0.5).astype(\"int32\")`,   if your model does binary classification   (e.g. if it uses a `sigmoid` last-layer activation).\n",
      "  warnings.warn('`model.predict_classes()` is deprecated and '\n"
     ]
    }
   ],
   "source": [
    "a=model.predict_classes(data1)   "
   ]
  },
  {
   "cell_type": "code",
   "execution_count": 38,
   "metadata": {},
   "outputs": [
    {
     "data": {
      "text/plain": [
       "array([2])"
      ]
     },
     "execution_count": 38,
     "metadata": {},
     "output_type": "execute_result"
    }
   ],
   "source": [
    "np.argmax(model.predict(data1), axis=-1)"
   ]
  },
  {
   "cell_type": "code",
   "execution_count": 39,
   "metadata": {},
   "outputs": [
    {
     "data": {
      "text/plain": [
       "array(['Iris-virginica'], dtype=object)"
      ]
     },
     "execution_count": 39,
     "metadata": {},
     "output_type": "execute_result"
    }
   ],
   "source": [
    "lc.inverse_transform(a)"
   ]
  },
  {
   "cell_type": "code",
   "execution_count": null,
   "metadata": {},
   "outputs": [],
   "source": [
    "########## Deep learning"
   ]
  },
  {
   "cell_type": "code",
   "execution_count": null,
   "metadata": {},
   "outputs": [],
   "source": []
  }
 ],
 "metadata": {
  "accelerator": "GPU",
  "colab": {
   "collapsed_sections": [],
   "name": "Deep_Learning_1.ipynb",
   "provenance": [],
   "version": "0.3.2"
  },
  "kernelspec": {
   "display_name": "Python 3 (ipykernel)",
   "language": "python",
   "name": "python3"
  },
  "language_info": {
   "codemirror_mode": {
    "name": "ipython",
    "version": 3
   },
   "file_extension": ".py",
   "mimetype": "text/x-python",
   "name": "python",
   "nbconvert_exporter": "python",
   "pygments_lexer": "ipython3",
   "version": "3.9.7"
  }
 },
 "nbformat": 4,
 "nbformat_minor": 1
}
