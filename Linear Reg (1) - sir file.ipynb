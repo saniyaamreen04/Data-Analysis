{
 "cells": [
  {
   "cell_type": "markdown",
   "id": "d98f3267",
   "metadata": {},
   "source": [
    "1. Business Understanding\n",
    "2. Data Mining\n",
    "3. Data Cleaning\n",
    "4. Data Exploration\n",
    "5. Feature Engineering\n",
    "6. Predictive Modelling\n",
    "7. Data Visualization"
   ]
  },
  {
   "cell_type": "markdown",
   "id": "608b88bb",
   "metadata": {},
   "source": [
    "## Business Understanding"
   ]
  },
  {
   "cell_type": "markdown",
   "id": "15c553df",
   "metadata": {},
   "source": [
    "Automobile dataset, to find the predicted Mileage from the vehicle specification."
   ]
  },
  {
   "cell_type": "markdown",
   "id": "535ca053",
   "metadata": {},
   "source": [
    "### Data Mining"
   ]
  },
  {
   "cell_type": "markdown",
   "id": "a886f83b",
   "metadata": {},
   "source": [
    "Import the required libraries, dataset, and make research/study of the data"
   ]
  },
  {
   "cell_type": "code",
   "execution_count": 115,
   "id": "594ff076",
   "metadata": {},
   "outputs": [],
   "source": [
    "# import libraries\n",
    "import numpy as np\n",
    "import pandas as pd\n",
    "import matplotlib.pyplot as plt\n",
    "import seaborn as sns"
   ]
  },
  {
   "cell_type": "code",
   "execution_count": 116,
   "id": "616ebb1f",
   "metadata": {},
   "outputs": [],
   "source": [
    "# Dataset\n",
    "car=pd.read_csv(\"/home/shyam/Documents/datasets/cars.csv\")"
   ]
  },
  {
   "cell_type": "code",
   "execution_count": 117,
   "id": "ec7f6c3f",
   "metadata": {},
   "outputs": [
    {
     "data": {
      "text/html": [
       "<div>\n",
       "<style scoped>\n",
       "    .dataframe tbody tr th:only-of-type {\n",
       "        vertical-align: middle;\n",
       "    }\n",
       "\n",
       "    .dataframe tbody tr th {\n",
       "        vertical-align: top;\n",
       "    }\n",
       "\n",
       "    .dataframe thead th {\n",
       "        text-align: right;\n",
       "    }\n",
       "</style>\n",
       "<table border=\"1\" class=\"dataframe\">\n",
       "  <thead>\n",
       "    <tr style=\"text-align: right;\">\n",
       "      <th></th>\n",
       "      <th>car_model</th>\n",
       "      <th>mpg</th>\n",
       "      <th>cyl</th>\n",
       "      <th>disp</th>\n",
       "      <th>hp</th>\n",
       "      <th>drat</th>\n",
       "      <th>wt</th>\n",
       "      <th>qsec</th>\n",
       "      <th>vs</th>\n",
       "      <th>am</th>\n",
       "      <th>gear</th>\n",
       "      <th>carb</th>\n",
       "    </tr>\n",
       "  </thead>\n",
       "  <tbody>\n",
       "    <tr>\n",
       "      <th>0</th>\n",
       "      <td>Mazda RX4</td>\n",
       "      <td>21.0</td>\n",
       "      <td>6</td>\n",
       "      <td>160.0</td>\n",
       "      <td>110</td>\n",
       "      <td>3.90</td>\n",
       "      <td>2.620</td>\n",
       "      <td>16.46</td>\n",
       "      <td>0</td>\n",
       "      <td>1</td>\n",
       "      <td>4</td>\n",
       "      <td>4</td>\n",
       "    </tr>\n",
       "    <tr>\n",
       "      <th>1</th>\n",
       "      <td>Mazda RX4 Wag</td>\n",
       "      <td>21.0</td>\n",
       "      <td>6</td>\n",
       "      <td>160.0</td>\n",
       "      <td>110</td>\n",
       "      <td>3.90</td>\n",
       "      <td>2.875</td>\n",
       "      <td>17.02</td>\n",
       "      <td>0</td>\n",
       "      <td>1</td>\n",
       "      <td>4</td>\n",
       "      <td>4</td>\n",
       "    </tr>\n",
       "    <tr>\n",
       "      <th>2</th>\n",
       "      <td>Datsun 710</td>\n",
       "      <td>22.8</td>\n",
       "      <td>4</td>\n",
       "      <td>108.0</td>\n",
       "      <td>93</td>\n",
       "      <td>3.85</td>\n",
       "      <td>2.320</td>\n",
       "      <td>18.61</td>\n",
       "      <td>1</td>\n",
       "      <td>1</td>\n",
       "      <td>4</td>\n",
       "      <td>1</td>\n",
       "    </tr>\n",
       "    <tr>\n",
       "      <th>3</th>\n",
       "      <td>Hornet 4 Drive</td>\n",
       "      <td>21.4</td>\n",
       "      <td>6</td>\n",
       "      <td>258.0</td>\n",
       "      <td>110</td>\n",
       "      <td>3.08</td>\n",
       "      <td>3.215</td>\n",
       "      <td>19.44</td>\n",
       "      <td>1</td>\n",
       "      <td>0</td>\n",
       "      <td>3</td>\n",
       "      <td>1</td>\n",
       "    </tr>\n",
       "    <tr>\n",
       "      <th>4</th>\n",
       "      <td>Hornet Sportabout</td>\n",
       "      <td>18.7</td>\n",
       "      <td>8</td>\n",
       "      <td>360.0</td>\n",
       "      <td>175</td>\n",
       "      <td>3.15</td>\n",
       "      <td>3.440</td>\n",
       "      <td>17.02</td>\n",
       "      <td>0</td>\n",
       "      <td>0</td>\n",
       "      <td>3</td>\n",
       "      <td>2</td>\n",
       "    </tr>\n",
       "  </tbody>\n",
       "</table>\n",
       "</div>"
      ],
      "text/plain": [
       "           car_model   mpg  cyl   disp   hp  drat     wt   qsec  vs  am  gear  \\\n",
       "0          Mazda RX4  21.0    6  160.0  110  3.90  2.620  16.46   0   1     4   \n",
       "1      Mazda RX4 Wag  21.0    6  160.0  110  3.90  2.875  17.02   0   1     4   \n",
       "2         Datsun 710  22.8    4  108.0   93  3.85  2.320  18.61   1   1     4   \n",
       "3     Hornet 4 Drive  21.4    6  258.0  110  3.08  3.215  19.44   1   0     3   \n",
       "4  Hornet Sportabout  18.7    8  360.0  175  3.15  3.440  17.02   0   0     3   \n",
       "\n",
       "   carb  \n",
       "0     4  \n",
       "1     4  \n",
       "2     1  \n",
       "3     1  \n",
       "4     2  "
      ]
     },
     "execution_count": 117,
     "metadata": {},
     "output_type": "execute_result"
    }
   ],
   "source": [
    "car.head()"
   ]
  },
  {
   "cell_type": "code",
   "execution_count": 118,
   "id": "cdbba6fb",
   "metadata": {},
   "outputs": [
    {
     "data": {
      "text/plain": [
       "(32, 12)"
      ]
     },
     "execution_count": 118,
     "metadata": {},
     "output_type": "execute_result"
    }
   ],
   "source": [
    "car.shape  # Rows,columns"
   ]
  },
  {
   "cell_type": "markdown",
   "id": "9d1652fc",
   "metadata": {},
   "source": [
    "### Data Cleaning"
   ]
  },
  {
   "cell_type": "markdown",
   "id": "dcb46d9d",
   "metadata": {},
   "source": [
    "To check any missing information in the data"
   ]
  },
  {
   "cell_type": "code",
   "execution_count": 119,
   "id": "f80db8a9",
   "metadata": {},
   "outputs": [
    {
     "data": {
      "text/plain": [
       "car_model    0\n",
       "mpg          0\n",
       "cyl          0\n",
       "disp         0\n",
       "hp           0\n",
       "drat         0\n",
       "wt           0\n",
       "qsec         0\n",
       "vs           0\n",
       "am           0\n",
       "gear         0\n",
       "carb         0\n",
       "dtype: int64"
      ]
     },
     "execution_count": 119,
     "metadata": {},
     "output_type": "execute_result"
    }
   ],
   "source": [
    "car.isnull().sum()"
   ]
  },
  {
   "cell_type": "code",
   "execution_count": 120,
   "id": "bff3f3d8",
   "metadata": {},
   "outputs": [
    {
     "name": "stdout",
     "output_type": "stream",
     "text": [
      "<class 'pandas.core.frame.DataFrame'>\n",
      "RangeIndex: 32 entries, 0 to 31\n",
      "Data columns (total 12 columns):\n",
      " #   Column     Non-Null Count  Dtype  \n",
      "---  ------     --------------  -----  \n",
      " 0   car_model  32 non-null     object \n",
      " 1   mpg        32 non-null     float64\n",
      " 2   cyl        32 non-null     int64  \n",
      " 3   disp       32 non-null     float64\n",
      " 4   hp         32 non-null     int64  \n",
      " 5   drat       32 non-null     float64\n",
      " 6   wt         32 non-null     float64\n",
      " 7   qsec       32 non-null     float64\n",
      " 8   vs         32 non-null     int64  \n",
      " 9   am         32 non-null     int64  \n",
      " 10  gear       32 non-null     int64  \n",
      " 11  carb       32 non-null     int64  \n",
      "dtypes: float64(5), int64(6), object(1)\n",
      "memory usage: 3.1+ KB\n"
     ]
    }
   ],
   "source": [
    "car.info()"
   ]
  },
  {
   "cell_type": "raw",
   "id": "3a3f4a85",
   "metadata": {},
   "source": [
    "Presenly no missing information in the car data.\n",
    "If available, the apply with dropna, fillna functions."
   ]
  },
  {
   "cell_type": "markdown",
   "id": "57cd9c79",
   "metadata": {},
   "source": [
    "### Exploratory Data Analysis(EDA)"
   ]
  },
  {
   "cell_type": "code",
   "execution_count": 121,
   "id": "4696e8d5",
   "metadata": {},
   "outputs": [
    {
     "data": {
      "text/html": [
       "<div>\n",
       "<style scoped>\n",
       "    .dataframe tbody tr th:only-of-type {\n",
       "        vertical-align: middle;\n",
       "    }\n",
       "\n",
       "    .dataframe tbody tr th {\n",
       "        vertical-align: top;\n",
       "    }\n",
       "\n",
       "    .dataframe thead th {\n",
       "        text-align: right;\n",
       "    }\n",
       "</style>\n",
       "<table border=\"1\" class=\"dataframe\">\n",
       "  <thead>\n",
       "    <tr style=\"text-align: right;\">\n",
       "      <th></th>\n",
       "      <th>car_model</th>\n",
       "      <th>mpg</th>\n",
       "      <th>cyl</th>\n",
       "      <th>disp</th>\n",
       "      <th>hp</th>\n",
       "      <th>drat</th>\n",
       "      <th>wt</th>\n",
       "      <th>qsec</th>\n",
       "      <th>vs</th>\n",
       "      <th>am</th>\n",
       "      <th>gear</th>\n",
       "      <th>carb</th>\n",
       "    </tr>\n",
       "  </thead>\n",
       "  <tbody>\n",
       "    <tr>\n",
       "      <th>0</th>\n",
       "      <td>Mazda RX4</td>\n",
       "      <td>21.0</td>\n",
       "      <td>6</td>\n",
       "      <td>160.0</td>\n",
       "      <td>110</td>\n",
       "      <td>3.90</td>\n",
       "      <td>2.620</td>\n",
       "      <td>16.46</td>\n",
       "      <td>0</td>\n",
       "      <td>1</td>\n",
       "      <td>4</td>\n",
       "      <td>4</td>\n",
       "    </tr>\n",
       "    <tr>\n",
       "      <th>1</th>\n",
       "      <td>Mazda RX4 Wag</td>\n",
       "      <td>21.0</td>\n",
       "      <td>6</td>\n",
       "      <td>160.0</td>\n",
       "      <td>110</td>\n",
       "      <td>3.90</td>\n",
       "      <td>2.875</td>\n",
       "      <td>17.02</td>\n",
       "      <td>0</td>\n",
       "      <td>1</td>\n",
       "      <td>4</td>\n",
       "      <td>4</td>\n",
       "    </tr>\n",
       "    <tr>\n",
       "      <th>2</th>\n",
       "      <td>Datsun 710</td>\n",
       "      <td>22.8</td>\n",
       "      <td>4</td>\n",
       "      <td>108.0</td>\n",
       "      <td>93</td>\n",
       "      <td>3.85</td>\n",
       "      <td>2.320</td>\n",
       "      <td>18.61</td>\n",
       "      <td>1</td>\n",
       "      <td>1</td>\n",
       "      <td>4</td>\n",
       "      <td>1</td>\n",
       "    </tr>\n",
       "    <tr>\n",
       "      <th>3</th>\n",
       "      <td>Hornet 4 Drive</td>\n",
       "      <td>21.4</td>\n",
       "      <td>6</td>\n",
       "      <td>258.0</td>\n",
       "      <td>110</td>\n",
       "      <td>3.08</td>\n",
       "      <td>3.215</td>\n",
       "      <td>19.44</td>\n",
       "      <td>1</td>\n",
       "      <td>0</td>\n",
       "      <td>3</td>\n",
       "      <td>1</td>\n",
       "    </tr>\n",
       "    <tr>\n",
       "      <th>4</th>\n",
       "      <td>Hornet Sportabout</td>\n",
       "      <td>18.7</td>\n",
       "      <td>8</td>\n",
       "      <td>360.0</td>\n",
       "      <td>175</td>\n",
       "      <td>3.15</td>\n",
       "      <td>3.440</td>\n",
       "      <td>17.02</td>\n",
       "      <td>0</td>\n",
       "      <td>0</td>\n",
       "      <td>3</td>\n",
       "      <td>2</td>\n",
       "    </tr>\n",
       "  </tbody>\n",
       "</table>\n",
       "</div>"
      ],
      "text/plain": [
       "           car_model   mpg  cyl   disp   hp  drat     wt   qsec  vs  am  gear  \\\n",
       "0          Mazda RX4  21.0    6  160.0  110  3.90  2.620  16.46   0   1     4   \n",
       "1      Mazda RX4 Wag  21.0    6  160.0  110  3.90  2.875  17.02   0   1     4   \n",
       "2         Datsun 710  22.8    4  108.0   93  3.85  2.320  18.61   1   1     4   \n",
       "3     Hornet 4 Drive  21.4    6  258.0  110  3.08  3.215  19.44   1   0     3   \n",
       "4  Hornet Sportabout  18.7    8  360.0  175  3.15  3.440  17.02   0   0     3   \n",
       "\n",
       "   carb  \n",
       "0     4  \n",
       "1     4  \n",
       "2     1  \n",
       "3     1  \n",
       "4     2  "
      ]
     },
     "execution_count": 121,
     "metadata": {},
     "output_type": "execute_result"
    }
   ],
   "source": [
    "car.head()"
   ]
  },
  {
   "cell_type": "code",
   "execution_count": 122,
   "id": "5fc1282f",
   "metadata": {},
   "outputs": [
    {
     "data": {
      "text/plain": [
       "array([1, 0])"
      ]
     },
     "execution_count": 122,
     "metadata": {},
     "output_type": "execute_result"
    }
   ],
   "source": [
    "car['am'].unique()"
   ]
  },
  {
   "cell_type": "code",
   "execution_count": 123,
   "id": "c8ef9f76",
   "metadata": {},
   "outputs": [
    {
     "data": {
      "text/plain": [
       "0    19\n",
       "1    13\n",
       "Name: am, dtype: int64"
      ]
     },
     "execution_count": 123,
     "metadata": {},
     "output_type": "execute_result"
    }
   ],
   "source": [
    "car['am'].value_counts()"
   ]
  },
  {
   "cell_type": "code",
   "execution_count": 124,
   "id": "eb6def6a",
   "metadata": {},
   "outputs": [
    {
     "data": {
      "text/plain": [
       "am  vs\n",
       "0   0     12\n",
       "    1      7\n",
       "1   0      6\n",
       "    1      7\n",
       "dtype: int64"
      ]
     },
     "execution_count": 124,
     "metadata": {},
     "output_type": "execute_result"
    }
   ],
   "source": [
    "car.groupby(['am','vs']).size()"
   ]
  },
  {
   "cell_type": "code",
   "execution_count": 125,
   "id": "109906de",
   "metadata": {},
   "outputs": [
    {
     "data": {
      "text/plain": [
       "am  gear\n",
       "0   3       15\n",
       "    4        4\n",
       "1   4        8\n",
       "    5        5\n",
       "dtype: int64"
      ]
     },
     "execution_count": 125,
     "metadata": {},
     "output_type": "execute_result"
    }
   ],
   "source": [
    "car.groupby(['am','gear']).size()"
   ]
  },
  {
   "cell_type": "code",
   "execution_count": 126,
   "id": "f74eb9ae",
   "metadata": {},
   "outputs": [
    {
     "data": {
      "image/png": "[encoded data removed]",
      "text/plain": [
       "<Figure size 432x288 with 1 Axes>"
      ]
     },
     "metadata": {
      "needs_background": "light"
     },
     "output_type": "display_data"
    }
   ],
   "source": [
    "sns.countplot(x='am',data=car);"
   ]
  },
  {
   "cell_type": "code",
   "execution_count": 127,
   "id": "633f8744",
   "metadata": {},
   "outputs": [
    {
     "data": {
      "text/plain": [
       "Index(['car_model', 'mpg', 'cyl', 'disp', 'hp', 'drat', 'wt', 'qsec', 'vs',\n",
       "       'am', 'gear', 'carb'],\n",
       "      dtype='object')"
      ]
     },
     "execution_count": 127,
     "metadata": {},
     "output_type": "execute_result"
    }
   ],
   "source": [
    "car.columns"
   ]
  },
  {
   "cell_type": "code",
   "execution_count": 128,
   "id": "2ea5f28b",
   "metadata": {},
   "outputs": [
    {
     "data": {
      "text/plain": [
       "10.4"
      ]
     },
     "execution_count": 128,
     "metadata": {},
     "output_type": "execute_result"
    }
   ],
   "source": [
    "car['mpg'].min()"
   ]
  },
  {
   "cell_type": "code",
   "execution_count": 129,
   "id": "9c66c8cd",
   "metadata": {},
   "outputs": [
    {
     "data": {
      "text/html": [
       "<div>\n",
       "<style scoped>\n",
       "    .dataframe tbody tr th:only-of-type {\n",
       "        vertical-align: middle;\n",
       "    }\n",
       "\n",
       "    .dataframe tbody tr th {\n",
       "        vertical-align: top;\n",
       "    }\n",
       "\n",
       "    .dataframe thead th {\n",
       "        text-align: right;\n",
       "    }\n",
       "</style>\n",
       "<table border=\"1\" class=\"dataframe\">\n",
       "  <thead>\n",
       "    <tr style=\"text-align: right;\">\n",
       "      <th></th>\n",
       "      <th>car_model</th>\n",
       "      <th>mpg</th>\n",
       "      <th>cyl</th>\n",
       "      <th>disp</th>\n",
       "      <th>hp</th>\n",
       "      <th>drat</th>\n",
       "      <th>wt</th>\n",
       "      <th>qsec</th>\n",
       "      <th>vs</th>\n",
       "      <th>am</th>\n",
       "      <th>gear</th>\n",
       "      <th>carb</th>\n",
       "    </tr>\n",
       "  </thead>\n",
       "  <tbody>\n",
       "    <tr>\n",
       "      <th>14</th>\n",
       "      <td>Cadillac Fleetwood</td>\n",
       "      <td>10.4</td>\n",
       "      <td>8</td>\n",
       "      <td>472.0</td>\n",
       "      <td>205</td>\n",
       "      <td>2.93</td>\n",
       "      <td>5.250</td>\n",
       "      <td>17.98</td>\n",
       "      <td>0</td>\n",
       "      <td>0</td>\n",
       "      <td>3</td>\n",
       "      <td>4</td>\n",
       "    </tr>\n",
       "    <tr>\n",
       "      <th>15</th>\n",
       "      <td>Lincoln Continental</td>\n",
       "      <td>10.4</td>\n",
       "      <td>8</td>\n",
       "      <td>460.0</td>\n",
       "      <td>215</td>\n",
       "      <td>3.00</td>\n",
       "      <td>5.424</td>\n",
       "      <td>17.82</td>\n",
       "      <td>0</td>\n",
       "      <td>0</td>\n",
       "      <td>3</td>\n",
       "      <td>4</td>\n",
       "    </tr>\n",
       "  </tbody>\n",
       "</table>\n",
       "</div>"
      ],
      "text/plain": [
       "              car_model   mpg  cyl   disp   hp  drat     wt   qsec  vs  am  \\\n",
       "14   Cadillac Fleetwood  10.4    8  472.0  205  2.93  5.250  17.98   0   0   \n",
       "15  Lincoln Continental  10.4    8  460.0  215  3.00  5.424  17.82   0   0   \n",
       "\n",
       "    gear  carb  \n",
       "14     3     4  \n",
       "15     3     4  "
      ]
     },
     "execution_count": 129,
     "metadata": {},
     "output_type": "execute_result"
    }
   ],
   "source": [
    "car[car['mpg']==car['mpg'].min()]"
   ]
  },
  {
   "cell_type": "code",
   "execution_count": 130,
   "id": "afaa35f0",
   "metadata": {},
   "outputs": [
    {
     "data": {
      "text/html": [
       "<div>\n",
       "<style scoped>\n",
       "    .dataframe tbody tr th:only-of-type {\n",
       "        vertical-align: middle;\n",
       "    }\n",
       "\n",
       "    .dataframe tbody tr th {\n",
       "        vertical-align: top;\n",
       "    }\n",
       "\n",
       "    .dataframe thead th {\n",
       "        text-align: right;\n",
       "    }\n",
       "</style>\n",
       "<table border=\"1\" class=\"dataframe\">\n",
       "  <thead>\n",
       "    <tr style=\"text-align: right;\">\n",
       "      <th></th>\n",
       "      <th>car_model</th>\n",
       "      <th>mpg</th>\n",
       "      <th>cyl</th>\n",
       "      <th>disp</th>\n",
       "      <th>hp</th>\n",
       "      <th>drat</th>\n",
       "      <th>wt</th>\n",
       "      <th>qsec</th>\n",
       "      <th>vs</th>\n",
       "      <th>am</th>\n",
       "      <th>gear</th>\n",
       "      <th>carb</th>\n",
       "    </tr>\n",
       "  </thead>\n",
       "  <tbody>\n",
       "    <tr>\n",
       "      <th>19</th>\n",
       "      <td>Toyota Corolla</td>\n",
       "      <td>33.9</td>\n",
       "      <td>4</td>\n",
       "      <td>71.1</td>\n",
       "      <td>65</td>\n",
       "      <td>4.22</td>\n",
       "      <td>1.835</td>\n",
       "      <td>19.9</td>\n",
       "      <td>1</td>\n",
       "      <td>1</td>\n",
       "      <td>4</td>\n",
       "      <td>1</td>\n",
       "    </tr>\n",
       "  </tbody>\n",
       "</table>\n",
       "</div>"
      ],
      "text/plain": [
       "         car_model   mpg  cyl  disp  hp  drat     wt  qsec  vs  am  gear  carb\n",
       "19  Toyota Corolla  33.9    4  71.1  65  4.22  1.835  19.9   1   1     4     1"
      ]
     },
     "execution_count": 130,
     "metadata": {},
     "output_type": "execute_result"
    }
   ],
   "source": [
    "car[car['mpg']==car['mpg'].max()]"
   ]
  },
  {
   "cell_type": "code",
   "execution_count": 131,
   "id": "fc0ed345",
   "metadata": {},
   "outputs": [
    {
     "data": {
      "text/html": [
       "<div>\n",
       "<style scoped>\n",
       "    .dataframe tbody tr th:only-of-type {\n",
       "        vertical-align: middle;\n",
       "    }\n",
       "\n",
       "    .dataframe tbody tr th {\n",
       "        vertical-align: top;\n",
       "    }\n",
       "\n",
       "    .dataframe thead th {\n",
       "        text-align: right;\n",
       "    }\n",
       "</style>\n",
       "<table border=\"1\" class=\"dataframe\">\n",
       "  <thead>\n",
       "    <tr style=\"text-align: right;\">\n",
       "      <th></th>\n",
       "      <th>car_model</th>\n",
       "      <th>mpg</th>\n",
       "      <th>cyl</th>\n",
       "      <th>disp</th>\n",
       "      <th>hp</th>\n",
       "      <th>drat</th>\n",
       "      <th>wt</th>\n",
       "      <th>qsec</th>\n",
       "      <th>vs</th>\n",
       "      <th>am</th>\n",
       "      <th>gear</th>\n",
       "      <th>carb</th>\n",
       "    </tr>\n",
       "  </thead>\n",
       "  <tbody>\n",
       "    <tr>\n",
       "      <th>6</th>\n",
       "      <td>Duster 360</td>\n",
       "      <td>14.3</td>\n",
       "      <td>8</td>\n",
       "      <td>360.0</td>\n",
       "      <td>245</td>\n",
       "      <td>3.21</td>\n",
       "      <td>3.570</td>\n",
       "      <td>15.84</td>\n",
       "      <td>0</td>\n",
       "      <td>0</td>\n",
       "      <td>3</td>\n",
       "      <td>4</td>\n",
       "    </tr>\n",
       "    <tr>\n",
       "      <th>14</th>\n",
       "      <td>Cadillac Fleetwood</td>\n",
       "      <td>10.4</td>\n",
       "      <td>8</td>\n",
       "      <td>472.0</td>\n",
       "      <td>205</td>\n",
       "      <td>2.93</td>\n",
       "      <td>5.250</td>\n",
       "      <td>17.98</td>\n",
       "      <td>0</td>\n",
       "      <td>0</td>\n",
       "      <td>3</td>\n",
       "      <td>4</td>\n",
       "    </tr>\n",
       "    <tr>\n",
       "      <th>15</th>\n",
       "      <td>Lincoln Continental</td>\n",
       "      <td>10.4</td>\n",
       "      <td>8</td>\n",
       "      <td>460.0</td>\n",
       "      <td>215</td>\n",
       "      <td>3.00</td>\n",
       "      <td>5.424</td>\n",
       "      <td>17.82</td>\n",
       "      <td>0</td>\n",
       "      <td>0</td>\n",
       "      <td>3</td>\n",
       "      <td>4</td>\n",
       "    </tr>\n",
       "    <tr>\n",
       "      <th>16</th>\n",
       "      <td>Chrysler Imperial</td>\n",
       "      <td>14.7</td>\n",
       "      <td>8</td>\n",
       "      <td>440.0</td>\n",
       "      <td>230</td>\n",
       "      <td>3.23</td>\n",
       "      <td>5.345</td>\n",
       "      <td>17.42</td>\n",
       "      <td>0</td>\n",
       "      <td>0</td>\n",
       "      <td>3</td>\n",
       "      <td>4</td>\n",
       "    </tr>\n",
       "    <tr>\n",
       "      <th>23</th>\n",
       "      <td>Camaro Z28</td>\n",
       "      <td>13.3</td>\n",
       "      <td>8</td>\n",
       "      <td>350.0</td>\n",
       "      <td>245</td>\n",
       "      <td>3.73</td>\n",
       "      <td>3.840</td>\n",
       "      <td>15.41</td>\n",
       "      <td>0</td>\n",
       "      <td>0</td>\n",
       "      <td>3</td>\n",
       "      <td>4</td>\n",
       "    </tr>\n",
       "    <tr>\n",
       "      <th>30</th>\n",
       "      <td>Maserati Bora</td>\n",
       "      <td>15.0</td>\n",
       "      <td>8</td>\n",
       "      <td>301.0</td>\n",
       "      <td>335</td>\n",
       "      <td>3.54</td>\n",
       "      <td>3.570</td>\n",
       "      <td>14.60</td>\n",
       "      <td>0</td>\n",
       "      <td>1</td>\n",
       "      <td>5</td>\n",
       "      <td>8</td>\n",
       "    </tr>\n",
       "  </tbody>\n",
       "</table>\n",
       "</div>"
      ],
      "text/plain": [
       "              car_model   mpg  cyl   disp   hp  drat     wt   qsec  vs  am  \\\n",
       "6            Duster 360  14.3    8  360.0  245  3.21  3.570  15.84   0   0   \n",
       "14   Cadillac Fleetwood  10.4    8  472.0  205  2.93  5.250  17.98   0   0   \n",
       "15  Lincoln Continental  10.4    8  460.0  215  3.00  5.424  17.82   0   0   \n",
       "16    Chrysler Imperial  14.7    8  440.0  230  3.23  5.345  17.42   0   0   \n",
       "23           Camaro Z28  13.3    8  350.0  245  3.73  3.840  15.41   0   0   \n",
       "30        Maserati Bora  15.0    8  301.0  335  3.54  3.570  14.60   0   1   \n",
       "\n",
       "    gear  carb  \n",
       "6      3     4  \n",
       "14     3     4  \n",
       "15     3     4  \n",
       "16     3     4  \n",
       "23     3     4  \n",
       "30     5     8  "
      ]
     },
     "execution_count": 131,
     "metadata": {},
     "output_type": "execute_result"
    }
   ],
   "source": [
    "car[(car['mpg']>=10.4)&(car['mpg']<=15)]"
   ]
  },
  {
   "cell_type": "code",
   "execution_count": 132,
   "id": "60f19a0e",
   "metadata": {},
   "outputs": [
    {
     "data": {
      "text/plain": [
       "8"
      ]
     },
     "execution_count": 132,
     "metadata": {},
     "output_type": "execute_result"
    }
   ],
   "source": [
    "len(car[(car['mpg']>=16)&(car['mpg']<=20)])"
   ]
  },
  {
   "cell_type": "code",
   "execution_count": 133,
   "id": "40db0782",
   "metadata": {},
   "outputs": [
    {
     "data": {
      "image/png": "[encoded data removed]",
      "text/plain": [
       "<Figure size 360x360 with 1 Axes>"
      ]
     },
     "metadata": {
      "needs_background": "light"
     },
     "output_type": "display_data"
    }
   ],
   "source": [
    "sns.displot(car['mpg'],kde=True);"
   ]
  },
  {
   "cell_type": "code",
   "execution_count": 134,
   "id": "88aeaa22",
   "metadata": {},
   "outputs": [
    {
     "data": {
      "text/plain": [
       "count    32.000000\n",
       "mean     20.090625\n",
       "std       6.026948\n",
       "min      10.400000\n",
       "25%      15.425000\n",
       "50%      19.200000\n",
       "75%      22.800000\n",
       "max      33.900000\n",
       "Name: mpg, dtype: float64"
      ]
     },
     "execution_count": 134,
     "metadata": {},
     "output_type": "execute_result"
    }
   ],
   "source": [
    "car['mpg'].describe()"
   ]
  },
  {
   "cell_type": "code",
   "execution_count": 135,
   "id": "1bc7935c",
   "metadata": {},
   "outputs": [
    {
     "data": {
      "text/plain": [
       "0.6723771376290805"
      ]
     },
     "execution_count": 135,
     "metadata": {},
     "output_type": "execute_result"
    }
   ],
   "source": [
    "car['mpg'].skew()  # moderately right skewed\n",
    "# 0.5 to 1"
   ]
  },
  {
   "cell_type": "code",
   "execution_count": 136,
   "id": "adde43ed",
   "metadata": {
    "scrolled": false
   },
   "outputs": [
    {
     "data": {
      "text/html": [
       "<div>\n",
       "<style scoped>\n",
       "    .dataframe tbody tr th:only-of-type {\n",
       "        vertical-align: middle;\n",
       "    }\n",
       "\n",
       "    .dataframe tbody tr th {\n",
       "        vertical-align: top;\n",
       "    }\n",
       "\n",
       "    .dataframe thead th {\n",
       "        text-align: right;\n",
       "    }\n",
       "</style>\n",
       "<table border=\"1\" class=\"dataframe\">\n",
       "  <thead>\n",
       "    <tr style=\"text-align: right;\">\n",
       "      <th></th>\n",
       "      <th>mpg</th>\n",
       "      <th>cyl</th>\n",
       "      <th>disp</th>\n",
       "      <th>hp</th>\n",
       "      <th>drat</th>\n",
       "      <th>wt</th>\n",
       "      <th>qsec</th>\n",
       "      <th>vs</th>\n",
       "      <th>am</th>\n",
       "      <th>gear</th>\n",
       "      <th>carb</th>\n",
       "    </tr>\n",
       "  </thead>\n",
       "  <tbody>\n",
       "    <tr>\n",
       "      <th>mpg</th>\n",
       "      <td>1.000000</td>\n",
       "      <td>-0.852162</td>\n",
       "      <td>-0.847551</td>\n",
       "      <td>-0.776168</td>\n",
       "      <td>0.681172</td>\n",
       "      <td>-0.867659</td>\n",
       "      <td>0.418684</td>\n",
       "      <td>0.664039</td>\n",
       "      <td>0.599832</td>\n",
       "      <td>0.480285</td>\n",
       "      <td>-0.550925</td>\n",
       "    </tr>\n",
       "    <tr>\n",
       "      <th>cyl</th>\n",
       "      <td>-0.852162</td>\n",
       "      <td>1.000000</td>\n",
       "      <td>0.902033</td>\n",
       "      <td>0.832447</td>\n",
       "      <td>-0.699938</td>\n",
       "      <td>0.782496</td>\n",
       "      <td>-0.591242</td>\n",
       "      <td>-0.810812</td>\n",
       "      <td>-0.522607</td>\n",
       "      <td>-0.492687</td>\n",
       "      <td>0.526988</td>\n",
       "    </tr>\n",
       "    <tr>\n",
       "      <th>disp</th>\n",
       "      <td>-0.847551</td>\n",
       "      <td>0.902033</td>\n",
       "      <td>1.000000</td>\n",
       "      <td>0.790949</td>\n",
       "      <td>-0.710214</td>\n",
       "      <td>0.887980</td>\n",
       "      <td>-0.433698</td>\n",
       "      <td>-0.710416</td>\n",
       "      <td>-0.591227</td>\n",
       "      <td>-0.555569</td>\n",
       "      <td>0.394977</td>\n",
       "    </tr>\n",
       "    <tr>\n",
       "      <th>hp</th>\n",
       "      <td>-0.776168</td>\n",
       "      <td>0.832447</td>\n",
       "      <td>0.790949</td>\n",
       "      <td>1.000000</td>\n",
       "      <td>-0.448759</td>\n",
       "      <td>0.658748</td>\n",
       "      <td>-0.708223</td>\n",
       "      <td>-0.723097</td>\n",
       "      <td>-0.243204</td>\n",
       "      <td>-0.125704</td>\n",
       "      <td>0.749812</td>\n",
       "    </tr>\n",
       "    <tr>\n",
       "      <th>drat</th>\n",
       "      <td>0.681172</td>\n",
       "      <td>-0.699938</td>\n",
       "      <td>-0.710214</td>\n",
       "      <td>-0.448759</td>\n",
       "      <td>1.000000</td>\n",
       "      <td>-0.712441</td>\n",
       "      <td>0.091205</td>\n",
       "      <td>0.440278</td>\n",
       "      <td>0.712711</td>\n",
       "      <td>0.699610</td>\n",
       "      <td>-0.090790</td>\n",
       "    </tr>\n",
       "    <tr>\n",
       "      <th>wt</th>\n",
       "      <td>-0.867659</td>\n",
       "      <td>0.782496</td>\n",
       "      <td>0.887980</td>\n",
       "      <td>0.658748</td>\n",
       "      <td>-0.712441</td>\n",
       "      <td>1.000000</td>\n",
       "      <td>-0.174716</td>\n",
       "      <td>-0.554916</td>\n",
       "      <td>-0.692495</td>\n",
       "      <td>-0.583287</td>\n",
       "      <td>0.427606</td>\n",
       "    </tr>\n",
       "    <tr>\n",
       "      <th>qsec</th>\n",
       "      <td>0.418684</td>\n",
       "      <td>-0.591242</td>\n",
       "      <td>-0.433698</td>\n",
       "      <td>-0.708223</td>\n",
       "      <td>0.091205</td>\n",
       "      <td>-0.174716</td>\n",
       "      <td>1.000000</td>\n",
       "      <td>0.744535</td>\n",
       "      <td>-0.229861</td>\n",
       "      <td>-0.212682</td>\n",
       "      <td>-0.656249</td>\n",
       "    </tr>\n",
       "    <tr>\n",
       "      <th>vs</th>\n",
       "      <td>0.664039</td>\n",
       "      <td>-0.810812</td>\n",
       "      <td>-0.710416</td>\n",
       "      <td>-0.723097</td>\n",
       "      <td>0.440278</td>\n",
       "      <td>-0.554916</td>\n",
       "      <td>0.744535</td>\n",
       "      <td>1.000000</td>\n",
       "      <td>0.168345</td>\n",
       "      <td>0.206023</td>\n",
       "      <td>-0.569607</td>\n",
       "    </tr>\n",
       "    <tr>\n",
       "      <th>am</th>\n",
       "      <td>0.599832</td>\n",
       "      <td>-0.522607</td>\n",
       "      <td>-0.591227</td>\n",
       "      <td>-0.243204</td>\n",
       "      <td>0.712711</td>\n",
       "      <td>-0.692495</td>\n",
       "      <td>-0.229861</td>\n",
       "      <td>0.168345</td>\n",
       "      <td>1.000000</td>\n",
       "      <td>0.794059</td>\n",
       "      <td>0.057534</td>\n",
       "    </tr>\n",
       "    <tr>\n",
       "      <th>gear</th>\n",
       "      <td>0.480285</td>\n",
       "      <td>-0.492687</td>\n",
       "      <td>-0.555569</td>\n",
       "      <td>-0.125704</td>\n",
       "      <td>0.699610</td>\n",
       "      <td>-0.583287</td>\n",
       "      <td>-0.212682</td>\n",
       "      <td>0.206023</td>\n",
       "      <td>0.794059</td>\n",
       "      <td>1.000000</td>\n",
       "      <td>0.274073</td>\n",
       "    </tr>\n",
       "    <tr>\n",
       "      <th>carb</th>\n",
       "      <td>-0.550925</td>\n",
       "      <td>0.526988</td>\n",
       "      <td>0.394977</td>\n",
       "      <td>0.749812</td>\n",
       "      <td>-0.090790</td>\n",
       "      <td>0.427606</td>\n",
       "      <td>-0.656249</td>\n",
       "      <td>-0.569607</td>\n",
       "      <td>0.057534</td>\n",
       "      <td>0.274073</td>\n",
       "      <td>1.000000</td>\n",
       "    </tr>\n",
       "  </tbody>\n",
       "</table>\n",
       "</div>"
      ],
      "text/plain": [
       "           mpg       cyl      disp        hp      drat        wt      qsec  \\\n",
       "mpg   1.000000 -0.852162 -0.847551 -0.776168  0.681172 -0.867659  0.418684   \n",
       "cyl  -0.852162  1.000000  0.902033  0.832447 -0.699938  0.782496 -0.591242   \n",
       "disp -0.847551  0.902033  1.000000  0.790949 -0.710214  0.887980 -0.433698   \n",
       "hp   -0.776168  0.832447  0.790949  1.000000 -0.448759  0.658748 -0.708223   \n",
       "drat  0.681172 -0.699938 -0.710214 -0.448759  1.000000 -0.712441  0.091205   \n",
       "wt   -0.867659  0.782496  0.887980  0.658748 -0.712441  1.000000 -0.174716   \n",
       "qsec  0.418684 -0.591242 -0.433698 -0.708223  0.091205 -0.174716  1.000000   \n",
       "vs    0.664039 -0.810812 -0.710416 -0.723097  0.440278 -0.554916  0.744535   \n",
       "am    0.599832 -0.522607 -0.591227 -0.243204  0.712711 -0.692495 -0.229861   \n",
       "gear  0.480285 -0.492687 -0.555569 -0.125704  0.699610 -0.583287 -0.212682   \n",
       "carb -0.550925  0.526988  0.394977  0.749812 -0.090790  0.427606 -0.656249   \n",
       "\n",
       "            vs        am      gear      carb  \n",
       "mpg   0.664039  0.599832  0.480285 -0.550925  \n",
       "cyl  -0.810812 -0.522607 -0.492687  0.526988  \n",
       "disp -0.710416 -0.591227 -0.555569  0.394977  \n",
       "hp   -0.723097 -0.243204 -0.125704  0.749812  \n",
       "drat  0.440278  0.712711  0.699610 -0.090790  \n",
       "wt   -0.554916 -0.692495 -0.583287  0.427606  \n",
       "qsec  0.744535 -0.229861 -0.212682 -0.656249  \n",
       "vs    1.000000  0.168345  0.206023 -0.569607  \n",
       "am    0.168345  1.000000  0.794059  0.057534  \n",
       "gear  0.206023  0.794059  1.000000  0.274073  \n",
       "carb -0.569607  0.057534  0.274073  1.000000  "
      ]
     },
     "execution_count": 136,
     "metadata": {},
     "output_type": "execute_result"
    }
   ],
   "source": [
    "car.corr()   # correlation"
   ]
  },
  {
   "cell_type": "markdown",
   "id": "8f55584c",
   "metadata": {},
   "source": [
    "Multicollinearity, similar range correlated values <0.05, any one column will be considered."
   ]
  },
  {
   "cell_type": "markdown",
   "id": "8183bda1",
   "metadata": {},
   "source": [
    "## Feature Engineering"
   ]
  },
  {
   "cell_type": "code",
   "execution_count": 137,
   "id": "bcace226",
   "metadata": {},
   "outputs": [],
   "source": [
    "# Independent variables\n",
    "X=car.loc[:,['wt','drat','hp','qsec','am','gear','carb']]\n",
    "# Dependent variable\n",
    "y=car.loc[:,'mpg']"
   ]
  },
  {
   "cell_type": "code",
   "execution_count": 138,
   "id": "60171914",
   "metadata": {},
   "outputs": [
    {
     "data": {
      "text/html": [
       "<div>\n",
       "<style scoped>\n",
       "    .dataframe tbody tr th:only-of-type {\n",
       "        vertical-align: middle;\n",
       "    }\n",
       "\n",
       "    .dataframe tbody tr th {\n",
       "        vertical-align: top;\n",
       "    }\n",
       "\n",
       "    .dataframe thead th {\n",
       "        text-align: right;\n",
       "    }\n",
       "</style>\n",
       "<table border=\"1\" class=\"dataframe\">\n",
       "  <thead>\n",
       "    <tr style=\"text-align: right;\">\n",
       "      <th></th>\n",
       "      <th>wt</th>\n",
       "      <th>drat</th>\n",
       "      <th>hp</th>\n",
       "      <th>qsec</th>\n",
       "      <th>am</th>\n",
       "      <th>gear</th>\n",
       "      <th>carb</th>\n",
       "    </tr>\n",
       "  </thead>\n",
       "  <tbody>\n",
       "    <tr>\n",
       "      <th>0</th>\n",
       "      <td>2.620</td>\n",
       "      <td>3.90</td>\n",
       "      <td>110</td>\n",
       "      <td>16.46</td>\n",
       "      <td>1</td>\n",
       "      <td>4</td>\n",
       "      <td>4</td>\n",
       "    </tr>\n",
       "    <tr>\n",
       "      <th>1</th>\n",
       "      <td>2.875</td>\n",
       "      <td>3.90</td>\n",
       "      <td>110</td>\n",
       "      <td>17.02</td>\n",
       "      <td>1</td>\n",
       "      <td>4</td>\n",
       "      <td>4</td>\n",
       "    </tr>\n",
       "    <tr>\n",
       "      <th>2</th>\n",
       "      <td>2.320</td>\n",
       "      <td>3.85</td>\n",
       "      <td>93</td>\n",
       "      <td>18.61</td>\n",
       "      <td>1</td>\n",
       "      <td>4</td>\n",
       "      <td>1</td>\n",
       "    </tr>\n",
       "    <tr>\n",
       "      <th>3</th>\n",
       "      <td>3.215</td>\n",
       "      <td>3.08</td>\n",
       "      <td>110</td>\n",
       "      <td>19.44</td>\n",
       "      <td>0</td>\n",
       "      <td>3</td>\n",
       "      <td>1</td>\n",
       "    </tr>\n",
       "    <tr>\n",
       "      <th>4</th>\n",
       "      <td>3.440</td>\n",
       "      <td>3.15</td>\n",
       "      <td>175</td>\n",
       "      <td>17.02</td>\n",
       "      <td>0</td>\n",
       "      <td>3</td>\n",
       "      <td>2</td>\n",
       "    </tr>\n",
       "    <tr>\n",
       "      <th>5</th>\n",
       "      <td>3.460</td>\n",
       "      <td>2.76</td>\n",
       "      <td>105</td>\n",
       "      <td>20.22</td>\n",
       "      <td>0</td>\n",
       "      <td>3</td>\n",
       "      <td>1</td>\n",
       "    </tr>\n",
       "    <tr>\n",
       "      <th>6</th>\n",
       "      <td>3.570</td>\n",
       "      <td>3.21</td>\n",
       "      <td>245</td>\n",
       "      <td>15.84</td>\n",
       "      <td>0</td>\n",
       "      <td>3</td>\n",
       "      <td>4</td>\n",
       "    </tr>\n",
       "    <tr>\n",
       "      <th>7</th>\n",
       "      <td>3.190</td>\n",
       "      <td>3.69</td>\n",
       "      <td>62</td>\n",
       "      <td>20.00</td>\n",
       "      <td>0</td>\n",
       "      <td>4</td>\n",
       "      <td>2</td>\n",
       "    </tr>\n",
       "    <tr>\n",
       "      <th>8</th>\n",
       "      <td>3.150</td>\n",
       "      <td>3.92</td>\n",
       "      <td>95</td>\n",
       "      <td>22.90</td>\n",
       "      <td>0</td>\n",
       "      <td>4</td>\n",
       "      <td>2</td>\n",
       "    </tr>\n",
       "    <tr>\n",
       "      <th>9</th>\n",
       "      <td>3.440</td>\n",
       "      <td>3.92</td>\n",
       "      <td>123</td>\n",
       "      <td>18.30</td>\n",
       "      <td>0</td>\n",
       "      <td>4</td>\n",
       "      <td>4</td>\n",
       "    </tr>\n",
       "    <tr>\n",
       "      <th>10</th>\n",
       "      <td>3.440</td>\n",
       "      <td>3.92</td>\n",
       "      <td>123</td>\n",
       "      <td>18.90</td>\n",
       "      <td>0</td>\n",
       "      <td>4</td>\n",
       "      <td>4</td>\n",
       "    </tr>\n",
       "    <tr>\n",
       "      <th>11</th>\n",
       "      <td>4.070</td>\n",
       "      <td>3.07</td>\n",
       "      <td>180</td>\n",
       "      <td>17.40</td>\n",
       "      <td>0</td>\n",
       "      <td>3</td>\n",
       "      <td>3</td>\n",
       "    </tr>\n",
       "    <tr>\n",
       "      <th>12</th>\n",
       "      <td>3.730</td>\n",
       "      <td>3.07</td>\n",
       "      <td>180</td>\n",
       "      <td>17.60</td>\n",
       "      <td>0</td>\n",
       "      <td>3</td>\n",
       "      <td>3</td>\n",
       "    </tr>\n",
       "    <tr>\n",
       "      <th>13</th>\n",
       "      <td>3.780</td>\n",
       "      <td>3.07</td>\n",
       "      <td>180</td>\n",
       "      <td>18.00</td>\n",
       "      <td>0</td>\n",
       "      <td>3</td>\n",
       "      <td>3</td>\n",
       "    </tr>\n",
       "    <tr>\n",
       "      <th>14</th>\n",
       "      <td>5.250</td>\n",
       "      <td>2.93</td>\n",
       "      <td>205</td>\n",
       "      <td>17.98</td>\n",
       "      <td>0</td>\n",
       "      <td>3</td>\n",
       "      <td>4</td>\n",
       "    </tr>\n",
       "    <tr>\n",
       "      <th>15</th>\n",
       "      <td>5.424</td>\n",
       "      <td>3.00</td>\n",
       "      <td>215</td>\n",
       "      <td>17.82</td>\n",
       "      <td>0</td>\n",
       "      <td>3</td>\n",
       "      <td>4</td>\n",
       "    </tr>\n",
       "    <tr>\n",
       "      <th>16</th>\n",
       "      <td>5.345</td>\n",
       "      <td>3.23</td>\n",
       "      <td>230</td>\n",
       "      <td>17.42</td>\n",
       "      <td>0</td>\n",
       "      <td>3</td>\n",
       "      <td>4</td>\n",
       "    </tr>\n",
       "    <tr>\n",
       "      <th>17</th>\n",
       "      <td>2.200</td>\n",
       "      <td>4.08</td>\n",
       "      <td>66</td>\n",
       "      <td>19.47</td>\n",
       "      <td>1</td>\n",
       "      <td>4</td>\n",
       "      <td>1</td>\n",
       "    </tr>\n",
       "    <tr>\n",
       "      <th>18</th>\n",
       "      <td>1.615</td>\n",
       "      <td>4.93</td>\n",
       "      <td>52</td>\n",
       "      <td>18.52</td>\n",
       "      <td>1</td>\n",
       "      <td>4</td>\n",
       "      <td>2</td>\n",
       "    </tr>\n",
       "    <tr>\n",
       "      <th>19</th>\n",
       "      <td>1.835</td>\n",
       "      <td>4.22</td>\n",
       "      <td>65</td>\n",
       "      <td>19.90</td>\n",
       "      <td>1</td>\n",
       "      <td>4</td>\n",
       "      <td>1</td>\n",
       "    </tr>\n",
       "    <tr>\n",
       "      <th>20</th>\n",
       "      <td>2.465</td>\n",
       "      <td>3.70</td>\n",
       "      <td>97</td>\n",
       "      <td>20.01</td>\n",
       "      <td>0</td>\n",
       "      <td>3</td>\n",
       "      <td>1</td>\n",
       "    </tr>\n",
       "    <tr>\n",
       "      <th>21</th>\n",
       "      <td>3.520</td>\n",
       "      <td>2.76</td>\n",
       "      <td>150</td>\n",
       "      <td>16.87</td>\n",
       "      <td>0</td>\n",
       "      <td>3</td>\n",
       "      <td>2</td>\n",
       "    </tr>\n",
       "    <tr>\n",
       "      <th>22</th>\n",
       "      <td>3.435</td>\n",
       "      <td>3.15</td>\n",
       "      <td>150</td>\n",
       "      <td>17.30</td>\n",
       "      <td>0</td>\n",
       "      <td>3</td>\n",
       "      <td>2</td>\n",
       "    </tr>\n",
       "    <tr>\n",
       "      <th>23</th>\n",
       "      <td>3.840</td>\n",
       "      <td>3.73</td>\n",
       "      <td>245</td>\n",
       "      <td>15.41</td>\n",
       "      <td>0</td>\n",
       "      <td>3</td>\n",
       "      <td>4</td>\n",
       "    </tr>\n",
       "    <tr>\n",
       "      <th>24</th>\n",
       "      <td>3.845</td>\n",
       "      <td>3.08</td>\n",
       "      <td>175</td>\n",
       "      <td>17.05</td>\n",
       "      <td>0</td>\n",
       "      <td>3</td>\n",
       "      <td>2</td>\n",
       "    </tr>\n",
       "    <tr>\n",
       "      <th>25</th>\n",
       "      <td>1.935</td>\n",
       "      <td>4.08</td>\n",
       "      <td>66</td>\n",
       "      <td>18.90</td>\n",
       "      <td>1</td>\n",
       "      <td>4</td>\n",
       "      <td>1</td>\n",
       "    </tr>\n",
       "    <tr>\n",
       "      <th>26</th>\n",
       "      <td>2.140</td>\n",
       "      <td>4.43</td>\n",
       "      <td>91</td>\n",
       "      <td>16.70</td>\n",
       "      <td>1</td>\n",
       "      <td>5</td>\n",
       "      <td>2</td>\n",
       "    </tr>\n",
       "    <tr>\n",
       "      <th>27</th>\n",
       "      <td>1.513</td>\n",
       "      <td>3.77</td>\n",
       "      <td>113</td>\n",
       "      <td>16.90</td>\n",
       "      <td>1</td>\n",
       "      <td>5</td>\n",
       "      <td>2</td>\n",
       "    </tr>\n",
       "    <tr>\n",
       "      <th>28</th>\n",
       "      <td>3.170</td>\n",
       "      <td>4.22</td>\n",
       "      <td>264</td>\n",
       "      <td>14.50</td>\n",
       "      <td>1</td>\n",
       "      <td>5</td>\n",
       "      <td>4</td>\n",
       "    </tr>\n",
       "    <tr>\n",
       "      <th>29</th>\n",
       "      <td>2.770</td>\n",
       "      <td>3.62</td>\n",
       "      <td>175</td>\n",
       "      <td>15.50</td>\n",
       "      <td>1</td>\n",
       "      <td>5</td>\n",
       "      <td>6</td>\n",
       "    </tr>\n",
       "    <tr>\n",
       "      <th>30</th>\n",
       "      <td>3.570</td>\n",
       "      <td>3.54</td>\n",
       "      <td>335</td>\n",
       "      <td>14.60</td>\n",
       "      <td>1</td>\n",
       "      <td>5</td>\n",
       "      <td>8</td>\n",
       "    </tr>\n",
       "    <tr>\n",
       "      <th>31</th>\n",
       "      <td>2.780</td>\n",
       "      <td>4.11</td>\n",
       "      <td>109</td>\n",
       "      <td>18.60</td>\n",
       "      <td>1</td>\n",
       "      <td>4</td>\n",
       "      <td>2</td>\n",
       "    </tr>\n",
       "  </tbody>\n",
       "</table>\n",
       "</div>"
      ],
      "text/plain": [
       "       wt  drat   hp   qsec  am  gear  carb\n",
       "0   2.620  3.90  110  16.46   1     4     4\n",
       "1   2.875  3.90  110  17.02   1     4     4\n",
       "2   2.320  3.85   93  18.61   1     4     1\n",
       "3   3.215  3.08  110  19.44   0     3     1\n",
       "4   3.440  3.15  175  17.02   0     3     2\n",
       "5   3.460  2.76  105  20.22   0     3     1\n",
       "6   3.570  3.21  245  15.84   0     3     4\n",
       "7   3.190  3.69   62  20.00   0     4     2\n",
       "8   3.150  3.92   95  22.90   0     4     2\n",
       "9   3.440  3.92  123  18.30   0     4     4\n",
       "10  3.440  3.92  123  18.90   0     4     4\n",
       "11  4.070  3.07  180  17.40   0     3     3\n",
       "12  3.730  3.07  180  17.60   0     3     3\n",
       "13  3.780  3.07  180  18.00   0     3     3\n",
       "14  5.250  2.93  205  17.98   0     3     4\n",
       "15  5.424  3.00  215  17.82   0     3     4\n",
       "16  5.345  3.23  230  17.42   0     3     4\n",
       "17  2.200  4.08   66  19.47   1     4     1\n",
       "18  1.615  4.93   52  18.52   1     4     2\n",
       "19  1.835  4.22   65  19.90   1     4     1\n",
       "20  2.465  3.70   97  20.01   0     3     1\n",
       "21  3.520  2.76  150  16.87   0     3     2\n",
       "22  3.435  3.15  150  17.30   0     3     2\n",
       "23  3.840  3.73  245  15.41   0     3     4\n",
       "24  3.845  3.08  175  17.05   0     3     2\n",
       "25  1.935  4.08   66  18.90   1     4     1\n",
       "26  2.140  4.43   91  16.70   1     5     2\n",
       "27  1.513  3.77  113  16.90   1     5     2\n",
       "28  3.170  4.22  264  14.50   1     5     4\n",
       "29  2.770  3.62  175  15.50   1     5     6\n",
       "30  3.570  3.54  335  14.60   1     5     8\n",
       "31  2.780  4.11  109  18.60   1     4     2"
      ]
     },
     "execution_count": 138,
     "metadata": {},
     "output_type": "execute_result"
    }
   ],
   "source": [
    "X"
   ]
  },
  {
   "cell_type": "code",
   "execution_count": 139,
   "id": "ca9df736",
   "metadata": {},
   "outputs": [
    {
     "data": {
      "text/plain": [
       "0     21.0\n",
       "1     21.0\n",
       "2     22.8\n",
       "3     21.4\n",
       "4     18.7\n",
       "5     18.1\n",
       "6     14.3\n",
       "7     24.4\n",
       "8     22.8\n",
       "9     19.2\n",
       "10    17.8\n",
       "11    16.4\n",
       "12    17.3\n",
       "13    15.2\n",
       "14    10.4\n",
       "15    10.4\n",
       "16    14.7\n",
       "17    32.4\n",
       "18    30.4\n",
       "19    33.9\n",
       "20    21.5\n",
       "21    15.5\n",
       "22    15.2\n",
       "23    13.3\n",
       "24    19.2\n",
       "25    27.3\n",
       "26    26.0\n",
       "27    30.4\n",
       "28    15.8\n",
       "29    19.7\n",
       "30    15.0\n",
       "31    21.4\n",
       "Name: mpg, dtype: float64"
      ]
     },
     "execution_count": 139,
     "metadata": {},
     "output_type": "execute_result"
    }
   ],
   "source": [
    "y"
   ]
  },
  {
   "cell_type": "code",
   "execution_count": 140,
   "id": "ea76af50",
   "metadata": {},
   "outputs": [
    {
     "data": {
      "text/html": [
       "<div>\n",
       "<style scoped>\n",
       "    .dataframe tbody tr th:only-of-type {\n",
       "        vertical-align: middle;\n",
       "    }\n",
       "\n",
       "    .dataframe tbody tr th {\n",
       "        vertical-align: top;\n",
       "    }\n",
       "\n",
       "    .dataframe thead th {\n",
       "        text-align: right;\n",
       "    }\n",
       "</style>\n",
       "<table border=\"1\" class=\"dataframe\">\n",
       "  <thead>\n",
       "    <tr style=\"text-align: right;\">\n",
       "      <th></th>\n",
       "      <th>car_model</th>\n",
       "      <th>mpg</th>\n",
       "      <th>cyl</th>\n",
       "      <th>disp</th>\n",
       "      <th>hp</th>\n",
       "      <th>drat</th>\n",
       "      <th>wt</th>\n",
       "      <th>qsec</th>\n",
       "      <th>vs</th>\n",
       "      <th>am</th>\n",
       "      <th>gear</th>\n",
       "      <th>carb</th>\n",
       "    </tr>\n",
       "  </thead>\n",
       "  <tbody>\n",
       "    <tr>\n",
       "      <th>0</th>\n",
       "      <td>Mazda RX4</td>\n",
       "      <td>21.0</td>\n",
       "      <td>6</td>\n",
       "      <td>160.0</td>\n",
       "      <td>110</td>\n",
       "      <td>3.90</td>\n",
       "      <td>2.620</td>\n",
       "      <td>16.46</td>\n",
       "      <td>0</td>\n",
       "      <td>1</td>\n",
       "      <td>4</td>\n",
       "      <td>4</td>\n",
       "    </tr>\n",
       "    <tr>\n",
       "      <th>1</th>\n",
       "      <td>Mazda RX4 Wag</td>\n",
       "      <td>21.0</td>\n",
       "      <td>6</td>\n",
       "      <td>160.0</td>\n",
       "      <td>110</td>\n",
       "      <td>3.90</td>\n",
       "      <td>2.875</td>\n",
       "      <td>17.02</td>\n",
       "      <td>0</td>\n",
       "      <td>1</td>\n",
       "      <td>4</td>\n",
       "      <td>4</td>\n",
       "    </tr>\n",
       "    <tr>\n",
       "      <th>2</th>\n",
       "      <td>Datsun 710</td>\n",
       "      <td>22.8</td>\n",
       "      <td>4</td>\n",
       "      <td>108.0</td>\n",
       "      <td>93</td>\n",
       "      <td>3.85</td>\n",
       "      <td>2.320</td>\n",
       "      <td>18.61</td>\n",
       "      <td>1</td>\n",
       "      <td>1</td>\n",
       "      <td>4</td>\n",
       "      <td>1</td>\n",
       "    </tr>\n",
       "    <tr>\n",
       "      <th>3</th>\n",
       "      <td>Hornet 4 Drive</td>\n",
       "      <td>21.4</td>\n",
       "      <td>6</td>\n",
       "      <td>258.0</td>\n",
       "      <td>110</td>\n",
       "      <td>3.08</td>\n",
       "      <td>3.215</td>\n",
       "      <td>19.44</td>\n",
       "      <td>1</td>\n",
       "      <td>0</td>\n",
       "      <td>3</td>\n",
       "      <td>1</td>\n",
       "    </tr>\n",
       "    <tr>\n",
       "      <th>4</th>\n",
       "      <td>Hornet Sportabout</td>\n",
       "      <td>18.7</td>\n",
       "      <td>8</td>\n",
       "      <td>360.0</td>\n",
       "      <td>175</td>\n",
       "      <td>3.15</td>\n",
       "      <td>3.440</td>\n",
       "      <td>17.02</td>\n",
       "      <td>0</td>\n",
       "      <td>0</td>\n",
       "      <td>3</td>\n",
       "      <td>2</td>\n",
       "    </tr>\n",
       "  </tbody>\n",
       "</table>\n",
       "</div>"
      ],
      "text/plain": [
       "           car_model   mpg  cyl   disp   hp  drat     wt   qsec  vs  am  gear  \\\n",
       "0          Mazda RX4  21.0    6  160.0  110  3.90  2.620  16.46   0   1     4   \n",
       "1      Mazda RX4 Wag  21.0    6  160.0  110  3.90  2.875  17.02   0   1     4   \n",
       "2         Datsun 710  22.8    4  108.0   93  3.85  2.320  18.61   1   1     4   \n",
       "3     Hornet 4 Drive  21.4    6  258.0  110  3.08  3.215  19.44   1   0     3   \n",
       "4  Hornet Sportabout  18.7    8  360.0  175  3.15  3.440  17.02   0   0     3   \n",
       "\n",
       "   carb  \n",
       "0     4  \n",
       "1     4  \n",
       "2     1  \n",
       "3     1  \n",
       "4     2  "
      ]
     },
     "execution_count": 140,
     "metadata": {},
     "output_type": "execute_result"
    }
   ],
   "source": [
    "car.head()"
   ]
  },
  {
   "cell_type": "code",
   "execution_count": 141,
   "id": "22f85cf7",
   "metadata": {},
   "outputs": [
    {
     "data": {
      "text/plain": [
       "array([6, 4, 8])"
      ]
     },
     "execution_count": 141,
     "metadata": {},
     "output_type": "execute_result"
    }
   ],
   "source": [
    "car['cyl'].unique()"
   ]
  },
  {
   "cell_type": "markdown",
   "id": "bfe5a262",
   "metadata": {},
   "source": [
    "### Predictive Modelling"
   ]
  },
  {
   "cell_type": "code",
   "execution_count": 142,
   "id": "becfecfb",
   "metadata": {},
   "outputs": [],
   "source": [
    "# training and testing\n",
    "from sklearn.model_selection import train_test_split\n",
    "X_train,X_test,y_train,y_test=train_test_split(X,y,test_size=0.30,random_state=12)"
   ]
  },
  {
   "cell_type": "code",
   "execution_count": 143,
   "id": "0f171899",
   "metadata": {},
   "outputs": [
    {
     "data": {
      "text/html": [
       "<div>\n",
       "<style scoped>\n",
       "    .dataframe tbody tr th:only-of-type {\n",
       "        vertical-align: middle;\n",
       "    }\n",
       "\n",
       "    .dataframe tbody tr th {\n",
       "        vertical-align: top;\n",
       "    }\n",
       "\n",
       "    .dataframe thead th {\n",
       "        text-align: right;\n",
       "    }\n",
       "</style>\n",
       "<table border=\"1\" class=\"dataframe\">\n",
       "  <thead>\n",
       "    <tr style=\"text-align: right;\">\n",
       "      <th></th>\n",
       "      <th>wt</th>\n",
       "      <th>drat</th>\n",
       "      <th>hp</th>\n",
       "      <th>qsec</th>\n",
       "      <th>am</th>\n",
       "      <th>gear</th>\n",
       "      <th>carb</th>\n",
       "    </tr>\n",
       "  </thead>\n",
       "  <tbody>\n",
       "    <tr>\n",
       "      <th>21</th>\n",
       "      <td>3.520</td>\n",
       "      <td>2.76</td>\n",
       "      <td>150</td>\n",
       "      <td>16.87</td>\n",
       "      <td>0</td>\n",
       "      <td>3</td>\n",
       "      <td>2</td>\n",
       "    </tr>\n",
       "    <tr>\n",
       "      <th>8</th>\n",
       "      <td>3.150</td>\n",
       "      <td>3.92</td>\n",
       "      <td>95</td>\n",
       "      <td>22.90</td>\n",
       "      <td>0</td>\n",
       "      <td>4</td>\n",
       "      <td>2</td>\n",
       "    </tr>\n",
       "    <tr>\n",
       "      <th>19</th>\n",
       "      <td>1.835</td>\n",
       "      <td>4.22</td>\n",
       "      <td>65</td>\n",
       "      <td>19.90</td>\n",
       "      <td>1</td>\n",
       "      <td>4</td>\n",
       "      <td>1</td>\n",
       "    </tr>\n",
       "    <tr>\n",
       "      <th>0</th>\n",
       "      <td>2.620</td>\n",
       "      <td>3.90</td>\n",
       "      <td>110</td>\n",
       "      <td>16.46</td>\n",
       "      <td>1</td>\n",
       "      <td>4</td>\n",
       "      <td>4</td>\n",
       "    </tr>\n",
       "    <tr>\n",
       "      <th>10</th>\n",
       "      <td>3.440</td>\n",
       "      <td>3.92</td>\n",
       "      <td>123</td>\n",
       "      <td>18.90</td>\n",
       "      <td>0</td>\n",
       "      <td>4</td>\n",
       "      <td>4</td>\n",
       "    </tr>\n",
       "    <tr>\n",
       "      <th>29</th>\n",
       "      <td>2.770</td>\n",
       "      <td>3.62</td>\n",
       "      <td>175</td>\n",
       "      <td>15.50</td>\n",
       "      <td>1</td>\n",
       "      <td>5</td>\n",
       "      <td>6</td>\n",
       "    </tr>\n",
       "    <tr>\n",
       "      <th>31</th>\n",
       "      <td>2.780</td>\n",
       "      <td>4.11</td>\n",
       "      <td>109</td>\n",
       "      <td>18.60</td>\n",
       "      <td>1</td>\n",
       "      <td>4</td>\n",
       "      <td>2</td>\n",
       "    </tr>\n",
       "    <tr>\n",
       "      <th>30</th>\n",
       "      <td>3.570</td>\n",
       "      <td>3.54</td>\n",
       "      <td>335</td>\n",
       "      <td>14.60</td>\n",
       "      <td>1</td>\n",
       "      <td>5</td>\n",
       "      <td>8</td>\n",
       "    </tr>\n",
       "    <tr>\n",
       "      <th>13</th>\n",
       "      <td>3.780</td>\n",
       "      <td>3.07</td>\n",
       "      <td>180</td>\n",
       "      <td>18.00</td>\n",
       "      <td>0</td>\n",
       "      <td>3</td>\n",
       "      <td>3</td>\n",
       "    </tr>\n",
       "    <tr>\n",
       "      <th>5</th>\n",
       "      <td>3.460</td>\n",
       "      <td>2.76</td>\n",
       "      <td>105</td>\n",
       "      <td>20.22</td>\n",
       "      <td>0</td>\n",
       "      <td>3</td>\n",
       "      <td>1</td>\n",
       "    </tr>\n",
       "    <tr>\n",
       "      <th>20</th>\n",
       "      <td>2.465</td>\n",
       "      <td>3.70</td>\n",
       "      <td>97</td>\n",
       "      <td>20.01</td>\n",
       "      <td>0</td>\n",
       "      <td>3</td>\n",
       "      <td>1</td>\n",
       "    </tr>\n",
       "    <tr>\n",
       "      <th>28</th>\n",
       "      <td>3.170</td>\n",
       "      <td>4.22</td>\n",
       "      <td>264</td>\n",
       "      <td>14.50</td>\n",
       "      <td>1</td>\n",
       "      <td>5</td>\n",
       "      <td>4</td>\n",
       "    </tr>\n",
       "    <tr>\n",
       "      <th>22</th>\n",
       "      <td>3.435</td>\n",
       "      <td>3.15</td>\n",
       "      <td>150</td>\n",
       "      <td>17.30</td>\n",
       "      <td>0</td>\n",
       "      <td>3</td>\n",
       "      <td>2</td>\n",
       "    </tr>\n",
       "    <tr>\n",
       "      <th>16</th>\n",
       "      <td>5.345</td>\n",
       "      <td>3.23</td>\n",
       "      <td>230</td>\n",
       "      <td>17.42</td>\n",
       "      <td>0</td>\n",
       "      <td>3</td>\n",
       "      <td>4</td>\n",
       "    </tr>\n",
       "    <tr>\n",
       "      <th>12</th>\n",
       "      <td>3.730</td>\n",
       "      <td>3.07</td>\n",
       "      <td>180</td>\n",
       "      <td>17.60</td>\n",
       "      <td>0</td>\n",
       "      <td>3</td>\n",
       "      <td>3</td>\n",
       "    </tr>\n",
       "    <tr>\n",
       "      <th>26</th>\n",
       "      <td>2.140</td>\n",
       "      <td>4.43</td>\n",
       "      <td>91</td>\n",
       "      <td>16.70</td>\n",
       "      <td>1</td>\n",
       "      <td>5</td>\n",
       "      <td>2</td>\n",
       "    </tr>\n",
       "    <tr>\n",
       "      <th>3</th>\n",
       "      <td>3.215</td>\n",
       "      <td>3.08</td>\n",
       "      <td>110</td>\n",
       "      <td>19.44</td>\n",
       "      <td>0</td>\n",
       "      <td>3</td>\n",
       "      <td>1</td>\n",
       "    </tr>\n",
       "    <tr>\n",
       "      <th>2</th>\n",
       "      <td>2.320</td>\n",
       "      <td>3.85</td>\n",
       "      <td>93</td>\n",
       "      <td>18.61</td>\n",
       "      <td>1</td>\n",
       "      <td>4</td>\n",
       "      <td>1</td>\n",
       "    </tr>\n",
       "    <tr>\n",
       "      <th>17</th>\n",
       "      <td>2.200</td>\n",
       "      <td>4.08</td>\n",
       "      <td>66</td>\n",
       "      <td>19.47</td>\n",
       "      <td>1</td>\n",
       "      <td>4</td>\n",
       "      <td>1</td>\n",
       "    </tr>\n",
       "    <tr>\n",
       "      <th>6</th>\n",
       "      <td>3.570</td>\n",
       "      <td>3.21</td>\n",
       "      <td>245</td>\n",
       "      <td>15.84</td>\n",
       "      <td>0</td>\n",
       "      <td>3</td>\n",
       "      <td>4</td>\n",
       "    </tr>\n",
       "    <tr>\n",
       "      <th>27</th>\n",
       "      <td>1.513</td>\n",
       "      <td>3.77</td>\n",
       "      <td>113</td>\n",
       "      <td>16.90</td>\n",
       "      <td>1</td>\n",
       "      <td>5</td>\n",
       "      <td>2</td>\n",
       "    </tr>\n",
       "    <tr>\n",
       "      <th>11</th>\n",
       "      <td>4.070</td>\n",
       "      <td>3.07</td>\n",
       "      <td>180</td>\n",
       "      <td>17.40</td>\n",
       "      <td>0</td>\n",
       "      <td>3</td>\n",
       "      <td>3</td>\n",
       "    </tr>\n",
       "  </tbody>\n",
       "</table>\n",
       "</div>"
      ],
      "text/plain": [
       "       wt  drat   hp   qsec  am  gear  carb\n",
       "21  3.520  2.76  150  16.87   0     3     2\n",
       "8   3.150  3.92   95  22.90   0     4     2\n",
       "19  1.835  4.22   65  19.90   1     4     1\n",
       "0   2.620  3.90  110  16.46   1     4     4\n",
       "10  3.440  3.92  123  18.90   0     4     4\n",
       "29  2.770  3.62  175  15.50   1     5     6\n",
       "31  2.780  4.11  109  18.60   1     4     2\n",
       "30  3.570  3.54  335  14.60   1     5     8\n",
       "13  3.780  3.07  180  18.00   0     3     3\n",
       "5   3.460  2.76  105  20.22   0     3     1\n",
       "20  2.465  3.70   97  20.01   0     3     1\n",
       "28  3.170  4.22  264  14.50   1     5     4\n",
       "22  3.435  3.15  150  17.30   0     3     2\n",
       "16  5.345  3.23  230  17.42   0     3     4\n",
       "12  3.730  3.07  180  17.60   0     3     3\n",
       "26  2.140  4.43   91  16.70   1     5     2\n",
       "3   3.215  3.08  110  19.44   0     3     1\n",
       "2   2.320  3.85   93  18.61   1     4     1\n",
       "17  2.200  4.08   66  19.47   1     4     1\n",
       "6   3.570  3.21  245  15.84   0     3     4\n",
       "27  1.513  3.77  113  16.90   1     5     2\n",
       "11  4.070  3.07  180  17.40   0     3     3"
      ]
     },
     "execution_count": 143,
     "metadata": {},
     "output_type": "execute_result"
    }
   ],
   "source": [
    "X_train"
   ]
  },
  {
   "cell_type": "code",
   "execution_count": 144,
   "id": "9bf7defa",
   "metadata": {},
   "outputs": [
    {
     "data": {
      "text/plain": [
       "(22, 7)"
      ]
     },
     "execution_count": 144,
     "metadata": {},
     "output_type": "execute_result"
    }
   ],
   "source": [
    "X_train.shape"
   ]
  },
  {
   "cell_type": "code",
   "execution_count": 145,
   "id": "46118aa2",
   "metadata": {},
   "outputs": [
    {
     "data": {
      "text/plain": [
       "(10, 7)"
      ]
     },
     "execution_count": 145,
     "metadata": {},
     "output_type": "execute_result"
    }
   ],
   "source": [
    "X_test.shape"
   ]
  },
  {
   "cell_type": "code",
   "execution_count": 146,
   "id": "0a5778b5",
   "metadata": {
    "scrolled": true
   },
   "outputs": [
    {
     "data": {
      "text/html": [
       "<div>\n",
       "<style scoped>\n",
       "    .dataframe tbody tr th:only-of-type {\n",
       "        vertical-align: middle;\n",
       "    }\n",
       "\n",
       "    .dataframe tbody tr th {\n",
       "        vertical-align: top;\n",
       "    }\n",
       "\n",
       "    .dataframe thead th {\n",
       "        text-align: right;\n",
       "    }\n",
       "</style>\n",
       "<table border=\"1\" class=\"dataframe\">\n",
       "  <thead>\n",
       "    <tr style=\"text-align: right;\">\n",
       "      <th></th>\n",
       "      <th>wt</th>\n",
       "      <th>drat</th>\n",
       "      <th>hp</th>\n",
       "      <th>qsec</th>\n",
       "      <th>am</th>\n",
       "      <th>gear</th>\n",
       "      <th>carb</th>\n",
       "    </tr>\n",
       "  </thead>\n",
       "  <tbody>\n",
       "    <tr>\n",
       "      <th>21</th>\n",
       "      <td>3.520</td>\n",
       "      <td>2.76</td>\n",
       "      <td>150</td>\n",
       "      <td>16.87</td>\n",
       "      <td>0</td>\n",
       "      <td>3</td>\n",
       "      <td>2</td>\n",
       "    </tr>\n",
       "    <tr>\n",
       "      <th>8</th>\n",
       "      <td>3.150</td>\n",
       "      <td>3.92</td>\n",
       "      <td>95</td>\n",
       "      <td>22.90</td>\n",
       "      <td>0</td>\n",
       "      <td>4</td>\n",
       "      <td>2</td>\n",
       "    </tr>\n",
       "    <tr>\n",
       "      <th>19</th>\n",
       "      <td>1.835</td>\n",
       "      <td>4.22</td>\n",
       "      <td>65</td>\n",
       "      <td>19.90</td>\n",
       "      <td>1</td>\n",
       "      <td>4</td>\n",
       "      <td>1</td>\n",
       "    </tr>\n",
       "    <tr>\n",
       "      <th>0</th>\n",
       "      <td>2.620</td>\n",
       "      <td>3.90</td>\n",
       "      <td>110</td>\n",
       "      <td>16.46</td>\n",
       "      <td>1</td>\n",
       "      <td>4</td>\n",
       "      <td>4</td>\n",
       "    </tr>\n",
       "    <tr>\n",
       "      <th>10</th>\n",
       "      <td>3.440</td>\n",
       "      <td>3.92</td>\n",
       "      <td>123</td>\n",
       "      <td>18.90</td>\n",
       "      <td>0</td>\n",
       "      <td>4</td>\n",
       "      <td>4</td>\n",
       "    </tr>\n",
       "    <tr>\n",
       "      <th>29</th>\n",
       "      <td>2.770</td>\n",
       "      <td>3.62</td>\n",
       "      <td>175</td>\n",
       "      <td>15.50</td>\n",
       "      <td>1</td>\n",
       "      <td>5</td>\n",
       "      <td>6</td>\n",
       "    </tr>\n",
       "    <tr>\n",
       "      <th>31</th>\n",
       "      <td>2.780</td>\n",
       "      <td>4.11</td>\n",
       "      <td>109</td>\n",
       "      <td>18.60</td>\n",
       "      <td>1</td>\n",
       "      <td>4</td>\n",
       "      <td>2</td>\n",
       "    </tr>\n",
       "    <tr>\n",
       "      <th>30</th>\n",
       "      <td>3.570</td>\n",
       "      <td>3.54</td>\n",
       "      <td>335</td>\n",
       "      <td>14.60</td>\n",
       "      <td>1</td>\n",
       "      <td>5</td>\n",
       "      <td>8</td>\n",
       "    </tr>\n",
       "    <tr>\n",
       "      <th>13</th>\n",
       "      <td>3.780</td>\n",
       "      <td>3.07</td>\n",
       "      <td>180</td>\n",
       "      <td>18.00</td>\n",
       "      <td>0</td>\n",
       "      <td>3</td>\n",
       "      <td>3</td>\n",
       "    </tr>\n",
       "    <tr>\n",
       "      <th>5</th>\n",
       "      <td>3.460</td>\n",
       "      <td>2.76</td>\n",
       "      <td>105</td>\n",
       "      <td>20.22</td>\n",
       "      <td>0</td>\n",
       "      <td>3</td>\n",
       "      <td>1</td>\n",
       "    </tr>\n",
       "    <tr>\n",
       "      <th>20</th>\n",
       "      <td>2.465</td>\n",
       "      <td>3.70</td>\n",
       "      <td>97</td>\n",
       "      <td>20.01</td>\n",
       "      <td>0</td>\n",
       "      <td>3</td>\n",
       "      <td>1</td>\n",
       "    </tr>\n",
       "    <tr>\n",
       "      <th>28</th>\n",
       "      <td>3.170</td>\n",
       "      <td>4.22</td>\n",
       "      <td>264</td>\n",
       "      <td>14.50</td>\n",
       "      <td>1</td>\n",
       "      <td>5</td>\n",
       "      <td>4</td>\n",
       "    </tr>\n",
       "    <tr>\n",
       "      <th>22</th>\n",
       "      <td>3.435</td>\n",
       "      <td>3.15</td>\n",
       "      <td>150</td>\n",
       "      <td>17.30</td>\n",
       "      <td>0</td>\n",
       "      <td>3</td>\n",
       "      <td>2</td>\n",
       "    </tr>\n",
       "    <tr>\n",
       "      <th>16</th>\n",
       "      <td>5.345</td>\n",
       "      <td>3.23</td>\n",
       "      <td>230</td>\n",
       "      <td>17.42</td>\n",
       "      <td>0</td>\n",
       "      <td>3</td>\n",
       "      <td>4</td>\n",
       "    </tr>\n",
       "    <tr>\n",
       "      <th>12</th>\n",
       "      <td>3.730</td>\n",
       "      <td>3.07</td>\n",
       "      <td>180</td>\n",
       "      <td>17.60</td>\n",
       "      <td>0</td>\n",
       "      <td>3</td>\n",
       "      <td>3</td>\n",
       "    </tr>\n",
       "    <tr>\n",
       "      <th>26</th>\n",
       "      <td>2.140</td>\n",
       "      <td>4.43</td>\n",
       "      <td>91</td>\n",
       "      <td>16.70</td>\n",
       "      <td>1</td>\n",
       "      <td>5</td>\n",
       "      <td>2</td>\n",
       "    </tr>\n",
       "    <tr>\n",
       "      <th>3</th>\n",
       "      <td>3.215</td>\n",
       "      <td>3.08</td>\n",
       "      <td>110</td>\n",
       "      <td>19.44</td>\n",
       "      <td>0</td>\n",
       "      <td>3</td>\n",
       "      <td>1</td>\n",
       "    </tr>\n",
       "    <tr>\n",
       "      <th>2</th>\n",
       "      <td>2.320</td>\n",
       "      <td>3.85</td>\n",
       "      <td>93</td>\n",
       "      <td>18.61</td>\n",
       "      <td>1</td>\n",
       "      <td>4</td>\n",
       "      <td>1</td>\n",
       "    </tr>\n",
       "    <tr>\n",
       "      <th>17</th>\n",
       "      <td>2.200</td>\n",
       "      <td>4.08</td>\n",
       "      <td>66</td>\n",
       "      <td>19.47</td>\n",
       "      <td>1</td>\n",
       "      <td>4</td>\n",
       "      <td>1</td>\n",
       "    </tr>\n",
       "    <tr>\n",
       "      <th>6</th>\n",
       "      <td>3.570</td>\n",
       "      <td>3.21</td>\n",
       "      <td>245</td>\n",
       "      <td>15.84</td>\n",
       "      <td>0</td>\n",
       "      <td>3</td>\n",
       "      <td>4</td>\n",
       "    </tr>\n",
       "    <tr>\n",
       "      <th>27</th>\n",
       "      <td>1.513</td>\n",
       "      <td>3.77</td>\n",
       "      <td>113</td>\n",
       "      <td>16.90</td>\n",
       "      <td>1</td>\n",
       "      <td>5</td>\n",
       "      <td>2</td>\n",
       "    </tr>\n",
       "    <tr>\n",
       "      <th>11</th>\n",
       "      <td>4.070</td>\n",
       "      <td>3.07</td>\n",
       "      <td>180</td>\n",
       "      <td>17.40</td>\n",
       "      <td>0</td>\n",
       "      <td>3</td>\n",
       "      <td>3</td>\n",
       "    </tr>\n",
       "  </tbody>\n",
       "</table>\n",
       "</div>"
      ],
      "text/plain": [
       "       wt  drat   hp   qsec  am  gear  carb\n",
       "21  3.520  2.76  150  16.87   0     3     2\n",
       "8   3.150  3.92   95  22.90   0     4     2\n",
       "19  1.835  4.22   65  19.90   1     4     1\n",
       "0   2.620  3.90  110  16.46   1     4     4\n",
       "10  3.440  3.92  123  18.90   0     4     4\n",
       "29  2.770  3.62  175  15.50   1     5     6\n",
       "31  2.780  4.11  109  18.60   1     4     2\n",
       "30  3.570  3.54  335  14.60   1     5     8\n",
       "13  3.780  3.07  180  18.00   0     3     3\n",
       "5   3.460  2.76  105  20.22   0     3     1\n",
       "20  2.465  3.70   97  20.01   0     3     1\n",
       "28  3.170  4.22  264  14.50   1     5     4\n",
       "22  3.435  3.15  150  17.30   0     3     2\n",
       "16  5.345  3.23  230  17.42   0     3     4\n",
       "12  3.730  3.07  180  17.60   0     3     3\n",
       "26  2.140  4.43   91  16.70   1     5     2\n",
       "3   3.215  3.08  110  19.44   0     3     1\n",
       "2   2.320  3.85   93  18.61   1     4     1\n",
       "17  2.200  4.08   66  19.47   1     4     1\n",
       "6   3.570  3.21  245  15.84   0     3     4\n",
       "27  1.513  3.77  113  16.90   1     5     2\n",
       "11  4.070  3.07  180  17.40   0     3     3"
      ]
     },
     "execution_count": 146,
     "metadata": {},
     "output_type": "execute_result"
    }
   ],
   "source": [
    "X_train"
   ]
  },
  {
   "cell_type": "code",
   "execution_count": 147,
   "id": "f7a41846",
   "metadata": {},
   "outputs": [
    {
     "data": {
      "text/plain": [
       "LinearRegression()"
      ]
     },
     "execution_count": 147,
     "metadata": {},
     "output_type": "execute_result"
    }
   ],
   "source": [
    "# Building the Model\n",
    "from sklearn.linear_model import LinearRegression\n",
    "model_lr=LinearRegression()\n",
    "# training process, using fit function\n",
    "model_lr.fit(X_train,y_train)"
   ]
  },
  {
   "cell_type": "code",
   "execution_count": 148,
   "id": "c73bd492",
   "metadata": {},
   "outputs": [
    {
     "data": {
      "text/plain": [
       "array([-2.43065866,  0.15981262, -0.00982942,  0.97273383,  4.77398817,\n",
       "        0.14983296, -0.40112905])"
      ]
     },
     "execution_count": 148,
     "metadata": {},
     "output_type": "execute_result"
    }
   ],
   "source": [
    "# slope\n",
    "model_lr.coef_"
   ]
  },
  {
   "cell_type": "code",
   "execution_count": 149,
   "id": "33b529eb",
   "metadata": {},
   "outputs": [
    {
     "data": {
      "text/plain": [
       "9.796549565286785"
      ]
     },
     "execution_count": 149,
     "metadata": {},
     "output_type": "execute_result"
    }
   ],
   "source": [
    "# intercept\n",
    "model_lr.intercept_"
   ]
  },
  {
   "cell_type": "code",
   "execution_count": 150,
   "id": "6c8620b3",
   "metadata": {},
   "outputs": [
    {
     "data": {
      "text/html": [
       "<div>\n",
       "<style scoped>\n",
       "    .dataframe tbody tr th:only-of-type {\n",
       "        vertical-align: middle;\n",
       "    }\n",
       "\n",
       "    .dataframe tbody tr th {\n",
       "        vertical-align: top;\n",
       "    }\n",
       "\n",
       "    .dataframe thead th {\n",
       "        text-align: right;\n",
       "    }\n",
       "</style>\n",
       "<table border=\"1\" class=\"dataframe\">\n",
       "  <thead>\n",
       "    <tr style=\"text-align: right;\">\n",
       "      <th></th>\n",
       "      <th>wt</th>\n",
       "      <th>drat</th>\n",
       "      <th>hp</th>\n",
       "      <th>qsec</th>\n",
       "      <th>am</th>\n",
       "      <th>gear</th>\n",
       "      <th>carb</th>\n",
       "    </tr>\n",
       "  </thead>\n",
       "  <tbody>\n",
       "    <tr>\n",
       "      <th>7</th>\n",
       "      <td>3.190</td>\n",
       "      <td>3.69</td>\n",
       "      <td>62</td>\n",
       "      <td>20.00</td>\n",
       "      <td>0</td>\n",
       "      <td>4</td>\n",
       "      <td>2</td>\n",
       "    </tr>\n",
       "    <tr>\n",
       "      <th>24</th>\n",
       "      <td>3.845</td>\n",
       "      <td>3.08</td>\n",
       "      <td>175</td>\n",
       "      <td>17.05</td>\n",
       "      <td>0</td>\n",
       "      <td>3</td>\n",
       "      <td>2</td>\n",
       "    </tr>\n",
       "    <tr>\n",
       "      <th>18</th>\n",
       "      <td>1.615</td>\n",
       "      <td>4.93</td>\n",
       "      <td>52</td>\n",
       "      <td>18.52</td>\n",
       "      <td>1</td>\n",
       "      <td>4</td>\n",
       "      <td>2</td>\n",
       "    </tr>\n",
       "    <tr>\n",
       "      <th>14</th>\n",
       "      <td>5.250</td>\n",
       "      <td>2.93</td>\n",
       "      <td>205</td>\n",
       "      <td>17.98</td>\n",
       "      <td>0</td>\n",
       "      <td>3</td>\n",
       "      <td>4</td>\n",
       "    </tr>\n",
       "    <tr>\n",
       "      <th>1</th>\n",
       "      <td>2.875</td>\n",
       "      <td>3.90</td>\n",
       "      <td>110</td>\n",
       "      <td>17.02</td>\n",
       "      <td>1</td>\n",
       "      <td>4</td>\n",
       "      <td>4</td>\n",
       "    </tr>\n",
       "    <tr>\n",
       "      <th>23</th>\n",
       "      <td>3.840</td>\n",
       "      <td>3.73</td>\n",
       "      <td>245</td>\n",
       "      <td>15.41</td>\n",
       "      <td>0</td>\n",
       "      <td>3</td>\n",
       "      <td>4</td>\n",
       "    </tr>\n",
       "    <tr>\n",
       "      <th>4</th>\n",
       "      <td>3.440</td>\n",
       "      <td>3.15</td>\n",
       "      <td>175</td>\n",
       "      <td>17.02</td>\n",
       "      <td>0</td>\n",
       "      <td>3</td>\n",
       "      <td>2</td>\n",
       "    </tr>\n",
       "    <tr>\n",
       "      <th>15</th>\n",
       "      <td>5.424</td>\n",
       "      <td>3.00</td>\n",
       "      <td>215</td>\n",
       "      <td>17.82</td>\n",
       "      <td>0</td>\n",
       "      <td>3</td>\n",
       "      <td>4</td>\n",
       "    </tr>\n",
       "    <tr>\n",
       "      <th>25</th>\n",
       "      <td>1.935</td>\n",
       "      <td>4.08</td>\n",
       "      <td>66</td>\n",
       "      <td>18.90</td>\n",
       "      <td>1</td>\n",
       "      <td>4</td>\n",
       "      <td>1</td>\n",
       "    </tr>\n",
       "    <tr>\n",
       "      <th>9</th>\n",
       "      <td>3.440</td>\n",
       "      <td>3.92</td>\n",
       "      <td>123</td>\n",
       "      <td>18.30</td>\n",
       "      <td>0</td>\n",
       "      <td>4</td>\n",
       "      <td>4</td>\n",
       "    </tr>\n",
       "  </tbody>\n",
       "</table>\n",
       "</div>"
      ],
      "text/plain": [
       "       wt  drat   hp   qsec  am  gear  carb\n",
       "7   3.190  3.69   62  20.00   0     4     2\n",
       "24  3.845  3.08  175  17.05   0     3     2\n",
       "18  1.615  4.93   52  18.52   1     4     2\n",
       "14  5.250  2.93  205  17.98   0     3     4\n",
       "1   2.875  3.90  110  17.02   1     4     4\n",
       "23  3.840  3.73  245  15.41   0     3     4\n",
       "4   3.440  3.15  175  17.02   0     3     2\n",
       "15  5.424  3.00  215  17.82   0     3     4\n",
       "25  1.935  4.08   66  18.90   1     4     1\n",
       "9   3.440  3.92  123  18.30   0     4     4"
      ]
     },
     "execution_count": 150,
     "metadata": {},
     "output_type": "execute_result"
    }
   ],
   "source": [
    "X_test"
   ]
  },
  {
   "cell_type": "code",
   "execution_count": 151,
   "id": "c6167e1a",
   "metadata": {},
   "outputs": [
    {
     "data": {
      "text/plain": [
       "array([21.27478348, 15.45509442, 28.7338748 , 11.82354894, 22.67517282,\n",
       "       12.48552511, 16.42151604, 11.15786963, 28.45337936, 17.64837564])"
      ]
     },
     "execution_count": 151,
     "metadata": {},
     "output_type": "execute_result"
    }
   ],
   "source": [
    "# Predicting the mileage values from X_test\n",
    "y_pred=model_lr.predict(X_test)\n",
    "y_pred"
   ]
  },
  {
   "cell_type": "code",
   "execution_count": 152,
   "id": "df8c1e8c",
   "metadata": {},
   "outputs": [
    {
     "data": {
      "text/plain": [
       "7     24.4\n",
       "24    19.2\n",
       "18    30.4\n",
       "14    10.4\n",
       "1     21.0\n",
       "23    13.3\n",
       "4     18.7\n",
       "15    10.4\n",
       "25    27.3\n",
       "9     19.2\n",
       "Name: mpg, dtype: float64"
      ]
     },
     "execution_count": 152,
     "metadata": {},
     "output_type": "execute_result"
    }
   ],
   "source": [
    "y_test   # Actual mileage data, 30 percent data"
   ]
  },
  {
   "cell_type": "code",
   "execution_count": 153,
   "id": "38c0c0df",
   "metadata": {},
   "outputs": [],
   "source": [
    "from sklearn.metrics import mean_squared_error,r2_score"
   ]
  },
  {
   "cell_type": "code",
   "execution_count": 155,
   "id": "29d2c0c3",
   "metadata": {},
   "outputs": [
    {
     "data": {
      "text/plain": [
       "4.1567011826129825"
      ]
     },
     "execution_count": 155,
     "metadata": {},
     "output_type": "execute_result"
    }
   ],
   "source": [
    "mean_squared_error(y_test,y_pred)  # error average"
   ]
  },
  {
   "cell_type": "code",
   "execution_count": 157,
   "id": "7f68a6b1",
   "metadata": {},
   "outputs": [
    {
     "data": {
      "text/plain": [
       "0.8987999449138756"
      ]
     },
     "execution_count": 157,
     "metadata": {},
     "output_type": "execute_result"
    }
   ],
   "source": [
    "r2_score(y_test,y_pred)  # regression score\n",
    "# Coefficient of determination"
   ]
  },
  {
   "cell_type": "code",
   "execution_count": 160,
   "id": "3af47ff5",
   "metadata": {},
   "outputs": [
    {
     "data": {
      "text/plain": [
       "(31, 12)"
      ]
     },
     "execution_count": 160,
     "metadata": {},
     "output_type": "execute_result"
    }
   ],
   "source": [
    "car.shape"
   ]
  },
  {
   "cell_type": "code",
   "execution_count": 39,
   "id": "0bf49e40",
   "metadata": {},
   "outputs": [],
   "source": [
    "# Detecting the outliers"
   ]
  },
  {
   "cell_type": "code",
   "execution_count": 113,
   "id": "4f06928c",
   "metadata": {},
   "outputs": [
    {
     "data": {
      "image/png": "[encoded data removed]",
      "text/plain": [
       "<Figure size 432x288 with 1 Axes>"
      ]
     },
     "metadata": {
      "needs_background": "light"
     },
     "output_type": "display_data"
    }
   ],
   "source": [
    "sns.boxplot(x=car['mpg']);"
   ]
  },
  {
   "cell_type": "code",
   "execution_count": 114,
   "id": "4af1a0b1",
   "metadata": {},
   "outputs": [],
   "source": [
    "Q1=car['mpg'].quantile(0.25)\n",
    "Q3=car['mpg'].quantile(0.75)"
   ]
  },
  {
   "cell_type": "code",
   "execution_count": 45,
   "id": "e92e886c",
   "metadata": {},
   "outputs": [
    {
     "name": "stdout",
     "output_type": "stream",
     "text": [
      "15.425 22.8\n"
     ]
    }
   ],
   "source": [
    "print(Q1,Q3)"
   ]
  },
  {
   "cell_type": "code",
   "execution_count": 46,
   "id": "fe878009",
   "metadata": {},
   "outputs": [
    {
     "data": {
      "text/plain": [
       "7.375"
      ]
     },
     "execution_count": 46,
     "metadata": {},
     "output_type": "execute_result"
    }
   ],
   "source": [
    "# Interquartile range\n",
    "IQR=Q3-Q1\n",
    "IQR"
   ]
  },
  {
   "cell_type": "code",
   "execution_count": 51,
   "id": "b80e1d4c",
   "metadata": {},
   "outputs": [
    {
     "data": {
      "text/plain": [
       "4.362500000000001"
      ]
     },
     "execution_count": 51,
     "metadata": {},
     "output_type": "execute_result"
    }
   ],
   "source": [
    "L=Q1-1.5*IQR\n",
    "L  # Lower limit"
   ]
  },
  {
   "cell_type": "code",
   "execution_count": 55,
   "id": "e2876524",
   "metadata": {},
   "outputs": [
    {
     "data": {
      "text/plain": [
       "33.8625"
      ]
     },
     "execution_count": 55,
     "metadata": {},
     "output_type": "execute_result"
    }
   ],
   "source": [
    "U=Q3+1.5*IQR\n",
    "U   # Beyond upper fence"
   ]
  },
  {
   "cell_type": "code",
   "execution_count": 54,
   "id": "87ee859a",
   "metadata": {},
   "outputs": [
    {
     "data": {
      "text/html": [
       "<div>\n",
       "<style scoped>\n",
       "    .dataframe tbody tr th:only-of-type {\n",
       "        vertical-align: middle;\n",
       "    }\n",
       "\n",
       "    .dataframe tbody tr th {\n",
       "        vertical-align: top;\n",
       "    }\n",
       "\n",
       "    .dataframe thead th {\n",
       "        text-align: right;\n",
       "    }\n",
       "</style>\n",
       "<table border=\"1\" class=\"dataframe\">\n",
       "  <thead>\n",
       "    <tr style=\"text-align: right;\">\n",
       "      <th></th>\n",
       "      <th>car_model</th>\n",
       "      <th>mpg</th>\n",
       "      <th>cyl</th>\n",
       "      <th>disp</th>\n",
       "      <th>hp</th>\n",
       "      <th>drat</th>\n",
       "      <th>wt</th>\n",
       "      <th>qsec</th>\n",
       "      <th>vs</th>\n",
       "      <th>am</th>\n",
       "      <th>gear</th>\n",
       "      <th>carb</th>\n",
       "    </tr>\n",
       "  </thead>\n",
       "  <tbody>\n",
       "  </tbody>\n",
       "</table>\n",
       "</div>"
      ],
      "text/plain": [
       "Empty DataFrame\n",
       "Columns: [car_model, mpg, cyl, disp, hp, drat, wt, qsec, vs, am, gear, carb]\n",
       "Index: []"
      ]
     },
     "execution_count": 54,
     "metadata": {},
     "output_type": "execute_result"
    }
   ],
   "source": [
    "car[car['mpg']<L]  # checking "
   ]
  },
  {
   "cell_type": "code",
   "execution_count": 56,
   "id": "52f89eec",
   "metadata": {},
   "outputs": [
    {
     "data": {
      "text/html": [
       "<div>\n",
       "<style scoped>\n",
       "    .dataframe tbody tr th:only-of-type {\n",
       "        vertical-align: middle;\n",
       "    }\n",
       "\n",
       "    .dataframe tbody tr th {\n",
       "        vertical-align: top;\n",
       "    }\n",
       "\n",
       "    .dataframe thead th {\n",
       "        text-align: right;\n",
       "    }\n",
       "</style>\n",
       "<table border=\"1\" class=\"dataframe\">\n",
       "  <thead>\n",
       "    <tr style=\"text-align: right;\">\n",
       "      <th></th>\n",
       "      <th>car_model</th>\n",
       "      <th>mpg</th>\n",
       "      <th>cyl</th>\n",
       "      <th>disp</th>\n",
       "      <th>hp</th>\n",
       "      <th>drat</th>\n",
       "      <th>wt</th>\n",
       "      <th>qsec</th>\n",
       "      <th>vs</th>\n",
       "      <th>am</th>\n",
       "      <th>gear</th>\n",
       "      <th>carb</th>\n",
       "    </tr>\n",
       "  </thead>\n",
       "  <tbody>\n",
       "    <tr>\n",
       "      <th>19</th>\n",
       "      <td>Toyota Corolla</td>\n",
       "      <td>33.9</td>\n",
       "      <td>4</td>\n",
       "      <td>71.1</td>\n",
       "      <td>65</td>\n",
       "      <td>4.22</td>\n",
       "      <td>1.835</td>\n",
       "      <td>19.9</td>\n",
       "      <td>1</td>\n",
       "      <td>1</td>\n",
       "      <td>4</td>\n",
       "      <td>1</td>\n",
       "    </tr>\n",
       "  </tbody>\n",
       "</table>\n",
       "</div>"
      ],
      "text/plain": [
       "         car_model   mpg  cyl  disp  hp  drat     wt  qsec  vs  am  gear  carb\n",
       "19  Toyota Corolla  33.9    4  71.1  65  4.22  1.835  19.9   1   1     4     1"
      ]
     },
     "execution_count": 56,
     "metadata": {},
     "output_type": "execute_result"
    }
   ],
   "source": [
    "car[car['mpg']>U]"
   ]
  },
  {
   "cell_type": "code",
   "execution_count": 58,
   "id": "cd556b5a",
   "metadata": {},
   "outputs": [
    {
     "data": {
      "text/plain": [
       "Int64Index([19], dtype='int64')"
      ]
     },
     "execution_count": 58,
     "metadata": {},
     "output_type": "execute_result"
    }
   ],
   "source": [
    "ind=car[car['mpg']>U].index\n",
    "ind"
   ]
  },
  {
   "cell_type": "code",
   "execution_count": 59,
   "id": "419f223b",
   "metadata": {},
   "outputs": [],
   "source": [
    "car.drop(ind,axis=0,inplace=True)"
   ]
  },
  {
   "cell_type": "code",
   "execution_count": 61,
   "id": "a4f6538b",
   "metadata": {},
   "outputs": [
    {
     "data": {
      "text/plain": [
       "(31, 12)"
      ]
     },
     "execution_count": 61,
     "metadata": {},
     "output_type": "execute_result"
    }
   ],
   "source": [
    "car.shape"
   ]
  },
  {
   "cell_type": "code",
   "execution_count": 62,
   "id": "ee1cf0b4",
   "metadata": {
    "scrolled": true
   },
   "outputs": [
    {
     "data": {
      "image/png": "[encoded data removed]",
      "text/plain": [
       "<Figure size 432x288 with 1 Axes>"
      ]
     },
     "metadata": {
      "needs_background": "light"
     },
     "output_type": "display_data"
    }
   ],
   "source": [
    "sns.boxplot(x=car['mpg']);"
   ]
  },
  {
   "cell_type": "code",
   "execution_count": 63,
   "id": "60906cd8",
   "metadata": {},
   "outputs": [],
   "source": [
    "Q1=car['mpg'].quantile(0.25)\n",
    "Q3=car['mpg'].quantile(0.75)"
   ]
  },
  {
   "cell_type": "code",
   "execution_count": 64,
   "id": "c9b67ec2",
   "metadata": {},
   "outputs": [
    {
     "name": "stdout",
     "output_type": "stream",
     "text": [
      "15.35 22.15\n"
     ]
    }
   ],
   "source": [
    "print(Q1,Q3)"
   ]
  },
  {
   "cell_type": "code",
   "execution_count": 65,
   "id": "34fb993b",
   "metadata": {},
   "outputs": [
    {
     "data": {
      "text/plain": [
       "6.799999999999999"
      ]
     },
     "execution_count": 65,
     "metadata": {},
     "output_type": "execute_result"
    }
   ],
   "source": [
    "# Interquartile range\n",
    "IQR=Q3-Q1\n",
    "IQR"
   ]
  },
  {
   "cell_type": "code",
   "execution_count": 66,
   "id": "a1f3a737",
   "metadata": {},
   "outputs": [
    {
     "data": {
      "text/plain": [
       "5.15"
      ]
     },
     "execution_count": 66,
     "metadata": {},
     "output_type": "execute_result"
    }
   ],
   "source": [
    "L=Q1-1.5*IQR\n",
    "L  # Lower limit"
   ]
  },
  {
   "cell_type": "code",
   "execution_count": 67,
   "id": "bf2865e9",
   "metadata": {},
   "outputs": [
    {
     "data": {
      "text/plain": [
       "32.349999999999994"
      ]
     },
     "execution_count": 67,
     "metadata": {},
     "output_type": "execute_result"
    }
   ],
   "source": [
    "U=Q3+1.5*IQR\n",
    "U   # Beyond upper fence"
   ]
  },
  {
   "cell_type": "code",
   "execution_count": 68,
   "id": "c5fb38eb",
   "metadata": {},
   "outputs": [
    {
     "data": {
      "text/html": [
       "<div>\n",
       "<style scoped>\n",
       "    .dataframe tbody tr th:only-of-type {\n",
       "        vertical-align: middle;\n",
       "    }\n",
       "\n",
       "    .dataframe tbody tr th {\n",
       "        vertical-align: top;\n",
       "    }\n",
       "\n",
       "    .dataframe thead th {\n",
       "        text-align: right;\n",
       "    }\n",
       "</style>\n",
       "<table border=\"1\" class=\"dataframe\">\n",
       "  <thead>\n",
       "    <tr style=\"text-align: right;\">\n",
       "      <th></th>\n",
       "      <th>car_model</th>\n",
       "      <th>mpg</th>\n",
       "      <th>cyl</th>\n",
       "      <th>disp</th>\n",
       "      <th>hp</th>\n",
       "      <th>drat</th>\n",
       "      <th>wt</th>\n",
       "      <th>qsec</th>\n",
       "      <th>vs</th>\n",
       "      <th>am</th>\n",
       "      <th>gear</th>\n",
       "      <th>carb</th>\n",
       "    </tr>\n",
       "  </thead>\n",
       "  <tbody>\n",
       "  </tbody>\n",
       "</table>\n",
       "</div>"
      ],
      "text/plain": [
       "Empty DataFrame\n",
       "Columns: [car_model, mpg, cyl, disp, hp, drat, wt, qsec, vs, am, gear, carb]\n",
       "Index: []"
      ]
     },
     "execution_count": 68,
     "metadata": {},
     "output_type": "execute_result"
    }
   ],
   "source": [
    "car[car['mpg']<L]  # checking "
   ]
  },
  {
   "cell_type": "code",
   "execution_count": 69,
   "id": "e9f31357",
   "metadata": {},
   "outputs": [
    {
     "data": {
      "text/html": [
       "<div>\n",
       "<style scoped>\n",
       "    .dataframe tbody tr th:only-of-type {\n",
       "        vertical-align: middle;\n",
       "    }\n",
       "\n",
       "    .dataframe tbody tr th {\n",
       "        vertical-align: top;\n",
       "    }\n",
       "\n",
       "    .dataframe thead th {\n",
       "        text-align: right;\n",
       "    }\n",
       "</style>\n",
       "<table border=\"1\" class=\"dataframe\">\n",
       "  <thead>\n",
       "    <tr style=\"text-align: right;\">\n",
       "      <th></th>\n",
       "      <th>car_model</th>\n",
       "      <th>mpg</th>\n",
       "      <th>cyl</th>\n",
       "      <th>disp</th>\n",
       "      <th>hp</th>\n",
       "      <th>drat</th>\n",
       "      <th>wt</th>\n",
       "      <th>qsec</th>\n",
       "      <th>vs</th>\n",
       "      <th>am</th>\n",
       "      <th>gear</th>\n",
       "      <th>carb</th>\n",
       "    </tr>\n",
       "  </thead>\n",
       "  <tbody>\n",
       "    <tr>\n",
       "      <th>17</th>\n",
       "      <td>Fiat 128</td>\n",
       "      <td>32.4</td>\n",
       "      <td>4</td>\n",
       "      <td>78.7</td>\n",
       "      <td>66</td>\n",
       "      <td>4.08</td>\n",
       "      <td>2.2</td>\n",
       "      <td>19.47</td>\n",
       "      <td>1</td>\n",
       "      <td>1</td>\n",
       "      <td>4</td>\n",
       "      <td>1</td>\n",
       "    </tr>\n",
       "  </tbody>\n",
       "</table>\n",
       "</div>"
      ],
      "text/plain": [
       "   car_model   mpg  cyl  disp  hp  drat   wt   qsec  vs  am  gear  carb\n",
       "17  Fiat 128  32.4    4  78.7  66  4.08  2.2  19.47   1   1     4     1"
      ]
     },
     "execution_count": 69,
     "metadata": {},
     "output_type": "execute_result"
    }
   ],
   "source": [
    "car[car['mpg']>U]"
   ]
  },
  {
   "cell_type": "code",
   "execution_count": 70,
   "id": "908ae2ea",
   "metadata": {},
   "outputs": [
    {
     "data": {
      "text/plain": [
       "Int64Index([17], dtype='int64')"
      ]
     },
     "execution_count": 70,
     "metadata": {},
     "output_type": "execute_result"
    }
   ],
   "source": [
    "ind=car[car['mpg']>U].index\n",
    "ind"
   ]
  },
  {
   "cell_type": "code",
   "execution_count": 71,
   "id": "bdb2d4d5",
   "metadata": {},
   "outputs": [],
   "source": [
    "car.drop(ind,axis=0,inplace=True)"
   ]
  },
  {
   "cell_type": "code",
   "execution_count": 72,
   "id": "9d1846df",
   "metadata": {},
   "outputs": [
    {
     "data": {
      "text/plain": [
       "(30, 12)"
      ]
     },
     "execution_count": 72,
     "metadata": {},
     "output_type": "execute_result"
    }
   ],
   "source": [
    "car.shape"
   ]
  },
  {
   "cell_type": "code",
   "execution_count": 73,
   "id": "9b0f66b1",
   "metadata": {},
   "outputs": [
    {
     "data": {
      "image/png": "[encoded data removed]",
      "text/plain": [
       "<Figure size 432x288 with 1 Axes>"
      ]
     },
     "metadata": {
      "needs_background": "light"
     },
     "output_type": "display_data"
    }
   ],
   "source": [
    "sns.boxplot(x=car['mpg']);"
   ]
  },
  {
   "cell_type": "code",
   "execution_count": 164,
   "id": "2fcd5dc4",
   "metadata": {},
   "outputs": [],
   "source": [
    "# Independent variables\n",
    "X=car.loc[:,['wt','drat','hp','qsec','am','gear','carb']]\n",
    "# Dependent variable\n",
    "y=car.loc[:,'mpg']"
   ]
  },
  {
   "cell_type": "code",
   "execution_count": 75,
   "id": "0d3a24ee",
   "metadata": {},
   "outputs": [
    {
     "data": {
      "text/html": [
       "<div>\n",
       "<style scoped>\n",
       "    .dataframe tbody tr th:only-of-type {\n",
       "        vertical-align: middle;\n",
       "    }\n",
       "\n",
       "    .dataframe tbody tr th {\n",
       "        vertical-align: top;\n",
       "    }\n",
       "\n",
       "    .dataframe thead th {\n",
       "        text-align: right;\n",
       "    }\n",
       "</style>\n",
       "<table border=\"1\" class=\"dataframe\">\n",
       "  <thead>\n",
       "    <tr style=\"text-align: right;\">\n",
       "      <th></th>\n",
       "      <th>wt</th>\n",
       "      <th>drat</th>\n",
       "      <th>hp</th>\n",
       "      <th>qsec</th>\n",
       "      <th>am</th>\n",
       "      <th>gear</th>\n",
       "      <th>carb</th>\n",
       "    </tr>\n",
       "  </thead>\n",
       "  <tbody>\n",
       "    <tr>\n",
       "      <th>0</th>\n",
       "      <td>2.620</td>\n",
       "      <td>3.90</td>\n",
       "      <td>110</td>\n",
       "      <td>16.46</td>\n",
       "      <td>1</td>\n",
       "      <td>4</td>\n",
       "      <td>4</td>\n",
       "    </tr>\n",
       "    <tr>\n",
       "      <th>1</th>\n",
       "      <td>2.875</td>\n",
       "      <td>3.90</td>\n",
       "      <td>110</td>\n",
       "      <td>17.02</td>\n",
       "      <td>1</td>\n",
       "      <td>4</td>\n",
       "      <td>4</td>\n",
       "    </tr>\n",
       "    <tr>\n",
       "      <th>2</th>\n",
       "      <td>2.320</td>\n",
       "      <td>3.85</td>\n",
       "      <td>93</td>\n",
       "      <td>18.61</td>\n",
       "      <td>1</td>\n",
       "      <td>4</td>\n",
       "      <td>1</td>\n",
       "    </tr>\n",
       "    <tr>\n",
       "      <th>3</th>\n",
       "      <td>3.215</td>\n",
       "      <td>3.08</td>\n",
       "      <td>110</td>\n",
       "      <td>19.44</td>\n",
       "      <td>0</td>\n",
       "      <td>3</td>\n",
       "      <td>1</td>\n",
       "    </tr>\n",
       "    <tr>\n",
       "      <th>4</th>\n",
       "      <td>3.440</td>\n",
       "      <td>3.15</td>\n",
       "      <td>175</td>\n",
       "      <td>17.02</td>\n",
       "      <td>0</td>\n",
       "      <td>3</td>\n",
       "      <td>2</td>\n",
       "    </tr>\n",
       "    <tr>\n",
       "      <th>5</th>\n",
       "      <td>3.460</td>\n",
       "      <td>2.76</td>\n",
       "      <td>105</td>\n",
       "      <td>20.22</td>\n",
       "      <td>0</td>\n",
       "      <td>3</td>\n",
       "      <td>1</td>\n",
       "    </tr>\n",
       "    <tr>\n",
       "      <th>6</th>\n",
       "      <td>3.570</td>\n",
       "      <td>3.21</td>\n",
       "      <td>245</td>\n",
       "      <td>15.84</td>\n",
       "      <td>0</td>\n",
       "      <td>3</td>\n",
       "      <td>4</td>\n",
       "    </tr>\n",
       "    <tr>\n",
       "      <th>7</th>\n",
       "      <td>3.190</td>\n",
       "      <td>3.69</td>\n",
       "      <td>62</td>\n",
       "      <td>20.00</td>\n",
       "      <td>0</td>\n",
       "      <td>4</td>\n",
       "      <td>2</td>\n",
       "    </tr>\n",
       "    <tr>\n",
       "      <th>8</th>\n",
       "      <td>3.150</td>\n",
       "      <td>3.92</td>\n",
       "      <td>95</td>\n",
       "      <td>22.90</td>\n",
       "      <td>0</td>\n",
       "      <td>4</td>\n",
       "      <td>2</td>\n",
       "    </tr>\n",
       "    <tr>\n",
       "      <th>9</th>\n",
       "      <td>3.440</td>\n",
       "      <td>3.92</td>\n",
       "      <td>123</td>\n",
       "      <td>18.30</td>\n",
       "      <td>0</td>\n",
       "      <td>4</td>\n",
       "      <td>4</td>\n",
       "    </tr>\n",
       "    <tr>\n",
       "      <th>10</th>\n",
       "      <td>3.440</td>\n",
       "      <td>3.92</td>\n",
       "      <td>123</td>\n",
       "      <td>18.90</td>\n",
       "      <td>0</td>\n",
       "      <td>4</td>\n",
       "      <td>4</td>\n",
       "    </tr>\n",
       "    <tr>\n",
       "      <th>11</th>\n",
       "      <td>4.070</td>\n",
       "      <td>3.07</td>\n",
       "      <td>180</td>\n",
       "      <td>17.40</td>\n",
       "      <td>0</td>\n",
       "      <td>3</td>\n",
       "      <td>3</td>\n",
       "    </tr>\n",
       "    <tr>\n",
       "      <th>12</th>\n",
       "      <td>3.730</td>\n",
       "      <td>3.07</td>\n",
       "      <td>180</td>\n",
       "      <td>17.60</td>\n",
       "      <td>0</td>\n",
       "      <td>3</td>\n",
       "      <td>3</td>\n",
       "    </tr>\n",
       "    <tr>\n",
       "      <th>13</th>\n",
       "      <td>3.780</td>\n",
       "      <td>3.07</td>\n",
       "      <td>180</td>\n",
       "      <td>18.00</td>\n",
       "      <td>0</td>\n",
       "      <td>3</td>\n",
       "      <td>3</td>\n",
       "    </tr>\n",
       "    <tr>\n",
       "      <th>14</th>\n",
       "      <td>5.250</td>\n",
       "      <td>2.93</td>\n",
       "      <td>205</td>\n",
       "      <td>17.98</td>\n",
       "      <td>0</td>\n",
       "      <td>3</td>\n",
       "      <td>4</td>\n",
       "    </tr>\n",
       "    <tr>\n",
       "      <th>15</th>\n",
       "      <td>5.424</td>\n",
       "      <td>3.00</td>\n",
       "      <td>215</td>\n",
       "      <td>17.82</td>\n",
       "      <td>0</td>\n",
       "      <td>3</td>\n",
       "      <td>4</td>\n",
       "    </tr>\n",
       "    <tr>\n",
       "      <th>16</th>\n",
       "      <td>5.345</td>\n",
       "      <td>3.23</td>\n",
       "      <td>230</td>\n",
       "      <td>17.42</td>\n",
       "      <td>0</td>\n",
       "      <td>3</td>\n",
       "      <td>4</td>\n",
       "    </tr>\n",
       "    <tr>\n",
       "      <th>18</th>\n",
       "      <td>1.615</td>\n",
       "      <td>4.93</td>\n",
       "      <td>52</td>\n",
       "      <td>18.52</td>\n",
       "      <td>1</td>\n",
       "      <td>4</td>\n",
       "      <td>2</td>\n",
       "    </tr>\n",
       "    <tr>\n",
       "      <th>20</th>\n",
       "      <td>2.465</td>\n",
       "      <td>3.70</td>\n",
       "      <td>97</td>\n",
       "      <td>20.01</td>\n",
       "      <td>0</td>\n",
       "      <td>3</td>\n",
       "      <td>1</td>\n",
       "    </tr>\n",
       "    <tr>\n",
       "      <th>21</th>\n",
       "      <td>3.520</td>\n",
       "      <td>2.76</td>\n",
       "      <td>150</td>\n",
       "      <td>16.87</td>\n",
       "      <td>0</td>\n",
       "      <td>3</td>\n",
       "      <td>2</td>\n",
       "    </tr>\n",
       "    <tr>\n",
       "      <th>22</th>\n",
       "      <td>3.435</td>\n",
       "      <td>3.15</td>\n",
       "      <td>150</td>\n",
       "      <td>17.30</td>\n",
       "      <td>0</td>\n",
       "      <td>3</td>\n",
       "      <td>2</td>\n",
       "    </tr>\n",
       "    <tr>\n",
       "      <th>23</th>\n",
       "      <td>3.840</td>\n",
       "      <td>3.73</td>\n",
       "      <td>245</td>\n",
       "      <td>15.41</td>\n",
       "      <td>0</td>\n",
       "      <td>3</td>\n",
       "      <td>4</td>\n",
       "    </tr>\n",
       "    <tr>\n",
       "      <th>24</th>\n",
       "      <td>3.845</td>\n",
       "      <td>3.08</td>\n",
       "      <td>175</td>\n",
       "      <td>17.05</td>\n",
       "      <td>0</td>\n",
       "      <td>3</td>\n",
       "      <td>2</td>\n",
       "    </tr>\n",
       "    <tr>\n",
       "      <th>25</th>\n",
       "      <td>1.935</td>\n",
       "      <td>4.08</td>\n",
       "      <td>66</td>\n",
       "      <td>18.90</td>\n",
       "      <td>1</td>\n",
       "      <td>4</td>\n",
       "      <td>1</td>\n",
       "    </tr>\n",
       "    <tr>\n",
       "      <th>26</th>\n",
       "      <td>2.140</td>\n",
       "      <td>4.43</td>\n",
       "      <td>91</td>\n",
       "      <td>16.70</td>\n",
       "      <td>1</td>\n",
       "      <td>5</td>\n",
       "      <td>2</td>\n",
       "    </tr>\n",
       "    <tr>\n",
       "      <th>27</th>\n",
       "      <td>1.513</td>\n",
       "      <td>3.77</td>\n",
       "      <td>113</td>\n",
       "      <td>16.90</td>\n",
       "      <td>1</td>\n",
       "      <td>5</td>\n",
       "      <td>2</td>\n",
       "    </tr>\n",
       "    <tr>\n",
       "      <th>28</th>\n",
       "      <td>3.170</td>\n",
       "      <td>4.22</td>\n",
       "      <td>264</td>\n",
       "      <td>14.50</td>\n",
       "      <td>1</td>\n",
       "      <td>5</td>\n",
       "      <td>4</td>\n",
       "    </tr>\n",
       "    <tr>\n",
       "      <th>29</th>\n",
       "      <td>2.770</td>\n",
       "      <td>3.62</td>\n",
       "      <td>175</td>\n",
       "      <td>15.50</td>\n",
       "      <td>1</td>\n",
       "      <td>5</td>\n",
       "      <td>6</td>\n",
       "    </tr>\n",
       "    <tr>\n",
       "      <th>30</th>\n",
       "      <td>3.570</td>\n",
       "      <td>3.54</td>\n",
       "      <td>335</td>\n",
       "      <td>14.60</td>\n",
       "      <td>1</td>\n",
       "      <td>5</td>\n",
       "      <td>8</td>\n",
       "    </tr>\n",
       "    <tr>\n",
       "      <th>31</th>\n",
       "      <td>2.780</td>\n",
       "      <td>4.11</td>\n",
       "      <td>109</td>\n",
       "      <td>18.60</td>\n",
       "      <td>1</td>\n",
       "      <td>4</td>\n",
       "      <td>2</td>\n",
       "    </tr>\n",
       "  </tbody>\n",
       "</table>\n",
       "</div>"
      ],
      "text/plain": [
       "       wt  drat   hp   qsec  am  gear  carb\n",
       "0   2.620  3.90  110  16.46   1     4     4\n",
       "1   2.875  3.90  110  17.02   1     4     4\n",
       "2   2.320  3.85   93  18.61   1     4     1\n",
       "3   3.215  3.08  110  19.44   0     3     1\n",
       "4   3.440  3.15  175  17.02   0     3     2\n",
       "5   3.460  2.76  105  20.22   0     3     1\n",
       "6   3.570  3.21  245  15.84   0     3     4\n",
       "7   3.190  3.69   62  20.00   0     4     2\n",
       "8   3.150  3.92   95  22.90   0     4     2\n",
       "9   3.440  3.92  123  18.30   0     4     4\n",
       "10  3.440  3.92  123  18.90   0     4     4\n",
       "11  4.070  3.07  180  17.40   0     3     3\n",
       "12  3.730  3.07  180  17.60   0     3     3\n",
       "13  3.780  3.07  180  18.00   0     3     3\n",
       "14  5.250  2.93  205  17.98   0     3     4\n",
       "15  5.424  3.00  215  17.82   0     3     4\n",
       "16  5.345  3.23  230  17.42   0     3     4\n",
       "18  1.615  4.93   52  18.52   1     4     2\n",
       "20  2.465  3.70   97  20.01   0     3     1\n",
       "21  3.520  2.76  150  16.87   0     3     2\n",
       "22  3.435  3.15  150  17.30   0     3     2\n",
       "23  3.840  3.73  245  15.41   0     3     4\n",
       "24  3.845  3.08  175  17.05   0     3     2\n",
       "25  1.935  4.08   66  18.90   1     4     1\n",
       "26  2.140  4.43   91  16.70   1     5     2\n",
       "27  1.513  3.77  113  16.90   1     5     2\n",
       "28  3.170  4.22  264  14.50   1     5     4\n",
       "29  2.770  3.62  175  15.50   1     5     6\n",
       "30  3.570  3.54  335  14.60   1     5     8\n",
       "31  2.780  4.11  109  18.60   1     4     2"
      ]
     },
     "execution_count": 75,
     "metadata": {},
     "output_type": "execute_result"
    }
   ],
   "source": [
    "X"
   ]
  },
  {
   "cell_type": "code",
   "execution_count": 76,
   "id": "aaaca27b",
   "metadata": {},
   "outputs": [
    {
     "data": {
      "text/plain": [
       "0     21.0\n",
       "1     21.0\n",
       "2     22.8\n",
       "3     21.4\n",
       "4     18.7\n",
       "5     18.1\n",
       "6     14.3\n",
       "7     24.4\n",
       "8     22.8\n",
       "9     19.2\n",
       "10    17.8\n",
       "11    16.4\n",
       "12    17.3\n",
       "13    15.2\n",
       "14    10.4\n",
       "15    10.4\n",
       "16    14.7\n",
       "18    30.4\n",
       "20    21.5\n",
       "21    15.5\n",
       "22    15.2\n",
       "23    13.3\n",
       "24    19.2\n",
       "25    27.3\n",
       "26    26.0\n",
       "27    30.4\n",
       "28    15.8\n",
       "29    19.7\n",
       "30    15.0\n",
       "31    21.4\n",
       "Name: mpg, dtype: float64"
      ]
     },
     "execution_count": 76,
     "metadata": {},
     "output_type": "execute_result"
    }
   ],
   "source": [
    "y"
   ]
  },
  {
   "cell_type": "code",
   "execution_count": 77,
   "id": "21f53daa",
   "metadata": {},
   "outputs": [
    {
     "data": {
      "text/html": [
       "<div>\n",
       "<style scoped>\n",
       "    .dataframe tbody tr th:only-of-type {\n",
       "        vertical-align: middle;\n",
       "    }\n",
       "\n",
       "    .dataframe tbody tr th {\n",
       "        vertical-align: top;\n",
       "    }\n",
       "\n",
       "    .dataframe thead th {\n",
       "        text-align: right;\n",
       "    }\n",
       "</style>\n",
       "<table border=\"1\" class=\"dataframe\">\n",
       "  <thead>\n",
       "    <tr style=\"text-align: right;\">\n",
       "      <th></th>\n",
       "      <th>car_model</th>\n",
       "      <th>mpg</th>\n",
       "      <th>cyl</th>\n",
       "      <th>disp</th>\n",
       "      <th>hp</th>\n",
       "      <th>drat</th>\n",
       "      <th>wt</th>\n",
       "      <th>qsec</th>\n",
       "      <th>vs</th>\n",
       "      <th>am</th>\n",
       "      <th>gear</th>\n",
       "      <th>carb</th>\n",
       "    </tr>\n",
       "  </thead>\n",
       "  <tbody>\n",
       "    <tr>\n",
       "      <th>0</th>\n",
       "      <td>Mazda RX4</td>\n",
       "      <td>21.0</td>\n",
       "      <td>6</td>\n",
       "      <td>160.0</td>\n",
       "      <td>110</td>\n",
       "      <td>3.90</td>\n",
       "      <td>2.620</td>\n",
       "      <td>16.46</td>\n",
       "      <td>0</td>\n",
       "      <td>1</td>\n",
       "      <td>4</td>\n",
       "      <td>4</td>\n",
       "    </tr>\n",
       "    <tr>\n",
       "      <th>1</th>\n",
       "      <td>Mazda RX4 Wag</td>\n",
       "      <td>21.0</td>\n",
       "      <td>6</td>\n",
       "      <td>160.0</td>\n",
       "      <td>110</td>\n",
       "      <td>3.90</td>\n",
       "      <td>2.875</td>\n",
       "      <td>17.02</td>\n",
       "      <td>0</td>\n",
       "      <td>1</td>\n",
       "      <td>4</td>\n",
       "      <td>4</td>\n",
       "    </tr>\n",
       "    <tr>\n",
       "      <th>2</th>\n",
       "      <td>Datsun 710</td>\n",
       "      <td>22.8</td>\n",
       "      <td>4</td>\n",
       "      <td>108.0</td>\n",
       "      <td>93</td>\n",
       "      <td>3.85</td>\n",
       "      <td>2.320</td>\n",
       "      <td>18.61</td>\n",
       "      <td>1</td>\n",
       "      <td>1</td>\n",
       "      <td>4</td>\n",
       "      <td>1</td>\n",
       "    </tr>\n",
       "    <tr>\n",
       "      <th>3</th>\n",
       "      <td>Hornet 4 Drive</td>\n",
       "      <td>21.4</td>\n",
       "      <td>6</td>\n",
       "      <td>258.0</td>\n",
       "      <td>110</td>\n",
       "      <td>3.08</td>\n",
       "      <td>3.215</td>\n",
       "      <td>19.44</td>\n",
       "      <td>1</td>\n",
       "      <td>0</td>\n",
       "      <td>3</td>\n",
       "      <td>1</td>\n",
       "    </tr>\n",
       "    <tr>\n",
       "      <th>4</th>\n",
       "      <td>Hornet Sportabout</td>\n",
       "      <td>18.7</td>\n",
       "      <td>8</td>\n",
       "      <td>360.0</td>\n",
       "      <td>175</td>\n",
       "      <td>3.15</td>\n",
       "      <td>3.440</td>\n",
       "      <td>17.02</td>\n",
       "      <td>0</td>\n",
       "      <td>0</td>\n",
       "      <td>3</td>\n",
       "      <td>2</td>\n",
       "    </tr>\n",
       "  </tbody>\n",
       "</table>\n",
       "</div>"
      ],
      "text/plain": [
       "           car_model   mpg  cyl   disp   hp  drat     wt   qsec  vs  am  gear  \\\n",
       "0          Mazda RX4  21.0    6  160.0  110  3.90  2.620  16.46   0   1     4   \n",
       "1      Mazda RX4 Wag  21.0    6  160.0  110  3.90  2.875  17.02   0   1     4   \n",
       "2         Datsun 710  22.8    4  108.0   93  3.85  2.320  18.61   1   1     4   \n",
       "3     Hornet 4 Drive  21.4    6  258.0  110  3.08  3.215  19.44   1   0     3   \n",
       "4  Hornet Sportabout  18.7    8  360.0  175  3.15  3.440  17.02   0   0     3   \n",
       "\n",
       "   carb  \n",
       "0     4  \n",
       "1     4  \n",
       "2     1  \n",
       "3     1  \n",
       "4     2  "
      ]
     },
     "execution_count": 77,
     "metadata": {},
     "output_type": "execute_result"
    }
   ],
   "source": [
    "car.head()"
   ]
  },
  {
   "cell_type": "code",
   "execution_count": 27,
   "id": "cd630c84",
   "metadata": {},
   "outputs": [
    {
     "data": {
      "text/plain": [
       "array([6, 4, 8])"
      ]
     },
     "execution_count": 27,
     "metadata": {},
     "output_type": "execute_result"
    }
   ],
   "source": [
    "car['cyl'].unique()"
   ]
  },
  {
   "cell_type": "markdown",
   "id": "5335a2fa",
   "metadata": {},
   "source": [
    "### Predictive Modelling"
   ]
  },
  {
   "cell_type": "code",
   "execution_count": 165,
   "id": "5aeba31c",
   "metadata": {},
   "outputs": [],
   "source": [
    "# training and testing\n",
    "from sklearn.model_selection import train_test_split\n",
    "X_train,X_test,y_train,y_test=train_test_split(X,y,test_size=0.30,random_state=12)"
   ]
  },
  {
   "cell_type": "code",
   "execution_count": 79,
   "id": "0f171899",
   "metadata": {},
   "outputs": [
    {
     "data": {
      "text/html": [
       "<div>\n",
       "<style scoped>\n",
       "    .dataframe tbody tr th:only-of-type {\n",
       "        vertical-align: middle;\n",
       "    }\n",
       "\n",
       "    .dataframe tbody tr th {\n",
       "        vertical-align: top;\n",
       "    }\n",
       "\n",
       "    .dataframe thead th {\n",
       "        text-align: right;\n",
       "    }\n",
       "</style>\n",
       "<table border=\"1\" class=\"dataframe\">\n",
       "  <thead>\n",
       "    <tr style=\"text-align: right;\">\n",
       "      <th></th>\n",
       "      <th>wt</th>\n",
       "      <th>drat</th>\n",
       "      <th>hp</th>\n",
       "      <th>qsec</th>\n",
       "      <th>am</th>\n",
       "      <th>gear</th>\n",
       "      <th>carb</th>\n",
       "    </tr>\n",
       "  </thead>\n",
       "  <tbody>\n",
       "    <tr>\n",
       "      <th>9</th>\n",
       "      <td>3.440</td>\n",
       "      <td>3.92</td>\n",
       "      <td>123</td>\n",
       "      <td>18.30</td>\n",
       "      <td>0</td>\n",
       "      <td>4</td>\n",
       "      <td>4</td>\n",
       "    </tr>\n",
       "    <tr>\n",
       "      <th>22</th>\n",
       "      <td>3.435</td>\n",
       "      <td>3.15</td>\n",
       "      <td>150</td>\n",
       "      <td>17.30</td>\n",
       "      <td>0</td>\n",
       "      <td>3</td>\n",
       "      <td>2</td>\n",
       "    </tr>\n",
       "    <tr>\n",
       "      <th>8</th>\n",
       "      <td>3.150</td>\n",
       "      <td>3.92</td>\n",
       "      <td>95</td>\n",
       "      <td>22.90</td>\n",
       "      <td>0</td>\n",
       "      <td>4</td>\n",
       "      <td>2</td>\n",
       "    </tr>\n",
       "    <tr>\n",
       "      <th>21</th>\n",
       "      <td>3.520</td>\n",
       "      <td>2.76</td>\n",
       "      <td>150</td>\n",
       "      <td>16.87</td>\n",
       "      <td>0</td>\n",
       "      <td>3</td>\n",
       "      <td>2</td>\n",
       "    </tr>\n",
       "    <tr>\n",
       "      <th>0</th>\n",
       "      <td>2.620</td>\n",
       "      <td>3.90</td>\n",
       "      <td>110</td>\n",
       "      <td>16.46</td>\n",
       "      <td>1</td>\n",
       "      <td>4</td>\n",
       "      <td>4</td>\n",
       "    </tr>\n",
       "    <tr>\n",
       "      <th>10</th>\n",
       "      <td>3.440</td>\n",
       "      <td>3.92</td>\n",
       "      <td>123</td>\n",
       "      <td>18.90</td>\n",
       "      <td>0</td>\n",
       "      <td>4</td>\n",
       "      <td>4</td>\n",
       "    </tr>\n",
       "    <tr>\n",
       "      <th>30</th>\n",
       "      <td>3.570</td>\n",
       "      <td>3.54</td>\n",
       "      <td>335</td>\n",
       "      <td>14.60</td>\n",
       "      <td>1</td>\n",
       "      <td>5</td>\n",
       "      <td>8</td>\n",
       "    </tr>\n",
       "    <tr>\n",
       "      <th>31</th>\n",
       "      <td>2.780</td>\n",
       "      <td>4.11</td>\n",
       "      <td>109</td>\n",
       "      <td>18.60</td>\n",
       "      <td>1</td>\n",
       "      <td>4</td>\n",
       "      <td>2</td>\n",
       "    </tr>\n",
       "    <tr>\n",
       "      <th>27</th>\n",
       "      <td>1.513</td>\n",
       "      <td>3.77</td>\n",
       "      <td>113</td>\n",
       "      <td>16.90</td>\n",
       "      <td>1</td>\n",
       "      <td>5</td>\n",
       "      <td>2</td>\n",
       "    </tr>\n",
       "    <tr>\n",
       "      <th>13</th>\n",
       "      <td>3.780</td>\n",
       "      <td>3.07</td>\n",
       "      <td>180</td>\n",
       "      <td>18.00</td>\n",
       "      <td>0</td>\n",
       "      <td>3</td>\n",
       "      <td>3</td>\n",
       "    </tr>\n",
       "    <tr>\n",
       "      <th>5</th>\n",
       "      <td>3.460</td>\n",
       "      <td>2.76</td>\n",
       "      <td>105</td>\n",
       "      <td>20.22</td>\n",
       "      <td>0</td>\n",
       "      <td>3</td>\n",
       "      <td>1</td>\n",
       "    </tr>\n",
       "    <tr>\n",
       "      <th>28</th>\n",
       "      <td>3.170</td>\n",
       "      <td>4.22</td>\n",
       "      <td>264</td>\n",
       "      <td>14.50</td>\n",
       "      <td>1</td>\n",
       "      <td>5</td>\n",
       "      <td>4</td>\n",
       "    </tr>\n",
       "    <tr>\n",
       "      <th>16</th>\n",
       "      <td>5.345</td>\n",
       "      <td>3.23</td>\n",
       "      <td>230</td>\n",
       "      <td>17.42</td>\n",
       "      <td>0</td>\n",
       "      <td>3</td>\n",
       "      <td>4</td>\n",
       "    </tr>\n",
       "    <tr>\n",
       "      <th>12</th>\n",
       "      <td>3.730</td>\n",
       "      <td>3.07</td>\n",
       "      <td>180</td>\n",
       "      <td>17.60</td>\n",
       "      <td>0</td>\n",
       "      <td>3</td>\n",
       "      <td>3</td>\n",
       "    </tr>\n",
       "    <tr>\n",
       "      <th>26</th>\n",
       "      <td>2.140</td>\n",
       "      <td>4.43</td>\n",
       "      <td>91</td>\n",
       "      <td>16.70</td>\n",
       "      <td>1</td>\n",
       "      <td>5</td>\n",
       "      <td>2</td>\n",
       "    </tr>\n",
       "    <tr>\n",
       "      <th>3</th>\n",
       "      <td>3.215</td>\n",
       "      <td>3.08</td>\n",
       "      <td>110</td>\n",
       "      <td>19.44</td>\n",
       "      <td>0</td>\n",
       "      <td>3</td>\n",
       "      <td>1</td>\n",
       "    </tr>\n",
       "    <tr>\n",
       "      <th>2</th>\n",
       "      <td>2.320</td>\n",
       "      <td>3.85</td>\n",
       "      <td>93</td>\n",
       "      <td>18.61</td>\n",
       "      <td>1</td>\n",
       "      <td>4</td>\n",
       "      <td>1</td>\n",
       "    </tr>\n",
       "    <tr>\n",
       "      <th>18</th>\n",
       "      <td>1.615</td>\n",
       "      <td>4.93</td>\n",
       "      <td>52</td>\n",
       "      <td>18.52</td>\n",
       "      <td>1</td>\n",
       "      <td>4</td>\n",
       "      <td>2</td>\n",
       "    </tr>\n",
       "    <tr>\n",
       "      <th>6</th>\n",
       "      <td>3.570</td>\n",
       "      <td>3.21</td>\n",
       "      <td>245</td>\n",
       "      <td>15.84</td>\n",
       "      <td>0</td>\n",
       "      <td>3</td>\n",
       "      <td>4</td>\n",
       "    </tr>\n",
       "    <tr>\n",
       "      <th>29</th>\n",
       "      <td>2.770</td>\n",
       "      <td>3.62</td>\n",
       "      <td>175</td>\n",
       "      <td>15.50</td>\n",
       "      <td>1</td>\n",
       "      <td>5</td>\n",
       "      <td>6</td>\n",
       "    </tr>\n",
       "    <tr>\n",
       "      <th>11</th>\n",
       "      <td>4.070</td>\n",
       "      <td>3.07</td>\n",
       "      <td>180</td>\n",
       "      <td>17.40</td>\n",
       "      <td>0</td>\n",
       "      <td>3</td>\n",
       "      <td>3</td>\n",
       "    </tr>\n",
       "  </tbody>\n",
       "</table>\n",
       "</div>"
      ],
      "text/plain": [
       "       wt  drat   hp   qsec  am  gear  carb\n",
       "9   3.440  3.92  123  18.30   0     4     4\n",
       "22  3.435  3.15  150  17.30   0     3     2\n",
       "8   3.150  3.92   95  22.90   0     4     2\n",
       "21  3.520  2.76  150  16.87   0     3     2\n",
       "0   2.620  3.90  110  16.46   1     4     4\n",
       "10  3.440  3.92  123  18.90   0     4     4\n",
       "30  3.570  3.54  335  14.60   1     5     8\n",
       "31  2.780  4.11  109  18.60   1     4     2\n",
       "27  1.513  3.77  113  16.90   1     5     2\n",
       "13  3.780  3.07  180  18.00   0     3     3\n",
       "5   3.460  2.76  105  20.22   0     3     1\n",
       "28  3.170  4.22  264  14.50   1     5     4\n",
       "16  5.345  3.23  230  17.42   0     3     4\n",
       "12  3.730  3.07  180  17.60   0     3     3\n",
       "26  2.140  4.43   91  16.70   1     5     2\n",
       "3   3.215  3.08  110  19.44   0     3     1\n",
       "2   2.320  3.85   93  18.61   1     4     1\n",
       "18  1.615  4.93   52  18.52   1     4     2\n",
       "6   3.570  3.21  245  15.84   0     3     4\n",
       "29  2.770  3.62  175  15.50   1     5     6\n",
       "11  4.070  3.07  180  17.40   0     3     3"
      ]
     },
     "execution_count": 79,
     "metadata": {},
     "output_type": "execute_result"
    }
   ],
   "source": [
    "X_train"
   ]
  },
  {
   "cell_type": "code",
   "execution_count": 80,
   "id": "9bf7defa",
   "metadata": {},
   "outputs": [
    {
     "data": {
      "text/plain": [
       "(21, 7)"
      ]
     },
     "execution_count": 80,
     "metadata": {},
     "output_type": "execute_result"
    }
   ],
   "source": [
    "X_train.shape"
   ]
  },
  {
   "cell_type": "code",
   "execution_count": 81,
   "id": "46118aa2",
   "metadata": {},
   "outputs": [
    {
     "data": {
      "text/plain": [
       "(9, 7)"
      ]
     },
     "execution_count": 81,
     "metadata": {},
     "output_type": "execute_result"
    }
   ],
   "source": [
    "X_test.shape"
   ]
  },
  {
   "cell_type": "code",
   "execution_count": 32,
   "id": "0a5778b5",
   "metadata": {
    "scrolled": true
   },
   "outputs": [
    {
     "data": {
      "text/html": [
       "<div>\n",
       "<style scoped>\n",
       "    .dataframe tbody tr th:only-of-type {\n",
       "        vertical-align: middle;\n",
       "    }\n",
       "\n",
       "    .dataframe tbody tr th {\n",
       "        vertical-align: top;\n",
       "    }\n",
       "\n",
       "    .dataframe thead th {\n",
       "        text-align: right;\n",
       "    }\n",
       "</style>\n",
       "<table border=\"1\" class=\"dataframe\">\n",
       "  <thead>\n",
       "    <tr style=\"text-align: right;\">\n",
       "      <th></th>\n",
       "      <th>wt</th>\n",
       "      <th>drat</th>\n",
       "      <th>hp</th>\n",
       "      <th>qsec</th>\n",
       "      <th>am</th>\n",
       "      <th>gear</th>\n",
       "      <th>carb</th>\n",
       "    </tr>\n",
       "  </thead>\n",
       "  <tbody>\n",
       "    <tr>\n",
       "      <th>21</th>\n",
       "      <td>3.520</td>\n",
       "      <td>2.76</td>\n",
       "      <td>150</td>\n",
       "      <td>16.87</td>\n",
       "      <td>0</td>\n",
       "      <td>3</td>\n",
       "      <td>2</td>\n",
       "    </tr>\n",
       "    <tr>\n",
       "      <th>8</th>\n",
       "      <td>3.150</td>\n",
       "      <td>3.92</td>\n",
       "      <td>95</td>\n",
       "      <td>22.90</td>\n",
       "      <td>0</td>\n",
       "      <td>4</td>\n",
       "      <td>2</td>\n",
       "    </tr>\n",
       "    <tr>\n",
       "      <th>19</th>\n",
       "      <td>1.835</td>\n",
       "      <td>4.22</td>\n",
       "      <td>65</td>\n",
       "      <td>19.90</td>\n",
       "      <td>1</td>\n",
       "      <td>4</td>\n",
       "      <td>1</td>\n",
       "    </tr>\n",
       "    <tr>\n",
       "      <th>0</th>\n",
       "      <td>2.620</td>\n",
       "      <td>3.90</td>\n",
       "      <td>110</td>\n",
       "      <td>16.46</td>\n",
       "      <td>1</td>\n",
       "      <td>4</td>\n",
       "      <td>4</td>\n",
       "    </tr>\n",
       "    <tr>\n",
       "      <th>10</th>\n",
       "      <td>3.440</td>\n",
       "      <td>3.92</td>\n",
       "      <td>123</td>\n",
       "      <td>18.90</td>\n",
       "      <td>0</td>\n",
       "      <td>4</td>\n",
       "      <td>4</td>\n",
       "    </tr>\n",
       "    <tr>\n",
       "      <th>29</th>\n",
       "      <td>2.770</td>\n",
       "      <td>3.62</td>\n",
       "      <td>175</td>\n",
       "      <td>15.50</td>\n",
       "      <td>1</td>\n",
       "      <td>5</td>\n",
       "      <td>6</td>\n",
       "    </tr>\n",
       "    <tr>\n",
       "      <th>31</th>\n",
       "      <td>2.780</td>\n",
       "      <td>4.11</td>\n",
       "      <td>109</td>\n",
       "      <td>18.60</td>\n",
       "      <td>1</td>\n",
       "      <td>4</td>\n",
       "      <td>2</td>\n",
       "    </tr>\n",
       "    <tr>\n",
       "      <th>30</th>\n",
       "      <td>3.570</td>\n",
       "      <td>3.54</td>\n",
       "      <td>335</td>\n",
       "      <td>14.60</td>\n",
       "      <td>1</td>\n",
       "      <td>5</td>\n",
       "      <td>8</td>\n",
       "    </tr>\n",
       "    <tr>\n",
       "      <th>13</th>\n",
       "      <td>3.780</td>\n",
       "      <td>3.07</td>\n",
       "      <td>180</td>\n",
       "      <td>18.00</td>\n",
       "      <td>0</td>\n",
       "      <td>3</td>\n",
       "      <td>3</td>\n",
       "    </tr>\n",
       "    <tr>\n",
       "      <th>5</th>\n",
       "      <td>3.460</td>\n",
       "      <td>2.76</td>\n",
       "      <td>105</td>\n",
       "      <td>20.22</td>\n",
       "      <td>0</td>\n",
       "      <td>3</td>\n",
       "      <td>1</td>\n",
       "    </tr>\n",
       "    <tr>\n",
       "      <th>20</th>\n",
       "      <td>2.465</td>\n",
       "      <td>3.70</td>\n",
       "      <td>97</td>\n",
       "      <td>20.01</td>\n",
       "      <td>0</td>\n",
       "      <td>3</td>\n",
       "      <td>1</td>\n",
       "    </tr>\n",
       "    <tr>\n",
       "      <th>28</th>\n",
       "      <td>3.170</td>\n",
       "      <td>4.22</td>\n",
       "      <td>264</td>\n",
       "      <td>14.50</td>\n",
       "      <td>1</td>\n",
       "      <td>5</td>\n",
       "      <td>4</td>\n",
       "    </tr>\n",
       "    <tr>\n",
       "      <th>22</th>\n",
       "      <td>3.435</td>\n",
       "      <td>3.15</td>\n",
       "      <td>150</td>\n",
       "      <td>17.30</td>\n",
       "      <td>0</td>\n",
       "      <td>3</td>\n",
       "      <td>2</td>\n",
       "    </tr>\n",
       "    <tr>\n",
       "      <th>16</th>\n",
       "      <td>5.345</td>\n",
       "      <td>3.23</td>\n",
       "      <td>230</td>\n",
       "      <td>17.42</td>\n",
       "      <td>0</td>\n",
       "      <td>3</td>\n",
       "      <td>4</td>\n",
       "    </tr>\n",
       "    <tr>\n",
       "      <th>12</th>\n",
       "      <td>3.730</td>\n",
       "      <td>3.07</td>\n",
       "      <td>180</td>\n",
       "      <td>17.60</td>\n",
       "      <td>0</td>\n",
       "      <td>3</td>\n",
       "      <td>3</td>\n",
       "    </tr>\n",
       "    <tr>\n",
       "      <th>26</th>\n",
       "      <td>2.140</td>\n",
       "      <td>4.43</td>\n",
       "      <td>91</td>\n",
       "      <td>16.70</td>\n",
       "      <td>1</td>\n",
       "      <td>5</td>\n",
       "      <td>2</td>\n",
       "    </tr>\n",
       "    <tr>\n",
       "      <th>3</th>\n",
       "      <td>3.215</td>\n",
       "      <td>3.08</td>\n",
       "      <td>110</td>\n",
       "      <td>19.44</td>\n",
       "      <td>0</td>\n",
       "      <td>3</td>\n",
       "      <td>1</td>\n",
       "    </tr>\n",
       "    <tr>\n",
       "      <th>2</th>\n",
       "      <td>2.320</td>\n",
       "      <td>3.85</td>\n",
       "      <td>93</td>\n",
       "      <td>18.61</td>\n",
       "      <td>1</td>\n",
       "      <td>4</td>\n",
       "      <td>1</td>\n",
       "    </tr>\n",
       "    <tr>\n",
       "      <th>17</th>\n",
       "      <td>2.200</td>\n",
       "      <td>4.08</td>\n",
       "      <td>66</td>\n",
       "      <td>19.47</td>\n",
       "      <td>1</td>\n",
       "      <td>4</td>\n",
       "      <td>1</td>\n",
       "    </tr>\n",
       "    <tr>\n",
       "      <th>6</th>\n",
       "      <td>3.570</td>\n",
       "      <td>3.21</td>\n",
       "      <td>245</td>\n",
       "      <td>15.84</td>\n",
       "      <td>0</td>\n",
       "      <td>3</td>\n",
       "      <td>4</td>\n",
       "    </tr>\n",
       "    <tr>\n",
       "      <th>27</th>\n",
       "      <td>1.513</td>\n",
       "      <td>3.77</td>\n",
       "      <td>113</td>\n",
       "      <td>16.90</td>\n",
       "      <td>1</td>\n",
       "      <td>5</td>\n",
       "      <td>2</td>\n",
       "    </tr>\n",
       "    <tr>\n",
       "      <th>11</th>\n",
       "      <td>4.070</td>\n",
       "      <td>3.07</td>\n",
       "      <td>180</td>\n",
       "      <td>17.40</td>\n",
       "      <td>0</td>\n",
       "      <td>3</td>\n",
       "      <td>3</td>\n",
       "    </tr>\n",
       "  </tbody>\n",
       "</table>\n",
       "</div>"
      ],
      "text/plain": [
       "       wt  drat   hp   qsec  am  gear  carb\n",
       "21  3.520  2.76  150  16.87   0     3     2\n",
       "8   3.150  3.92   95  22.90   0     4     2\n",
       "19  1.835  4.22   65  19.90   1     4     1\n",
       "0   2.620  3.90  110  16.46   1     4     4\n",
       "10  3.440  3.92  123  18.90   0     4     4\n",
       "29  2.770  3.62  175  15.50   1     5     6\n",
       "31  2.780  4.11  109  18.60   1     4     2\n",
       "30  3.570  3.54  335  14.60   1     5     8\n",
       "13  3.780  3.07  180  18.00   0     3     3\n",
       "5   3.460  2.76  105  20.22   0     3     1\n",
       "20  2.465  3.70   97  20.01   0     3     1\n",
       "28  3.170  4.22  264  14.50   1     5     4\n",
       "22  3.435  3.15  150  17.30   0     3     2\n",
       "16  5.345  3.23  230  17.42   0     3     4\n",
       "12  3.730  3.07  180  17.60   0     3     3\n",
       "26  2.140  4.43   91  16.70   1     5     2\n",
       "3   3.215  3.08  110  19.44   0     3     1\n",
       "2   2.320  3.85   93  18.61   1     4     1\n",
       "17  2.200  4.08   66  19.47   1     4     1\n",
       "6   3.570  3.21  245  15.84   0     3     4\n",
       "27  1.513  3.77  113  16.90   1     5     2\n",
       "11  4.070  3.07  180  17.40   0     3     3"
      ]
     },
     "execution_count": 32,
     "metadata": {},
     "output_type": "execute_result"
    }
   ],
   "source": [
    "X_train"
   ]
  },
  {
   "cell_type": "code",
   "execution_count": 166,
   "id": "f7a41846",
   "metadata": {},
   "outputs": [
    {
     "data": {
      "text/plain": [
       "LinearRegression()"
      ]
     },
     "execution_count": 166,
     "metadata": {},
     "output_type": "execute_result"
    }
   ],
   "source": [
    "# Building the Model\n",
    "#from sklearn.linear_model import LinearRegression\n",
    "model_lr=LinearRegression()\n",
    "# training process, using fit function\n",
    "model_lr.fit(X_train,y_train)"
   ]
  },
  {
   "cell_type": "code",
   "execution_count": 167,
   "id": "c73bd492",
   "metadata": {},
   "outputs": [
    {
     "data": {
      "text/plain": [
       "array([-1.78585824, -0.48823307, -0.01635691,  0.69666494,  3.39998561,\n",
       "        1.33154275, -0.51569731])"
      ]
     },
     "execution_count": 167,
     "metadata": {},
     "output_type": "execute_result"
    }
   ],
   "source": [
    "# slope\n",
    "model_lr.coef_"
   ]
  },
  {
   "cell_type": "code",
   "execution_count": 168,
   "id": "33b529eb",
   "metadata": {},
   "outputs": [
    {
     "data": {
      "text/plain": [
       "12.232165824246248"
      ]
     },
     "execution_count": 168,
     "metadata": {},
     "output_type": "execute_result"
    }
   ],
   "source": [
    "# intercept\n",
    "model_lr.intercept_"
   ]
  },
  {
   "cell_type": "code",
   "execution_count": 85,
   "id": "6c8620b3",
   "metadata": {},
   "outputs": [
    {
     "data": {
      "text/html": [
       "<div>\n",
       "<style scoped>\n",
       "    .dataframe tbody tr th:only-of-type {\n",
       "        vertical-align: middle;\n",
       "    }\n",
       "\n",
       "    .dataframe tbody tr th {\n",
       "        vertical-align: top;\n",
       "    }\n",
       "\n",
       "    .dataframe thead th {\n",
       "        text-align: right;\n",
       "    }\n",
       "</style>\n",
       "<table border=\"1\" class=\"dataframe\">\n",
       "  <thead>\n",
       "    <tr style=\"text-align: right;\">\n",
       "      <th></th>\n",
       "      <th>wt</th>\n",
       "      <th>drat</th>\n",
       "      <th>hp</th>\n",
       "      <th>qsec</th>\n",
       "      <th>am</th>\n",
       "      <th>gear</th>\n",
       "      <th>carb</th>\n",
       "    </tr>\n",
       "  </thead>\n",
       "  <tbody>\n",
       "    <tr>\n",
       "      <th>7</th>\n",
       "      <td>3.190</td>\n",
       "      <td>3.69</td>\n",
       "      <td>62</td>\n",
       "      <td>20.00</td>\n",
       "      <td>0</td>\n",
       "      <td>4</td>\n",
       "      <td>2</td>\n",
       "    </tr>\n",
       "    <tr>\n",
       "      <th>24</th>\n",
       "      <td>3.845</td>\n",
       "      <td>3.08</td>\n",
       "      <td>175</td>\n",
       "      <td>17.05</td>\n",
       "      <td>0</td>\n",
       "      <td>3</td>\n",
       "      <td>2</td>\n",
       "    </tr>\n",
       "    <tr>\n",
       "      <th>20</th>\n",
       "      <td>2.465</td>\n",
       "      <td>3.70</td>\n",
       "      <td>97</td>\n",
       "      <td>20.01</td>\n",
       "      <td>0</td>\n",
       "      <td>3</td>\n",
       "      <td>1</td>\n",
       "    </tr>\n",
       "    <tr>\n",
       "      <th>14</th>\n",
       "      <td>5.250</td>\n",
       "      <td>2.93</td>\n",
       "      <td>205</td>\n",
       "      <td>17.98</td>\n",
       "      <td>0</td>\n",
       "      <td>3</td>\n",
       "      <td>4</td>\n",
       "    </tr>\n",
       "    <tr>\n",
       "      <th>1</th>\n",
       "      <td>2.875</td>\n",
       "      <td>3.90</td>\n",
       "      <td>110</td>\n",
       "      <td>17.02</td>\n",
       "      <td>1</td>\n",
       "      <td>4</td>\n",
       "      <td>4</td>\n",
       "    </tr>\n",
       "    <tr>\n",
       "      <th>23</th>\n",
       "      <td>3.840</td>\n",
       "      <td>3.73</td>\n",
       "      <td>245</td>\n",
       "      <td>15.41</td>\n",
       "      <td>0</td>\n",
       "      <td>3</td>\n",
       "      <td>4</td>\n",
       "    </tr>\n",
       "    <tr>\n",
       "      <th>4</th>\n",
       "      <td>3.440</td>\n",
       "      <td>3.15</td>\n",
       "      <td>175</td>\n",
       "      <td>17.02</td>\n",
       "      <td>0</td>\n",
       "      <td>3</td>\n",
       "      <td>2</td>\n",
       "    </tr>\n",
       "    <tr>\n",
       "      <th>15</th>\n",
       "      <td>5.424</td>\n",
       "      <td>3.00</td>\n",
       "      <td>215</td>\n",
       "      <td>17.82</td>\n",
       "      <td>0</td>\n",
       "      <td>3</td>\n",
       "      <td>4</td>\n",
       "    </tr>\n",
       "    <tr>\n",
       "      <th>25</th>\n",
       "      <td>1.935</td>\n",
       "      <td>4.08</td>\n",
       "      <td>66</td>\n",
       "      <td>18.90</td>\n",
       "      <td>1</td>\n",
       "      <td>4</td>\n",
       "      <td>1</td>\n",
       "    </tr>\n",
       "  </tbody>\n",
       "</table>\n",
       "</div>"
      ],
      "text/plain": [
       "       wt  drat   hp   qsec  am  gear  carb\n",
       "7   3.190  3.69   62  20.00   0     4     2\n",
       "24  3.845  3.08  175  17.05   0     3     2\n",
       "20  2.465  3.70   97  20.01   0     3     1\n",
       "14  5.250  2.93  205  17.98   0     3     4\n",
       "1   2.875  3.90  110  17.02   1     4     4\n",
       "23  3.840  3.73  245  15.41   0     3     4\n",
       "4   3.440  3.15  175  17.02   0     3     2\n",
       "15  5.424  3.00  215  17.82   0     3     4\n",
       "25  1.935  4.08   66  18.90   1     4     1"
      ]
     },
     "execution_count": 85,
     "metadata": {},
     "output_type": "execute_result"
    }
   ],
   "source": [
    "X_test"
   ]
  },
  {
   "cell_type": "code",
   "execution_count": 169,
   "id": "c6167e1a",
   "metadata": {},
   "outputs": [
    {
     "data": {
      "text/plain": [
       "array([21.94764506, 15.84069542, 26.68745333, 12.53059616, 21.91505945,\n",
       "       12.2133647 , 16.50889174, 11.91064507, 27.08241011, 18.17539063])"
      ]
     },
     "execution_count": 169,
     "metadata": {},
     "output_type": "execute_result"
    }
   ],
   "source": [
    "# Predicting the mileage values from X_test\n",
    "y_pred1=model_lr.predict(X_test)\n",
    "y_pred1"
   ]
  },
  {
   "cell_type": "code",
   "execution_count": 88,
   "id": "df8c1e8c",
   "metadata": {},
   "outputs": [
    {
     "data": {
      "text/plain": [
       "7     24.4\n",
       "24    19.2\n",
       "20    21.5\n",
       "14    10.4\n",
       "1     21.0\n",
       "23    13.3\n",
       "4     18.7\n",
       "15    10.4\n",
       "25    27.3\n",
       "Name: mpg, dtype: float64"
      ]
     },
     "execution_count": 88,
     "metadata": {},
     "output_type": "execute_result"
    }
   ],
   "source": [
    "y_test   # Actual mileage data, 30 percent data"
   ]
  },
  {
   "cell_type": "code",
   "execution_count": 89,
   "id": "96040a09",
   "metadata": {},
   "outputs": [],
   "source": [
    "from sklearn.metrics import mean_squared_error,r2_score"
   ]
  },
  {
   "cell_type": "code",
   "execution_count": 92,
   "id": "a59b0fce",
   "metadata": {},
   "outputs": [
    {
     "data": {
      "text/plain": [
       "2.8321028020530346"
      ]
     },
     "execution_count": 92,
     "metadata": {},
     "output_type": "execute_result"
    }
   ],
   "source": [
    "mean_squared_error(y_test,y_pred1)"
   ]
  },
  {
   "cell_type": "code",
   "execution_count": 93,
   "id": "3659e9f6",
   "metadata": {},
   "outputs": [
    {
     "data": {
      "text/plain": [
       "0.9109650509344791"
      ]
     },
     "execution_count": 93,
     "metadata": {},
     "output_type": "execute_result"
    }
   ],
   "source": [
    "r2_score(y_test,y_pred1)"
   ]
  },
  {
   "cell_type": "code",
   "execution_count": 94,
   "id": "f330aa71",
   "metadata": {},
   "outputs": [
    {
     "data": {
      "text/plain": [
       "19.171984000000002"
      ]
     },
     "execution_count": 94,
     "metadata": {},
     "output_type": "execute_result"
    }
   ],
   "source": [
    "22.001984-2.83"
   ]
  },
  {
   "cell_type": "code",
   "execution_count": 95,
   "id": "c3b816b9",
   "metadata": {},
   "outputs": [
    {
     "data": {
      "text/plain": [
       "24.831984"
      ]
     },
     "execution_count": 95,
     "metadata": {},
     "output_type": "execute_result"
    }
   ],
   "source": [
    "22.001984+2.83"
   ]
  },
  {
   "cell_type": "markdown",
   "id": "64e420f9",
   "metadata": {},
   "source": [
    "19.171>y<24.83"
   ]
  },
  {
   "cell_type": "code",
   "execution_count": null,
   "id": "1b328818",
   "metadata": {},
   "outputs": [],
   "source": []
  }
 ],
 "metadata": {
  "kernelspec": {
   "display_name": "Python 3 (ipykernel)",
   "language": "python",
   "name": "python3"
  },
  "language_info": {
   "codemirror_mode": {
    "name": "ipython",
    "version": 3
   },
   "file_extension": ".py",
   "mimetype": "text/x-python",
   "name": "python",
   "nbconvert_exporter": "python",
   "pygments_lexer": "ipython3",
   "version": "3.9.7"
  }
 },
 "nbformat": 4,
 "nbformat_minor": 5
}
