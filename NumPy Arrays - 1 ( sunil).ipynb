{
 "cells": [
  {
   "cell_type": "markdown",
   "metadata": {
    "colab_type": "text",
    "id": "D8sDhYQj12Qj"
   },
   "source": [
    "# NumPy \n",
    "\n",
    "NumPy (or Numpy) is a Linear Algebra Library for Python, the reason it is so important for Data Science with Python is that almost all of the libraries in the PyData Ecosystem rely on NumPy as one of their main building blocks.\n",
    "\n"
   ]
  },
  {
   "cell_type": "code",
   "execution_count": 3,
   "metadata": {
    "colab": {},
    "colab_type": "code",
    "id": "Bkn7A6C912Qz"
   },
   "outputs": [],
   "source": [
    "import numpy as np\n",
    "\n"
   ]
  },
  {
   "cell_type": "markdown",
   "metadata": {
    "colab_type": "text",
    "id": "KSALFz9K12Q8"
   },
   "source": [
    "Numpy has many built-in functions and capabilities:vectors,arrays,matrices, and number generation.\n",
    "\n",
    "# Numpy Arrays\n",
    "\n",
    "NumPy arrays are the main way we will use Numpy throughout the course. Numpy arrays essentially come in two flavors: vectors and matrices. Vectors are strictly 1-d arrays and matrices are 2-d (but you should note a matrix can still have only one row or one column).\n",
    "\n",
    "\n",
    "\n",
    "## Creating NumPy Arrays\n",
    "\n",
    "you can create an array from a regular Python list or tuple using the `array` function.\n",
    "\n",
    "\n",
    "\n",
    "\n"
   ]
  },
  {
   "cell_type": "markdown",
   "metadata": {
    "colab_type": "text",
    "id": "LmiMkmPL12Q-"
   },
   "source": [
    "**`syntax: np.array(object, dtype=None,ndmin=0)`**"
   ]
  },
  {
   "cell_type": "markdown",
   "metadata": {
    "colab_type": "text",
    "id": "W1o3-V2712RA"
   },
   "source": [
    "#### Create an Array from List"
   ]
  },
  {
   "cell_type": "code",
   "execution_count": 1,
   "metadata": {},
   "outputs": [],
   "source": [
    "list1 = [1,2,3,4,5]"
   ]
  },
  {
   "cell_type": "code",
   "execution_count": 4,
   "metadata": {},
   "outputs": [],
   "source": [
    "a = np.array(list1)"
   ]
  },
  {
   "cell_type": "code",
   "execution_count": 6,
   "metadata": {},
   "outputs": [
    {
     "data": {
      "text/plain": [
       "array([1, 2, 3, 4, 5])"
      ]
     },
     "execution_count": 6,
     "metadata": {},
     "output_type": "execute_result"
    }
   ],
   "source": [
    "a"
   ]
  },
  {
   "cell_type": "code",
   "execution_count": 7,
   "metadata": {},
   "outputs": [
    {
     "data": {
      "text/plain": [
       "numpy.ndarray"
      ]
     },
     "execution_count": 7,
     "metadata": {},
     "output_type": "execute_result"
    }
   ],
   "source": [
    "type(a)"
   ]
  },
  {
   "cell_type": "code",
   "execution_count": 5,
   "metadata": {},
   "outputs": [
    {
     "name": "stdout",
     "output_type": "stream",
     "text": [
      "[1 2 3 4 5]\n",
      "<class 'numpy.ndarray'>\n"
     ]
    }
   ],
   "source": [
    "print(a)\n",
    "\n",
    "print(type(a))"
   ]
  },
  {
   "cell_type": "code",
   "execution_count": 14,
   "metadata": {},
   "outputs": [
    {
     "data": {
      "text/plain": [
       "array(['1', '2', '0', '4', '5'], dtype='<U1')"
      ]
     },
     "execution_count": 14,
     "metadata": {},
     "output_type": "execute_result"
    }
   ],
   "source": [
    "np.array([1,2,0,4,5],dtype = str)\n",
    "\n"
   ]
  },
  {
   "cell_type": "code",
   "execution_count": 15,
   "metadata": {},
   "outputs": [
    {
     "ename": "NameError",
     "evalue": "name 'array' is not defined",
     "output_type": "error",
     "traceback": [
      "\u001b[1;31m---------------------------------------------------------------------------\u001b[0m",
      "\u001b[1;31mNameError\u001b[0m                                 Traceback (most recent call last)",
      "\u001b[1;32m<ipython-input-15-4aed668b3f17>\u001b[0m in \u001b[0;36m<module>\u001b[1;34m\u001b[0m\n\u001b[1;32m----> 1\u001b[1;33m \u001b[0marray\u001b[0m\u001b[1;33m(\u001b[0m\u001b[1;36m1\u001b[0m\u001b[1;33m,\u001b[0m\u001b[1;36m2\u001b[0m\u001b[1;33m,\u001b[0m\u001b[1;36m3\u001b[0m\u001b[1;33m,\u001b[0m\u001b[1;36m4\u001b[0m\u001b[1;33m,\u001b[0m\u001b[1;36m5\u001b[0m\u001b[1;33m)\u001b[0m\u001b[1;33m\u001b[0m\u001b[1;33m\u001b[0m\u001b[0m\n\u001b[0m",
      "\u001b[1;31mNameError\u001b[0m: name 'array' is not defined"
     ]
    }
   ],
   "source": [
    "array(1,2,3,4,5)"
   ]
  },
  {
   "cell_type": "code",
   "execution_count": 16,
   "metadata": {
    "colab": {},
    "colab_type": "code",
    "id": "QZ7rta6012RF",
    "outputId": "c1f1ce2e-6b46-400d-f1ee-f644667aae1f"
   },
   "outputs": [
    {
     "data": {
      "text/plain": [
       "array([2, 6, 3, 4])"
      ]
     },
     "execution_count": 16,
     "metadata": {},
     "output_type": "execute_result"
    }
   ],
   "source": [
    "# Create an 1d -array from python list\n",
    "List1 = [2,6,3,4]\n",
    "\n",
    "array= np.array(List1) \n",
    "array "
   ]
  },
  {
   "cell_type": "code",
   "execution_count": 17,
   "metadata": {},
   "outputs": [
    {
     "data": {
      "text/plain": [
       "list"
      ]
     },
     "execution_count": 17,
     "metadata": {},
     "output_type": "execute_result"
    }
   ],
   "source": [
    "type(List1)"
   ]
  },
  {
   "cell_type": "code",
   "execution_count": 18,
   "metadata": {},
   "outputs": [
    {
     "data": {
      "text/plain": [
       "numpy.ndarray"
      ]
     },
     "execution_count": 18,
     "metadata": {},
     "output_type": "execute_result"
    }
   ],
   "source": [
    "type(array)"
   ]
  },
  {
   "cell_type": "code",
   "execution_count": 19,
   "metadata": {
    "colab": {},
    "colab_type": "code",
    "id": "iz5Mi4V012RQ"
   },
   "outputs": [],
   "source": [
    "#create a matrix with 2-rows and 3-columns\n",
    "List2 = [[2,3,6],[5,4,8],[1,2,3,4]]"
   ]
  },
  {
   "cell_type": "code",
   "execution_count": 20,
   "metadata": {
    "colab": {},
    "colab_type": "code",
    "id": "cy51OSbR12Rd",
    "outputId": "4d8672f7-2e22-4ccc-820c-6ad7cdde86dc"
   },
   "outputs": [
    {
     "data": {
      "text/plain": [
       "array([[2, 3, 6],\n",
       "       [5, 4, 8]])"
      ]
     },
     "execution_count": 20,
     "metadata": {},
     "output_type": "execute_result"
    }
   ],
   "source": [
    "# Create an array from above matrix\n",
    "\n",
    "array = np.array(List2)\n",
    "array # Two dimensional array"
   ]
  },
  {
   "cell_type": "code",
   "execution_count": 23,
   "metadata": {},
   "outputs": [
    {
     "ename": "NameError",
     "evalue": "name 'list2' is not defined",
     "output_type": "error",
     "traceback": [
      "\u001b[1;31m---------------------------------------------------------------------------\u001b[0m",
      "\u001b[1;31mNameError\u001b[0m                                 Traceback (most recent call last)",
      "\u001b[1;32m<ipython-input-23-904e3972d778>\u001b[0m in \u001b[0;36m<module>\u001b[1;34m\u001b[0m\n\u001b[0;32m      2\u001b[0m \u001b[0mList2\u001b[0m \u001b[1;33m=\u001b[0m \u001b[1;33m[\u001b[0m\u001b[1;33m[\u001b[0m\u001b[1;36m2\u001b[0m\u001b[1;33m,\u001b[0m\u001b[1;36m3\u001b[0m\u001b[1;33m,\u001b[0m\u001b[1;36m6\u001b[0m\u001b[1;33m]\u001b[0m\u001b[1;33m,\u001b[0m\u001b[1;33m[\u001b[0m\u001b[1;36m5\u001b[0m\u001b[1;33m,\u001b[0m\u001b[1;36m4\u001b[0m\u001b[1;33m,\u001b[0m\u001b[1;36m8\u001b[0m\u001b[1;33m]\u001b[0m\u001b[1;33m,\u001b[0m\u001b[1;33m[\u001b[0m\u001b[1;36m1\u001b[0m\u001b[1;33m,\u001b[0m\u001b[1;36m2\u001b[0m\u001b[1;33m,\u001b[0m\u001b[1;36m3\u001b[0m\u001b[1;33m,\u001b[0m\u001b[1;36m4\u001b[0m\u001b[1;33m]\u001b[0m\u001b[1;33m]\u001b[0m\u001b[1;33m\u001b[0m\u001b[1;33m\u001b[0m\u001b[0m\n\u001b[0;32m      3\u001b[0m \u001b[1;33m\u001b[0m\u001b[0m\n\u001b[1;32m----> 4\u001b[1;33m \u001b[0mlist2\u001b[0m\u001b[1;33m\u001b[0m\u001b[1;33m\u001b[0m\u001b[0m\n\u001b[0m",
      "\u001b[1;31mNameError\u001b[0m: name 'list2' is not defined"
     ]
    }
   ],
   "source": [
    "#create a matrix with 2-rows and 3-columns\n",
    "List2 = [[2,3,6],[5,4,8],[1,2,3,4]]\n",
    "\n",
    "list2"
   ]
  },
  {
   "cell_type": "markdown",
   "metadata": {
    "colab_type": "text",
    "id": "7Wux4zWl12Rn"
   },
   "source": [
    "#### Create an array from tuple"
   ]
  },
  {
   "cell_type": "code",
   "execution_count": 24,
   "metadata": {
    "colab": {},
    "colab_type": "code",
    "id": "TnquB4-812Rq"
   },
   "outputs": [],
   "source": [
    "# tuple\n",
    "Tuple = (2,3,6,9)\n",
    "\n",
    "array = np.array(Tuple)"
   ]
  },
  {
   "cell_type": "code",
   "execution_count": 25,
   "metadata": {
    "colab": {},
    "colab_type": "code",
    "id": "54HXi_XL12Ry",
    "outputId": "74225dbe-a5d8-4377-b9b5-745a298bc140"
   },
   "outputs": [
    {
     "data": {
      "text/plain": [
       "array([2, 3, 6, 9])"
      ]
     },
     "execution_count": 25,
     "metadata": {},
     "output_type": "execute_result"
    }
   ],
   "source": [
    "array"
   ]
  },
  {
   "cell_type": "code",
   "execution_count": 26,
   "metadata": {},
   "outputs": [],
   "source": [
    "my_array = np.array([1,2,3,4,5,6,7,8,9,10])"
   ]
  },
  {
   "cell_type": "code",
   "execution_count": 27,
   "metadata": {},
   "outputs": [
    {
     "data": {
      "text/plain": [
       "numpy.ndarray"
      ]
     },
     "execution_count": 27,
     "metadata": {},
     "output_type": "execute_result"
    }
   ],
   "source": [
    "type(my_array)"
   ]
  },
  {
   "cell_type": "code",
   "execution_count": null,
   "metadata": {},
   "outputs": [],
   "source": [
    "my_array"
   ]
  },
  {
   "cell_type": "code",
   "execution_count": 28,
   "metadata": {},
   "outputs": [],
   "source": [
    "my_array = np.array([1,2,3,4,5,6,7,8,9,10],dtype= complex)"
   ]
  },
  {
   "cell_type": "code",
   "execution_count": 29,
   "metadata": {},
   "outputs": [
    {
     "data": {
      "text/plain": [
       "array([ 1.+0.j,  2.+0.j,  3.+0.j,  4.+0.j,  5.+0.j,  6.+0.j,  7.+0.j,\n",
       "        8.+0.j,  9.+0.j, 10.+0.j])"
      ]
     },
     "execution_count": 29,
     "metadata": {},
     "output_type": "execute_result"
    }
   ],
   "source": [
    "my_array"
   ]
  },
  {
   "cell_type": "code",
   "execution_count": 35,
   "metadata": {},
   "outputs": [],
   "source": [
    "my_array1  = np.array([1,2,3,4,5,6,7,8,9,10],ndmin=2)"
   ]
  },
  {
   "cell_type": "code",
   "execution_count": 33,
   "metadata": {},
   "outputs": [
    {
     "data": {
      "text/plain": [
       "array([ 1,  2,  3,  4,  5,  6,  7,  8,  9, 10])"
      ]
     },
     "execution_count": 33,
     "metadata": {},
     "output_type": "execute_result"
    }
   ],
   "source": [
    "my_array1  = np.array([1,2,3,4,5,6,7,8,9,10])\n",
    "\n",
    "my_array1"
   ]
  },
  {
   "cell_type": "code",
   "execution_count": 31,
   "metadata": {},
   "outputs": [
    {
     "data": {
      "text/plain": [
       "array([[ 1,  2,  3,  4,  5,  6,  7,  8,  9, 10]])"
      ]
     },
     "execution_count": 31,
     "metadata": {},
     "output_type": "execute_result"
    }
   ],
   "source": [
    "my_array1"
   ]
  },
  {
   "cell_type": "markdown",
   "metadata": {
    "colab_type": "text",
    "id": "eZXc_voW12R5"
   },
   "source": [
    "#### Array of integers, floats and complex Numbers"
   ]
  },
  {
   "cell_type": "code",
   "execution_count": 36,
   "metadata": {
    "colab": {},
    "colab_type": "code",
    "id": "w5i22l0w12R7",
    "outputId": "e9d94d6e-ddcf-41ed-814a-5f126e5b2c2a"
   },
   "outputs": [
    {
     "name": "stdout",
     "output_type": "stream",
     "text": [
      "[[1 2 3]\n",
      " [3 4 5]]\n"
     ]
    }
   ],
   "source": [
    "A = np.array([[1, 2, 3], [3, 4, 5]])\n",
    "print(A)"
   ]
  },
  {
   "cell_type": "code",
   "execution_count": 37,
   "metadata": {
    "colab": {},
    "colab_type": "code",
    "id": "qn7ImSs012SC",
    "outputId": "188c8cd3-b579-4388-b25c-2f5d627743a1"
   },
   "outputs": [
    {
     "name": "stdout",
     "output_type": "stream",
     "text": [
      "[[1.1 2.  3. ]\n",
      " [3.  4.  5. ]]\n"
     ]
    }
   ],
   "source": [
    "A = np.array([[1.1, 2, 3], [3, 4, 5]],) # Array of floats\n",
    "print(A)\n"
   ]
  },
  {
   "cell_type": "code",
   "execution_count": null,
   "metadata": {
    "colab": {},
    "colab_type": "code",
    "id": "xw6KmI9612SO",
    "outputId": "d57e6bb1-6863-47c0-c26c-f2a01f59c61f"
   },
   "outputs": [],
   "source": [
    "# Upcasting\n",
    "A = np.array([1,2,3.2])\n",
    "A\n",
    "\n",
    "# The degree of integer is lower than the float"
   ]
  },
  {
   "cell_type": "code",
   "execution_count": null,
   "metadata": {
    "colab": {},
    "colab_type": "code",
    "id": "m2dBZPnF12SW",
    "outputId": "e3493c61-96ec-4ebe-f3a4-9bfe93c1dd2d"
   },
   "outputs": [],
   "source": [
    "A = np.array([[1, 2, 3], [3, 4, 5]], dtype = complex) # Array of complex numbers\n",
    "print(A)"
   ]
  },
  {
   "cell_type": "code",
   "execution_count": null,
   "metadata": {
    "colab": {},
    "colab_type": "code",
    "id": "OU9FT-Uk12Sb",
    "outputId": "d88fdd5e-bdfe-4241-9bba-a74063ab852a"
   },
   "outputs": [],
   "source": [
    "A = np.array([[1, 2, 3], [3, 4, 5]], dtype = int) # Array of complex numbers\n",
    "print(A)"
   ]
  },
  {
   "cell_type": "code",
   "execution_count": null,
   "metadata": {
    "colab": {},
    "colab_type": "code",
    "id": "38VOfJPN12Sg",
    "outputId": "c1d4a3c4-ac5d-42f9-cd1c-951c882a6a30"
   },
   "outputs": [],
   "source": [
    "A = np.array([[1, 2, 3], [3, 4, 5]], dtype = str) # Array of complex numbers\n",
    "print(A)"
   ]
  },
  {
   "cell_type": "code",
   "execution_count": null,
   "metadata": {
    "colab": {},
    "colab_type": "code",
    "id": "XpEWGFwL12Sm",
    "outputId": "b6e2a963-d031-40db-bfc1-ac86c23730ee"
   },
   "outputs": [],
   "source": [
    "A = np.array([[1, 2, 3], [3, 4, 5]], dtype = float) # Array of complex numbers\n",
    "print(A)"
   ]
  },
  {
   "cell_type": "code",
   "execution_count": null,
   "metadata": {
    "colab": {},
    "colab_type": "code",
    "id": "IWMF8JBJ12Sv",
    "outputId": "4f9712ad-97e8-4bfc-e255-56f94515921e"
   },
   "outputs": [],
   "source": [
    "A = np.array([[1, 2, 3], [3, 4, 0]], dtype = bool) # Array of complex numbers\n",
    "print(A)"
   ]
  },
  {
   "cell_type": "code",
   "execution_count": 38,
   "metadata": {
    "colab": {},
    "colab_type": "code",
    "id": "NY4eDwcX12S2",
    "outputId": "8ef768f3-fdce-495a-af0a-78bf9a594625",
    "scrolled": true
   },
   "outputs": [
    {
     "data": {
      "text/plain": [
       "array([[2, 3, 6, 9]])"
      ]
     },
     "execution_count": 38,
     "metadata": {},
     "output_type": "execute_result"
    }
   ],
   "source": [
    "# Minimum two dimensions\n",
    "np.array([2,3,6,9],ndmin=2)"
   ]
  },
  {
   "cell_type": "code",
   "execution_count": 39,
   "metadata": {
    "colab": {},
    "colab_type": "code",
    "id": "XNkkOcge12S7",
    "outputId": "c4195c0b-8440-4768-88ae-f3c55aa69226"
   },
   "outputs": [
    {
     "data": {
      "text/plain": [
       "array([[[2, 3, 6, 9]]])"
      ]
     },
     "execution_count": 39,
     "metadata": {},
     "output_type": "execute_result"
    }
   ],
   "source": [
    "np.array([2,3,6,9],ndmin=3)"
   ]
  },
  {
   "cell_type": "code",
   "execution_count": null,
   "metadata": {
    "colab": {},
    "colab_type": "code",
    "id": "STpScIRB12UV"
   },
   "outputs": [],
   "source": []
  },
  {
   "cell_type": "markdown",
   "metadata": {
    "colab_type": "text",
    "id": "bk2H8jRd12Ug"
   },
   "source": [
    "## Built-in Methods\n",
    "\n",
    "There are lots of built-in ways to generate Arrays"
   ]
  },
  {
   "cell_type": "markdown",
   "metadata": {
    "colab_type": "text",
    "id": "mxz4HVmt12Ui"
   },
   "source": [
    "- np.arange()\n",
    "- np.linspace()\n",
    "- np.zero()\n",
    "- np.ones()\n",
    "- np.eye()\n",
    "- np.full()\n",
    "- np.random.rand()\n",
    "- np.random.randn()\n",
    "- np.random.randint()"
   ]
  },
  {
   "cell_type": "markdown",
   "metadata": {
    "colab_type": "text",
    "id": "6CxFiNsp12Ul"
   },
   "source": [
    "### arange\n",
    "\n",
    "**syntax**\n",
    "\n",
    "   **`np.arange([start,] stop[, step,], dtype=None)`**\n",
    "\n",
    "Return evenly spaced values within a given interval."
   ]
  },
  {
   "cell_type": "code",
   "execution_count": 40,
   "metadata": {
    "colab": {},
    "colab_type": "code",
    "id": "UmZMcVcI12Un"
   },
   "outputs": [],
   "source": [
    "array = np.arange(0,10) # create an array from 0 to 10 (10 is exclusive)"
   ]
  },
  {
   "cell_type": "code",
   "execution_count": 41,
   "metadata": {
    "colab": {},
    "colab_type": "code",
    "id": "wXq5cUBL12Uw",
    "outputId": "c848551d-666a-41d9-b639-c128cb458aba"
   },
   "outputs": [
    {
     "data": {
      "text/plain": [
       "array([0, 1, 2, 3, 4, 5, 6, 7, 8, 9])"
      ]
     },
     "execution_count": 41,
     "metadata": {},
     "output_type": "execute_result"
    }
   ],
   "source": [
    "array"
   ]
  },
  {
   "cell_type": "code",
   "execution_count": 42,
   "metadata": {
    "colab": {},
    "colab_type": "code",
    "id": "QFZGi2YQ12U4"
   },
   "outputs": [],
   "source": [
    "array = np.arange(0,10,2)"
   ]
  },
  {
   "cell_type": "code",
   "execution_count": 43,
   "metadata": {
    "colab": {},
    "colab_type": "code",
    "id": "y4e0xdyZ12VD",
    "outputId": "f5d978b0-d908-4e22-9355-488049d4aedb"
   },
   "outputs": [
    {
     "data": {
      "text/plain": [
       "array([0, 2, 4, 6, 8])"
      ]
     },
     "execution_count": 43,
     "metadata": {},
     "output_type": "execute_result"
    }
   ],
   "source": [
    "array"
   ]
  },
  {
   "cell_type": "code",
   "execution_count": 47,
   "metadata": {},
   "outputs": [
    {
     "data": {
      "text/plain": [
       "array([  0,  25,  50,  75, 100])"
      ]
     },
     "execution_count": 47,
     "metadata": {},
     "output_type": "execute_result"
    }
   ],
   "source": [
    "np.arange(0,101,25)"
   ]
  },
  {
   "cell_type": "code",
   "execution_count": 50,
   "metadata": {
    "colab": {},
    "colab_type": "code",
    "id": "rYrjun9l12Vb"
   },
   "outputs": [
    {
     "data": {
      "text/plain": [
       "array([100.+0.j, 102.+0.j, 104.+0.j, 106.+0.j, 108.+0.j, 110.+0.j,\n",
       "       112.+0.j, 114.+0.j, 116.+0.j, 118.+0.j, 120.+0.j, 122.+0.j,\n",
       "       124.+0.j, 126.+0.j, 128.+0.j, 130.+0.j, 132.+0.j, 134.+0.j,\n",
       "       136.+0.j, 138.+0.j, 140.+0.j, 142.+0.j, 144.+0.j, 146.+0.j,\n",
       "       148.+0.j, 150.+0.j, 152.+0.j, 154.+0.j, 156.+0.j, 158.+0.j,\n",
       "       160.+0.j, 162.+0.j, 164.+0.j, 166.+0.j, 168.+0.j, 170.+0.j,\n",
       "       172.+0.j, 174.+0.j, 176.+0.j, 178.+0.j, 180.+0.j, 182.+0.j,\n",
       "       184.+0.j, 186.+0.j, 188.+0.j, 190.+0.j, 192.+0.j, 194.+0.j,\n",
       "       196.+0.j, 198.+0.j])"
      ]
     },
     "execution_count": 50,
     "metadata": {},
     "output_type": "execute_result"
    }
   ],
   "source": [
    "np.arange(100,200,2,dtype= complex)"
   ]
  },
  {
   "cell_type": "markdown",
   "metadata": {
    "colab_type": "text",
    "id": "hnfav1pS12Vk"
   },
   "source": [
    "### zeros\n",
    "\n",
    "Return a new array of given shape and type, filled with zeros.\n",
    "\n",
    "**Syntax**\n",
    "\n",
    " **`np.zeros(shape, dtype=float, order='C')`**\n",
    "   \n",
    "- Shape of the new array, e.g., `(7, 3)` or `5`\n",
    "- The desired data-type for the array, e.g., `numpy.int8`.  Default is\n",
    "    `numpy.float64`"
   ]
  },
  {
   "cell_type": "code",
   "execution_count": 51,
   "metadata": {
    "colab": {},
    "colab_type": "code",
    "id": "nVoOQmhD12Vm",
    "outputId": "04c5a828-80cb-43fb-8059-11f8dde101c7"
   },
   "outputs": [
    {
     "data": {
      "text/plain": [
       "array([0., 0., 0., 0.])"
      ]
     },
     "execution_count": 51,
     "metadata": {},
     "output_type": "execute_result"
    }
   ],
   "source": [
    "# Generate an array of zeros of shape 3\n",
    "Zeros = np.zeros(4)\n",
    "Zeros"
   ]
  },
  {
   "cell_type": "code",
   "execution_count": 55,
   "metadata": {
    "colab": {},
    "colab_type": "code",
    "id": "JB-wxThh12Vt",
    "outputId": "61cf5b55-daa4-424c-c0a7-5d9005172877"
   },
   "outputs": [
    {
     "data": {
      "text/plain": [
       "array([[0.+0.j, 0.+0.j, 0.+0.j, 0.+0.j, 0.+0.j],\n",
       "       [0.+0.j, 0.+0.j, 0.+0.j, 0.+0.j, 0.+0.j],\n",
       "       [0.+0.j, 0.+0.j, 0.+0.j, 0.+0.j, 0.+0.j],\n",
       "       [0.+0.j, 0.+0.j, 0.+0.j, 0.+0.j, 0.+0.j]])"
      ]
     },
     "execution_count": 55,
     "metadata": {},
     "output_type": "execute_result"
    }
   ],
   "source": [
    "Zeros = np.zeros((4,5),dtype=complex,order = 'F')\n",
    "Zeros"
   ]
  },
  {
   "cell_type": "code",
   "execution_count": 59,
   "metadata": {
    "scrolled": true
   },
   "outputs": [
    {
     "data": {
      "text/plain": [
       "array([[0.+0.j, 0.+0.j, 0.+0.j, 0.+0.j, 0.+0.j],\n",
       "       [0.+0.j, 0.+0.j, 0.+0.j, 0.+0.j, 0.+0.j],\n",
       "       [0.+0.j, 0.+0.j, 0.+0.j, 0.+0.j, 0.+0.j],\n",
       "       [0.+0.j, 0.+0.j, 0.+0.j, 0.+0.j, 0.+0.j]])"
      ]
     },
     "execution_count": 59,
     "metadata": {},
     "output_type": "execute_result"
    }
   ],
   "source": [
    "Zeros = np.zeros((4,5),dtype=complex,order = 'C')\n",
    "Zeros"
   ]
  },
  {
   "cell_type": "code",
   "execution_count": 60,
   "metadata": {},
   "outputs": [],
   "source": [
    "ones = np.ones((4,5))"
   ]
  },
  {
   "cell_type": "code",
   "execution_count": 68,
   "metadata": {},
   "outputs": [],
   "source": [
    "var = np.ones((4,5))"
   ]
  },
  {
   "cell_type": "code",
   "execution_count": 69,
   "metadata": {},
   "outputs": [
    {
     "data": {
      "text/plain": [
       "array([[1., 1., 1., 1., 1.],\n",
       "       [1., 1., 1., 1., 1.],\n",
       "       [1., 1., 1., 1., 1.],\n",
       "       [1., 1., 1., 1., 1.]])"
      ]
     },
     "execution_count": 69,
     "metadata": {},
     "output_type": "execute_result"
    }
   ],
   "source": [
    "var"
   ]
  },
  {
   "cell_type": "code",
   "execution_count": 61,
   "metadata": {},
   "outputs": [
    {
     "data": {
      "text/plain": [
       "array([[1., 1., 1., 1., 1.],\n",
       "       [1., 1., 1., 1., 1.],\n",
       "       [1., 1., 1., 1., 1.],\n",
       "       [1., 1., 1., 1., 1.]])"
      ]
     },
     "execution_count": 61,
     "metadata": {},
     "output_type": "execute_result"
    }
   ],
   "source": [
    "ones"
   ]
  },
  {
   "cell_type": "code",
   "execution_count": 65,
   "metadata": {},
   "outputs": [
    {
     "data": {
      "text/plain": [
       "array([[1.1, 1.1, 1.1, 1.1, 1.1, 1.1, 1.1, 1.1, 1.1],\n",
       "       [1.1, 1.1, 1.1, 1.1, 1.1, 1.1, 1.1, 1.1, 1.1],\n",
       "       [1.1, 1.1, 1.1, 1.1, 1.1, 1.1, 1.1, 1.1, 1.1],\n",
       "       [1.1, 1.1, 1.1, 1.1, 1.1, 1.1, 1.1, 1.1, 1.1],\n",
       "       [1.1, 1.1, 1.1, 1.1, 1.1, 1.1, 1.1, 1.1, 1.1]])"
      ]
     },
     "execution_count": 65,
     "metadata": {},
     "output_type": "execute_result"
    }
   ],
   "source": [
    "np.full((5,9),1.1)"
   ]
  },
  {
   "cell_type": "code",
   "execution_count": null,
   "metadata": {},
   "outputs": [],
   "source": []
  },
  {
   "cell_type": "code",
   "execution_count": null,
   "metadata": {},
   "outputs": [],
   "source": []
  },
  {
   "cell_type": "code",
   "execution_count": 74,
   "metadata": {
    "colab": {},
    "colab_type": "code",
    "id": "IEQfP2t312Vx"
   },
   "outputs": [
    {
     "data": {
      "text/plain": [
       "array([[0., 0., 0., 0., 0.],\n",
       "       [0., 0., 0., 0., 0.],\n",
       "       [0., 0., 0., 0., 0.],\n",
       "       [0., 0., 0., 0., 0.],\n",
       "       [0., 0., 0., 0., 0.]])"
      ]
     },
     "execution_count": 74,
     "metadata": {},
     "output_type": "execute_result"
    }
   ],
   "source": [
    "# Generate an array of Zeros of shape 5x5\n",
    "ram=np.zeros((5,5))\n",
    "ram\n"
   ]
  },
  {
   "cell_type": "code",
   "execution_count": 77,
   "metadata": {
    "colab": {},
    "colab_type": "code",
    "id": "WfzELmmj12V1"
   },
   "outputs": [
    {
     "data": {
      "text/plain": [
       "array([1., 1., 1.])"
      ]
     },
     "execution_count": 77,
     "metadata": {},
     "output_type": "execute_result"
    }
   ],
   "source": [
    "# Generate an array of ones of shape\n",
    "sekhar=np.ones((3))\n",
    "sekhar"
   ]
  },
  {
   "cell_type": "code",
   "execution_count": 80,
   "metadata": {
    "colab": {},
    "colab_type": "code",
    "id": "ACEI8MRC12V9"
   },
   "outputs": [
    {
     "data": {
      "text/plain": [
       "array([[1., 1., 1., 1., 1.],\n",
       "       [1., 1., 1., 1., 1.],\n",
       "       [1., 1., 1., 1., 1.],\n",
       "       [1., 1., 1., 1., 1.],\n",
       "       [1., 1., 1., 1., 1.]])"
      ]
     },
     "execution_count": 80,
     "metadata": {},
     "output_type": "execute_result"
    }
   ],
   "source": [
    "# Generate an array of ones of shape of 5X5\n",
    "ones=np.ones((5,5))\n",
    "ones"
   ]
  },
  {
   "cell_type": "code",
   "execution_count": 82,
   "metadata": {},
   "outputs": [
    {
     "data": {
      "text/plain": [
       "array([[2.+5.j, 2.+5.j, 2.+5.j],\n",
       "       [2.+5.j, 2.+5.j, 2.+5.j],\n",
       "       [2.+5.j, 2.+5.j, 2.+5.j]])"
      ]
     },
     "execution_count": 82,
     "metadata": {},
     "output_type": "execute_result"
    }
   ],
   "source": [
    "a = np.full((3,3),2+5j)\n",
    "a\n",
    "              #Generate an array of complex numbers 2+5j of shape of 3x3"
   ]
  },
  {
   "cell_type": "code",
   "execution_count": 85,
   "metadata": {},
   "outputs": [
    {
     "data": {
      "text/plain": [
       "array([ 0,  3,  6,  9, 12, 15, 18, 21, 24, 27, 30, 33, 36, 39, 42, 45, 48,\n",
       "       51, 54, 57, 60, 63, 66, 69, 72, 75, 78, 81, 84, 87, 90, 93, 96, 99])"
      ]
     },
     "execution_count": 85,
     "metadata": {},
     "output_type": "execute_result"
    }
   ],
   "source": [
    "# Generate an array of multiples of 3 upto 100\n",
    "a = np.arange(0,100,3)\n",
    "a\n"
   ]
  },
  {
   "cell_type": "code",
   "execution_count": null,
   "metadata": {},
   "outputs": [],
   "source": []
  },
  {
   "cell_type": "markdown",
   "metadata": {
    "colab_type": "text",
    "id": "vZDHne1G12WK"
   },
   "source": [
    "### linspace\n",
    "Return evenly spaced numbers over a specified interval.\n",
    "\n",
    "**syntax**\n",
    "\n",
    "**`np.linspace(start, stop, num=50,dtype=None)`**\n",
    "\n"
   ]
  },
  {
   "cell_type": "code",
   "execution_count": 88,
   "metadata": {},
   "outputs": [
    {
     "data": {
      "text/plain": [
       "array([0.        , 0.11111111, 0.22222222, 0.33333333, 0.44444444,\n",
       "       0.55555556, 0.66666667, 0.77777778, 0.88888889, 1.        ])"
      ]
     },
     "execution_count": 88,
     "metadata": {},
     "output_type": "execute_result"
    }
   ],
   "source": [
    "np.linspace(0,1,10)"
   ]
  },
  {
   "cell_type": "code",
   "execution_count": null,
   "metadata": {},
   "outputs": [],
   "source": []
  },
  {
   "cell_type": "code",
   "execution_count": 89,
   "metadata": {
    "colab": {},
    "colab_type": "code",
    "id": "y3i7kfHx12WQ",
    "outputId": "1301f3ab-2457-481f-85ed-9132ece4dffc",
    "scrolled": true
   },
   "outputs": [
    {
     "data": {
      "text/plain": [
       "array([ 0.        ,  0.20408163,  0.40816327,  0.6122449 ,  0.81632653,\n",
       "        1.02040816,  1.2244898 ,  1.42857143,  1.63265306,  1.83673469,\n",
       "        2.04081633,  2.24489796,  2.44897959,  2.65306122,  2.85714286,\n",
       "        3.06122449,  3.26530612,  3.46938776,  3.67346939,  3.87755102,\n",
       "        4.08163265,  4.28571429,  4.48979592,  4.69387755,  4.89795918,\n",
       "        5.10204082,  5.30612245,  5.51020408,  5.71428571,  5.91836735,\n",
       "        6.12244898,  6.32653061,  6.53061224,  6.73469388,  6.93877551,\n",
       "        7.14285714,  7.34693878,  7.55102041,  7.75510204,  7.95918367,\n",
       "        8.16326531,  8.36734694,  8.57142857,  8.7755102 ,  8.97959184,\n",
       "        9.18367347,  9.3877551 ,  9.59183673,  9.79591837, 10.        ])"
      ]
     },
     "execution_count": 89,
     "metadata": {},
     "output_type": "execute_result"
    }
   ],
   "source": [
    "\n",
    "L = np.linspace(0,10)\n",
    "L"
   ]
  },
  {
   "cell_type": "code",
   "execution_count": 90,
   "metadata": {
    "colab": {},
    "colab_type": "code",
    "id": "khVAz7EG12WW",
    "outputId": "c8d6f7f5-ee80-4d66-b56e-3463c2c2af6a"
   },
   "outputs": [
    {
     "data": {
      "text/plain": [
       "array([2.        , 2.03030303, 2.06060606, 2.09090909, 2.12121212,\n",
       "       2.15151515, 2.18181818, 2.21212121, 2.24242424, 2.27272727,\n",
       "       2.3030303 , 2.33333333, 2.36363636, 2.39393939, 2.42424242,\n",
       "       2.45454545, 2.48484848, 2.51515152, 2.54545455, 2.57575758,\n",
       "       2.60606061, 2.63636364, 2.66666667, 2.6969697 , 2.72727273,\n",
       "       2.75757576, 2.78787879, 2.81818182, 2.84848485, 2.87878788,\n",
       "       2.90909091, 2.93939394, 2.96969697, 3.        , 3.03030303,\n",
       "       3.06060606, 3.09090909, 3.12121212, 3.15151515, 3.18181818,\n",
       "       3.21212121, 3.24242424, 3.27272727, 3.3030303 , 3.33333333,\n",
       "       3.36363636, 3.39393939, 3.42424242, 3.45454545, 3.48484848,\n",
       "       3.51515152, 3.54545455, 3.57575758, 3.60606061, 3.63636364,\n",
       "       3.66666667, 3.6969697 , 3.72727273, 3.75757576, 3.78787879,\n",
       "       3.81818182, 3.84848485, 3.87878788, 3.90909091, 3.93939394,\n",
       "       3.96969697, 4.        , 4.03030303, 4.06060606, 4.09090909,\n",
       "       4.12121212, 4.15151515, 4.18181818, 4.21212121, 4.24242424,\n",
       "       4.27272727, 4.3030303 , 4.33333333, 4.36363636, 4.39393939,\n",
       "       4.42424242, 4.45454545, 4.48484848, 4.51515152, 4.54545455,\n",
       "       4.57575758, 4.60606061, 4.63636364, 4.66666667, 4.6969697 ,\n",
       "       4.72727273, 4.75757576, 4.78787879, 4.81818182, 4.84848485,\n",
       "       4.87878788, 4.90909091, 4.93939394, 4.96969697, 5.        ])"
      ]
     },
     "execution_count": 90,
     "metadata": {},
     "output_type": "execute_result"
    }
   ],
   "source": [
    "# Generate an array 100 elements between 2 to 5\n",
    "L = np.linspace(2,5,100)\n",
    "L"
   ]
  },
  {
   "cell_type": "code",
   "execution_count": null,
   "metadata": {},
   "outputs": [],
   "source": [
    "np.linspace(0,2,100)"
   ]
  },
  {
   "cell_type": "code",
   "execution_count": 95,
   "metadata": {
    "colab": {},
    "colab_type": "code",
    "id": "mIl1VnJ_12We",
    "outputId": "b0dda2e7-2877-412e-c345-1bca6a45bd7a"
   },
   "outputs": [
    {
     "data": {
      "text/plain": [
       "(array([ 1.  ,  3.25,  5.5 ,  7.75, 10.  ]), 2.25)"
      ]
     },
     "execution_count": 95,
     "metadata": {},
     "output_type": "execute_result"
    }
   ],
   "source": [
    "np.linspace(1,10,5,endpoint=True,retstep=True) "
   ]
  },
  {
   "cell_type": "code",
   "execution_count": 94,
   "metadata": {
    "colab": {},
    "colab_type": "code",
    "id": "ZxrInB_E12Wq",
    "outputId": "7d5ff180-6293-4ed1-8fb6-218be56f09ae"
   },
   "outputs": [
    {
     "data": {
      "text/plain": [
       "(array([1. , 2.8, 4.6, 6.4, 8.2]), 1.8)"
      ]
     },
     "execution_count": 94,
     "metadata": {},
     "output_type": "execute_result"
    }
   ],
   "source": [
    "np.linspace(1,10,5,endpoint=False,retstep=True)"
   ]
  },
  {
   "cell_type": "code",
   "execution_count": 93,
   "metadata": {
    "colab": {},
    "colab_type": "code",
    "id": "Em9oGb2312W3",
    "outputId": "31e68358-0b18-4f6e-aee3-b3c399fc1165"
   },
   "outputs": [
    {
     "data": {
      "text/plain": [
       "(array([ 1.  ,  3.25,  5.5 ,  7.75, 10.  ]), 2.25)"
      ]
     },
     "execution_count": 93,
     "metadata": {},
     "output_type": "execute_result"
    }
   ],
   "source": [
    "np.linspace(1,10,5,retstep=True) # To know the step size .it will return step size"
   ]
  },
  {
   "cell_type": "markdown",
   "metadata": {
    "colab_type": "text",
    "id": "hHx1G2GT12XJ"
   },
   "source": [
    "## eye\n",
    "\n",
    "   \n",
    "Creates an identity matrix\n",
    "\n",
    "**syntax**\n",
    "\n",
    "**`np.eye(N, M=None,dtype=<class 'float'>)`**\n",
    "   \n",
    "- N : int\n",
    "  Number of rows in the output.\n",
    "- M : int, optional\n",
    "  Number of columns in the output. If None, defaults to `N`.\n",
    "- dtype : data-type, optional\n",
    "  Data-type of the returned array.\n"
   ]
  },
  {
   "cell_type": "code",
   "execution_count": 96,
   "metadata": {
    "colab": {},
    "colab_type": "code",
    "id": "b79VT9Jc12XM",
    "outputId": "5aac141b-97df-4d82-dc49-f394efd77375"
   },
   "outputs": [
    {
     "data": {
      "text/plain": [
       "array([[1., 0.],\n",
       "       [0., 1.]])"
      ]
     },
     "execution_count": 96,
     "metadata": {},
     "output_type": "execute_result"
    }
   ],
   "source": [
    "I = np.eye(2)\n",
    "I"
   ]
  },
  {
   "cell_type": "code",
   "execution_count": 97,
   "metadata": {
    "colab": {},
    "colab_type": "code",
    "id": "hkSDbEqz12XY",
    "outputId": "de801cfc-081c-4b9b-a75a-3b2959d93516"
   },
   "outputs": [
    {
     "data": {
      "text/plain": [
       "array([[1., 0., 0.],\n",
       "       [0., 1., 0.],\n",
       "       [0., 0., 1.]])"
      ]
     },
     "execution_count": 97,
     "metadata": {},
     "output_type": "execute_result"
    }
   ],
   "source": [
    "I = np.eye(3)\n",
    "I"
   ]
  },
  {
   "cell_type": "code",
   "execution_count": null,
   "metadata": {},
   "outputs": [],
   "source": [
    "np.eye(8)"
   ]
  },
  {
   "cell_type": "markdown",
   "metadata": {
    "colab_type": "text",
    "id": "akmqXi2Y12Xe"
   },
   "source": [
    "## ones\n",
    "\n",
    "Returns an array of all ones.\n",
    "\n",
    "**`np.ones(shape, dtype=None, order='C')`**"
   ]
  },
  {
   "cell_type": "code",
   "execution_count": null,
   "metadata": {
    "colab": {},
    "colab_type": "code",
    "id": "Y2vPPS6H12Xm"
   },
   "outputs": [],
   "source": [
    "a = np.ones((2,2))"
   ]
  },
  {
   "cell_type": "code",
   "execution_count": null,
   "metadata": {
    "colab": {},
    "colab_type": "code",
    "id": "KCeE_wTx12Xs",
    "outputId": "b6bdf5de-9f56-4835-ca63-c098073b538c"
   },
   "outputs": [],
   "source": [
    "a"
   ]
  },
  {
   "cell_type": "markdown",
   "metadata": {
    "colab_type": "text",
    "id": "mY1xIVeW12X1"
   },
   "source": [
    "## constant array\n",
    "Return a new array of given shape and type, filled with `fill_value`.\n",
    "\n",
    "**`np.full(shape, fill_value, dtype=None, order='C')`**"
   ]
  },
  {
   "cell_type": "code",
   "execution_count": null,
   "metadata": {
    "colab": {},
    "colab_type": "code",
    "id": "rvLOYJDz12X4",
    "outputId": "0c2d1a29-cfa9-450b-9c80-3caa073bb1b5"
   },
   "outputs": [],
   "source": [
    "#Create a 3x3 array with constant value 7\n",
    "\n",
    "np.full((3,3),7.5)"
   ]
  },
  {
   "cell_type": "markdown",
   "metadata": {
    "colab_type": "text",
    "id": "zjLggFeR12X_"
   },
   "source": [
    "## Random \n",
    "\n",
    "Numpy also has lots of ways to create random number arrays:\n",
    "\n",
    "### 1. rand\n",
    "\n",
    "Random values in a given shape.\n",
    "\n",
    "Create an array of the given shape and populate it with\n",
    "random samples from a **uniform distribution**\n",
    "over ``[0, 1)``.\n",
    "\n",
    "**syntax**\n",
    "\n",
    "   `rand(d0, d1, ..., dn)`\n",
    "   \n",
    "   - d0, d1, ..., dn : int, optional\n",
    "    The dimensions of the returned array, should all be positive.\n"
   ]
  },
  {
   "cell_type": "code",
   "execution_count": 99,
   "metadata": {
    "colab": {},
    "colab_type": "code",
    "id": "is99YLGG12YA",
    "outputId": "5bfb4430-88c3-42ff-bec4-707137509ce0"
   },
   "outputs": [
    {
     "data": {
      "text/plain": [
       "array([0.08234164, 0.54733976, 0.98362934, 0.65957692, 0.01529799])"
      ]
     },
     "execution_count": 99,
     "metadata": {},
     "output_type": "execute_result"
    }
   ],
   "source": [
    "# Generate an array of 5 random numbers from a uniform distribution\n",
    "U = np.random.rand(5)\n",
    "U"
   ]
  },
  {
   "cell_type": "code",
   "execution_count": 101,
   "metadata": {
    "colab": {},
    "colab_type": "code",
    "id": "rOygsi3812YD",
    "outputId": "10e6eb12-03d1-4709-ab84-10c1a84fbb87"
   },
   "outputs": [
    {
     "data": {
      "text/plain": [
       "array([[0.74858639, 0.75844783],\n",
       "       [0.02878535, 0.352704  ],\n",
       "       [0.78074171, 0.33902432],\n",
       "       [0.75110944, 0.25700794],\n",
       "       [0.97740822, 0.18916394]])"
      ]
     },
     "execution_count": 101,
     "metadata": {},
     "output_type": "execute_result"
    }
   ],
   "source": [
    "# Generate an array of 5,2 random numbers from a uniform distribution\n",
    "\n",
    "U = np.random.rand(5,2)\n",
    "U"
   ]
  },
  {
   "cell_type": "markdown",
   "metadata": {
    "colab_type": "text",
    "id": "W46lYyAH12YG"
   },
   "source": [
    "### 2.randn\n",
    "\n",
    "Return a sample (or samples) from the **standard normal distribution**.\n",
    "\n",
    "**syntax**\n",
    "  \n",
    "  `randn(d0, d1, ..., dn)`"
   ]
  },
  {
   "cell_type": "code",
   "execution_count": 102,
   "metadata": {
    "colab": {},
    "colab_type": "code",
    "id": "iXWYhiEX12YH",
    "outputId": "9710d734-cf96-481f-b9c8-e7be760de42a"
   },
   "outputs": [
    {
     "data": {
      "text/plain": [
       "array([-0.19554266,  0.29708175, -1.32347899,  0.92358998,  0.24754695])"
      ]
     },
     "execution_count": 102,
     "metadata": {},
     "output_type": "execute_result"
    }
   ],
   "source": [
    "# Generate an array of 5 random numbers from a standard normal distribution\n",
    "\n",
    "N = np.random.randn(5)\n",
    "N"
   ]
  },
  {
   "cell_type": "code",
   "execution_count": 103,
   "metadata": {
    "colab": {},
    "colab_type": "code",
    "id": "uCzWlzXU12YL",
    "outputId": "10ad9253-6e39-4a03-f92f-bacbc5d7029e"
   },
   "outputs": [
    {
     "data": {
      "text/plain": [
       "array([[-0.4821863 , -0.02014836],\n",
       "       [-0.09100086,  0.43608728],\n",
       "       [-0.49862662, -1.31634478],\n",
       "       [ 0.29165673, -1.20021595],\n",
       "       [ 0.46972327, -0.1562481 ]])"
      ]
     },
     "execution_count": 103,
     "metadata": {},
     "output_type": "execute_result"
    }
   ],
   "source": [
    "# Generate an array of 5,2 random numbers from a standard normal distribution\n",
    "\n",
    "N = np.random.randn(5,2)\n",
    "N"
   ]
  },
  {
   "cell_type": "markdown",
   "metadata": {
    "colab_type": "text",
    "id": "TQGDHVTC12YO"
   },
   "source": [
    "### 3. randint\n",
    "Return random integers from `low` (inclusive) to `high` (exclusive).\n",
    "\n",
    "**syntax**\n",
    "\n",
    "`randint(low, high=None, size=None)`\n"
   ]
  },
  {
   "cell_type": "code",
   "execution_count": 104,
   "metadata": {
    "colab": {},
    "colab_type": "code",
    "id": "syyfYALb12YP"
   },
   "outputs": [],
   "source": [
    "import numpy as np"
   ]
  },
  {
   "cell_type": "code",
   "execution_count": 111,
   "metadata": {
    "colab": {},
    "colab_type": "code",
    "id": "tJ5pgP4c12YS",
    "outputId": "a7cfbc2a-9c13-4e5c-9bec-12e685f28e8c"
   },
   "outputs": [
    {
     "data": {
      "text/plain": [
       "array([[94, 89, 77, 90, 77],\n",
       "       [95, 76, 87, 55, 78],\n",
       "       [50, 80, 63, 60, 52],\n",
       "       [92, 94, 61, 73, 70],\n",
       "       [79, 98, 52, 82, 64]])"
      ]
     },
     "execution_count": 111,
     "metadata": {},
     "output_type": "execute_result"
    }
   ],
   "source": [
    "np.random.randint(50,100,size = (5,5))"
   ]
  },
  {
   "cell_type": "code",
   "execution_count": 112,
   "metadata": {},
   "outputs": [],
   "source": [
    "a = np.arange(0,36)"
   ]
  },
  {
   "cell_type": "code",
   "execution_count": 113,
   "metadata": {},
   "outputs": [
    {
     "data": {
      "text/plain": [
       "array([ 0,  1,  2,  3,  4,  5,  6,  7,  8,  9, 10, 11, 12, 13, 14, 15, 16,\n",
       "       17, 18, 19, 20, 21, 22, 23, 24, 25, 26, 27, 28, 29, 30, 31, 32, 33,\n",
       "       34, 35])"
      ]
     },
     "execution_count": 113,
     "metadata": {},
     "output_type": "execute_result"
    }
   ],
   "source": [
    "a"
   ]
  },
  {
   "cell_type": "code",
   "execution_count": 115,
   "metadata": {},
   "outputs": [
    {
     "data": {
      "text/plain": [
       "array([[ 0,  1,  2,  3,  4,  5,  6,  7,  8,  9, 10, 11],\n",
       "       [12, 13, 14, 15, 16, 17, 18, 19, 20, 21, 22, 23],\n",
       "       [24, 25, 26, 27, 28, 29, 30, 31, 32, 33, 34, 35]])"
      ]
     },
     "execution_count": 115,
     "metadata": {},
     "output_type": "execute_result"
    }
   ],
   "source": [
    "a = a.reshape(3,12)\n",
    "\n",
    "a"
   ]
  },
  {
   "cell_type": "code",
   "execution_count": 116,
   "metadata": {},
   "outputs": [
    {
     "ename": "ValueError",
     "evalue": "cannot reshape array of size 36 into shape (5,5)",
     "output_type": "error",
     "traceback": [
      "\u001b[1;31m---------------------------------------------------------------------------\u001b[0m",
      "\u001b[1;31mValueError\u001b[0m                                Traceback (most recent call last)",
      "\u001b[1;32m<ipython-input-116-f21f9ba247de>\u001b[0m in \u001b[0;36m<module>\u001b[1;34m\u001b[0m\n\u001b[1;32m----> 1\u001b[1;33m \u001b[0ma\u001b[0m \u001b[1;33m=\u001b[0m \u001b[0ma\u001b[0m\u001b[1;33m.\u001b[0m\u001b[0mreshape\u001b[0m\u001b[1;33m(\u001b[0m\u001b[1;36m5\u001b[0m\u001b[1;33m,\u001b[0m\u001b[1;36m5\u001b[0m\u001b[1;33m)\u001b[0m\u001b[1;33m\u001b[0m\u001b[1;33m\u001b[0m\u001b[0m\n\u001b[0m",
      "\u001b[1;31mValueError\u001b[0m: cannot reshape array of size 36 into shape (5,5)"
     ]
    }
   ],
   "source": [
    "a = a.reshape(5,5)"
   ]
  },
  {
   "cell_type": "code",
   "execution_count": 117,
   "metadata": {},
   "outputs": [
    {
     "data": {
      "text/plain": [
       "36"
      ]
     },
     "execution_count": 117,
     "metadata": {},
     "output_type": "execute_result"
    }
   ],
   "source": [
    "a.size"
   ]
  },
  {
   "cell_type": "code",
   "execution_count": 118,
   "metadata": {},
   "outputs": [
    {
     "data": {
      "text/plain": [
       "(3, 12)"
      ]
     },
     "execution_count": 118,
     "metadata": {},
     "output_type": "execute_result"
    }
   ],
   "source": [
    "a.shape"
   ]
  },
  {
   "cell_type": "code",
   "execution_count": 119,
   "metadata": {},
   "outputs": [
    {
     "data": {
      "text/plain": [
       "2"
      ]
     },
     "execution_count": 119,
     "metadata": {},
     "output_type": "execute_result"
    }
   ],
   "source": [
    "a.ndim"
   ]
  },
  {
   "cell_type": "code",
   "execution_count": 120,
   "metadata": {},
   "outputs": [
    {
     "data": {
      "text/plain": [
       "dtype('int32')"
      ]
     },
     "execution_count": 120,
     "metadata": {},
     "output_type": "execute_result"
    }
   ],
   "source": [
    "a.dtype"
   ]
  },
  {
   "cell_type": "markdown",
   "metadata": {
    "colab_type": "text",
    "id": "bvzSzyRx12Yd"
   },
   "source": [
    "## Array Attributes and Method\n",
    "\n",
    "\n",
    "Let's discuss some useful attributes of an array like the size, shape, memory consumption, and data types.\n",
    "\n",
    "-  array.size\n",
    "-  array.shape\n",
    "-  array.dtype\n",
    "-  array.ndim\n",
    "-  array.reshape()\n",
    "-  array.astype()\n",
    "-  array.asarray()"
   ]
  },
  {
   "cell_type": "markdown",
   "metadata": {
    "colab_type": "text",
    "id": "KA1JbbN_12Ye"
   },
   "source": [
    "### 1. ndarray.shape \n",
    "\n",
    "This array attribute returns a tuple consisting of `array dimensions`. It can also be used to resize the array."
   ]
  },
  {
   "cell_type": "code",
   "execution_count": null,
   "metadata": {
    "colab": {},
    "colab_type": "code",
    "id": "0AmmIkRD12Yg"
   },
   "outputs": [],
   "source": [
    "arr1 = np.array([[3,4],[8,9]])\n",
    "arr2 = np.array([[3,4,5],[9,7,8]])\n",
    "arr3 = np.array([[3,6,8,7],[5,9,8,7],[2,5,3,7]])"
   ]
  },
  {
   "cell_type": "code",
   "execution_count": null,
   "metadata": {
    "colab": {},
    "colab_type": "code",
    "id": "_18qHxc_12Yl",
    "outputId": "98f95b2c-015e-486f-c9e8-5862bed5f895"
   },
   "outputs": [],
   "source": [
    "arr1.shape"
   ]
  },
  {
   "cell_type": "code",
   "execution_count": null,
   "metadata": {
    "colab": {},
    "colab_type": "code",
    "id": "L4X4RY0P12Yp",
    "outputId": "046d7691-bffb-4e17-a0f0-53fba0e6fc74"
   },
   "outputs": [],
   "source": [
    "arr2.shape"
   ]
  },
  {
   "cell_type": "code",
   "execution_count": null,
   "metadata": {
    "colab": {},
    "colab_type": "code",
    "id": "--sZL7M812Ys",
    "outputId": "e83669ce-f489-43b1-9688-a3d873ffaebb"
   },
   "outputs": [],
   "source": [
    "arr3.shape"
   ]
  },
  {
   "cell_type": "code",
   "execution_count": null,
   "metadata": {
    "colab": {},
    "colab_type": "code",
    "id": "PxM5uzEh12Yv"
   },
   "outputs": [],
   "source": [
    "#Resize arr3 by using shape attribute\n",
    "arr3.shape = (4,3)"
   ]
  },
  {
   "cell_type": "code",
   "execution_count": null,
   "metadata": {
    "colab": {},
    "colab_type": "code",
    "id": "pqGBDPVh12Y0",
    "outputId": "0a3c59b9-424c-4799-c804-aef61e3801ce"
   },
   "outputs": [],
   "source": [
    "arr3"
   ]
  },
  {
   "cell_type": "markdown",
   "metadata": {
    "colab_type": "text",
    "id": "sP8gbT9r12Y5"
   },
   "source": [
    "## 2. Reshape( )\n",
    "Returns an array containing the same data with a new shape."
   ]
  },
  {
   "cell_type": "code",
   "execution_count": null,
   "metadata": {
    "colab": {},
    "colab_type": "code",
    "id": "YEvLpRpt12Y6"
   },
   "outputs": [],
   "source": [
    "arr4 = np.arange(0,10).reshape(2,5)"
   ]
  },
  {
   "cell_type": "code",
   "execution_count": null,
   "metadata": {
    "colab": {},
    "colab_type": "code",
    "id": "78tO3uLk12ZH",
    "outputId": "ee879724-6e91-4804-99bd-fce8aa99a0e9"
   },
   "outputs": [],
   "source": [
    "arr4"
   ]
  },
  {
   "cell_type": "code",
   "execution_count": null,
   "metadata": {
    "colab": {},
    "colab_type": "code",
    "id": "G6tfIt0V12ZN",
    "outputId": "1ffc24c9-9b10-440e-cf39-7f3f588afa1c"
   },
   "outputs": [],
   "source": [
    "a = np.random.randint(1,20,10)\n",
    "a"
   ]
  },
  {
   "cell_type": "code",
   "execution_count": null,
   "metadata": {
    "colab": {},
    "colab_type": "code",
    "id": "bxtSSnta12ZS",
    "outputId": "3e13c2df-397f-455c-e5d4-b15afb225fdd"
   },
   "outputs": [],
   "source": [
    "len(a)"
   ]
  },
  {
   "cell_type": "code",
   "execution_count": null,
   "metadata": {
    "colab": {},
    "colab_type": "code",
    "id": "9XvyrdbF12ZZ",
    "outputId": "e020a55a-69f7-4161-ed21-fa3fe42beecf"
   },
   "outputs": [],
   "source": [
    "a.reshape((-1,5)) # By default it will understand what will be suitable row dimension"
   ]
  },
  {
   "cell_type": "code",
   "execution_count": null,
   "metadata": {
    "colab": {},
    "colab_type": "code",
    "id": "tXHiJbsE12Zd",
    "outputId": "f22ec614-9009-4164-9d9c-362521bfed6e"
   },
   "outputs": [],
   "source": [
    "a.reshape((5,-1)) # By defaut it will understand what will be suitable column dimension"
   ]
  },
  {
   "cell_type": "code",
   "execution_count": null,
   "metadata": {
    "colab": {},
    "colab_type": "code",
    "id": "3cTrVsAQ12Zj"
   },
   "outputs": [],
   "source": []
  },
  {
   "cell_type": "markdown",
   "metadata": {
    "colab_type": "text",
    "id": "ZoMGZel_12Zr"
   },
   "source": [
    "## 3. ndarray.ndim\n",
    "\n",
    "This array attribute returns the `number of array dimensions`."
   ]
  },
  {
   "cell_type": "code",
   "execution_count": null,
   "metadata": {
    "colab": {},
    "colab_type": "code",
    "id": "U2FO7dZa12Zs",
    "outputId": "7a37b393-ddfd-47ca-9284-bdecf6bc67f1"
   },
   "outputs": [],
   "source": [
    "# One dimensional array\n",
    "\n",
    "onedm = np.array([2,3,6,9])\n",
    "onedm.ndim"
   ]
  },
  {
   "cell_type": "code",
   "execution_count": null,
   "metadata": {
    "colab": {},
    "colab_type": "code",
    "id": "hNfkOa9Q12Zw"
   },
   "outputs": [],
   "source": [
    "# Two dimensional array\n",
    "twodm = np.array([[2,5,8],[7,8,9]])"
   ]
  },
  {
   "cell_type": "code",
   "execution_count": null,
   "metadata": {
    "colab": {},
    "colab_type": "code",
    "id": "hEe24Bus12Z2",
    "outputId": "f0aa2cfb-62da-44ec-fe43-9ce47f0c8fb2"
   },
   "outputs": [],
   "source": [
    "twodm.ndim"
   ]
  },
  {
   "cell_type": "code",
   "execution_count": null,
   "metadata": {
    "colab": {},
    "colab_type": "code",
    "id": "2nCEl7iK12Z7"
   },
   "outputs": [],
   "source": [
    "# Three dimensional array\n",
    "threedm = np.array([[[2,3,6],[5,8,9],[9,8,7]]])"
   ]
  },
  {
   "cell_type": "code",
   "execution_count": null,
   "metadata": {
    "colab": {},
    "colab_type": "code",
    "id": "rlZ8bWUz12Z_",
    "outputId": "c3fc0280-49f7-4a89-8c9b-feea2d811aca"
   },
   "outputs": [],
   "source": [
    "threedm.ndim"
   ]
  },
  {
   "cell_type": "markdown",
   "metadata": {
    "colab_type": "text",
    "id": "LtKTapWY12aG"
   },
   "source": [
    "## 4.ndarray.itemsize\n",
    "\n",
    "This array attribute returns the length of each element of array in bytes."
   ]
  },
  {
   "cell_type": "code",
   "execution_count": null,
   "metadata": {
    "colab": {},
    "colab_type": "code",
    "id": "OaHTvSEJ12aI",
    "outputId": "90d9cf8a-90f1-45e1-c946-aa9d1ed6f171"
   },
   "outputs": [],
   "source": [
    "onedm.itemsize"
   ]
  },
  {
   "cell_type": "code",
   "execution_count": null,
   "metadata": {
    "colab": {},
    "colab_type": "code",
    "id": "fia8uQ8X12aL",
    "outputId": "bd4baf82-9610-4ea2-e214-e8b4c8875e68"
   },
   "outputs": [],
   "source": [
    "threedm.itemsize"
   ]
  },
  {
   "cell_type": "markdown",
   "metadata": {
    "colab_type": "text",
    "id": "PzkYi2OS12aO"
   },
   "source": [
    "## 5.ndarray.size\n",
    "\n",
    "Returns the total size of the array"
   ]
  },
  {
   "cell_type": "code",
   "execution_count": null,
   "metadata": {
    "colab": {},
    "colab_type": "code",
    "id": "Ne5dgDkN12aP",
    "outputId": "bc47aa54-8860-4cc1-9786-a3bd143ee195"
   },
   "outputs": [],
   "source": [
    "onedm.size"
   ]
  },
  {
   "cell_type": "code",
   "execution_count": null,
   "metadata": {
    "colab": {},
    "colab_type": "code",
    "id": "TDm16Qk_12aR",
    "outputId": "bac9b852-8e1e-499c-8948-6e8d9d7009d2"
   },
   "outputs": [],
   "source": [
    "twodm.size"
   ]
  },
  {
   "cell_type": "code",
   "execution_count": null,
   "metadata": {
    "colab": {},
    "colab_type": "code",
    "id": "O05Ig3xQ12aX",
    "outputId": "51686a16-e052-4215-eee3-a7d8c841f169"
   },
   "outputs": [],
   "source": [
    "threedm.size"
   ]
  },
  {
   "cell_type": "markdown",
   "metadata": {
    "colab_type": "text",
    "id": "oppmpBEg12ac"
   },
   "source": [
    "## 6.ndarray.dtype\n",
    "\n",
    "Returns the type of data\n"
   ]
  },
  {
   "cell_type": "code",
   "execution_count": null,
   "metadata": {
    "colab": {},
    "colab_type": "code",
    "id": "PV1j0q4e12ad",
    "outputId": "1d324119-3184-41c1-c0ae-12b008425063"
   },
   "outputs": [],
   "source": [
    "onedm.dtype"
   ]
  },
  {
   "cell_type": "code",
   "execution_count": null,
   "metadata": {
    "colab": {},
    "colab_type": "code",
    "id": "UYVOAkhP12af",
    "outputId": "39ffb147-b561-44fa-d7f0-c2a21edfbc80"
   },
   "outputs": [],
   "source": [
    "onedm.astype(float)"
   ]
  },
  {
   "cell_type": "markdown",
   "metadata": {
    "colab_type": "text",
    "id": "Hq0Gd1r812ai"
   },
   "source": [
    "## 7. ndarray.astype()\n",
    "a.astype(dtype, order='K', casting='unsafe', subok=True, copy=True)\n",
    "\n",
    "Copy of the array, cast to a specified type."
   ]
  },
  {
   "cell_type": "code",
   "execution_count": null,
   "metadata": {},
   "outputs": [],
   "source": []
  },
  {
   "cell_type": "code",
   "execution_count": 122,
   "metadata": {},
   "outputs": [],
   "source": [
    "a = np.arange(0,10)"
   ]
  },
  {
   "cell_type": "code",
   "execution_count": 123,
   "metadata": {},
   "outputs": [
    {
     "data": {
      "text/plain": [
       "array([0, 1, 2, 3, 4, 5, 6, 7, 8, 9])"
      ]
     },
     "execution_count": 123,
     "metadata": {},
     "output_type": "execute_result"
    }
   ],
   "source": [
    "a"
   ]
  },
  {
   "cell_type": "code",
   "execution_count": 125,
   "metadata": {
    "colab": {},
    "colab_type": "code",
    "id": "0DYgTKd912aj",
    "outputId": "8f1853a8-ec0d-4bd8-d427-d74c012f26f7"
   },
   "outputs": [
    {
     "data": {
      "text/plain": [
       "array([0.+0.j, 1.+0.j, 2.+0.j, 3.+0.j, 4.+0.j, 5.+0.j, 6.+0.j, 7.+0.j,\n",
       "       8.+0.j, 9.+0.j])"
      ]
     },
     "execution_count": 125,
     "metadata": {},
     "output_type": "execute_result"
    }
   ],
   "source": [
    "a.astype(complex)"
   ]
  },
  {
   "cell_type": "code",
   "execution_count": null,
   "metadata": {
    "colab": {},
    "colab_type": "code",
    "id": "QvMtqvlw12ao"
   },
   "outputs": [],
   "source": []
  },
  {
   "cell_type": "markdown",
   "metadata": {
    "colab_type": "text",
    "id": "qaq-ImF112aq"
   },
   "source": [
    "## 8 np.asarray()\n",
    "\n",
    "Convert the input to an array."
   ]
  },
  {
   "cell_type": "code",
   "execution_count": 126,
   "metadata": {
    "colab": {},
    "colab_type": "code",
    "id": "Wwj0M9Zv12as",
    "outputId": "045238fa-92ca-4ef9-ff6d-e786225c6cbd"
   },
   "outputs": [
    {
     "data": {
      "text/plain": [
       "array([5, 6, 7])"
      ]
     },
     "execution_count": 126,
     "metadata": {},
     "output_type": "execute_result"
    }
   ],
   "source": [
    "# Convert a list into an array\n",
    "a = [5,6,7]\n",
    "\n",
    "np.asarray(a)"
   ]
  },
  {
   "cell_type": "code",
   "execution_count": 127,
   "metadata": {},
   "outputs": [
    {
     "data": {
      "text/plain": [
       "array([5, 6, 7])"
      ]
     },
     "execution_count": 127,
     "metadata": {},
     "output_type": "execute_result"
    }
   ],
   "source": [
    "# Convert a list into an array\n",
    "a = [5,6,7]\n",
    "\n",
    "np.array(a)"
   ]
  },
  {
   "cell_type": "code",
   "execution_count": null,
   "metadata": {},
   "outputs": [],
   "source": []
  },
  {
   "cell_type": "code",
   "execution_count": null,
   "metadata": {
    "colab": {},
    "colab_type": "code",
    "id": "Ea1KU7i812av",
    "outputId": "a68308e3-0d6f-428e-b7af-2765d4e0dc74"
   },
   "outputs": [],
   "source": [
    "np.asarray(a) is a # a is a list not an array that's why it is false"
   ]
  },
  {
   "cell_type": "code",
   "execution_count": null,
   "metadata": {
    "colab": {},
    "colab_type": "code",
    "id": "lHSEUlvK12a0",
    "outputId": "05cde5c8-0ae0-4ff9-b869-4eb2099a3e5d"
   },
   "outputs": [],
   "source": [
    "b = np.array(a)\n",
    "b "
   ]
  },
  {
   "cell_type": "code",
   "execution_count": null,
   "metadata": {
    "colab": {},
    "colab_type": "code",
    "id": "OCyKF-7C12a6",
    "outputId": "44edd094-0274-4ed1-d255-ca7c43fe36dd"
   },
   "outputs": [],
   "source": [
    "np.asarray(b) is b # 'is' operator going to check the instance of both object is same or not"
   ]
  },
  {
   "cell_type": "code",
   "execution_count": null,
   "metadata": {
    "colab": {},
    "colab_type": "code",
    "id": "ZpaCPh9012bF",
    "outputId": "28087049-a687-4fbd-a54a-09aefb270ac7"
   },
   "outputs": [],
   "source": [
    "np.asarray(b) is np.array(a)"
   ]
  }
 ],
 "metadata": {
  "colab": {
   "name": "01-NumPy Arrays.ipynb",
   "provenance": []
  },
  "kernelspec": {
   "display_name": "Python 3 (ipykernel)",
   "language": "python",
   "name": "python3"
  },
  "language_info": {
   "codemirror_mode": {
    "name": "ipython",
    "version": 3
   },
   "file_extension": ".py",
   "mimetype": "text/x-python",
   "name": "python",
   "nbconvert_exporter": "python",
   "pygments_lexer": "ipython3",
   "version": "3.9.7"
  }
 },
 "nbformat": 4,
 "nbformat_minor": 1
}
