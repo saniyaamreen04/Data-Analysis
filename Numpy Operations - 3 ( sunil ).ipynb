{
 "cells": [
  {
   "cell_type": "markdown",
   "metadata": {
    "colab_type": "text",
    "id": "ZqqhZlc94pWe"
   },
   "source": [
    "## COPYING/SORTING/RESHAPING"
   ]
  },
  {
   "cell_type": "code",
   "execution_count": 1,
   "metadata": {
    "colab": {},
    "colab_type": "code",
    "id": "ILFojN-14pWj"
   },
   "outputs": [],
   "source": [
    "import numpy as np"
   ]
  },
  {
   "cell_type": "code",
   "execution_count": 3,
   "metadata": {
    "colab": {},
    "colab_type": "code",
    "id": "C5xsNzjO4pWr",
    "outputId": "e7fdd9ac-cf77-4b5c-f32d-4353dea2acb8"
   },
   "outputs": [
    {
     "data": {
      "text/plain": [
       "array([17, 19, 19,  3,  3, 19,  3, 14, 12, 17, 16, 13,  6,  2, 10])"
      ]
     },
     "execution_count": 3,
     "metadata": {},
     "output_type": "execute_result"
    }
   ],
   "source": [
    "array = np.random.randint(1,20,15)\n",
    "array"
   ]
  },
  {
   "cell_type": "code",
   "execution_count": 4,
   "metadata": {
    "colab": {},
    "colab_type": "code",
    "id": "vQN1MLM04pW0",
    "outputId": "8a275a85-1873-4cd3-e6b1-e45c133ed0c8"
   },
   "outputs": [
    {
     "data": {
      "text/plain": [
       "array([[19,  5,  8,  5],\n",
       "       [16,  6,  3, 11]])"
      ]
     },
     "execution_count": 4,
     "metadata": {},
     "output_type": "execute_result"
    }
   ],
   "source": [
    "a = np.random.randint(1,20,(2,4))\n",
    "a"
   ]
  },
  {
   "cell_type": "markdown",
   "metadata": {
    "colab_type": "text",
    "id": "fjAYAncs4pXD"
   },
   "source": [
    "### Copy\n",
    "\n",
    "Return an array copy of the given object.\n"
   ]
  },
  {
   "cell_type": "code",
   "execution_count": 6,
   "metadata": {
    "colab": {},
    "colab_type": "code",
    "id": "9hysHhcr4pXE",
    "outputId": "157a4c08-b00b-488c-93b2-a37da502cff0"
   },
   "outputs": [
    {
     "data": {
      "text/plain": [
       "array([17, 19, 19,  3,  3, 19,  3, 14, 12, 17, 16, 13,  6,  2, 10])"
      ]
     },
     "execution_count": 6,
     "metadata": {},
     "output_type": "execute_result"
    }
   ],
   "source": [
    "array"
   ]
  },
  {
   "cell_type": "code",
   "execution_count": 7,
   "metadata": {
    "colab": {},
    "colab_type": "code",
    "id": "kRK_1ebA4pXN",
    "outputId": "dfb39f5e-1e59-4fdb-b3fd-562e2b7221a6"
   },
   "outputs": [
    {
     "data": {
      "text/plain": [
       "array([17, 19, 19,  3,  3, 19,  3, 14, 12, 17, 16, 13,  6,  2, 10])"
      ]
     },
     "execution_count": 7,
     "metadata": {},
     "output_type": "execute_result"
    }
   ],
   "source": [
    "array1 = array\n",
    "array1"
   ]
  },
  {
   "cell_type": "code",
   "execution_count": 8,
   "metadata": {
    "colab": {},
    "colab_type": "code",
    "id": "PTp9QkM04pXU"
   },
   "outputs": [
    {
     "data": {
      "text/plain": [
       "array([17, 19, 19,  3,  3, 19,  3, 14, 12, 17, 16, 13,  6,  2, 10])"
      ]
     },
     "execution_count": 8,
     "metadata": {},
     "output_type": "execute_result"
    }
   ],
   "source": [
    "array1 = np.copy(array)\n",
    "array1"
   ]
  },
  {
   "cell_type": "markdown",
   "metadata": {
    "colab_type": "text",
    "id": "x4aqU-Sn4pXa"
   },
   "source": [
    "### Sort\n",
    "\n",
    "Return a sorted copy of an array."
   ]
  },
  {
   "cell_type": "code",
   "execution_count": 10,
   "metadata": {
    "colab": {},
    "colab_type": "code",
    "id": "7NAURRgx4pXc",
    "outputId": "e988e0fa-9ed2-4718-bc39-c7724366abe4"
   },
   "outputs": [
    {
     "data": {
      "text/plain": [
       "array([ 2,  3,  3,  3,  6, 10, 12, 13, 14, 16, 17, 17, 19, 19, 19])"
      ]
     },
     "execution_count": 10,
     "metadata": {},
     "output_type": "execute_result"
    }
   ],
   "source": [
    "np.sort(array)"
   ]
  },
  {
   "cell_type": "code",
   "execution_count": 11,
   "metadata": {
    "colab": {},
    "colab_type": "code",
    "id": "BgvD8Fjd4pXi"
   },
   "outputs": [],
   "source": [
    "array.sort()"
   ]
  },
  {
   "cell_type": "code",
   "execution_count": 12,
   "metadata": {
    "colab": {},
    "colab_type": "code",
    "id": "ga8S-l1t4pXo"
   },
   "outputs": [
    {
     "data": {
      "text/plain": [
       "array([ 2,  3,  3,  3,  6, 10, 12, 13, 14, 16, 17, 17, 19, 19, 19])"
      ]
     },
     "execution_count": 12,
     "metadata": {},
     "output_type": "execute_result"
    }
   ],
   "source": [
    "array"
   ]
  },
  {
   "cell_type": "markdown",
   "metadata": {
    "colab_type": "text",
    "id": "-cHxK_iG4pXv"
   },
   "source": [
    "### Transpose\n",
    "\n",
    "Transposes arr (rows become columns and\n",
    "vice versa"
   ]
  },
  {
   "cell_type": "code",
   "execution_count": 13,
   "metadata": {
    "colab": {},
    "colab_type": "code",
    "id": "F1R3fTgL4pXx",
    "outputId": "dff10dad-62d8-490d-e711-0722f634b6bd"
   },
   "outputs": [
    {
     "data": {
      "text/plain": [
       "array([[14,  8, 14],\n",
       "       [12,  1, 13],\n",
       "       [11, 11, 10],\n",
       "       [ 8,  4,  9],\n",
       "       [12, 11,  4]])"
      ]
     },
     "execution_count": 13,
     "metadata": {},
     "output_type": "execute_result"
    }
   ],
   "source": [
    "matrix = np.random.randint(0,15,(5,3))\n",
    "matrix"
   ]
  },
  {
   "cell_type": "code",
   "execution_count": 14,
   "metadata": {
    "colab": {},
    "colab_type": "code",
    "id": "saeeB-Je4pX2",
    "outputId": "70ced594-c134-4fba-a239-94bf54a6b280"
   },
   "outputs": [
    {
     "data": {
      "text/plain": [
       "array([[14, 12, 11,  8, 12],\n",
       "       [ 8,  1, 11,  4, 11],\n",
       "       [14, 13, 10,  9,  4]])"
      ]
     },
     "execution_count": 14,
     "metadata": {},
     "output_type": "execute_result"
    }
   ],
   "source": [
    "matrix.T"
   ]
  },
  {
   "cell_type": "markdown",
   "metadata": {
    "colab_type": "text",
    "id": "rNp6Ii9W4pX9"
   },
   "source": [
    "### Reshape\n",
    "\n",
    "Returns an array containing the same data with a new shape."
   ]
  },
  {
   "cell_type": "code",
   "execution_count": null,
   "metadata": {
    "colab": {},
    "colab_type": "code",
    "id": "ZM3ErOeg4pX-",
    "outputId": "a04b2289-dec9-4129-b62e-fb54367ebb5e"
   },
   "outputs": [],
   "source": [
    "array"
   ]
  },
  {
   "cell_type": "code",
   "execution_count": null,
   "metadata": {
    "colab": {},
    "colab_type": "code",
    "id": "z07gQjZW4pYE",
    "outputId": "65ae125a-e5f5-489d-f32e-419e55259367"
   },
   "outputs": [],
   "source": [
    "array.ndim"
   ]
  },
  {
   "cell_type": "code",
   "execution_count": null,
   "metadata": {
    "colab": {},
    "colab_type": "code",
    "id": "oU9HrhrR4pYO",
    "outputId": "c2ec7efc-397d-4412-8d31-5b02e6053119"
   },
   "outputs": [],
   "source": [
    "array.reshape((3,5))"
   ]
  },
  {
   "cell_type": "code",
   "execution_count": null,
   "metadata": {
    "colab": {},
    "colab_type": "code",
    "id": "E8IqLcua4pYU",
    "outputId": "6ffbe2a7-1797-4511-e571-b3d4110a43db"
   },
   "outputs": [],
   "source": [
    "array.reshape((5,3))"
   ]
  },
  {
   "cell_type": "markdown",
   "metadata": {
    "colab_type": "text",
    "id": "h2x01w1N4pYZ"
   },
   "source": [
    "## ADDING/REMOVING ELEMENTS"
   ]
  },
  {
   "cell_type": "markdown",
   "metadata": {
    "colab_type": "text",
    "id": "O0QHpAZZ4pYb"
   },
   "source": [
    "### append\n",
    "\n",
    "Append values to the end of an array."
   ]
  },
  {
   "cell_type": "code",
   "execution_count": 29,
   "metadata": {
    "colab": {},
    "colab_type": "code",
    "id": "ghTfW6zJ4pYd",
    "outputId": "ea149070-b148-4959-d1fb-74559abc2007"
   },
   "outputs": [
    {
     "data": {
      "text/plain": [
       "array([ 2,  3,  3,  3,  6, 10, 12, 13, 14, 16, 17, 17, 19, 19, 19])"
      ]
     },
     "execution_count": 29,
     "metadata": {},
     "output_type": "execute_result"
    }
   ],
   "source": [
    "array"
   ]
  },
  {
   "cell_type": "code",
   "execution_count": 34,
   "metadata": {
    "colab": {},
    "colab_type": "code",
    "id": "oru05WJX4pYi",
    "outputId": "95e77fc6-0af6-45f7-c2e7-bd2b70aa69c6"
   },
   "outputs": [],
   "source": [
    "array = np.append(array,20)"
   ]
  },
  {
   "cell_type": "code",
   "execution_count": 35,
   "metadata": {},
   "outputs": [
    {
     "data": {
      "text/plain": [
       "array([ 2,  3,  3,  3,  6, 10, 12, 13, 14, 16, 17, 17, 19, 19, 19, 20])"
      ]
     },
     "execution_count": 35,
     "metadata": {},
     "output_type": "execute_result"
    }
   ],
   "source": [
    "array"
   ]
  },
  {
   "cell_type": "markdown",
   "metadata": {
    "colab_type": "text",
    "id": "mhVaBn5T4pYn"
   },
   "source": [
    "### Insert\n",
    "\n",
    "Insert values along the given axis before the given indices."
   ]
  },
  {
   "cell_type": "code",
   "execution_count": 45,
   "metadata": {
    "colab": {},
    "colab_type": "code",
    "id": "Oyp7ZAsO4pYp",
    "outputId": "c04b6d5f-dfa2-4167-a78b-f72cc5b4cd3a"
   },
   "outputs": [],
   "source": [
    "array = np.insert(array,2,[25,34,56])"
   ]
  },
  {
   "cell_type": "code",
   "execution_count": 46,
   "metadata": {},
   "outputs": [
    {
     "data": {
      "text/plain": [
       "array([ 2,  3, 25, 34, 56, 25,  3,  3,  6, 10, 12, 13, 14, 16, 17, 17, 19,\n",
       "       19, 19, 20])"
      ]
     },
     "execution_count": 46,
     "metadata": {},
     "output_type": "execute_result"
    }
   ],
   "source": [
    "array"
   ]
  },
  {
   "cell_type": "markdown",
   "metadata": {
    "colab_type": "text",
    "id": "L6fJU2wO4pYw"
   },
   "source": [
    "### Delete\n",
    "\n",
    "Return a new array with sub-arrays along an axis deleted."
   ]
  },
  {
   "cell_type": "code",
   "execution_count": 47,
   "metadata": {},
   "outputs": [
    {
     "data": {
      "text/plain": [
       "array([ 2,  3, 25, 34, 56, 25,  3,  3,  6, 10, 12, 13, 14, 16, 17, 17, 19,\n",
       "       19, 19, 20])"
      ]
     },
     "execution_count": 47,
     "metadata": {},
     "output_type": "execute_result"
    }
   ],
   "source": [
    "array"
   ]
  },
  {
   "cell_type": "code",
   "execution_count": null,
   "metadata": {},
   "outputs": [],
   "source": [
    "np.delete(array,2)"
   ]
  },
  {
   "cell_type": "code",
   "execution_count": 48,
   "metadata": {
    "colab": {},
    "colab_type": "code",
    "id": "pKWYp8pp4pYy",
    "outputId": "a000de7d-05fe-44d0-ffb1-2a0b078452fe"
   },
   "outputs": [
    {
     "data": {
      "text/plain": [
       "array([ 2, 34, 56,  3,  3,  6, 10, 12, 13, 14, 16, 17, 17, 19, 19, 19, 20])"
      ]
     },
     "execution_count": 48,
     "metadata": {},
     "output_type": "execute_result"
    }
   ],
   "source": [
    "np.delete(array,[2,5,1])"
   ]
  },
  {
   "cell_type": "code",
   "execution_count": null,
   "metadata": {},
   "outputs": [],
   "source": []
  },
  {
   "cell_type": "code",
   "execution_count": 49,
   "metadata": {
    "colab": {},
    "colab_type": "code",
    "id": "iqm28Q9R4pY3",
    "outputId": "ea358366-0734-455f-9d9c-36b84974e4c7",
    "scrolled": true
   },
   "outputs": [
    {
     "data": {
      "text/plain": [
       "array([[14,  8, 14],\n",
       "       [12,  1, 13],\n",
       "       [11, 11, 10],\n",
       "       [ 8,  4,  9],\n",
       "       [12, 11,  4]])"
      ]
     },
     "execution_count": 49,
     "metadata": {},
     "output_type": "execute_result"
    }
   ],
   "source": [
    "matrix"
   ]
  },
  {
   "cell_type": "code",
   "execution_count": 51,
   "metadata": {
    "colab": {},
    "colab_type": "code",
    "id": "fB8Mu5674pY-",
    "outputId": "4107f115-49ca-4ec5-b92c-bb90c7b65d10"
   },
   "outputs": [
    {
     "data": {
      "text/plain": [
       "array([[14,  8],\n",
       "       [12,  1],\n",
       "       [11, 11],\n",
       "       [ 8,  4],\n",
       "       [12, 11]])"
      ]
     },
     "execution_count": 51,
     "metadata": {},
     "output_type": "execute_result"
    }
   ],
   "source": [
    "np.delete(matrix,2,axis=1) # Deletes row on index 3 of arr"
   ]
  },
  {
   "cell_type": "code",
   "execution_count": 52,
   "metadata": {},
   "outputs": [
    {
     "data": {
      "text/plain": [
       "array([[14,  8, 14],\n",
       "       [12,  1, 13],\n",
       "       [11, 11, 10],\n",
       "       [ 8,  4,  9],\n",
       "       [12, 11,  4]])"
      ]
     },
     "execution_count": 52,
     "metadata": {},
     "output_type": "execute_result"
    }
   ],
   "source": [
    "matrix"
   ]
  },
  {
   "cell_type": "code",
   "execution_count": 53,
   "metadata": {
    "colab": {},
    "colab_type": "code",
    "id": "a0muiZIz4pZD",
    "outputId": "c032f98b-0bf8-4793-e516-5ccbf1866253"
   },
   "outputs": [
    {
     "data": {
      "text/plain": [
       "array([[14,  8],\n",
       "       [12,  1],\n",
       "       [11, 11],\n",
       "       [ 8,  4],\n",
       "       [12, 11]])"
      ]
     },
     "execution_count": 53,
     "metadata": {},
     "output_type": "execute_result"
    }
   ],
   "source": [
    "np.delete(matrix,2,axis=1) # Deletes column on index 4 of arr"
   ]
  },
  {
   "cell_type": "markdown",
   "metadata": {
    "colab_type": "text",
    "id": "QikOLb2b4pZK"
   },
   "source": [
    "## Concatenate and Splitting"
   ]
  },
  {
   "cell_type": "code",
   "execution_count": 54,
   "metadata": {
    "colab": {},
    "colab_type": "code",
    "id": "TEggbHxu4pZN"
   },
   "outputs": [],
   "source": [
    "arr1 = np.array([[5,6,9]])\n",
    "arr2 = np.array([[1,2,3]])"
   ]
  },
  {
   "cell_type": "markdown",
   "metadata": {
    "colab_type": "text",
    "id": "jUZA1mzG4pZS"
   },
   "source": [
    "### Concatenate\n",
    "\n",
    "Join a sequence of arrays along an existing axis."
   ]
  },
  {
   "cell_type": "code",
   "execution_count": 56,
   "metadata": {
    "colab": {},
    "colab_type": "code",
    "id": "3RqjksRF4pZT",
    "outputId": "bae58e80-33e6-46f8-969d-249c079d0b0c"
   },
   "outputs": [
    {
     "data": {
      "text/plain": [
       "array([[5, 6, 9],\n",
       "       [1, 2, 3]])"
      ]
     },
     "execution_count": 56,
     "metadata": {},
     "output_type": "execute_result"
    }
   ],
   "source": [
    "np.concatenate((arr1,arr2),axis=0) # Adds arr2 as rows to the end of arr1"
   ]
  },
  {
   "cell_type": "code",
   "execution_count": 57,
   "metadata": {},
   "outputs": [
    {
     "data": {
      "text/plain": [
       "array([[5, 6, 9, 1, 2, 3]])"
      ]
     },
     "execution_count": 57,
     "metadata": {},
     "output_type": "execute_result"
    }
   ],
   "source": [
    "np.concatenate((arr1,arr2),axis=1) # Adds arr2 as rows to the end of arr1"
   ]
  },
  {
   "cell_type": "code",
   "execution_count": 58,
   "metadata": {
    "colab": {},
    "colab_type": "code",
    "id": "zTT0qJHm4pZZ",
    "outputId": "55df524e-1bbd-4512-d5ea-6572a2bedf3c"
   },
   "outputs": [
    {
     "data": {
      "text/plain": [
       "array([[1, 1],\n",
       "       [1, 2]])"
      ]
     },
     "execution_count": 58,
     "metadata": {},
     "output_type": "execute_result"
    }
   ],
   "source": [
    "arr1 = np.random.randint(1,4,(2,2))\n",
    "arr1"
   ]
  },
  {
   "cell_type": "code",
   "execution_count": 59,
   "metadata": {
    "colab": {},
    "colab_type": "code",
    "id": "6jCkH1yb4pZj",
    "outputId": "c5c03afb-5a3d-4b84-bd1a-19efc4eb835b"
   },
   "outputs": [
    {
     "data": {
      "text/plain": [
       "array([[3, 1],\n",
       "       [2, 1]])"
      ]
     },
     "execution_count": 59,
     "metadata": {},
     "output_type": "execute_result"
    }
   ],
   "source": [
    "arr2 = np.random.randint(1,4,(2,2))\n",
    "arr2"
   ]
  },
  {
   "cell_type": "code",
   "execution_count": 60,
   "metadata": {
    "colab": {},
    "colab_type": "code",
    "id": "VPCV4Aq94pZp",
    "outputId": "e664ff14-ad34-459a-e8d1-4addbcf867e0"
   },
   "outputs": [
    {
     "data": {
      "text/plain": [
       "array([[1, 1],\n",
       "       [1, 2],\n",
       "       [3, 1],\n",
       "       [2, 1]])"
      ]
     },
     "execution_count": 60,
     "metadata": {},
     "output_type": "execute_result"
    }
   ],
   "source": [
    "np.concatenate((arr1,arr2),axis=0) # Adds arr2 as columns to end of arr1"
   ]
  },
  {
   "cell_type": "code",
   "execution_count": 61,
   "metadata": {},
   "outputs": [
    {
     "data": {
      "text/plain": [
       "array([[1, 1, 3, 1],\n",
       "       [1, 2, 2, 1]])"
      ]
     },
     "execution_count": 61,
     "metadata": {},
     "output_type": "execute_result"
    }
   ],
   "source": [
    "np.concatenate((arr1,arr2),axis=1) # Adds arr2 as columns to end of arr1"
   ]
  },
  {
   "cell_type": "markdown",
   "metadata": {
    "colab_type": "text",
    "id": "OwssHUTM4pZu"
   },
   "source": [
    "### Split"
   ]
  },
  {
   "cell_type": "code",
   "execution_count": 62,
   "metadata": {
    "colab": {},
    "colab_type": "code",
    "id": "acBzxbW14pZz",
    "outputId": "db8eeb74-7513-4441-f7a6-58bfcee026c6"
   },
   "outputs": [
    {
     "data": {
      "text/plain": [
       "array([[14,  8, 14],\n",
       "       [12,  1, 13],\n",
       "       [11, 11, 10],\n",
       "       [ 8,  4,  9],\n",
       "       [12, 11,  4]])"
      ]
     },
     "execution_count": 62,
     "metadata": {},
     "output_type": "execute_result"
    }
   ],
   "source": [
    "matrix"
   ]
  },
  {
   "cell_type": "code",
   "execution_count": 67,
   "metadata": {
    "colab": {},
    "colab_type": "code",
    "id": "10VhsUPO4pZ4",
    "outputId": "a808e4cd-acf4-4bb6-a990-ffdaec6d22ab"
   },
   "outputs": [
    {
     "data": {
      "text/plain": [
       "[array([[14,  8, 14]]),\n",
       " array([[12,  1, 13]]),\n",
       " array([[11, 11, 10]]),\n",
       " array([[8, 4, 9]]),\n",
       " array([[12, 11,  4]])]"
      ]
     },
     "execution_count": 67,
     "metadata": {},
     "output_type": "execute_result"
    }
   ],
   "source": [
    "np.split(matrix,5,axis=0)"
   ]
  },
  {
   "cell_type": "code",
   "execution_count": 65,
   "metadata": {},
   "outputs": [
    {
     "data": {
      "text/plain": [
       "[array([[14],\n",
       "        [12],\n",
       "        [11],\n",
       "        [ 8],\n",
       "        [12]]),\n",
       " array([[ 8],\n",
       "        [ 1],\n",
       "        [11],\n",
       "        [ 4],\n",
       "        [11]]),\n",
       " array([[14],\n",
       "        [13],\n",
       "        [10],\n",
       "        [ 9],\n",
       "        [ 4]])]"
      ]
     },
     "execution_count": 65,
     "metadata": {},
     "output_type": "execute_result"
    }
   ],
   "source": [
    "np.split(matrix,3,axis=1)"
   ]
  },
  {
   "cell_type": "markdown",
   "metadata": {
    "colab_type": "text",
    "id": "2rwblJHz4pZ8"
   },
   "source": [
    "## SCALAR MATH"
   ]
  },
  {
   "cell_type": "code",
   "execution_count": 68,
   "metadata": {
    "colab": {},
    "colab_type": "code",
    "id": "ll19Nl214pZ-",
    "outputId": "2f739f72-8a87-43b4-cd0e-c3bf7cfdae3d"
   },
   "outputs": [
    {
     "data": {
      "text/plain": [
       "array([ 2,  3, 25, 34, 56, 25,  3,  3,  6, 10, 12, 13, 14, 16, 17, 17, 19,\n",
       "       19, 19, 20])"
      ]
     },
     "execution_count": 68,
     "metadata": {},
     "output_type": "execute_result"
    }
   ],
   "source": [
    "array"
   ]
  },
  {
   "cell_type": "markdown",
   "metadata": {
    "colab_type": "text",
    "id": "rRRe4xK64paG"
   },
   "source": [
    "### add\n",
    "\n",
    "Add arguments element-wise."
   ]
  },
  {
   "cell_type": "code",
   "execution_count": 69,
   "metadata": {
    "colab": {},
    "colab_type": "code",
    "id": "_ovHF4T-4paJ",
    "outputId": "9b268ce8-66ca-4526-912c-39642d863b81"
   },
   "outputs": [
    {
     "data": {
      "text/plain": [
       "array([ 4,  5, 27, 36, 58, 27,  5,  5,  8, 12, 14, 15, 16, 18, 19, 19, 21,\n",
       "       21, 21, 22])"
      ]
     },
     "execution_count": 69,
     "metadata": {},
     "output_type": "execute_result"
    }
   ],
   "source": [
    "np.add(array,2)\n",
    "#array + 2"
   ]
  },
  {
   "cell_type": "markdown",
   "metadata": {
    "colab_type": "text",
    "id": "084ENXwu4paX"
   },
   "source": [
    "### Substract\n",
    "\n",
    "Subtract arguments, element-wise."
   ]
  },
  {
   "cell_type": "code",
   "execution_count": 71,
   "metadata": {
    "colab": {},
    "colab_type": "code",
    "id": "HhlgTXPI4paY",
    "outputId": "f15b4bc3-24d0-4a16-a3f7-cf7551476d2a"
   },
   "outputs": [
    {
     "data": {
      "text/plain": [
       "array([-1,  0, 22, 31, 53, 22,  0,  0,  3,  7,  9, 10, 11, 13, 14, 14, 16,\n",
       "       16, 16, 17])"
      ]
     },
     "execution_count": 71,
     "metadata": {},
     "output_type": "execute_result"
    }
   ],
   "source": [
    "np.subtract(array,3)"
   ]
  },
  {
   "cell_type": "markdown",
   "metadata": {
    "colab_type": "text",
    "id": "Ecic1CHT4pae"
   },
   "source": [
    "### Multiply\n",
    "\n",
    "Multiply arguments element-wise."
   ]
  },
  {
   "cell_type": "code",
   "execution_count": 72,
   "metadata": {
    "colab": {},
    "colab_type": "code",
    "id": "w6-78X_Y4pag",
    "outputId": "856eb17d-2654-49c6-ec63-a5966d88fb42"
   },
   "outputs": [
    {
     "data": {
      "text/plain": [
       "array([  4,   6,  50,  68, 112,  50,   6,   6,  12,  20,  24,  26,  28,\n",
       "        32,  34,  34,  38,  38,  38,  40])"
      ]
     },
     "execution_count": 72,
     "metadata": {},
     "output_type": "execute_result"
    }
   ],
   "source": [
    "np.multiply(array,2)"
   ]
  },
  {
   "cell_type": "markdown",
   "metadata": {
    "colab_type": "text",
    "id": "5udarmOG4pal"
   },
   "source": [
    "### Divide\n",
    "\n",
    "Returns a true division of the inputs, element-wise."
   ]
  },
  {
   "cell_type": "code",
   "execution_count": 73,
   "metadata": {
    "colab": {},
    "colab_type": "code",
    "id": "TJD12L0n4pam",
    "outputId": "80101b94-f36c-442e-9c8d-3a99ea533e8a"
   },
   "outputs": [
    {
     "data": {
      "text/plain": [
       "array([ 2,  3, 25, 34, 56, 25,  3,  3,  6, 10, 12, 13, 14, 16, 17, 17, 19,\n",
       "       19, 19, 20])"
      ]
     },
     "execution_count": 73,
     "metadata": {},
     "output_type": "execute_result"
    }
   ],
   "source": [
    "array"
   ]
  },
  {
   "cell_type": "code",
   "execution_count": 74,
   "metadata": {
    "colab": {},
    "colab_type": "code",
    "id": "jDdD9NDZ4par",
    "outputId": "62fbeac4-0e38-42f2-edf8-56b770e43835"
   },
   "outputs": [
    {
     "data": {
      "text/plain": [
       "array([ 1. ,  1.5, 12.5, 17. , 28. , 12.5,  1.5,  1.5,  3. ,  5. ,  6. ,\n",
       "        6.5,  7. ,  8. ,  8.5,  8.5,  9.5,  9.5,  9.5, 10. ])"
      ]
     },
     "execution_count": 74,
     "metadata": {},
     "output_type": "execute_result"
    }
   ],
   "source": [
    "np.divide(array,2)"
   ]
  },
  {
   "cell_type": "markdown",
   "metadata": {
    "colab_type": "text",
    "id": "hvaWoZmN4pa1"
   },
   "source": [
    "### Power\n",
    "\n",
    "First array elements raised to powers from second array, element-wise."
   ]
  },
  {
   "cell_type": "code",
   "execution_count": null,
   "metadata": {
    "colab": {},
    "colab_type": "code",
    "id": "TaxyeM3j4pa5",
    "outputId": "ee902ee5-cac0-4454-c137-c7718be4aebe"
   },
   "outputs": [],
   "source": [
    "array"
   ]
  },
  {
   "cell_type": "code",
   "execution_count": 78,
   "metadata": {
    "colab": {},
    "colab_type": "code",
    "id": "yqA31Qt94pbC",
    "outputId": "c3baad84-9af2-4b7e-b209-9d86329d15f5"
   },
   "outputs": [
    {
     "data": {
      "text/plain": [
       "array([   4,    9,  625, 1156, 3136,  625,    9,    9,   36,  100,  144,\n",
       "        169,  196,  256,  289,  289,  361,  361,  361,  400], dtype=int32)"
      ]
     },
     "execution_count": 78,
     "metadata": {},
     "output_type": "execute_result"
    }
   ],
   "source": [
    "np.power(array,2)"
   ]
  },
  {
   "cell_type": "markdown",
   "metadata": {
    "colab_type": "text",
    "id": "1twp3S9C4pbG"
   },
   "source": [
    "## VECTOR MATH\n"
   ]
  },
  {
   "cell_type": "code",
   "execution_count": 79,
   "metadata": {
    "colab": {},
    "colab_type": "code",
    "id": "FsgnWC7b4pbH",
    "outputId": "ecfc8b60-51ca-4114-a62d-c89f41bd2720"
   },
   "outputs": [
    {
     "data": {
      "text/plain": [
       "array([[1, 1],\n",
       "       [1, 2]])"
      ]
     },
     "execution_count": 79,
     "metadata": {},
     "output_type": "execute_result"
    }
   ],
   "source": [
    "arr1"
   ]
  },
  {
   "cell_type": "code",
   "execution_count": 80,
   "metadata": {
    "colab": {},
    "colab_type": "code",
    "id": "0WFoobso4pbN",
    "outputId": "ebb03cac-7b28-4afa-eccd-49fb7dabc15d"
   },
   "outputs": [
    {
     "data": {
      "text/plain": [
       "array([[3, 1],\n",
       "       [2, 1]])"
      ]
     },
     "execution_count": 80,
     "metadata": {},
     "output_type": "execute_result"
    }
   ],
   "source": [
    "arr2"
   ]
  },
  {
   "cell_type": "code",
   "execution_count": 81,
   "metadata": {
    "colab": {},
    "colab_type": "code",
    "id": "DSfFDs9x4pbT",
    "outputId": "1cf4f6f9-55c0-4b53-eef7-2796aeef907c"
   },
   "outputs": [
    {
     "data": {
      "text/plain": [
       "array([[4, 2],\n",
       "       [3, 3]])"
      ]
     },
     "execution_count": 81,
     "metadata": {},
     "output_type": "execute_result"
    }
   ],
   "source": [
    "np.add(arr1,arr2)"
   ]
  },
  {
   "cell_type": "code",
   "execution_count": 82,
   "metadata": {
    "colab": {},
    "colab_type": "code",
    "id": "xGg7g_zM4pba",
    "outputId": "91d7f5de-f9e6-4679-e089-240a867cdba1"
   },
   "outputs": [
    {
     "data": {
      "text/plain": [
       "array([[4, 2],\n",
       "       [3, 3]])"
      ]
     },
     "execution_count": 82,
     "metadata": {},
     "output_type": "execute_result"
    }
   ],
   "source": [
    "arr1 + arr2"
   ]
  },
  {
   "cell_type": "code",
   "execution_count": 83,
   "metadata": {
    "colab": {},
    "colab_type": "code",
    "id": "jPdbIAWM4pbh",
    "outputId": "a984b806-5b07-4cce-e6ed-389c40e1ecb9"
   },
   "outputs": [
    {
     "data": {
      "text/plain": [
       "array([[-2,  0],\n",
       "       [-1,  1]])"
      ]
     },
     "execution_count": 83,
     "metadata": {},
     "output_type": "execute_result"
    }
   ],
   "source": [
    "np.subtract(arr1,arr2)"
   ]
  },
  {
   "cell_type": "code",
   "execution_count": 84,
   "metadata": {
    "colab": {},
    "colab_type": "code",
    "id": "vyuLPwva4pbq",
    "outputId": "e2082681-34a1-43cd-8c1e-65e52b30a0a7"
   },
   "outputs": [
    {
     "data": {
      "text/plain": [
       "array([[3, 1],\n",
       "       [2, 2]])"
      ]
     },
     "execution_count": 84,
     "metadata": {},
     "output_type": "execute_result"
    }
   ],
   "source": [
    "np.multiply(arr1,arr2)"
   ]
  },
  {
   "cell_type": "code",
   "execution_count": 85,
   "metadata": {
    "colab": {},
    "colab_type": "code",
    "id": "lZeTitx-4pbt",
    "outputId": "20a81972-1168-48e1-c7cd-6f3b2f068a2d"
   },
   "outputs": [
    {
     "data": {
      "text/plain": [
       "array([[0.33333333, 1.        ],\n",
       "       [0.5       , 2.        ]])"
      ]
     },
     "execution_count": 85,
     "metadata": {},
     "output_type": "execute_result"
    }
   ],
   "source": [
    "np.divide(arr1,arr2)"
   ]
  },
  {
   "cell_type": "code",
   "execution_count": 87,
   "metadata": {
    "colab": {},
    "colab_type": "code",
    "id": "4q63B7xZ4pb2",
    "outputId": "e0ee8373-6a73-4ad2-f723-d53b25972d80"
   },
   "outputs": [
    {
     "name": "stdout",
     "output_type": "stream",
     "text": [
      "[[1 1]\n",
      " [1 2]]\n",
      "[[3 1]\n",
      " [2 1]]\n"
     ]
    }
   ],
   "source": [
    "print(arr1)\n",
    "print(arr2)"
   ]
  },
  {
   "cell_type": "code",
   "execution_count": 88,
   "metadata": {
    "colab": {},
    "colab_type": "code",
    "id": "MXvMU4uQ4pcB",
    "outputId": "13965593-a07c-4662-b80d-05524ca0939c"
   },
   "outputs": [
    {
     "data": {
      "text/plain": [
       "array([[1, 1],\n",
       "       [1, 2]], dtype=int32)"
      ]
     },
     "execution_count": 88,
     "metadata": {},
     "output_type": "execute_result"
    }
   ],
   "source": [
    "np.power(arr1,arr2)"
   ]
  },
  {
   "cell_type": "code",
   "execution_count": 89,
   "metadata": {
    "colab": {},
    "colab_type": "code",
    "id": "3rIczB0G4pcH",
    "outputId": "e6eac1b8-5fd8-4097-d5c8-aa3df8097827"
   },
   "outputs": [
    {
     "data": {
      "text/plain": [
       "array([[1.        , 1.        ],\n",
       "       [1.        , 1.41421356]])"
      ]
     },
     "execution_count": 89,
     "metadata": {},
     "output_type": "execute_result"
    }
   ],
   "source": [
    "np.sqrt(arr1)"
   ]
  },
  {
   "cell_type": "code",
   "execution_count": 90,
   "metadata": {
    "colab": {},
    "colab_type": "code",
    "id": "MkynPxWO4pcK",
    "outputId": "1a1cd646-4f4c-4d9d-d498-0d4f5ce96c68"
   },
   "outputs": [
    {
     "data": {
      "text/plain": [
       "array([[0.84147098, 0.84147098],\n",
       "       [0.84147098, 0.90929743]])"
      ]
     },
     "execution_count": 90,
     "metadata": {},
     "output_type": "execute_result"
    }
   ],
   "source": [
    "np.sin(arr1)"
   ]
  },
  {
   "cell_type": "code",
   "execution_count": 91,
   "metadata": {
    "colab": {},
    "colab_type": "code",
    "id": "bxcfJPA74pcO",
    "outputId": "b061e751-f91f-4b69-a73a-d7243e928e15"
   },
   "outputs": [
    {
     "data": {
      "text/plain": [
       "array([[ 0.54030231,  0.54030231],\n",
       "       [ 0.54030231, -0.41614684]])"
      ]
     },
     "execution_count": 91,
     "metadata": {},
     "output_type": "execute_result"
    }
   ],
   "source": [
    "np.cos(arr1)"
   ]
  },
  {
   "cell_type": "code",
   "execution_count": 92,
   "metadata": {
    "colab": {},
    "colab_type": "code",
    "id": "fkTBwDyZ4pcS",
    "outputId": "ef7db6d8-347c-406c-cf61-17fdb07b6955"
   },
   "outputs": [
    {
     "data": {
      "text/plain": [
       "array([[0.        , 0.        ],\n",
       "       [0.        , 0.69314718]])"
      ]
     },
     "execution_count": 92,
     "metadata": {},
     "output_type": "execute_result"
    }
   ],
   "source": [
    "np.log(arr1)"
   ]
  },
  {
   "cell_type": "markdown",
   "metadata": {
    "colab_type": "text",
    "id": "LbMt_OuW4pcW"
   },
   "source": [
    "### Ceil\n",
    "\n",
    "Roundup to the next greatest integer"
   ]
  },
  {
   "cell_type": "code",
   "execution_count": 93,
   "metadata": {
    "colab": {},
    "colab_type": "code",
    "id": "ZxuuWj4w4pcX",
    "outputId": "eea6330a-ebbe-461e-ad33-605922475b4b"
   },
   "outputs": [
    {
     "data": {
      "text/plain": [
       "array([2.5, 3.9, 4. , 1.2])"
      ]
     },
     "execution_count": 93,
     "metadata": {},
     "output_type": "execute_result"
    }
   ],
   "source": [
    "arr = np.array([2.5,3.9,4,1.2])\n",
    "arr"
   ]
  },
  {
   "cell_type": "code",
   "execution_count": 94,
   "metadata": {
    "colab": {},
    "colab_type": "code",
    "id": "oVUHpbjF4pcb",
    "outputId": "a57173e5-706e-4f1b-e142-d2c05998e741"
   },
   "outputs": [
    {
     "data": {
      "text/plain": [
       "array([3., 4., 4., 2.])"
      ]
     },
     "execution_count": 94,
     "metadata": {},
     "output_type": "execute_result"
    }
   ],
   "source": [
    "np.ceil(arr)"
   ]
  },
  {
   "cell_type": "markdown",
   "metadata": {
    "colab_type": "text",
    "id": "I3KgORam4pce"
   },
   "source": [
    "### floor\n",
    "\n",
    "Roundup to next least integer"
   ]
  },
  {
   "cell_type": "code",
   "execution_count": 95,
   "metadata": {
    "colab": {},
    "colab_type": "code",
    "id": "3RnTPTcK4pcf"
   },
   "outputs": [
    {
     "data": {
      "text/plain": [
       "array([2.5, 3.9, 4. , 1.2])"
      ]
     },
     "execution_count": 95,
     "metadata": {},
     "output_type": "execute_result"
    }
   ],
   "source": [
    "arr"
   ]
  },
  {
   "cell_type": "code",
   "execution_count": 96,
   "metadata": {
    "colab": {},
    "colab_type": "code",
    "id": "zQAylWZB4pcq",
    "outputId": "537b2d61-3695-47e4-b92f-40785c901fea"
   },
   "outputs": [
    {
     "data": {
      "text/plain": [
       "array([2., 3., 4., 1.])"
      ]
     },
     "execution_count": 96,
     "metadata": {},
     "output_type": "execute_result"
    }
   ],
   "source": [
    "np.floor(arr)"
   ]
  },
  {
   "cell_type": "markdown",
   "metadata": {
    "colab_type": "text",
    "id": "y3w1A4oR4pc2"
   },
   "source": [
    "### Round\n",
    "\n",
    "Round an array to the given number of decimals."
   ]
  },
  {
   "cell_type": "code",
   "execution_count": 97,
   "metadata": {
    "colab": {},
    "colab_type": "code",
    "id": "w7sXnif64pc-",
    "outputId": "be803f83-460a-4b5e-fbda-c00b477851c1"
   },
   "outputs": [
    {
     "data": {
      "text/plain": [
       "array([2.5, 3.9, 4. , 1.2])"
      ]
     },
     "execution_count": 97,
     "metadata": {},
     "output_type": "execute_result"
    }
   ],
   "source": [
    "np.round(arr,2)"
   ]
  },
  {
   "cell_type": "markdown",
   "metadata": {
    "colab_type": "text",
    "id": "uYjcWunq4pdE"
   },
   "source": [
    "## Statistics"
   ]
  },
  {
   "cell_type": "code",
   "execution_count": 98,
   "metadata": {
    "colab": {},
    "colab_type": "code",
    "id": "17-c1hFp4pdG",
    "outputId": "94610998-0cd2-4983-c54e-89c09f1516b2"
   },
   "outputs": [
    {
     "data": {
      "text/plain": [
       "array([[1, 1],\n",
       "       [1, 2]])"
      ]
     },
     "execution_count": 98,
     "metadata": {},
     "output_type": "execute_result"
    }
   ],
   "source": [
    "arr1"
   ]
  },
  {
   "cell_type": "code",
   "execution_count": 100,
   "metadata": {},
   "outputs": [
    {
     "data": {
      "text/plain": [
       "1.25"
      ]
     },
     "execution_count": 100,
     "metadata": {},
     "output_type": "execute_result"
    }
   ],
   "source": [
    "5/4"
   ]
  },
  {
   "cell_type": "code",
   "execution_count": 99,
   "metadata": {
    "colab": {},
    "colab_type": "code",
    "id": "BR96WFwD4pdK",
    "outputId": "66441b44-59f0-4cc3-ddcf-c68229df9c86"
   },
   "outputs": [
    {
     "data": {
      "text/plain": [
       "1.25"
      ]
     },
     "execution_count": 99,
     "metadata": {},
     "output_type": "execute_result"
    }
   ],
   "source": [
    "np.mean(arr1)"
   ]
  },
  {
   "cell_type": "code",
   "execution_count": 101,
   "metadata": {
    "colab": {},
    "colab_type": "code",
    "id": "FjIXRmCB4pdN",
    "outputId": "e5272471-c0ba-4c92-872c-ad814e48a5f2"
   },
   "outputs": [
    {
     "data": {
      "text/plain": [
       "array([1. , 1.5])"
      ]
     },
     "execution_count": 101,
     "metadata": {},
     "output_type": "execute_result"
    }
   ],
   "source": [
    "np.mean(arr1,axis=1) #  Column wise mean"
   ]
  },
  {
   "cell_type": "code",
   "execution_count": 102,
   "metadata": {
    "colab": {},
    "colab_type": "code",
    "id": "m8UJBXc-4pdR",
    "outputId": "bb090ad4-a29e-4774-9d25-d6736569276b"
   },
   "outputs": [
    {
     "data": {
      "text/plain": [
       "array([1. , 1.5])"
      ]
     },
     "execution_count": 102,
     "metadata": {},
     "output_type": "execute_result"
    }
   ],
   "source": [
    "np.mean(arr1,axis=0) # Row wise mean"
   ]
  },
  {
   "cell_type": "code",
   "execution_count": 103,
   "metadata": {
    "colab": {},
    "colab_type": "code",
    "id": "-uOf7D5g4pdW",
    "outputId": "f2fb9035-965f-469e-8ff5-1360ab855b46"
   },
   "outputs": [
    {
     "data": {
      "text/plain": [
       "5"
      ]
     },
     "execution_count": 103,
     "metadata": {},
     "output_type": "execute_result"
    }
   ],
   "source": [
    "arr1.sum()"
   ]
  },
  {
   "cell_type": "code",
   "execution_count": 104,
   "metadata": {
    "colab": {},
    "colab_type": "code",
    "id": "X8xWjR7y4pda",
    "outputId": "6469aae1-dac5-416b-b84e-961af205f574"
   },
   "outputs": [
    {
     "data": {
      "text/plain": [
       "1"
      ]
     },
     "execution_count": 104,
     "metadata": {},
     "output_type": "execute_result"
    }
   ],
   "source": [
    "arr1.min()"
   ]
  },
  {
   "cell_type": "code",
   "execution_count": 105,
   "metadata": {
    "colab": {},
    "colab_type": "code",
    "id": "BQakPx9-4pdd",
    "outputId": "6b4dd24f-7f08-4fc5-8a52-987f54d3fb3c"
   },
   "outputs": [
    {
     "data": {
      "text/plain": [
       "2"
      ]
     },
     "execution_count": 105,
     "metadata": {},
     "output_type": "execute_result"
    }
   ],
   "source": [
    "arr1.max()"
   ]
  },
  {
   "cell_type": "code",
   "execution_count": 106,
   "metadata": {
    "colab": {},
    "colab_type": "code",
    "id": "0TSH3Al34pdg",
    "outputId": "bdc9a574-34eb-4fb4-bac5-b7e5a8c9dd6f"
   },
   "outputs": [
    {
     "data": {
      "text/plain": [
       "0.1875"
      ]
     },
     "execution_count": 106,
     "metadata": {},
     "output_type": "execute_result"
    }
   ],
   "source": [
    "np.var(arr1)"
   ]
  },
  {
   "cell_type": "code",
   "execution_count": 107,
   "metadata": {
    "colab": {},
    "colab_type": "code",
    "id": "UqXrAqfM4pdj",
    "outputId": "5b422309-6a69-486a-e51a-0e73ae3b6df1"
   },
   "outputs": [
    {
     "data": {
      "text/plain": [
       "0.4330127018922193"
      ]
     },
     "execution_count": 107,
     "metadata": {},
     "output_type": "execute_result"
    }
   ],
   "source": [
    "np.std(arr1)"
   ]
  },
  {
   "cell_type": "code",
   "execution_count": 108,
   "metadata": {
    "colab": {},
    "colab_type": "code",
    "id": "QrDQStd64pdm",
    "outputId": "9edf16de-6e3a-4944-fe26-028cd0c2554c"
   },
   "outputs": [
    {
     "data": {
      "text/plain": [
       "array([0. , 0.5])"
      ]
     },
     "execution_count": 108,
     "metadata": {},
     "output_type": "execute_result"
    }
   ],
   "source": [
    "np.std(arr1,axis=0) # Row wise std"
   ]
  },
  {
   "cell_type": "code",
   "execution_count": 109,
   "metadata": {
    "colab": {},
    "colab_type": "code",
    "id": "BW7EiHdi4pds",
    "outputId": "ffe7ffe3-8fd0-4301-e65e-b7e94e9fcb07"
   },
   "outputs": [
    {
     "data": {
      "text/plain": [
       "array([0. , 0.5])"
      ]
     },
     "execution_count": 109,
     "metadata": {},
     "output_type": "execute_result"
    }
   ],
   "source": [
    "np.std(arr1,axis=1) # Column wise std"
   ]
  },
  {
   "cell_type": "markdown",
   "metadata": {
    "colab_type": "text",
    "id": "LsZZ1OfB4pdw"
   },
   "source": [
    "### Dot\n",
    "\n",
    "Dot product of two arrays."
   ]
  },
  {
   "cell_type": "code",
   "execution_count": 110,
   "metadata": {
    "colab": {},
    "colab_type": "code",
    "id": "w00fUD2i4pdx",
    "outputId": "fca7c7d8-1d06-4720-dc94-42f144c948f1"
   },
   "outputs": [
    {
     "data": {
      "text/plain": [
       "array([[1, 1],\n",
       "       [1, 2]])"
      ]
     },
     "execution_count": 110,
     "metadata": {},
     "output_type": "execute_result"
    }
   ],
   "source": [
    "arr1"
   ]
  },
  {
   "cell_type": "code",
   "execution_count": 111,
   "metadata": {
    "colab": {},
    "colab_type": "code",
    "id": "QupjCZwm4pd1",
    "outputId": "b56d4d4f-2a36-4ead-e0ad-98ec0d82786e"
   },
   "outputs": [
    {
     "data": {
      "text/plain": [
       "array([[3, 1],\n",
       "       [2, 1]])"
      ]
     },
     "execution_count": 111,
     "metadata": {},
     "output_type": "execute_result"
    }
   ],
   "source": [
    "arr2"
   ]
  },
  {
   "cell_type": "code",
   "execution_count": 114,
   "metadata": {
    "colab": {},
    "colab_type": "code",
    "id": "vN73iupm4pd9",
    "outputId": "4d59b955-4ffc-49f4-a94e-8e2cd672d922"
   },
   "outputs": [
    {
     "data": {
      "text/plain": [
       "array([[5, 2],\n",
       "       [7, 3]])"
      ]
     },
     "execution_count": 114,
     "metadata": {},
     "output_type": "execute_result"
    }
   ],
   "source": [
    "arr1.dot(arr2)"
   ]
  },
  {
   "cell_type": "code",
   "execution_count": 115,
   "metadata": {
    "colab": {},
    "colab_type": "code",
    "id": "nIXWir7L4peB",
    "outputId": "d50715a3-d460-4c62-e0a3-4fc33bc54c1e"
   },
   "outputs": [
    {
     "data": {
      "text/plain": [
       "array([[3, 1],\n",
       "       [2, 2]])"
      ]
     },
     "execution_count": 115,
     "metadata": {},
     "output_type": "execute_result"
    }
   ],
   "source": [
    "arr1 * arr2"
   ]
  },
  {
   "cell_type": "markdown",
   "metadata": {
    "colab_type": "text",
    "id": "ZvgzzBYC4peK"
   },
   "source": []
  },
  {
   "cell_type": "markdown",
   "metadata": {
    "colab_type": "text",
    "id": "dt39wJTf4peM"
   },
   "source": [
    "### comparision Operators"
   ]
  },
  {
   "cell_type": "markdown",
   "metadata": {
    "colab_type": "raw",
    "id": "ap6veppP4peR"
   },
   "source": [
    ">,<,>=,<=,==,!="
   ]
  },
  {
   "cell_type": "code",
   "execution_count": 116,
   "metadata": {
    "colab": {},
    "colab_type": "code",
    "id": "TtJno09b4peS",
    "outputId": "690bd981-0d97-477d-9ba6-cc6b658d4bdc"
   },
   "outputs": [
    {
     "data": {
      "text/plain": [
       "array([[14,  8, 14],\n",
       "       [12,  1, 13],\n",
       "       [11, 11, 10],\n",
       "       [ 8,  4,  9],\n",
       "       [12, 11,  4]])"
      ]
     },
     "execution_count": 116,
     "metadata": {},
     "output_type": "execute_result"
    }
   ],
   "source": [
    "matrix"
   ]
  },
  {
   "cell_type": "code",
   "execution_count": 117,
   "metadata": {
    "colab": {},
    "colab_type": "code",
    "id": "8mWoP0ke4peY",
    "outputId": "5c1a169a-5228-4fa8-8cfd-c8824128933c"
   },
   "outputs": [
    {
     "data": {
      "text/plain": [
       "array([[ True,  True,  True],\n",
       "       [ True, False,  True],\n",
       "       [ True,  True,  True],\n",
       "       [ True, False,  True],\n",
       "       [ True,  True, False]])"
      ]
     },
     "execution_count": 117,
     "metadata": {},
     "output_type": "execute_result"
    }
   ],
   "source": [
    "matrix >= 5"
   ]
  },
  {
   "cell_type": "code",
   "execution_count": 118,
   "metadata": {
    "colab": {},
    "colab_type": "code",
    "id": "OqEMZWpO4pee",
    "outputId": "ea59fbfa-6e47-43cd-f814-a8af6781367a"
   },
   "outputs": [
    {
     "data": {
      "text/plain": [
       "array([14,  8, 14, 12, 13, 11, 11, 10,  8,  9, 12, 11])"
      ]
     },
     "execution_count": 118,
     "metadata": {},
     "output_type": "execute_result"
    }
   ],
   "source": [
    "matrix[matrix > 5]"
   ]
  },
  {
   "cell_type": "code",
   "execution_count": 119,
   "metadata": {
    "colab": {},
    "colab_type": "code",
    "id": "CsCw8_eA4pej",
    "outputId": "0a9b5dca-2e30-4cbe-b100-bd4e51347777"
   },
   "outputs": [
    {
     "data": {
      "text/plain": [
       "array([], dtype=int32)"
      ]
     },
     "execution_count": 119,
     "metadata": {},
     "output_type": "execute_result"
    }
   ],
   "source": [
    "matrix[matrix==6]"
   ]
  },
  {
   "cell_type": "code",
   "execution_count": 120,
   "metadata": {
    "colab": {},
    "colab_type": "code",
    "id": "CQ2hmlLA4pep",
    "outputId": "ecbc4781-5158-4031-f169-febbf00d2d88"
   },
   "outputs": [
    {
     "data": {
      "text/plain": [
       "array([14,  8, 14, 12,  1, 13, 11, 11, 10,  8,  4,  9, 12, 11,  4])"
      ]
     },
     "execution_count": 120,
     "metadata": {},
     "output_type": "execute_result"
    }
   ],
   "source": [
    "matrix[matrix!=5]"
   ]
  },
  {
   "cell_type": "code",
   "execution_count": 121,
   "metadata": {
    "colab": {},
    "colab_type": "code",
    "id": "GE-3nZG24pew",
    "outputId": "2b93badb-154d-4445-fd9a-ca8119f51f33"
   },
   "outputs": [
    {
     "data": {
      "text/plain": [
       "array([8, 8, 9])"
      ]
     },
     "execution_count": 121,
     "metadata": {},
     "output_type": "execute_result"
    }
   ],
   "source": [
    "matrix[(matrix>5) & (matrix < 10)]"
   ]
  },
  {
   "cell_type": "code",
   "execution_count": 122,
   "metadata": {},
   "outputs": [
    {
     "ename": "ValueError",
     "evalue": "The truth value of an array with more than one element is ambiguous. Use a.any() or a.all()",
     "output_type": "error",
     "traceback": [
      "\u001b[1;31m---------------------------------------------------------------------------\u001b[0m",
      "\u001b[1;31mValueError\u001b[0m                                Traceback (most recent call last)",
      "\u001b[1;32m<ipython-input-122-f55a3dea8608>\u001b[0m in \u001b[0;36m<module>\u001b[1;34m\u001b[0m\n\u001b[1;32m----> 1\u001b[1;33m \u001b[0mmatrix\u001b[0m\u001b[1;33m[\u001b[0m\u001b[1;33m(\u001b[0m\u001b[0mmatrix\u001b[0m\u001b[1;33m>\u001b[0m\u001b[1;36m5\u001b[0m\u001b[1;33m)\u001b[0m \u001b[1;32mand\u001b[0m \u001b[1;33m(\u001b[0m\u001b[0mmatrix\u001b[0m \u001b[1;33m<\u001b[0m \u001b[1;36m10\u001b[0m\u001b[1;33m)\u001b[0m\u001b[1;33m]\u001b[0m\u001b[1;33m\u001b[0m\u001b[1;33m\u001b[0m\u001b[0m\n\u001b[0m",
      "\u001b[1;31mValueError\u001b[0m: The truth value of an array with more than one element is ambiguous. Use a.any() or a.all()"
     ]
    }
   ],
   "source": [
    "matrix[(matrix>5) and (matrix < 10)]"
   ]
  },
  {
   "cell_type": "code",
   "execution_count": 123,
   "metadata": {
    "colab": {},
    "colab_type": "code",
    "id": "3MoFVSh24pe0",
    "outputId": "b15ddde6-fb89-4d5a-eafd-6da8ab549c2c"
   },
   "outputs": [
    {
     "data": {
      "text/plain": [
       "array([14,  8, 14, 12,  1, 13, 11, 11, 10,  8,  4,  9, 12, 11,  4])"
      ]
     },
     "execution_count": 123,
     "metadata": {},
     "output_type": "execute_result"
    }
   ],
   "source": [
    "matrix[(matrix >5) | (matrix <12 )]"
   ]
  },
  {
   "cell_type": "code",
   "execution_count": null,
   "metadata": {},
   "outputs": [],
   "source": []
  }
 ],
 "metadata": {
  "colab": {
   "name": "03-Numpy Operations.ipynb",
   "provenance": []
  },
  "kernelspec": {
   "display_name": "Python 3 (ipykernel)",
   "language": "python",
   "name": "python3"
  },
  "language_info": {
   "codemirror_mode": {
    "name": "ipython",
    "version": 3
   },
   "file_extension": ".py",
   "mimetype": "text/x-python",
   "name": "python",
   "nbconvert_exporter": "python",
   "pygments_lexer": "ipython3",
   "version": "3.9.7"
  }
 },
 "nbformat": 4,
 "nbformat_minor": 1
}
