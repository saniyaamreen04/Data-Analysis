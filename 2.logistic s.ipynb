{
 "cells": [
  {
   "cell_type": "markdown",
   "metadata": {},
   "source": [
    "Steps for Algorithm\n",
    "\n",
    "1. Business Understanding\n",
    "\n",
    "2. Data Mining\n",
    "\n",
    "3. Data Cleaning\n",
    "\n",
    "4. Data Exploration\n",
    "\n",
    "5. Feature Engineering\n",
    "\n",
    "6. Predictive Modelling\n",
    "\n",
    "7. Data Visualization\n"
   ]
  },
  {
   "cell_type": "code",
   "execution_count": 1,
   "metadata": {},
   "outputs": [],
   "source": [
    "# Logistic Regression\n",
    "\n",
    "# Importing the libraries\n",
    "import numpy as np\n",
    "import matplotlib.pyplot as plt\n",
    "import pandas as pd\n",
    "import seaborn as sns\n"
   ]
  },
  {
   "cell_type": "code",
   "execution_count": 2,
   "metadata": {},
   "outputs": [],
   "source": [
    "# Importing the dataset\n",
    "dataset = pd.read_csv('Purchase.csv')"
   ]
  },
  {
   "cell_type": "code",
   "execution_count": 3,
   "metadata": {
    "scrolled": true
   },
   "outputs": [
    {
     "data": {
      "text/html": [
       "<div>\n",
       "<style scoped>\n",
       "    .dataframe tbody tr th:only-of-type {\n",
       "        vertical-align: middle;\n",
       "    }\n",
       "\n",
       "    .dataframe tbody tr th {\n",
       "        vertical-align: top;\n",
       "    }\n",
       "\n",
       "    .dataframe thead th {\n",
       "        text-align: right;\n",
       "    }\n",
       "</style>\n",
       "<table border=\"1\" class=\"dataframe\">\n",
       "  <thead>\n",
       "    <tr style=\"text-align: right;\">\n",
       "      <th></th>\n",
       "      <th>User ID</th>\n",
       "      <th>Gender</th>\n",
       "      <th>Age</th>\n",
       "      <th>EstimatedSalary</th>\n",
       "      <th>Purchased</th>\n",
       "    </tr>\n",
       "  </thead>\n",
       "  <tbody>\n",
       "    <tr>\n",
       "      <th>0</th>\n",
       "      <td>15624510</td>\n",
       "      <td>Male</td>\n",
       "      <td>19</td>\n",
       "      <td>19000</td>\n",
       "      <td>0</td>\n",
       "    </tr>\n",
       "    <tr>\n",
       "      <th>1</th>\n",
       "      <td>15810944</td>\n",
       "      <td>Male</td>\n",
       "      <td>35</td>\n",
       "      <td>20000</td>\n",
       "      <td>0</td>\n",
       "    </tr>\n",
       "    <tr>\n",
       "      <th>2</th>\n",
       "      <td>15668575</td>\n",
       "      <td>Female</td>\n",
       "      <td>26</td>\n",
       "      <td>43000</td>\n",
       "      <td>0</td>\n",
       "    </tr>\n",
       "    <tr>\n",
       "      <th>3</th>\n",
       "      <td>15603246</td>\n",
       "      <td>Female</td>\n",
       "      <td>27</td>\n",
       "      <td>57000</td>\n",
       "      <td>0</td>\n",
       "    </tr>\n",
       "    <tr>\n",
       "      <th>4</th>\n",
       "      <td>15804002</td>\n",
       "      <td>Male</td>\n",
       "      <td>19</td>\n",
       "      <td>76000</td>\n",
       "      <td>0</td>\n",
       "    </tr>\n",
       "  </tbody>\n",
       "</table>\n",
       "</div>"
      ],
      "text/plain": [
       "    User ID  Gender  Age  EstimatedSalary  Purchased\n",
       "0  15624510    Male   19            19000          0\n",
       "1  15810944    Male   35            20000          0\n",
       "2  15668575  Female   26            43000          0\n",
       "3  15603246  Female   27            57000          0\n",
       "4  15804002    Male   19            76000          0"
      ]
     },
     "execution_count": 3,
     "metadata": {},
     "output_type": "execute_result"
    }
   ],
   "source": [
    "dataset.head()"
   ]
  },
  {
   "cell_type": "code",
   "execution_count": 4,
   "metadata": {},
   "outputs": [
    {
     "data": {
      "text/html": [
       "<div>\n",
       "<style scoped>\n",
       "    .dataframe tbody tr th:only-of-type {\n",
       "        vertical-align: middle;\n",
       "    }\n",
       "\n",
       "    .dataframe tbody tr th {\n",
       "        vertical-align: top;\n",
       "    }\n",
       "\n",
       "    .dataframe thead th {\n",
       "        text-align: right;\n",
       "    }\n",
       "</style>\n",
       "<table border=\"1\" class=\"dataframe\">\n",
       "  <thead>\n",
       "    <tr style=\"text-align: right;\">\n",
       "      <th></th>\n",
       "      <th>User ID</th>\n",
       "      <th>Gender</th>\n",
       "      <th>Age</th>\n",
       "      <th>EstimatedSalary</th>\n",
       "      <th>Purchased</th>\n",
       "    </tr>\n",
       "  </thead>\n",
       "  <tbody>\n",
       "    <tr>\n",
       "      <th>395</th>\n",
       "      <td>15691863</td>\n",
       "      <td>Female</td>\n",
       "      <td>46</td>\n",
       "      <td>41000</td>\n",
       "      <td>1</td>\n",
       "    </tr>\n",
       "    <tr>\n",
       "      <th>396</th>\n",
       "      <td>15706071</td>\n",
       "      <td>Male</td>\n",
       "      <td>51</td>\n",
       "      <td>23000</td>\n",
       "      <td>1</td>\n",
       "    </tr>\n",
       "    <tr>\n",
       "      <th>397</th>\n",
       "      <td>15654296</td>\n",
       "      <td>Female</td>\n",
       "      <td>50</td>\n",
       "      <td>20000</td>\n",
       "      <td>1</td>\n",
       "    </tr>\n",
       "    <tr>\n",
       "      <th>398</th>\n",
       "      <td>15755018</td>\n",
       "      <td>Male</td>\n",
       "      <td>36</td>\n",
       "      <td>33000</td>\n",
       "      <td>0</td>\n",
       "    </tr>\n",
       "    <tr>\n",
       "      <th>399</th>\n",
       "      <td>15594041</td>\n",
       "      <td>Female</td>\n",
       "      <td>49</td>\n",
       "      <td>36000</td>\n",
       "      <td>1</td>\n",
       "    </tr>\n",
       "  </tbody>\n",
       "</table>\n",
       "</div>"
      ],
      "text/plain": [
       "      User ID  Gender  Age  EstimatedSalary  Purchased\n",
       "395  15691863  Female   46            41000          1\n",
       "396  15706071    Male   51            23000          1\n",
       "397  15654296  Female   50            20000          1\n",
       "398  15755018    Male   36            33000          0\n",
       "399  15594041  Female   49            36000          1"
      ]
     },
     "execution_count": 4,
     "metadata": {},
     "output_type": "execute_result"
    }
   ],
   "source": [
    "dataset.tail()"
   ]
  },
  {
   "cell_type": "code",
   "execution_count": 4,
   "metadata": {},
   "outputs": [
    {
     "data": {
      "text/plain": [
       "(400, 5)"
      ]
     },
     "execution_count": 4,
     "metadata": {},
     "output_type": "execute_result"
    }
   ],
   "source": [
    "dataset.shape"
   ]
  },
  {
   "cell_type": "code",
   "execution_count": 6,
   "metadata": {},
   "outputs": [],
   "source": [
    "# Data Cleaning"
   ]
  },
  {
   "cell_type": "code",
   "execution_count": 7,
   "metadata": {},
   "outputs": [
    {
     "data": {
      "text/plain": [
       "False"
      ]
     },
     "execution_count": 7,
     "metadata": {},
     "output_type": "execute_result"
    }
   ],
   "source": [
    "dataset.isnull().values.any()"
   ]
  },
  {
   "cell_type": "code",
   "execution_count": 5,
   "metadata": {},
   "outputs": [],
   "source": [
    "#dataset['EstimatedSalary'].fillna(dataset['EstimatedSalary'].mean())"
   ]
  },
  {
   "cell_type": "code",
   "execution_count": 8,
   "metadata": {},
   "outputs": [
    {
     "data": {
      "text/plain": [
       "User ID            0\n",
       "Gender             0\n",
       "Age                0\n",
       "EstimatedSalary    0\n",
       "Purchased          0\n",
       "dtype: int64"
      ]
     },
     "execution_count": 8,
     "metadata": {},
     "output_type": "execute_result"
    }
   ],
   "source": [
    "dataset.isnull().sum()"
   ]
  },
  {
   "cell_type": "code",
   "execution_count": 9,
   "metadata": {},
   "outputs": [
    {
     "name": "stdout",
     "output_type": "stream",
     "text": [
      "<class 'pandas.core.frame.DataFrame'>\n",
      "RangeIndex: 400 entries, 0 to 399\n",
      "Data columns (total 5 columns):\n",
      " #   Column           Non-Null Count  Dtype \n",
      "---  ------           --------------  ----- \n",
      " 0   User ID          400 non-null    int64 \n",
      " 1   Gender           400 non-null    object\n",
      " 2   Age              400 non-null    int64 \n",
      " 3   EstimatedSalary  400 non-null    int64 \n",
      " 4   Purchased        400 non-null    int64 \n",
      "dtypes: int64(4), object(1)\n",
      "memory usage: 15.8+ KB\n"
     ]
    }
   ],
   "source": [
    "dataset.info()    # full information of the data"
   ]
  },
  {
   "cell_type": "code",
   "execution_count": 10,
   "metadata": {},
   "outputs": [
    {
     "data": {
      "text/plain": [
       "User ID            400\n",
       "Gender             400\n",
       "Age                400\n",
       "EstimatedSalary    400\n",
       "Purchased          400\n",
       "dtype: int64"
      ]
     },
     "execution_count": 10,
     "metadata": {},
     "output_type": "execute_result"
    }
   ],
   "source": [
    "dataset.count()   # displays non null values"
   ]
  },
  {
   "cell_type": "code",
   "execution_count": 11,
   "metadata": {},
   "outputs": [],
   "source": [
    "# Data Exploration/ Exploratory data anlaysis"
   ]
  },
  {
   "cell_type": "code",
   "execution_count": 12,
   "metadata": {},
   "outputs": [
    {
     "data": {
      "text/html": [
       "<div>\n",
       "<style scoped>\n",
       "    .dataframe tbody tr th:only-of-type {\n",
       "        vertical-align: middle;\n",
       "    }\n",
       "\n",
       "    .dataframe tbody tr th {\n",
       "        vertical-align: top;\n",
       "    }\n",
       "\n",
       "    .dataframe thead th {\n",
       "        text-align: right;\n",
       "    }\n",
       "</style>\n",
       "<table border=\"1\" class=\"dataframe\">\n",
       "  <thead>\n",
       "    <tr style=\"text-align: right;\">\n",
       "      <th></th>\n",
       "      <th>User ID</th>\n",
       "      <th>Gender</th>\n",
       "      <th>Age</th>\n",
       "      <th>EstimatedSalary</th>\n",
       "      <th>Purchased</th>\n",
       "    </tr>\n",
       "  </thead>\n",
       "  <tbody>\n",
       "    <tr>\n",
       "      <th>0</th>\n",
       "      <td>15624510</td>\n",
       "      <td>Male</td>\n",
       "      <td>19</td>\n",
       "      <td>19000</td>\n",
       "      <td>0</td>\n",
       "    </tr>\n",
       "    <tr>\n",
       "      <th>1</th>\n",
       "      <td>15810944</td>\n",
       "      <td>Male</td>\n",
       "      <td>35</td>\n",
       "      <td>20000</td>\n",
       "      <td>0</td>\n",
       "    </tr>\n",
       "    <tr>\n",
       "      <th>2</th>\n",
       "      <td>15668575</td>\n",
       "      <td>Female</td>\n",
       "      <td>26</td>\n",
       "      <td>43000</td>\n",
       "      <td>0</td>\n",
       "    </tr>\n",
       "    <tr>\n",
       "      <th>3</th>\n",
       "      <td>15603246</td>\n",
       "      <td>Female</td>\n",
       "      <td>27</td>\n",
       "      <td>57000</td>\n",
       "      <td>0</td>\n",
       "    </tr>\n",
       "    <tr>\n",
       "      <th>4</th>\n",
       "      <td>15804002</td>\n",
       "      <td>Male</td>\n",
       "      <td>19</td>\n",
       "      <td>76000</td>\n",
       "      <td>0</td>\n",
       "    </tr>\n",
       "  </tbody>\n",
       "</table>\n",
       "</div>"
      ],
      "text/plain": [
       "    User ID  Gender  Age  EstimatedSalary  Purchased\n",
       "0  15624510    Male   19            19000          0\n",
       "1  15810944    Male   35            20000          0\n",
       "2  15668575  Female   26            43000          0\n",
       "3  15603246  Female   27            57000          0\n",
       "4  15804002    Male   19            76000          0"
      ]
     },
     "execution_count": 12,
     "metadata": {},
     "output_type": "execute_result"
    }
   ],
   "source": [
    "dataset.head()"
   ]
  },
  {
   "cell_type": "code",
   "execution_count": 6,
   "metadata": {},
   "outputs": [
    {
     "data": {
      "text/plain": [
       "array([0, 1])"
      ]
     },
     "execution_count": 6,
     "metadata": {},
     "output_type": "execute_result"
    }
   ],
   "source": [
    "dataset['Purchased'].unique()"
   ]
  },
  {
   "cell_type": "code",
   "execution_count": 7,
   "metadata": {},
   "outputs": [
    {
     "data": {
      "text/plain": [
       "Female    204\n",
       "Male      196\n",
       "Name: Gender, dtype: int64"
      ]
     },
     "execution_count": 7,
     "metadata": {},
     "output_type": "execute_result"
    }
   ],
   "source": [
    "dataset['Gender'].value_counts()"
   ]
  },
  {
   "cell_type": "code",
   "execution_count": 15,
   "metadata": {},
   "outputs": [
    {
     "data": {
      "text/plain": [
       "0    257\n",
       "1    143\n",
       "Name: Purchased, dtype: int64"
      ]
     },
     "execution_count": 15,
     "metadata": {},
     "output_type": "execute_result"
    }
   ],
   "source": [
    "dataset['Purchased'].value_counts()"
   ]
  },
  {
   "cell_type": "code",
   "execution_count": 16,
   "metadata": {},
   "outputs": [
    {
     "data": {
      "text/plain": [
       "Gender  Purchased\n",
       "Female  0            127\n",
       "        1             77\n",
       "Male    0            130\n",
       "        1             66\n",
       "dtype: int64"
      ]
     },
     "execution_count": 16,
     "metadata": {},
     "output_type": "execute_result"
    }
   ],
   "source": [
    "dataset.groupby(['Gender','Purchased']).size()"
   ]
  },
  {
   "cell_type": "code",
   "execution_count": 17,
   "metadata": {},
   "outputs": [
    {
     "data": {
      "text/html": [
       "<div>\n",
       "<style scoped>\n",
       "    .dataframe tbody tr th:only-of-type {\n",
       "        vertical-align: middle;\n",
       "    }\n",
       "\n",
       "    .dataframe tbody tr th {\n",
       "        vertical-align: top;\n",
       "    }\n",
       "\n",
       "    .dataframe thead th {\n",
       "        text-align: right;\n",
       "    }\n",
       "</style>\n",
       "<table border=\"1\" class=\"dataframe\">\n",
       "  <thead>\n",
       "    <tr style=\"text-align: right;\">\n",
       "      <th></th>\n",
       "      <th>User ID</th>\n",
       "      <th>Gender</th>\n",
       "      <th>Age</th>\n",
       "      <th>EstimatedSalary</th>\n",
       "      <th>Purchased</th>\n",
       "    </tr>\n",
       "  </thead>\n",
       "  <tbody>\n",
       "    <tr>\n",
       "      <th>0</th>\n",
       "      <td>15624510</td>\n",
       "      <td>Male</td>\n",
       "      <td>19</td>\n",
       "      <td>19000</td>\n",
       "      <td>0</td>\n",
       "    </tr>\n",
       "    <tr>\n",
       "      <th>1</th>\n",
       "      <td>15810944</td>\n",
       "      <td>Male</td>\n",
       "      <td>35</td>\n",
       "      <td>20000</td>\n",
       "      <td>0</td>\n",
       "    </tr>\n",
       "    <tr>\n",
       "      <th>2</th>\n",
       "      <td>15668575</td>\n",
       "      <td>Female</td>\n",
       "      <td>26</td>\n",
       "      <td>43000</td>\n",
       "      <td>0</td>\n",
       "    </tr>\n",
       "    <tr>\n",
       "      <th>3</th>\n",
       "      <td>15603246</td>\n",
       "      <td>Female</td>\n",
       "      <td>27</td>\n",
       "      <td>57000</td>\n",
       "      <td>0</td>\n",
       "    </tr>\n",
       "    <tr>\n",
       "      <th>4</th>\n",
       "      <td>15804002</td>\n",
       "      <td>Male</td>\n",
       "      <td>19</td>\n",
       "      <td>76000</td>\n",
       "      <td>0</td>\n",
       "    </tr>\n",
       "  </tbody>\n",
       "</table>\n",
       "</div>"
      ],
      "text/plain": [
       "    User ID  Gender  Age  EstimatedSalary  Purchased\n",
       "0  15624510    Male   19            19000          0\n",
       "1  15810944    Male   35            20000          0\n",
       "2  15668575  Female   26            43000          0\n",
       "3  15603246  Female   27            57000          0\n",
       "4  15804002    Male   19            76000          0"
      ]
     },
     "execution_count": 17,
     "metadata": {},
     "output_type": "execute_result"
    }
   ],
   "source": [
    "dataset.head()"
   ]
  },
  {
   "cell_type": "code",
   "execution_count": 18,
   "metadata": {},
   "outputs": [
    {
     "data": {
      "image/png": "[encoded data removed]",
      "text/plain": [
       "<Figure size 360x360 with 1 Axes>"
      ]
     },
     "metadata": {
      "needs_background": "light"
     },
     "output_type": "display_data"
    }
   ],
   "source": [
    "sns.displot(dataset['EstimatedSalary'],kde=True);"
   ]
  },
  {
   "cell_type": "code",
   "execution_count": 19,
   "metadata": {},
   "outputs": [
    {
     "data": {
      "text/plain": [
       "0.49502362888993623"
      ]
     },
     "execution_count": 19,
     "metadata": {},
     "output_type": "execute_result"
    }
   ],
   "source": [
    "dataset['EstimatedSalary'].skew()  \n",
    "# range from -0.5 to +0.5 fairly symentrical"
   ]
  },
  {
   "cell_type": "code",
   "execution_count": 20,
   "metadata": {},
   "outputs": [
    {
     "data": {
      "image/png": "[encoded data removed]",
      "text/plain": [
       "<Figure size 360x360 with 1 Axes>"
      ]
     },
     "metadata": {
      "needs_background": "light"
     },
     "output_type": "display_data"
    }
   ],
   "source": [
    "sns.displot(dataset['Age'],kde=True);"
   ]
  },
  {
   "cell_type": "code",
   "execution_count": 21,
   "metadata": {},
   "outputs": [
    {
     "data": {
      "text/plain": [
       "0.23133746309642822"
      ]
     },
     "execution_count": 21,
     "metadata": {},
     "output_type": "execute_result"
    }
   ],
   "source": [
    "dataset['Age'].skew()   # -0.5 to +0.5 fairly symetrical"
   ]
  },
  {
   "cell_type": "code",
   "execution_count": 22,
   "metadata": {},
   "outputs": [
    {
     "data": {
      "text/plain": [
       "37.655"
      ]
     },
     "execution_count": 22,
     "metadata": {},
     "output_type": "execute_result"
    }
   ],
   "source": [
    "dataset['Age'].mean()"
   ]
  },
  {
   "cell_type": "code",
   "execution_count": 23,
   "metadata": {},
   "outputs": [
    {
     "data": {
      "text/plain": [
       "37.0"
      ]
     },
     "execution_count": 23,
     "metadata": {},
     "output_type": "execute_result"
    }
   ],
   "source": [
    "dataset['Age'].median()"
   ]
  },
  {
   "cell_type": "code",
   "execution_count": 24,
   "metadata": {},
   "outputs": [
    {
     "data": {
      "text/plain": [
       "127"
      ]
     },
     "execution_count": 24,
     "metadata": {},
     "output_type": "execute_result"
    }
   ],
   "source": [
    "len(dataset[(dataset['Age']>20)&(dataset['Age']<35)])"
   ]
  },
  {
   "cell_type": "code",
   "execution_count": 25,
   "metadata": {},
   "outputs": [
    {
     "data": {
      "text/plain": [
       "65086.61417322834"
      ]
     },
     "execution_count": 25,
     "metadata": {},
     "output_type": "execute_result"
    }
   ],
   "source": [
    "dataset[(dataset['Age']>20)&(dataset['Age']<35)]['EstimatedSalary'].mean()"
   ]
  },
  {
   "cell_type": "code",
   "execution_count": 26,
   "metadata": {},
   "outputs": [
    {
     "data": {
      "text/plain": [
       "0    113\n",
       "1     14\n",
       "Name: Purchased, dtype: int64"
      ]
     },
     "execution_count": 26,
     "metadata": {},
     "output_type": "execute_result"
    }
   ],
   "source": [
    "dataset[(dataset['Age']>20)&(dataset['Age']<35)]['Purchased'].value_counts()"
   ]
  },
  {
   "cell_type": "code",
   "execution_count": 27,
   "metadata": {},
   "outputs": [
    {
     "data": {
      "text/plain": [
       "60544.74708171206"
      ]
     },
     "execution_count": 27,
     "metadata": {},
     "output_type": "execute_result"
    }
   ],
   "source": [
    "dataset[dataset['Purchased']==0]['EstimatedSalary'].mean()"
   ]
  },
  {
   "cell_type": "code",
   "execution_count": 27,
   "metadata": {},
   "outputs": [
    {
     "data": {
      "text/plain": [
       "86272.72727272728"
      ]
     },
     "execution_count": 27,
     "metadata": {},
     "output_type": "execute_result"
    }
   ],
   "source": [
    "dataset[dataset['Purchased']==1]['EstimatedSalary'].mean()"
   ]
  },
  {
   "cell_type": "code",
   "execution_count": 29,
   "metadata": {},
   "outputs": [
    {
     "data": {
      "text/plain": [
       "222"
      ]
     },
     "execution_count": 29,
     "metadata": {},
     "output_type": "execute_result"
    }
   ],
   "source": [
    "len(dataset[dataset['Age']>35])"
   ]
  },
  {
   "cell_type": "code",
   "execution_count": 30,
   "metadata": {},
   "outputs": [
    {
     "data": {
      "text/html": [
       "<div>\n",
       "<style scoped>\n",
       "    .dataframe tbody tr th:only-of-type {\n",
       "        vertical-align: middle;\n",
       "    }\n",
       "\n",
       "    .dataframe tbody tr th {\n",
       "        vertical-align: top;\n",
       "    }\n",
       "\n",
       "    .dataframe thead th {\n",
       "        text-align: right;\n",
       "    }\n",
       "</style>\n",
       "<table border=\"1\" class=\"dataframe\">\n",
       "  <thead>\n",
       "    <tr style=\"text-align: right;\">\n",
       "      <th></th>\n",
       "      <th>User ID</th>\n",
       "      <th>Age</th>\n",
       "      <th>EstimatedSalary</th>\n",
       "      <th>Purchased</th>\n",
       "    </tr>\n",
       "  </thead>\n",
       "  <tbody>\n",
       "    <tr>\n",
       "      <th>User ID</th>\n",
       "      <td>1.000000</td>\n",
       "      <td>-0.000721</td>\n",
       "      <td>0.071097</td>\n",
       "      <td>0.007120</td>\n",
       "    </tr>\n",
       "    <tr>\n",
       "      <th>Age</th>\n",
       "      <td>-0.000721</td>\n",
       "      <td>1.000000</td>\n",
       "      <td>0.155238</td>\n",
       "      <td>0.622454</td>\n",
       "    </tr>\n",
       "    <tr>\n",
       "      <th>EstimatedSalary</th>\n",
       "      <td>0.071097</td>\n",
       "      <td>0.155238</td>\n",
       "      <td>1.000000</td>\n",
       "      <td>0.362083</td>\n",
       "    </tr>\n",
       "    <tr>\n",
       "      <th>Purchased</th>\n",
       "      <td>0.007120</td>\n",
       "      <td>0.622454</td>\n",
       "      <td>0.362083</td>\n",
       "      <td>1.000000</td>\n",
       "    </tr>\n",
       "  </tbody>\n",
       "</table>\n",
       "</div>"
      ],
      "text/plain": [
       "                  User ID       Age  EstimatedSalary  Purchased\n",
       "User ID          1.000000 -0.000721         0.071097   0.007120\n",
       "Age             -0.000721  1.000000         0.155238   0.622454\n",
       "EstimatedSalary  0.071097  0.155238         1.000000   0.362083\n",
       "Purchased        0.007120  0.622454         0.362083   1.000000"
      ]
     },
     "execution_count": 30,
     "metadata": {},
     "output_type": "execute_result"
    }
   ],
   "source": [
    "dataset.corr()\n",
    "# Relationship between two variables"
   ]
  },
  {
   "cell_type": "code",
   "execution_count": 29,
   "metadata": {},
   "outputs": [
    {
     "data": {
      "image/png": "[encoded data removed]",
      "text/plain": [
       "<Figure size 432x288 with 1 Axes>"
      ]
     },
     "metadata": {
      "needs_background": "light"
     },
     "output_type": "display_data"
    }
   ],
   "source": [
    "sns.countplot(x='Gender',data=dataset);"
   ]
  },
  {
   "cell_type": "code",
   "execution_count": 16,
   "metadata": {},
   "outputs": [
    {
     "data": {
      "text/html": [
       "<div>\n",
       "<style scoped>\n",
       "    .dataframe tbody tr th:only-of-type {\n",
       "        vertical-align: middle;\n",
       "    }\n",
       "\n",
       "    .dataframe tbody tr th {\n",
       "        vertical-align: top;\n",
       "    }\n",
       "\n",
       "    .dataframe thead th {\n",
       "        text-align: right;\n",
       "    }\n",
       "</style>\n",
       "<table border=\"1\" class=\"dataframe\">\n",
       "  <thead>\n",
       "    <tr style=\"text-align: right;\">\n",
       "      <th></th>\n",
       "      <th>User ID</th>\n",
       "      <th>Gender</th>\n",
       "      <th>Age</th>\n",
       "      <th>EstimatedSalary</th>\n",
       "      <th>Purchased</th>\n",
       "    </tr>\n",
       "  </thead>\n",
       "  <tbody>\n",
       "    <tr>\n",
       "      <th>0</th>\n",
       "      <td>15624510</td>\n",
       "      <td>Male</td>\n",
       "      <td>19</td>\n",
       "      <td>19000</td>\n",
       "      <td>0</td>\n",
       "    </tr>\n",
       "    <tr>\n",
       "      <th>1</th>\n",
       "      <td>15810944</td>\n",
       "      <td>Male</td>\n",
       "      <td>35</td>\n",
       "      <td>20000</td>\n",
       "      <td>0</td>\n",
       "    </tr>\n",
       "    <tr>\n",
       "      <th>2</th>\n",
       "      <td>15668575</td>\n",
       "      <td>Female</td>\n",
       "      <td>26</td>\n",
       "      <td>43000</td>\n",
       "      <td>0</td>\n",
       "    </tr>\n",
       "    <tr>\n",
       "      <th>3</th>\n",
       "      <td>15603246</td>\n",
       "      <td>Female</td>\n",
       "      <td>27</td>\n",
       "      <td>57000</td>\n",
       "      <td>0</td>\n",
       "    </tr>\n",
       "    <tr>\n",
       "      <th>4</th>\n",
       "      <td>15804002</td>\n",
       "      <td>Male</td>\n",
       "      <td>19</td>\n",
       "      <td>76000</td>\n",
       "      <td>0</td>\n",
       "    </tr>\n",
       "  </tbody>\n",
       "</table>\n",
       "</div>"
      ],
      "text/plain": [
       "    User ID  Gender  Age  EstimatedSalary  Purchased\n",
       "0  15624510    Male   19            19000          0\n",
       "1  15810944    Male   35            20000          0\n",
       "2  15668575  Female   26            43000          0\n",
       "3  15603246  Female   27            57000          0\n",
       "4  15804002    Male   19            76000          0"
      ]
     },
     "execution_count": 16,
     "metadata": {},
     "output_type": "execute_result"
    }
   ],
   "source": [
    "dataset.head()"
   ]
  },
  {
   "cell_type": "code",
   "execution_count": 17,
   "metadata": {},
   "outputs": [],
   "source": [
    "# Feature Engineering "
   ]
  },
  {
   "cell_type": "code",
   "execution_count": 4,
   "metadata": {},
   "outputs": [],
   "source": [
    "X = dataset.iloc[:, [2, 3]].values   #  independent variables\n",
    "y = dataset.iloc[:, 4].values   # dependent variable"
   ]
  },
  {
   "cell_type": "code",
   "execution_count": 32,
   "metadata": {},
   "outputs": [
    {
     "data": {
      "text/plain": [
       "array([[    19,  19000],\n",
       "       [    35,  20000],\n",
       "       [    26,  43000],\n",
       "       [    27,  57000],\n",
       "       [    19,  76000],\n",
       "       [    27,  58000],\n",
       "       [    27,  84000],\n",
       "       [    32, 150000],\n",
       "       [    25,  33000],\n",
       "       [    35,  65000],\n",
       "       [    26,  80000],\n",
       "       [    26,  52000],\n",
       "       [    20,  86000],\n",
       "       [    32,  18000],\n",
       "       [    18,  82000],\n",
       "       [    29,  80000],\n",
       "       [    47,  25000],\n",
       "       [    45,  26000],\n",
       "       [    46,  28000],\n",
       "       [    48,  29000],\n",
       "       [    45,  22000],\n",
       "       [    47,  49000],\n",
       "       [    48,  41000],\n",
       "       [    45,  22000],\n",
       "       [    46,  23000],\n",
       "       [    47,  20000],\n",
       "       [    49,  28000],\n",
       "       [    47,  30000],\n",
       "       [    29,  43000],\n",
       "       [    31,  18000],\n",
       "       [    31,  74000],\n",
       "       [    27, 137000],\n",
       "       [    21,  16000],\n",
       "       [    28,  44000],\n",
       "       [    27,  90000],\n",
       "       [    35,  27000],\n",
       "       [    33,  28000],\n",
       "       [    30,  49000],\n",
       "       [    26,  72000],\n",
       "       [    27,  31000],\n",
       "       [    27,  17000],\n",
       "       [    33,  51000],\n",
       "       [    35, 108000],\n",
       "       [    30,  15000],\n",
       "       [    28,  84000],\n",
       "       [    23,  20000],\n",
       "       [    25,  79000],\n",
       "       [    27,  54000],\n",
       "       [    30, 135000],\n",
       "       [    31,  89000],\n",
       "       [    24,  32000],\n",
       "       [    18,  44000],\n",
       "       [    29,  83000],\n",
       "       [    35,  23000],\n",
       "       [    27,  58000],\n",
       "       [    24,  55000],\n",
       "       [    23,  48000],\n",
       "       [    28,  79000],\n",
       "       [    22,  18000],\n",
       "       [    32, 117000],\n",
       "       [    27,  20000],\n",
       "       [    25,  87000],\n",
       "       [    23,  66000],\n",
       "       [    32, 120000],\n",
       "       [    59,  83000],\n",
       "       [    24,  58000],\n",
       "       [    24,  19000],\n",
       "       [    23,  82000],\n",
       "       [    22,  63000],\n",
       "       [    31,  68000],\n",
       "       [    25,  80000],\n",
       "       [    24,  27000],\n",
       "       [    20,  23000],\n",
       "       [    33, 113000],\n",
       "       [    32,  18000],\n",
       "       [    34, 112000],\n",
       "       [    18,  52000],\n",
       "       [    22,  27000],\n",
       "       [    28,  87000],\n",
       "       [    26,  17000],\n",
       "       [    30,  80000],\n",
       "       [    39,  42000],\n",
       "       [    20,  49000],\n",
       "       [    35,  88000],\n",
       "       [    30,  62000],\n",
       "       [    31, 118000],\n",
       "       [    24,  55000],\n",
       "       [    28,  85000],\n",
       "       [    26,  81000],\n",
       "       [    35,  50000],\n",
       "       [    22,  81000],\n",
       "       [    30, 116000],\n",
       "       [    26,  15000],\n",
       "       [    29,  28000],\n",
       "       [    29,  83000],\n",
       "       [    35,  44000],\n",
       "       [    35,  25000],\n",
       "       [    28, 123000],\n",
       "       [    35,  73000],\n",
       "       [    28,  37000],\n",
       "       [    27,  88000],\n",
       "       [    28,  59000],\n",
       "       [    32,  86000],\n",
       "       [    33, 149000],\n",
       "       [    19,  21000],\n",
       "       [    21,  72000],\n",
       "       [    26,  35000],\n",
       "       [    27,  89000],\n",
       "       [    26,  86000],\n",
       "       [    38,  80000],\n",
       "       [    39,  71000],\n",
       "       [    37,  71000],\n",
       "       [    38,  61000],\n",
       "       [    37,  55000],\n",
       "       [    42,  80000],\n",
       "       [    40,  57000],\n",
       "       [    35,  75000],\n",
       "       [    36,  52000],\n",
       "       [    40,  59000],\n",
       "       [    41,  59000],\n",
       "       [    36,  75000],\n",
       "       [    37,  72000],\n",
       "       [    40,  75000],\n",
       "       [    35,  53000],\n",
       "       [    41,  51000],\n",
       "       [    39,  61000],\n",
       "       [    42,  65000],\n",
       "       [    26,  32000],\n",
       "       [    30,  17000],\n",
       "       [    26,  84000],\n",
       "       [    31,  58000],\n",
       "       [    33,  31000],\n",
       "       [    30,  87000],\n",
       "       [    21,  68000],\n",
       "       [    28,  55000],\n",
       "       [    23,  63000],\n",
       "       [    20,  82000],\n",
       "       [    30, 107000],\n",
       "       [    28,  59000],\n",
       "       [    19,  25000],\n",
       "       [    19,  85000],\n",
       "       [    18,  68000],\n",
       "       [    35,  59000],\n",
       "       [    30,  89000],\n",
       "       [    34,  25000],\n",
       "       [    24,  89000],\n",
       "       [    27,  96000],\n",
       "       [    41,  30000],\n",
       "       [    29,  61000],\n",
       "       [    20,  74000],\n",
       "       [    26,  15000],\n",
       "       [    41,  45000],\n",
       "       [    31,  76000],\n",
       "       [    36,  50000],\n",
       "       [    40,  47000],\n",
       "       [    31,  15000],\n",
       "       [    46,  59000],\n",
       "       [    29,  75000],\n",
       "       [    26,  30000],\n",
       "       [    32, 135000],\n",
       "       [    32, 100000],\n",
       "       [    25,  90000],\n",
       "       [    37,  33000],\n",
       "       [    35,  38000],\n",
       "       [    33,  69000],\n",
       "       [    18,  86000],\n",
       "       [    22,  55000],\n",
       "       [    35,  71000],\n",
       "       [    29, 148000],\n",
       "       [    29,  47000],\n",
       "       [    21,  88000],\n",
       "       [    34, 115000],\n",
       "       [    26, 118000],\n",
       "       [    34,  43000],\n",
       "       [    34,  72000],\n",
       "       [    23,  28000],\n",
       "       [    35,  47000],\n",
       "       [    25,  22000],\n",
       "       [    24,  23000],\n",
       "       [    31,  34000],\n",
       "       [    26,  16000],\n",
       "       [    31,  71000],\n",
       "       [    32, 117000],\n",
       "       [    33,  43000],\n",
       "       [    33,  60000],\n",
       "       [    31,  66000],\n",
       "       [    20,  82000],\n",
       "       [    33,  41000],\n",
       "       [    35,  72000],\n",
       "       [    28,  32000],\n",
       "       [    24,  84000],\n",
       "       [    19,  26000],\n",
       "       [    29,  43000],\n",
       "       [    19,  70000],\n",
       "       [    28,  89000],\n",
       "       [    34,  43000],\n",
       "       [    30,  79000],\n",
       "       [    20,  36000],\n",
       "       [    26,  80000],\n",
       "       [    35,  22000],\n",
       "       [    35,  39000],\n",
       "       [    49,  74000],\n",
       "       [    39, 134000],\n",
       "       [    41,  71000],\n",
       "       [    58, 101000],\n",
       "       [    47,  47000],\n",
       "       [    55, 130000],\n",
       "       [    52, 114000],\n",
       "       [    40, 142000],\n",
       "       [    46,  22000],\n",
       "       [    48,  96000],\n",
       "       [    52, 150000],\n",
       "       [    59,  42000],\n",
       "       [    35,  58000],\n",
       "       [    47,  43000],\n",
       "       [    60, 108000],\n",
       "       [    49,  65000],\n",
       "       [    40,  78000],\n",
       "       [    46,  96000],\n",
       "       [    59, 143000],\n",
       "       [    41,  80000],\n",
       "       [    35,  91000],\n",
       "       [    37, 144000],\n",
       "       [    60, 102000],\n",
       "       [    35,  60000],\n",
       "       [    37,  53000],\n",
       "       [    36, 126000],\n",
       "       [    56, 133000],\n",
       "       [    40,  72000],\n",
       "       [    42,  80000],\n",
       "       [    35, 147000],\n",
       "       [    39,  42000],\n",
       "       [    40, 107000],\n",
       "       [    49,  86000],\n",
       "       [    38, 112000],\n",
       "       [    46,  79000],\n",
       "       [    40,  57000],\n",
       "       [    37,  80000],\n",
       "       [    46,  82000],\n",
       "       [    53, 143000],\n",
       "       [    42, 149000],\n",
       "       [    38,  59000],\n",
       "       [    50,  88000],\n",
       "       [    56, 104000],\n",
       "       [    41,  72000],\n",
       "       [    51, 146000],\n",
       "       [    35,  50000],\n",
       "       [    57, 122000],\n",
       "       [    41,  52000],\n",
       "       [    35,  97000],\n",
       "       [    44,  39000],\n",
       "       [    37,  52000],\n",
       "       [    48, 134000],\n",
       "       [    37, 146000],\n",
       "       [    50,  44000],\n",
       "       [    52,  90000],\n",
       "       [    41,  72000],\n",
       "       [    40,  57000],\n",
       "       [    58,  95000],\n",
       "       [    45, 131000],\n",
       "       [    35,  77000],\n",
       "       [    36, 144000],\n",
       "       [    55, 125000],\n",
       "       [    35,  72000],\n",
       "       [    48,  90000],\n",
       "       [    42, 108000],\n",
       "       [    40,  75000],\n",
       "       [    37,  74000],\n",
       "       [    47, 144000],\n",
       "       [    40,  61000],\n",
       "       [    43, 133000],\n",
       "       [    59,  76000],\n",
       "       [    60,  42000],\n",
       "       [    39, 106000],\n",
       "       [    57,  26000],\n",
       "       [    57,  74000],\n",
       "       [    38,  71000],\n",
       "       [    49,  88000],\n",
       "       [    52,  38000],\n",
       "       [    50,  36000],\n",
       "       [    59,  88000],\n",
       "       [    35,  61000],\n",
       "       [    37,  70000],\n",
       "       [    52,  21000],\n",
       "       [    48, 141000],\n",
       "       [    37,  93000],\n",
       "       [    37,  62000],\n",
       "       [    48, 138000],\n",
       "       [    41,  79000],\n",
       "       [    37,  78000],\n",
       "       [    39, 134000],\n",
       "       [    49,  89000],\n",
       "       [    55,  39000],\n",
       "       [    37,  77000],\n",
       "       [    35,  57000],\n",
       "       [    36,  63000],\n",
       "       [    42,  73000],\n",
       "       [    43, 112000],\n",
       "       [    45,  79000],\n",
       "       [    46, 117000],\n",
       "       [    58,  38000],\n",
       "       [    48,  74000],\n",
       "       [    37, 137000],\n",
       "       [    37,  79000],\n",
       "       [    40,  60000],\n",
       "       [    42,  54000],\n",
       "       [    51, 134000],\n",
       "       [    47, 113000],\n",
       "       [    36, 125000],\n",
       "       [    38,  50000],\n",
       "       [    42,  70000],\n",
       "       [    39,  96000],\n",
       "       [    38,  50000],\n",
       "       [    49, 141000],\n",
       "       [    39,  79000],\n",
       "       [    39,  75000],\n",
       "       [    54, 104000],\n",
       "       [    35,  55000],\n",
       "       [    45,  32000],\n",
       "       [    36,  60000],\n",
       "       [    52, 138000],\n",
       "       [    53,  82000],\n",
       "       [    41,  52000],\n",
       "       [    48,  30000],\n",
       "       [    48, 131000],\n",
       "       [    41,  60000],\n",
       "       [    41,  72000],\n",
       "       [    42,  75000],\n",
       "       [    36, 118000],\n",
       "       [    47, 107000],\n",
       "       [    38,  51000],\n",
       "       [    48, 119000],\n",
       "       [    42,  65000],\n",
       "       [    40,  65000],\n",
       "       [    57,  60000],\n",
       "       [    36,  54000],\n",
       "       [    58, 144000],\n",
       "       [    35,  79000],\n",
       "       [    38,  55000],\n",
       "       [    39, 122000],\n",
       "       [    53, 104000],\n",
       "       [    35,  75000],\n",
       "       [    38,  65000],\n",
       "       [    47,  51000],\n",
       "       [    47, 105000],\n",
       "       [    41,  63000],\n",
       "       [    53,  72000],\n",
       "       [    54, 108000],\n",
       "       [    39,  77000],\n",
       "       [    38,  61000],\n",
       "       [    38, 113000],\n",
       "       [    37,  75000],\n",
       "       [    42,  90000],\n",
       "       [    37,  57000],\n",
       "       [    36,  99000],\n",
       "       [    60,  34000],\n",
       "       [    54,  70000],\n",
       "       [    41,  72000],\n",
       "       [    40,  71000],\n",
       "       [    42,  54000],\n",
       "       [    43, 129000],\n",
       "       [    53,  34000],\n",
       "       [    47,  50000],\n",
       "       [    42,  79000],\n",
       "       [    42, 104000],\n",
       "       [    59,  29000],\n",
       "       [    58,  47000],\n",
       "       [    46,  88000],\n",
       "       [    38,  71000],\n",
       "       [    54,  26000],\n",
       "       [    60,  46000],\n",
       "       [    60,  83000],\n",
       "       [    39,  73000],\n",
       "       [    59, 130000],\n",
       "       [    37,  80000],\n",
       "       [    46,  32000],\n",
       "       [    46,  74000],\n",
       "       [    42,  53000],\n",
       "       [    41,  87000],\n",
       "       [    58,  23000],\n",
       "       [    42,  64000],\n",
       "       [    48,  33000],\n",
       "       [    44, 139000],\n",
       "       [    49,  28000],\n",
       "       [    57,  33000],\n",
       "       [    56,  60000],\n",
       "       [    49,  39000],\n",
       "       [    39,  71000],\n",
       "       [    47,  34000],\n",
       "       [    48,  35000],\n",
       "       [    48,  33000],\n",
       "       [    47,  23000],\n",
       "       [    45,  45000],\n",
       "       [    60,  42000],\n",
       "       [    39,  59000],\n",
       "       [    46,  41000],\n",
       "       [    51,  23000],\n",
       "       [    50,  20000],\n",
       "       [    36,  33000],\n",
       "       [    49,  36000]])"
      ]
     },
     "execution_count": 32,
     "metadata": {},
     "output_type": "execute_result"
    }
   ],
   "source": [
    "X"
   ]
  },
  {
   "cell_type": "code",
   "execution_count": 18,
   "metadata": {},
   "outputs": [
    {
     "data": {
      "text/plain": [
       "array([0, 0, 0, 0, 0, 0, 0, 1, 0, 0, 0, 0, 0, 0, 0, 0, 1, 1, 1, 1, 1, 1,\n",
       "       1, 1, 1, 1, 1, 1, 0, 0, 0, 1, 0, 0, 0, 0, 0, 0, 0, 0, 0, 0, 0, 0,\n",
       "       0, 0, 0, 0, 1, 0, 0, 0, 0, 0, 0, 0, 0, 0, 0, 0, 0, 0, 0, 1, 0, 0,\n",
       "       0, 0, 0, 0, 0, 0, 0, 0, 0, 1, 0, 0, 0, 0, 0, 0, 0, 0, 0, 1, 0, 0,\n",
       "       0, 0, 0, 0, 0, 0, 0, 0, 0, 1, 0, 0, 0, 0, 0, 1, 0, 0, 0, 0, 0, 0,\n",
       "       0, 0, 0, 0, 0, 0, 0, 0, 0, 0, 0, 0, 0, 0, 0, 0, 0, 0, 0, 0, 0, 0,\n",
       "       0, 0, 0, 0, 0, 1, 0, 0, 0, 0, 0, 0, 0, 0, 1, 0, 0, 0, 0, 0, 0, 0,\n",
       "       0, 0, 0, 0, 0, 1, 1, 0, 0, 0, 0, 0, 0, 0, 1, 0, 0, 0, 0, 0, 0, 0,\n",
       "       0, 0, 0, 0, 0, 0, 1, 0, 0, 0, 0, 0, 0, 0, 0, 0, 0, 0, 0, 0, 0, 0,\n",
       "       0, 0, 0, 0, 1, 0, 1, 0, 1, 0, 1, 0, 1, 1, 0, 0, 0, 1, 0, 0, 0, 1,\n",
       "       0, 1, 1, 1, 0, 0, 1, 1, 0, 1, 1, 0, 1, 1, 0, 1, 0, 0, 0, 1, 1, 0,\n",
       "       1, 1, 0, 1, 0, 1, 0, 1, 0, 0, 1, 1, 0, 1, 0, 0, 1, 1, 0, 1, 1, 0,\n",
       "       1, 1, 0, 0, 1, 0, 0, 1, 1, 1, 1, 1, 0, 1, 1, 1, 1, 0, 1, 1, 0, 1,\n",
       "       0, 1, 0, 1, 1, 1, 1, 0, 0, 0, 1, 1, 0, 1, 1, 1, 1, 1, 0, 0, 0, 1,\n",
       "       1, 0, 0, 1, 0, 1, 0, 1, 1, 0, 1, 0, 1, 1, 0, 1, 1, 0, 0, 0, 1, 1,\n",
       "       0, 1, 0, 0, 1, 0, 1, 0, 0, 1, 1, 0, 0, 1, 1, 0, 1, 1, 0, 0, 1, 0,\n",
       "       1, 0, 1, 1, 1, 0, 1, 0, 1, 1, 1, 0, 1, 1, 1, 1, 0, 1, 1, 1, 0, 1,\n",
       "       0, 1, 0, 0, 1, 1, 0, 1, 1, 1, 1, 1, 1, 0, 1, 1, 1, 1, 1, 1, 0, 1,\n",
       "       1, 1, 0, 1])"
      ]
     },
     "execution_count": 18,
     "metadata": {},
     "output_type": "execute_result"
    }
   ],
   "source": [
    "y"
   ]
  },
  {
   "cell_type": "code",
   "execution_count": 33,
   "metadata": {},
   "outputs": [],
   "source": [
    "# Splitting the dataset into the Training set and Test set\n",
    "from sklearn.model_selection import train_test_split\n",
    "X_train, X_test, y_train, y_test = train_test_split(X, y, test_size = 0.10, random_state = 0)\n",
    "\n"
   ]
  },
  {
   "cell_type": "code",
   "execution_count": 11,
   "metadata": {},
   "outputs": [
    {
     "data": {
      "text/plain": [
       "(360, 2)"
      ]
     },
     "execution_count": 11,
     "metadata": {},
     "output_type": "execute_result"
    }
   ],
   "source": [
    "X_train.shape"
   ]
  },
  {
   "cell_type": "code",
   "execution_count": 12,
   "metadata": {},
   "outputs": [
    {
     "data": {
      "text/plain": [
       "(40, 2)"
      ]
     },
     "execution_count": 12,
     "metadata": {},
     "output_type": "execute_result"
    }
   ],
   "source": [
    "X_test.shape"
   ]
  },
  {
   "cell_type": "code",
   "execution_count": 13,
   "metadata": {},
   "outputs": [
    {
     "data": {
      "text/plain": [
       "(360,)"
      ]
     },
     "execution_count": 13,
     "metadata": {},
     "output_type": "execute_result"
    }
   ],
   "source": [
    "y_train.shape"
   ]
  },
  {
   "cell_type": "code",
   "execution_count": 14,
   "metadata": {},
   "outputs": [
    {
     "data": {
      "text/plain": [
       "(40,)"
      ]
     },
     "execution_count": 14,
     "metadata": {},
     "output_type": "execute_result"
    }
   ],
   "source": [
    "y_test.shape"
   ]
  },
  {
   "cell_type": "markdown",
   "metadata": {},
   "source": [
    "#### Predictive Modelling"
   ]
  },
  {
   "cell_type": "code",
   "execution_count": 34,
   "metadata": {},
   "outputs": [
    {
     "data": {
      "text/plain": [
       "LogisticRegression()"
      ]
     },
     "execution_count": 34,
     "metadata": {},
     "output_type": "execute_result"
    }
   ],
   "source": [
    "# Fitting Logistic Regression to the Training set\n",
    "from sklearn.linear_model import LogisticRegression\n",
    "classifier = LogisticRegression()\n",
    "classifier.fit(X_train, y_train)  # training the data"
   ]
  },
  {
   "cell_type": "code",
   "execution_count": 35,
   "metadata": {},
   "outputs": [],
   "source": [
    "# Predicting the Test set results\n",
    "y_pred = classifier.predict(X_test)"
   ]
  },
  {
   "cell_type": "code",
   "execution_count": 36,
   "metadata": {},
   "outputs": [
    {
     "data": {
      "text/plain": [
       "array([0, 0, 0, 0, 0, 0, 0, 0, 0, 0, 0, 0, 0, 0, 0, 0, 0, 0, 0, 0, 0, 0,\n",
       "       0, 0, 0, 0, 0, 0, 0, 0, 0, 0, 0, 0, 0, 0, 0, 0, 0, 0])"
      ]
     },
     "execution_count": 36,
     "metadata": {},
     "output_type": "execute_result"
    }
   ],
   "source": [
    "y_pred  # predictedoutput values"
   ]
  },
  {
   "cell_type": "code",
   "execution_count": 25,
   "metadata": {},
   "outputs": [
    {
     "data": {
      "text/plain": [
       "array([0, 0, 0, 0, 0, 0, 0, 1, 0, 0, 0, 0, 0, 0, 0, 0, 0, 0, 1, 0, 0, 1,\n",
       "       0, 1, 0, 1, 0, 0, 0, 0, 0, 1, 1, 0, 0, 0, 0, 0, 0, 1])"
      ]
     },
     "execution_count": 25,
     "metadata": {},
     "output_type": "execute_result"
    }
   ],
   "source": [
    "y_test   # actual test output values"
   ]
  },
  {
   "cell_type": "code",
   "execution_count": 26,
   "metadata": {},
   "outputs": [
    {
     "data": {
      "text/plain": [
       "array([0, 0, 0, 0, 0, 0, 0, 0, 0, 0, 0, 0, 0, 0, 0, 0, 0, 0, 0, 0, 0, 0,\n",
       "       0, 0, 0, 0, 0, 0, 0, 0, 0, 0, 0, 0, 0, 0, 0, 0, 0, 0])"
      ]
     },
     "execution_count": 26,
     "metadata": {},
     "output_type": "execute_result"
    }
   ],
   "source": [
    "y_pred"
   ]
  },
  {
   "cell_type": "code",
   "execution_count": 27,
   "metadata": {},
   "outputs": [],
   "source": [
    "y_pred_prob=classifier.predict_proba(X_test)\n",
    "# to check the probability output"
   ]
  },
  {
   "cell_type": "code",
   "execution_count": 28,
   "metadata": {},
   "outputs": [
    {
     "data": {
      "text/plain": [
       "array([[0.532255  , 0.467745  ],\n",
       "       [0.54282611, 0.45717389],\n",
       "       [0.53830564, 0.46169436],\n",
       "       [0.53265863, 0.46734137],\n",
       "       [0.53956462, 0.46043538],\n",
       "       [0.53236541, 0.46763459],\n",
       "       [0.53697483, 0.46302517],\n",
       "       [0.53591747, 0.46408253],\n",
       "       [0.52011648, 0.47988352],\n",
       "       [0.5529382 , 0.4470618 ],\n",
       "       [0.53417184, 0.46582816],\n",
       "       [0.53168946, 0.46831054],\n",
       "       [0.54148777, 0.45851223],\n",
       "       [0.5425547 , 0.4574453 ],\n",
       "       [0.52139148, 0.47860852],\n",
       "       [0.53292135, 0.46707865],\n",
       "       [0.54038057, 0.45961943],\n",
       "       [0.52034937, 0.47965063],\n",
       "       [0.55723417, 0.44276583],\n",
       "       [0.54097409, 0.45902591],\n",
       "       [0.53971567, 0.46028433],\n",
       "       [0.54787292, 0.45212708],\n",
       "       [0.5460337 , 0.4539663 ],\n",
       "       [0.54983005, 0.45016995],\n",
       "       [0.52759892, 0.47240108],\n",
       "       [0.5501916 , 0.4498084 ],\n",
       "       [0.53007431, 0.46992569],\n",
       "       [0.53151808, 0.46848192],\n",
       "       [0.54113552, 0.45886448],\n",
       "       [0.53448488, 0.46551512],\n",
       "       [0.52238284, 0.47761716],\n",
       "       [0.5402799 , 0.4597201 ],\n",
       "       [0.56288721, 0.43711279],\n",
       "       [0.5415884 , 0.4584116 ],\n",
       "       [0.5271748 , 0.4728252 ],\n",
       "       [0.52092579, 0.47907421],\n",
       "       [0.52382901, 0.47617099],\n",
       "       [0.53882924, 0.46117076],\n",
       "       [0.5360173 , 0.4639827 ],\n",
       "       [0.55545217, 0.44454783]])"
      ]
     },
     "execution_count": 28,
     "metadata": {},
     "output_type": "execute_result"
    }
   ],
   "source": [
    "y_pred_prob"
   ]
  },
  {
   "cell_type": "code",
   "execution_count": 29,
   "metadata": {},
   "outputs": [
    {
     "data": {
      "text/plain": [
       "array([0, 0, 0, 0, 0, 0, 0, 0, 0, 0, 0, 0, 0, 0, 0, 0, 0, 0, 0, 0, 0, 0,\n",
       "       0, 0, 0, 0, 0, 0, 0, 0, 0, 0, 0, 0, 0, 0, 0, 0, 0, 0])"
      ]
     },
     "execution_count": 29,
     "metadata": {},
     "output_type": "execute_result"
    }
   ],
   "source": [
    "y_pred   #  predicted  test values"
   ]
  },
  {
   "cell_type": "code",
   "execution_count": 30,
   "metadata": {},
   "outputs": [
    {
     "data": {
      "text/plain": [
       "array([0, 0, 0, 0, 0, 0, 0, 1, 0, 0, 0, 0, 0, 0, 0, 0, 0, 0, 1, 0, 0, 1,\n",
       "       0, 1, 0, 1, 0, 0, 0, 0, 0, 1, 1, 0, 0, 0, 0, 0, 0, 1])"
      ]
     },
     "execution_count": 30,
     "metadata": {},
     "output_type": "execute_result"
    }
   ],
   "source": [
    "y_test  # Actual output values"
   ]
  },
  {
   "cell_type": "code",
   "execution_count": 31,
   "metadata": {},
   "outputs": [
    {
     "data": {
      "text/plain": [
       "array([[32,  0],\n",
       "       [ 8,  0]])"
      ]
     },
     "execution_count": 31,
     "metadata": {},
     "output_type": "execute_result"
    }
   ],
   "source": [
    "# Making the Confusion Matrix\n",
    "from sklearn.metrics import confusion_matrix, accuracy_score\n",
    "confusion_matrix(y_test, y_pred)"
   ]
  },
  {
   "cell_type": "code",
   "execution_count": 32,
   "metadata": {},
   "outputs": [
    {
     "data": {
      "text/plain": [
       "0.8"
      ]
     },
     "execution_count": 32,
     "metadata": {},
     "output_type": "execute_result"
    }
   ],
   "source": [
    "accuracy_score(y_test, y_pred)"
   ]
  },
  {
   "cell_type": "code",
   "execution_count": 33,
   "metadata": {},
   "outputs": [
    {
     "data": {
      "text/plain": [
       "array([0, 0, 0, 0, 0, 0, 0, 1, 0, 0, 0, 0, 0, 0, 0, 0, 0, 0, 1, 0, 0, 1,\n",
       "       0, 1, 0, 1, 0, 0, 0, 0, 0, 1, 1, 0, 0, 0, 0, 0, 0, 1])"
      ]
     },
     "execution_count": 33,
     "metadata": {},
     "output_type": "execute_result"
    }
   ],
   "source": [
    "y_test"
   ]
  },
  {
   "cell_type": "code",
   "execution_count": 34,
   "metadata": {},
   "outputs": [
    {
     "data": {
      "text/plain": [
       "array([0, 0, 0, 0, 0, 0, 0, 0, 0, 0, 0, 0, 0, 0, 0, 0, 0, 0, 0, 0, 0, 0,\n",
       "       0, 0, 0, 0, 0, 0, 0, 0, 0, 0, 0, 0, 0, 0, 0, 0, 0, 0])"
      ]
     },
     "execution_count": 34,
     "metadata": {},
     "output_type": "execute_result"
    }
   ],
   "source": [
    "y_pred"
   ]
  },
  {
   "cell_type": "code",
   "execution_count": 19,
   "metadata": {},
   "outputs": [],
   "source": [
    "# Z score= deviation/standard deviation\n",
    "from sklearn.preprocessing import StandardScaler\n",
    "sc = StandardScaler()\n",
    "X_train = sc.fit_transform(X_train)  \n",
    "#   converting to standard scalar values\n",
    "X_test = sc.transform(X_test)"
   ]
  },
  {
   "cell_type": "code",
   "execution_count": null,
   "metadata": {},
   "outputs": [],
   "source": [
    "# to display as float values\n",
    "#np.set_printoptions(formatter={'float_kind':'{:f}'.format})"
   ]
  },
  {
   "cell_type": "code",
   "execution_count": 20,
   "metadata": {
    "scrolled": true
   },
   "outputs": [
    {
     "data": {
      "text/plain": [
       "array([[-1.05714987,  0.53420426],\n",
       "       [ 0.2798728 , -0.51764734],\n",
       "       [-1.05714987,  0.41733186],\n",
       "       [-0.29313691, -1.45262654],\n",
       "       [ 0.47087604,  1.23543867],\n",
       "       [-1.05714987, -0.34233874],\n",
       "       [-0.10213368,  0.30045946],\n",
       "       [ 1.33039061,  0.59264046],\n",
       "       [-1.15265148, -1.16044554],\n",
       "       [ 1.04388575,  0.47576806],\n",
       "       [ 1.8078987 ,  1.52761967],\n",
       "       [-0.38863853, -1.30653604],\n",
       "       [-0.29313691, -0.37155684],\n",
       "       [-0.38863853,  1.32309297],\n",
       "       [ 1.99890194,  0.53420426],\n",
       "       [ 0.66187928, -1.10200934],\n",
       "       [-0.86614663,  0.38811376],\n",
       "       [-1.15265148,  0.30045946],\n",
       "       [ 1.04388575, -1.21888174],\n",
       "       [-1.43915634, -1.45262654],\n",
       "       [-0.57964177, -1.51106275],\n",
       "       [ 2.09440356, -0.80982834],\n",
       "       [-1.82116282,  0.18358706],\n",
       "       [-0.19763529,  0.85560337],\n",
       "       [-1.82116282, -1.27731794],\n",
       "       [ 2.09440356,  0.38811376],\n",
       "       [-1.34365472,  0.56342236],\n",
       "       [-1.05714987, -0.34233874],\n",
       "       [ 0.18437118, -0.66373784],\n",
       "       [ 0.37537442,  0.00827846],\n",
       "       [-0.57964177,  2.34572647],\n",
       "       [-0.29313691,  0.21280516],\n",
       "       [-1.53465796, -0.19624824],\n",
       "       [ 0.66187928, -1.39419034],\n",
       "       [-1.05714987,  0.56342236],\n",
       "       [-1.91666444,  0.35889566],\n",
       "       [ 0.37537442,  0.27124136],\n",
       "       [ 0.18437118, -0.28390254],\n",
       "       [ 1.42589223, -1.04357314],\n",
       "       [ 0.85288251,  1.08934817],\n",
       "       [ 1.90340032,  2.17041787],\n",
       "       [ 1.99890194,  0.38811376],\n",
       "       [-1.34365472, -0.42999304],\n",
       "       [-1.15265148, -1.01435504],\n",
       "       [ 1.90340032, -0.92670074],\n",
       "       [ 0.37537442,  0.30045946],\n",
       "       [ 0.18437118,  0.15436896],\n",
       "       [ 1.99890194,  1.76136447],\n",
       "       [ 0.75738089, -0.83904644],\n",
       "       [ 0.2798728 , -0.28390254],\n",
       "       [ 0.37537442, -0.16703014],\n",
       "       [-0.10213368,  2.22885407],\n",
       "       [-1.43915634, -0.63451974],\n",
       "       [-1.2481531 , -1.07279124],\n",
       "       [-1.34365472,  0.41733186],\n",
       "       [-1.05714987,  0.76794907],\n",
       "       [-1.43915634, -0.19624824],\n",
       "       [ 0.94838413, -1.07279124],\n",
       "       [ 0.94838413,  0.59264046],\n",
       "       [ 0.37537442,  1.00169387],\n",
       "       [ 0.56637766, -0.89748264],\n",
       "       [-0.57964177,  1.46918347],\n",
       "       [-0.00663206, -0.57608354],\n",
       "       [-0.57964177,  1.90745497],\n",
       "       [ 1.33039061, -1.42340844],\n",
       "       [ 1.42589223,  1.00169387],\n",
       "       [ 0.08886956, -0.80982834],\n",
       "       [-0.00663206, -0.25468444],\n",
       "       [-0.19763529, -0.57608354],\n",
       "       [-0.19763529, -0.19624824],\n",
       "       [-0.29313691, -1.30653604],\n",
       "       [-0.29313691, -0.57608354],\n",
       "       [ 0.37537442,  0.09593276],\n",
       "       [ 0.85288251, -0.60530164],\n",
       "       [ 1.99890194, -1.18966364],\n",
       "       [ 1.04388575, -0.13781204],\n",
       "       [ 0.66187928,  1.79058257],\n",
       "       [-0.67514339,  0.56342236],\n",
       "       [ 0.75738089,  0.35889566],\n",
       "       [ 0.85288251, -0.54686544],\n",
       "       [-1.15265148, -1.59871705],\n",
       "       [ 2.09440356,  0.94325767],\n",
       "       [-0.00663206,  1.23543867],\n",
       "       [ 0.18437118,  1.08934817],\n",
       "       [ 0.37537442, -0.48842924],\n",
       "       [-0.29313691, -0.31312064],\n",
       "       [ 0.94838413, -0.83904644],\n",
       "       [ 0.94838413,  1.87823687],\n",
       "       [-0.00663206,  1.26465677],\n",
       "       [-0.86614663,  2.28729027],\n",
       "       [-1.15265148, -1.59871705],\n",
       "       [ 2.09440356, -0.80982834],\n",
       "       [-1.34365472, -1.48184464],\n",
       "       [ 0.37537442,  2.31650837],\n",
       "       [ 0.75738089,  0.76794907],\n",
       "       [-0.96164825, -0.31312064],\n",
       "       [ 0.08886956,  0.76794907],\n",
       "       [-0.96164825,  0.56342236],\n",
       "       [ 0.2798728 ,  0.06671466],\n",
       "       [ 0.66187928, -1.27731794],\n",
       "       [-0.48414015, -0.02093964],\n",
       "       [-1.7256612 ,  0.35889566],\n",
       "       [-0.67514339,  0.12515086],\n",
       "       [ 0.37537442,  0.30045946],\n",
       "       [-0.29313691,  0.06671466],\n",
       "       [-0.48414015,  2.31650837],\n",
       "       [ 0.18437118,  0.03749656],\n",
       "       [ 1.23488899,  2.22885407],\n",
       "       [ 0.75738089,  0.27124136],\n",
       "       [-0.29313691,  0.15436896],\n",
       "       [-0.00663206, -0.54686544],\n",
       "       [-0.19763529,  0.15436896],\n",
       "       [-0.10213368,  0.24202326],\n",
       "       [-0.00663206, -0.25468444],\n",
       "       [ 2.09440356,  1.11856627],\n",
       "       [-1.7256612 ,  0.35889566],\n",
       "       [ 1.8078987 ,  0.12515086],\n",
       "       [ 0.37537442, -0.13781204],\n",
       "       [-1.15265148,  0.30045946],\n",
       "       [ 0.75738089,  1.38152917],\n",
       "       [-0.29313691, -0.25468444],\n",
       "       [-1.63015958, -0.05015774],\n",
       "       [-0.96164825, -0.75139214],\n",
       "       [ 0.2798728 ,  0.50498616],\n",
       "       [-0.10213368, -1.07279124],\n",
       "       [-1.05714987,  0.59264046],\n",
       "       [ 0.08886956, -0.80982834],\n",
       "       [-0.96164825,  1.55683777],\n",
       "       [-0.67514339,  1.41074727],\n",
       "       [-1.2481531 ,  0.50498616],\n",
       "       [-0.29313691,  0.03749656],\n",
       "       [-0.10213368,  0.00827846],\n",
       "       [-0.29313691, -0.89748264],\n",
       "       [ 0.85288251, -1.36497224],\n",
       "       [-0.29313691,  2.25807217],\n",
       "       [ 0.94838413,  1.99510927],\n",
       "       [-1.15265148,  0.47576806],\n",
       "       [-1.2481531 ,  0.27124136],\n",
       "       [ 1.33039061,  1.99510927],\n",
       "       [ 1.23488899, -1.36497224],\n",
       "       [-0.29313691, -0.28390254],\n",
       "       [-0.48414015,  1.26465677],\n",
       "       [-0.77064501,  1.08934817],\n",
       "       [ 0.94838413, -1.07279124],\n",
       "       [ 0.2798728 ,  0.30045946],\n",
       "       [ 0.94838413,  0.76794907],\n",
       "       [-0.67514339, -1.51106275],\n",
       "       [-0.67514339,  0.03749656],\n",
       "       [ 0.47087604,  1.73214637],\n",
       "       [ 1.99890194,  0.18358706],\n",
       "       [-1.91666444, -0.75139214],\n",
       "       [-0.19763529,  1.41074727],\n",
       "       [ 0.37537442,  0.59264046],\n",
       "       [ 0.85288251, -1.16044554],\n",
       "       [-1.15265148, -0.78061024],\n",
       "       [ 0.18437118,  0.24202326],\n",
       "       [ 0.75738089, -0.31312064],\n",
       "       [ 1.99890194, -0.80982834],\n",
       "       [ 0.75738089,  0.12515086],\n",
       "       [-0.29313691,  0.62185856],\n",
       "       [-0.96164825, -0.31312064],\n",
       "       [ 0.18437118, -0.37155684],\n",
       "       [ 1.99890194,  2.14119977],\n",
       "       [ 1.8078987 , -1.27731794],\n",
       "       [ 1.33039061, -0.92670074],\n",
       "       [ 0.85288251,  1.26465677],\n",
       "       [ 1.42589223,  2.14119977],\n",
       "       [-0.29313691, -1.24809984],\n",
       "       [ 1.90340032,  0.91403957],\n",
       "       [ 0.66187928, -0.72217404],\n",
       "       [-1.43915634,  0.35889566],\n",
       "       [ 0.75738089, -1.36497224],\n",
       "       [ 0.37537442, -0.13781204],\n",
       "       [-0.96164825,  0.41733186],\n",
       "       [-0.00663206, -0.31312064],\n",
       "       [-1.15265148,  0.41733186],\n",
       "       [-0.86614663, -1.21888174],\n",
       "       [-0.10213368,  0.03749656],\n",
       "       [-1.53465796, -0.42999304],\n",
       "       [ 0.94838413, -1.01435504],\n",
       "       [ 1.04388575, -1.21888174],\n",
       "       [-0.00663206, -0.13781204],\n",
       "       [-1.05714987, -1.54028085],\n",
       "       [ 0.75738089, -1.21888174],\n",
       "       [ 0.94838413,  2.08276357],\n",
       "       [-1.15265148, -1.54028085],\n",
       "       [-0.29313691,  0.79716717],\n",
       "       [ 0.08886956, -0.31312064],\n",
       "       [-1.34365472, -1.24809984],\n",
       "       [-0.57964177, -1.51106275],\n",
       "       [ 0.75738089,  0.53420426],\n",
       "       [-0.29313691, -0.34233874],\n",
       "       [ 1.71239708, -0.28390254],\n",
       "       [ 0.85288251, -1.04357314],\n",
       "       [ 0.18437118,  0.06671466],\n",
       "       [-0.57964177,  0.88482147],\n",
       "       [-1.82116282, -1.42340844],\n",
       "       [-1.2481531 ,  0.59264046],\n",
       "       [-0.29313691,  0.53420426],\n",
       "       [-0.96164825, -1.10200934],\n",
       "       [ 1.13938737, -1.45262654],\n",
       "       [ 0.18437118, -0.31312064],\n",
       "       [ 1.13938737, -0.75139214],\n",
       "       [-0.29313691,  0.06671466],\n",
       "       [ 0.18437118,  2.11198167],\n",
       "       [ 0.75738089, -1.10200934],\n",
       "       [ 0.08886956,  0.03749656],\n",
       "       [-1.7256612 ,  0.12515086],\n",
       "       [-0.86614663,  0.15436896],\n",
       "       [-0.67514339,  0.18358706],\n",
       "       [ 0.85288251, -1.30653604],\n",
       "       [ 0.18437118, -0.25468444],\n",
       "       [-0.38863853,  1.23543867],\n",
       "       [-0.00663206,  0.30045946],\n",
       "       [ 0.37537442,  0.15436896],\n",
       "       [ 0.85288251, -0.66373784],\n",
       "       [ 0.08886956,  0.15436896],\n",
       "       [-1.82116282, -1.30653604],\n",
       "       [-0.10213368,  0.30045946],\n",
       "       [-0.19763529, -0.28390254],\n",
       "       [ 0.2798728 , -0.51764734],\n",
       "       [-0.19763529,  1.61527397],\n",
       "       [ 0.94838413, -1.18966364],\n",
       "       [-0.19763529,  1.64449207],\n",
       "       [ 1.23488899,  1.87823687],\n",
       "       [-1.05714987, -0.37155684],\n",
       "       [-0.00663206,  0.03749656],\n",
       "       [ 0.08886956, -0.25468444],\n",
       "       [-1.53465796, -1.24809984],\n",
       "       [-0.48414015, -0.28390254],\n",
       "       [ 0.94838413,  0.12515086],\n",
       "       [ 1.90340032, -1.36497224],\n",
       "       [ 1.42589223,  0.06671466],\n",
       "       [-0.57964177,  1.38152917],\n",
       "       [ 1.52139385,  0.00827846],\n",
       "       [-0.77064501,  0.30045946],\n",
       "       [ 1.90340032,  0.73873096],\n",
       "       [-1.15265148, -0.51764734],\n",
       "       [ 0.66187928,  0.27124136],\n",
       "       [-1.34365472, -0.42999304],\n",
       "       [ 0.18437118,  0.15436896],\n",
       "       [-0.48414015, -1.21888174],\n",
       "       [ 0.56637766,  2.02432737],\n",
       "       [-1.53465796, -1.51106275],\n",
       "       [-0.48414015, -0.54686544],\n",
       "       [ 0.47087604,  1.84901877],\n",
       "       [-1.34365472, -1.10200934],\n",
       "       [ 0.75738089, -1.39419034],\n",
       "       [-0.29313691, -0.42999304],\n",
       "       [ 1.52139385,  1.00169387],\n",
       "       [ 0.94838413,  1.43996537],\n",
       "       [-0.29313691, -0.48842924],\n",
       "       [-0.10213368,  2.17041787],\n",
       "       [-1.43915634, -0.10859394],\n",
       "       [-0.10213368,  1.96589117],\n",
       "       [-0.67514339, -0.34233874],\n",
       "       [-0.48414015, -0.83904644],\n",
       "       [ 0.66187928, -1.39419034],\n",
       "       [-0.77064501, -1.59871705],\n",
       "       [-1.82116282, -1.48184464],\n",
       "       [ 1.04388575,  0.12515086],\n",
       "       [ 0.08886956,  1.52761967],\n",
       "       [-0.29313691,  0.09593276],\n",
       "       [ 0.08886956,  0.03749656],\n",
       "       [-1.34365472, -1.36497224],\n",
       "       [ 0.2798728 ,  0.06671466],\n",
       "       [-0.86614663,  0.38811376],\n",
       "       [ 1.52139385, -1.27731794],\n",
       "       [-0.29313691, -0.75139214],\n",
       "       [-0.10213368,  0.15436896],\n",
       "       [-0.86614663, -0.66373784],\n",
       "       [-0.67514339, -0.05015774],\n",
       "       [ 0.37537442, -0.45921114],\n",
       "       [-0.77064501,  1.90745497],\n",
       "       [ 1.33039061,  1.29387487],\n",
       "       [ 1.13938737, -0.98513694],\n",
       "       [ 1.71239708,  1.84901877],\n",
       "       [-0.86614663, -0.25468444],\n",
       "       [-0.77064501,  0.56342236],\n",
       "       [-1.15265148, -1.56949895],\n",
       "       [-0.48414015, -1.13122744],\n",
       "       [ 0.2798728 ,  0.06671466],\n",
       "       [-0.19763529, -1.07279124],\n",
       "       [ 1.61689547,  1.61527397],\n",
       "       [ 0.94838413,  1.79058257],\n",
       "       [ 0.2798728 ,  0.03749656],\n",
       "       [-0.77064501, -0.22546634],\n",
       "       [-0.10213368,  0.06671466],\n",
       "       [ 0.2798728 , -0.19624824],\n",
       "       [ 1.90340032, -0.66373784],\n",
       "       [-0.77064501,  1.35231107],\n",
       "       [-1.7256612 , -0.60530164],\n",
       "       [-0.10213368,  0.12515086],\n",
       "       [ 0.2798728 , -0.31312064],\n",
       "       [ 1.04388575,  0.56342236],\n",
       "       [-0.96164825,  0.27124136],\n",
       "       [ 1.42589223,  0.35889566],\n",
       "       [ 0.18437118, -0.37155684],\n",
       "       [ 2.09440356, -1.04357314],\n",
       "       [-0.29313691,  1.11856627],\n",
       "       [-1.63015958,  0.06671466],\n",
       "       [-0.00663206,  0.03749656],\n",
       "       [ 0.08886956,  1.06013007],\n",
       "       [-0.10213368, -0.37155684],\n",
       "       [-1.15265148,  0.06671466],\n",
       "       [-0.29313691, -1.36497224],\n",
       "       [ 1.52139385,  1.11856627],\n",
       "       [-0.77064501, -1.54028085],\n",
       "       [ 0.08886956,  1.87823687],\n",
       "       [-0.86614663, -0.78061024],\n",
       "       [-0.48414015, -0.78061024],\n",
       "       [-0.29313691, -0.92670074],\n",
       "       [ 0.2798728 , -0.72217404],\n",
       "       [ 0.2798728 ,  0.06671466],\n",
       "       [ 0.08886956,  1.87823687],\n",
       "       [-1.05714987,  1.96589117],\n",
       "       [-1.63015958, -1.56949895],\n",
       "       [-1.15265148, -1.10200934],\n",
       "       [-0.67514339, -0.10859394],\n",
       "       [ 0.08886956,  0.09593276],\n",
       "       [ 0.2798728 ,  0.27124136],\n",
       "       [ 0.85288251, -0.57608354],\n",
       "       [ 0.2798728 , -1.16044554],\n",
       "       [-0.10213368,  0.68029476],\n",
       "       [ 2.09440356, -0.69295594],\n",
       "       [-1.2481531 , -1.39419034],\n",
       "       [-0.96164825, -0.95591884],\n",
       "       [-0.00663206, -0.42999304],\n",
       "       [-0.19763529, -0.45921114],\n",
       "       [-1.7256612 , -0.98513694],\n",
       "       [ 1.71239708,  1.00169387],\n",
       "       [ 0.18437118, -0.37155684],\n",
       "       [ 0.37537442,  1.11856627],\n",
       "       [-1.7256612 , -1.36497224],\n",
       "       [ 0.18437118, -0.13781204],\n",
       "       [ 0.85288251, -1.45262654],\n",
       "       [-1.91666444,  0.47576806],\n",
       "       [-0.29313691,  0.27124136],\n",
       "       [ 1.8078987 , -1.07279124],\n",
       "       [-0.38863853,  0.06671466],\n",
       "       [ 1.04388575, -0.89748264],\n",
       "       [-1.05714987, -1.13122744],\n",
       "       [-1.82116282,  0.00827846],\n",
       "       [ 0.08886956,  0.27124136],\n",
       "       [-1.15265148,  0.32967756],\n",
       "       [-1.2481531 ,  0.30045946],\n",
       "       [-0.96164825,  0.44654996],\n",
       "       [ 1.61689547, -0.89748264],\n",
       "       [ 1.13938737,  0.53420426],\n",
       "       [ 1.04388575,  0.53420426],\n",
       "       [ 1.33039061,  2.34572647],\n",
       "       [-0.29313691, -0.13781204],\n",
       "       [ 0.37537442, -0.45921114],\n",
       "       [-0.38863853, -0.78061024],\n",
       "       [-0.10213368, -0.51764734],\n",
       "       [ 0.94838413, -1.16044554],\n",
       "       [-0.86614663, -0.78061024],\n",
       "       [-0.19763529, -0.51764734],\n",
       "       [-1.05714987, -0.45921114],\n",
       "       [-1.15265148,  1.41074727]])"
      ]
     },
     "execution_count": 20,
     "metadata": {},
     "output_type": "execute_result"
    }
   ],
   "source": [
    "X_train"
   ]
  },
  {
   "cell_type": "code",
   "execution_count": 21,
   "metadata": {
    "scrolled": true
   },
   "outputs": [
    {
     "data": {
      "text/plain": [
       "array([[-0.77064501,  0.50498616],\n",
       "       [-0.00663206, -0.57608354],\n",
       "       [-0.29313691,  0.15436896],\n",
       "       [-0.77064501,  0.27124136],\n",
       "       [-0.29313691, -0.57608354],\n",
       "       [-1.05714987, -1.45262654],\n",
       "       [-0.67514339, -1.59871705],\n",
       "       [-0.19763529,  2.17041787],\n",
       "       [-1.91666444, -0.05015774],\n",
       "       [ 0.85288251, -0.78061024],\n",
       "       [-0.77064501, -0.60530164],\n",
       "       [-0.96164825, -0.42999304],\n",
       "       [-0.10213368, -0.42999304],\n",
       "       [ 0.08886956,  0.21280516],\n",
       "       [-1.7256612 ,  0.47576806],\n",
       "       [-0.57964177,  1.38152917],\n",
       "       [-0.10213368,  0.21280516],\n",
       "       [-1.82116282,  0.44654996],\n",
       "       [ 1.61689547,  1.76136447],\n",
       "       [-0.29313691, -1.39419034],\n",
       "       [-0.29313691, -0.66373784],\n",
       "       [ 0.85288251,  2.17041787],\n",
       "       [ 0.2798728 , -0.54686544],\n",
       "       [ 0.85288251,  1.03091197],\n",
       "       [-1.43915634, -1.21888174],\n",
       "       [ 1.04388575,  2.08276357],\n",
       "       [-0.96164825,  0.50498616],\n",
       "       [-0.86614663,  0.30045946],\n",
       "       [-0.10213368, -0.22546634],\n",
       "       [-0.57964177,  0.47576806],\n",
       "       [-1.63015958,  0.53420426],\n",
       "       [-0.10213368,  0.27124136],\n",
       "       [ 1.8078987 , -0.28390254],\n",
       "       [-0.10213368, -0.48842924],\n",
       "       [-1.34365472, -0.34233874],\n",
       "       [-1.91666444, -0.51764734],\n",
       "       [-1.53465796,  0.32967756],\n",
       "       [-0.38863853, -0.78061024],\n",
       "       [-0.67514339, -1.04357314],\n",
       "       [ 1.04388575, -0.98513694]])"
      ]
     },
     "execution_count": 21,
     "metadata": {},
     "output_type": "execute_result"
    }
   ],
   "source": [
    "X_test"
   ]
  },
  {
   "cell_type": "code",
   "execution_count": 22,
   "metadata": {},
   "outputs": [
    {
     "data": {
      "text/plain": [
       "LogisticRegression()"
      ]
     },
     "execution_count": 22,
     "metadata": {},
     "output_type": "execute_result"
    }
   ],
   "source": [
    "#from sklearn.linear_model import LogisticRegression\n",
    "classifier1 = LogisticRegression()\n",
    "classifier1.fit(X_train, y_train)"
   ]
  },
  {
   "cell_type": "code",
   "execution_count": 23,
   "metadata": {},
   "outputs": [],
   "source": [
    "y_pred1=classifier1.predict(X_test)"
   ]
  },
  {
   "cell_type": "code",
   "execution_count": 24,
   "metadata": {},
   "outputs": [
    {
     "data": {
      "text/plain": [
       "array([0, 0, 0, 0, 0, 0, 0, 1, 0, 1, 0, 0, 0, 0, 0, 0, 0, 0, 1, 0, 0, 1,\n",
       "       0, 1, 0, 1, 0, 0, 0, 0, 0, 0, 1, 0, 0, 0, 0, 0, 0, 1])"
      ]
     },
     "execution_count": 24,
     "metadata": {},
     "output_type": "execute_result"
    }
   ],
   "source": [
    "y_pred1"
   ]
  },
  {
   "cell_type": "code",
   "execution_count": 40,
   "metadata": {
    "scrolled": true
   },
   "outputs": [
    {
     "data": {
      "text/plain": [
       "array([0, 0, 0, 0, 0, 0, 0, 1, 0, 0, 0, 0, 0, 0, 0, 0, 0, 0, 1, 0, 0, 1,\n",
       "       0, 1, 0, 1, 0, 0, 0, 0, 0, 1, 1, 0, 0, 0, 0, 0, 0, 1])"
      ]
     },
     "execution_count": 40,
     "metadata": {},
     "output_type": "execute_result"
    }
   ],
   "source": [
    "y_test"
   ]
  },
  {
   "cell_type": "code",
   "execution_count": 41,
   "metadata": {},
   "outputs": [
    {
     "data": {
      "text/plain": [
       "array([[31,  1],\n",
       "       [ 1,  7]])"
      ]
     },
     "execution_count": 41,
     "metadata": {},
     "output_type": "execute_result"
    }
   ],
   "source": [
    "confusion_matrix(y_test,y_pred1)"
   ]
  },
  {
   "cell_type": "code",
   "execution_count": 42,
   "metadata": {},
   "outputs": [
    {
     "data": {
      "text/plain": [
       "0.95"
      ]
     },
     "execution_count": 42,
     "metadata": {},
     "output_type": "execute_result"
    }
   ],
   "source": [
    "accuracy_score(y_test,y_pred1)"
   ]
  },
  {
   "cell_type": "code",
   "execution_count": 43,
   "metadata": {},
   "outputs": [],
   "source": [
    "y_pred_prob1=classifier1.predict_proba(X_test)"
   ]
  },
  {
   "cell_type": "code",
   "execution_count": 44,
   "metadata": {},
   "outputs": [
    {
     "data": {
      "text/plain": [
       "array([0, 0, 0, 0, 0, 0, 0, 1, 0, 1, 0, 0, 0, 0, 0, 0, 0, 0, 1, 0, 0, 1,\n",
       "       0, 1, 0, 1, 0, 0, 0, 0, 0, 0, 1, 0, 0, 0, 0, 0, 0, 1])"
      ]
     },
     "execution_count": 44,
     "metadata": {},
     "output_type": "execute_result"
    }
   ],
   "source": [
    "y_pred1"
   ]
  },
  {
   "cell_type": "code",
   "execution_count": 45,
   "metadata": {},
   "outputs": [
    {
     "data": {
      "text/plain": [
       "array([[0.88213607, 0.11786393],\n",
       "       [0.82289204, 0.17710796],\n",
       "       [0.79666119, 0.20333881],\n",
       "       [0.90585056, 0.09414944],\n",
       "       [0.89571355, 0.10428645],\n",
       "       [0.9912579 , 0.0087421 ],\n",
       "       [0.98318606, 0.01681394],\n",
       "       [0.2678345 , 0.7321655 ],\n",
       "       [0.99373824, 0.00626176],\n",
       "       [0.47816462, 0.52183538],\n",
       "       [0.96105567, 0.03894433],\n",
       "       [0.96854164, 0.03145836],\n",
       "       [0.82975409, 0.17024591],\n",
       "       [0.61858431, 0.38141569],\n",
       "       [0.98357288, 0.01642712],\n",
       "       [0.65955196, 0.34044804],\n",
       "       [0.70954038, 0.29045962],\n",
       "       [0.98698381, 0.01301619],\n",
       "       [0.01145999, 0.98854001],\n",
       "       [0.9538933 , 0.0461067 ],\n",
       "       [0.90418979, 0.09581021],\n",
       "       [0.03702309, 0.96297691],\n",
       "       [0.70894277, 0.29105723],\n",
       "       [0.11567837, 0.88432163],\n",
       "       [0.99502759, 0.00497241],\n",
       "       [0.02728097, 0.97271903],\n",
       "       [0.91852139, 0.08147861],\n",
       "       [0.91963504, 0.08036496],\n",
       "       [0.79642636, 0.20357364],\n",
       "       [0.83679927, 0.16320073],\n",
       "       [0.97864033, 0.02135967],\n",
       "       [0.69643082, 0.30356918],\n",
       "       [0.064816  , 0.935184  ],\n",
       "       [0.83844174, 0.16155826],\n",
       "       [0.98451312, 0.01548688],\n",
       "       [0.99620158, 0.00379842],\n",
       "       [0.97895111, 0.02104889],\n",
       "       [0.92923929, 0.07076071],\n",
       "       [0.96988192, 0.03011808],\n",
       "       [0.43113358, 0.56886642]])"
      ]
     },
     "execution_count": 45,
     "metadata": {},
     "output_type": "execute_result"
    }
   ],
   "source": [
    "y_pred_prob1"
   ]
  },
  {
   "cell_type": "code",
   "execution_count": 46,
   "metadata": {},
   "outputs": [
    {
     "data": {
      "text/plain": [
       "array([[31,  1],\n",
       "       [ 1,  7]])"
      ]
     },
     "execution_count": 46,
     "metadata": {},
     "output_type": "execute_result"
    }
   ],
   "source": [
    "confusion_matrix(y_test,y_pred1)"
   ]
  },
  {
   "cell_type": "code",
   "execution_count": 47,
   "metadata": {
    "scrolled": false
   },
   "outputs": [
    {
     "name": "stderr",
     "output_type": "stream",
     "text": [
      "/home/shyam/anaconda3/lib/python3.7/site-packages/statsmodels/compat/pandas.py:23: FutureWarning: The Panel class is removed from pandas. Accessing it from the top-level namespace will also be removed in the next version\n",
      "  data_klasses = (pandas.Series, pandas.DataFrame, pandas.Panel)\n"
     ]
    },
    {
     "data": {
      "text/plain": [
       "<matplotlib.axes._subplots.AxesSubplot at 0x7ff334bf13c8>"
      ]
     },
     "execution_count": 47,
     "metadata": {},
     "output_type": "execute_result"
    },
    {
     "data": {
      "image/png": "[encoded data removed]",
      "text/plain": [
       "<Figure size 432x288 with 1 Axes>"
      ]
     },
     "metadata": {
      "needs_background": "light"
     },
     "output_type": "display_data"
    }
   ],
   "source": [
    "import seaborn as sb\n",
    "sb.regplot(y_test,y_pred_prob1[:,0], logistic=True)"
   ]
  },
  {
   "cell_type": "code",
   "execution_count": null,
   "metadata": {},
   "outputs": [],
   "source": []
  },
  {
   "cell_type": "code",
   "execution_count": null,
   "metadata": {},
   "outputs": [],
   "source": []
  },
  {
   "cell_type": "code",
   "execution_count": null,
   "metadata": {},
   "outputs": [],
   "source": []
  },
  {
   "cell_type": "code",
   "execution_count": null,
   "metadata": {},
   "outputs": [],
   "source": []
  },
  {
   "cell_type": "code",
   "execution_count": null,
   "metadata": {},
   "outputs": [],
   "source": []
  },
  {
   "cell_type": "code",
   "execution_count": null,
   "metadata": {},
   "outputs": [],
   "source": []
  }
 ],
 "metadata": {
  "kernelspec": {
   "display_name": "Python 3 (ipykernel)",
   "language": "python",
   "name": "python3"
  },
  "language_info": {
   "codemirror_mode": {
    "name": "ipython",
    "version": 3
   },
   "file_extension": ".py",
   "mimetype": "text/x-python",
   "name": "python",
   "nbconvert_exporter": "python",
   "pygments_lexer": "ipython3",
   "version": "3.9.7"
  }
 },
 "nbformat": 4,
 "nbformat_minor": 2
}
